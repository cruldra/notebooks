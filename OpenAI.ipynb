{
 "cells": [
  {
   "metadata": {},
   "cell_type": "markdown",
   "source": [
    "# 简介\n",
    "\n",
    "[openai-python](https://github.com/openai/openai-python)是`OpenAI`的官方`Python`库.\n",
    "\n",
    "# 安装\n",
    "\n",
    "```bash\n",
    "pip install openai\n",
    "```\n",
    "\n",
    "# 使用\n",
    "\n",
    "## 基本使用\n",
    "\n",
    "首先要创建一个客户端对象."
   ],
   "id": "c8d0b45e4e9d0fa1"
  },
  {
   "metadata": {
    "ExecuteTime": {
     "end_time": "2024-08-04T14:54:27.197353Z",
     "start_time": "2024-08-04T14:54:26.672384Z"
    }
   },
   "cell_type": "code",
   "source": [
    "from openai import OpenAI\n",
    "\n",
    "open_client = OpenAI(\n",
    "    base_url=\"https://api.juheai.top/v1/\",\n",
    "    api_key='sk-RLbK5xgSbH1YsoYW8fA55c5b03864108930316F7178bF970'\n",
    ")"
   ],
   "id": "3303f3ab6ce8bc9a",
   "outputs": [],
   "execution_count": 8
  },
  {
   "metadata": {},
   "cell_type": "markdown",
   "source": [
    "\n",
    "\n",
    "## 文本补全\n",
    "\n",
    "### 简单对话"
   ],
   "id": "45718803b955bea5"
  },
  {
   "metadata": {
    "ExecuteTime": {
     "end_time": "2024-08-04T14:34:15.049732Z",
     "start_time": "2024-08-04T14:34:13.698615Z"
    }
   },
   "cell_type": "code",
   "source": [
    "response = open_client.chat.completions.create(\n",
    "    model=\"gpt-4o-mini\",\n",
    "    messages=[\n",
    "        {\n",
    "            \"role\": \"user\",\n",
    "            \"content\": f\"\"\"你好\"\"\"\n",
    "        }\n",
    "    ]\n",
    ")\n",
    "result_text = response.choices[0].message.content.strip()\n",
    "print(result_text)"
   ],
   "id": "2a0e94d372fa85da",
   "outputs": [
    {
     "name": "stdout",
     "output_type": "stream",
     "text": [
      "你好！有什么我可以帮助你的吗？\n"
     ]
    }
   ],
   "execution_count": 2
  },
  {
   "metadata": {},
   "cell_type": "markdown",
   "source": "### 返回`json`格式",
   "id": "3b3d46113ca25b14"
  },
  {
   "metadata": {
    "ExecuteTime": {
     "end_time": "2024-08-04T14:54:41.631147Z",
     "start_time": "2024-08-04T14:54:40.607173Z"
    }
   },
   "cell_type": "code",
   "source": [
    "response = open_client.chat.completions.create(\n",
    "    model=\"gpt-4o-mini\",\n",
    "    messages=[\n",
    "        {\n",
    "            \"role\": \"user\",\n",
    "            \"content\": f\"\"\"随机生成以下json格式的数据: \n",
    "        {{\n",
    "            \"name\": \"张三\",\n",
    "            \"age\": 18,\n",
    "        }}\n",
    "\"\"\"\n",
    "        }\n",
    "    ],\n",
    "    response_format={\"type\": \"json_object\"}\n",
    ")\n",
    "# print(response)\n",
    "result_text = response.choices[0].message.content.strip()\n",
    "print(result_text)"
   ],
   "id": "d771a42c18de20f3",
   "outputs": [
    {
     "name": "stdout",
     "output_type": "stream",
     "text": [
      "{\n",
      "    \"name\": \"李四\",\n",
      "    \"age\": 25\n",
      "}\n"
     ]
    }
   ],
   "execution_count": 10
  },
  {
   "metadata": {},
   "cell_type": "code",
   "outputs": [],
   "execution_count": null,
   "source": "",
   "id": "a1640b0804f84d73"
  }
 ],
 "metadata": {
  "kernelspec": {
   "display_name": "Python 3",
   "language": "python",
   "name": "python3"
  },
  "language_info": {
   "codemirror_mode": {
    "name": "ipython",
    "version": 2
   },
   "file_extension": ".py",
   "mimetype": "text/x-python",
   "name": "python",
   "nbconvert_exporter": "python",
   "pygments_lexer": "ipython2",
   "version": "2.7.6"
  }
 },
 "nbformat": 4,
 "nbformat_minor": 5
}
