{
 "cells": [
  {
   "metadata": {},
   "cell_type": "markdown",
   "source": [
    "# 简介\n",
    "\n",
    "[openai-python](https://github.com/openai/openai-python)是`OpenAI`的官方`Python`库.\n",
    "\n",
    "# 安装\n",
    "\n",
    "```bash\n",
    "pip install openai\n",
    "```\n",
    "\n",
    "# 使用\n",
    "\n",
    "## 基本使用\n",
    "\n",
    "首先要创建一个客户端对象."
   ],
   "id": "c8d0b45e4e9d0fa1"
  },
  {
   "metadata": {
    "ExecuteTime": {
     "end_time": "2024-08-04T15:27:54.968739Z",
     "start_time": "2024-08-04T15:27:54.247613Z"
    }
   },
   "cell_type": "code",
   "source": [
    "import json\n",
    "\n",
    "from openai import OpenAI\n",
    "\n",
    "open_client = OpenAI(\n",
    "    base_url=\"https://api.juheai.top/v1/\",\n",
    "    api_key='sk-RLbK5xgSbH1YsoYW8fA55c5b03864108930316F7178bF970'\n",
    ")"
   ],
   "id": "3303f3ab6ce8bc9a",
   "outputs": [],
   "execution_count": 3
  },
  {
   "metadata": {},
   "cell_type": "markdown",
   "source": [
    "\n",
    "\n",
    "## 文本补全\n",
    "\n",
    "### 简单对话"
   ],
   "id": "45718803b955bea5"
  },
  {
   "metadata": {
    "ExecuteTime": {
     "end_time": "2024-08-04T14:34:15.049732Z",
     "start_time": "2024-08-04T14:34:13.698615Z"
    }
   },
   "cell_type": "code",
   "source": [
    "response = open_client.chat.completions.create(\n",
    "    model=\"gpt-4o-mini\",\n",
    "    messages=[\n",
    "        {\n",
    "            \"role\": \"user\",\n",
    "            \"content\": f\"\"\"你好\"\"\"\n",
    "        }\n",
    "    ]\n",
    ")\n",
    "result_text = response.choices[0].message.content.strip()\n",
    "print(result_text)"
   ],
   "id": "2a0e94d372fa85da",
   "outputs": [
    {
     "name": "stdout",
     "output_type": "stream",
     "text": [
      "你好！有什么我可以帮助你的吗？\n"
     ]
    }
   ],
   "execution_count": 2
  },
  {
   "metadata": {},
   "cell_type": "markdown",
   "source": "### 返回`json`格式",
   "id": "3b3d46113ca25b14"
  },
  {
   "metadata": {
    "ExecuteTime": {
     "end_time": "2024-08-04T15:17:09.017304Z",
     "start_time": "2024-08-04T15:17:08.897456Z"
    }
   },
   "cell_type": "code",
   "source": [
    "response = open_client.chat.completions.create(\n",
    "    model=\"gpt-4o-mini\",\n",
    "    messages=[\n",
    "        {\n",
    "            \"role\": \"user\",\n",
    "            \"content\": f\"\"\"随机生成以下json格式的数据: \n",
    "        {{\n",
    "            \"name\": \"张三\",\n",
    "            \"age\": 18,\n",
    "        }}\n",
    "\"\"\"\n",
    "        }\n",
    "    ],\n",
    "    response_format={\"type\": \"json_object\"}\n",
    ")\n",
    "# print(response)\n",
    "result_text = response.choices[0].message.content.strip()\n",
    "print(result_text)"
   ],
   "id": "d771a42c18de20f3",
   "outputs": [
    {
     "ename": "NameError",
     "evalue": "name 'open_client' is not defined",
     "output_type": "error",
     "traceback": [
      "\u001B[1;31m---------------------------------------------------------------------------\u001B[0m",
      "\u001B[1;31mNameError\u001B[0m                                 Traceback (most recent call last)",
      "Cell \u001B[1;32mIn[1], line 1\u001B[0m\n\u001B[1;32m----> 1\u001B[0m response \u001B[38;5;241m=\u001B[39m \u001B[43mopen_client\u001B[49m\u001B[38;5;241m.\u001B[39mchat\u001B[38;5;241m.\u001B[39mcompletions\u001B[38;5;241m.\u001B[39mcreate(\n\u001B[0;32m      2\u001B[0m     model\u001B[38;5;241m=\u001B[39m\u001B[38;5;124m\"\u001B[39m\u001B[38;5;124mgpt-4o-mini\u001B[39m\u001B[38;5;124m\"\u001B[39m,\n\u001B[0;32m      3\u001B[0m     messages\u001B[38;5;241m=\u001B[39m[\n\u001B[0;32m      4\u001B[0m         {\n\u001B[0;32m      5\u001B[0m             \u001B[38;5;124m\"\u001B[39m\u001B[38;5;124mrole\u001B[39m\u001B[38;5;124m\"\u001B[39m: \u001B[38;5;124m\"\u001B[39m\u001B[38;5;124muser\u001B[39m\u001B[38;5;124m\"\u001B[39m,\n\u001B[0;32m      6\u001B[0m             \u001B[38;5;124m\"\u001B[39m\u001B[38;5;124mcontent\u001B[39m\u001B[38;5;124m\"\u001B[39m: \u001B[38;5;124mf\u001B[39m\u001B[38;5;124m\"\"\"\u001B[39m\u001B[38;5;124m随机生成以下json格式的数据: \u001B[39m\n\u001B[0;32m      7\u001B[0m \u001B[38;5;124m        \u001B[39m\u001B[38;5;130;01m{{\u001B[39;00m\n\u001B[0;32m      8\u001B[0m \u001B[38;5;124m            \u001B[39m\u001B[38;5;124m\"\u001B[39m\u001B[38;5;124mname\u001B[39m\u001B[38;5;124m\"\u001B[39m\u001B[38;5;124m: \u001B[39m\u001B[38;5;124m\"\u001B[39m\u001B[38;5;124m张三\u001B[39m\u001B[38;5;124m\"\u001B[39m\u001B[38;5;124m,\u001B[39m\n\u001B[0;32m      9\u001B[0m \u001B[38;5;124m            \u001B[39m\u001B[38;5;124m\"\u001B[39m\u001B[38;5;124mage\u001B[39m\u001B[38;5;124m\"\u001B[39m\u001B[38;5;124m: 18,\u001B[39m\n\u001B[0;32m     10\u001B[0m \u001B[38;5;124m        \u001B[39m\u001B[38;5;130;01m}}\u001B[39;00m\n\u001B[0;32m     11\u001B[0m \u001B[38;5;124m\"\"\"\u001B[39m\n\u001B[0;32m     12\u001B[0m         }\n\u001B[0;32m     13\u001B[0m     ],\n\u001B[0;32m     14\u001B[0m     response_format\u001B[38;5;241m=\u001B[39m{\u001B[38;5;124m\"\u001B[39m\u001B[38;5;124mtype\u001B[39m\u001B[38;5;124m\"\u001B[39m: \u001B[38;5;124m\"\u001B[39m\u001B[38;5;124mjson_object\u001B[39m\u001B[38;5;124m\"\u001B[39m}\n\u001B[0;32m     15\u001B[0m )\n\u001B[0;32m     16\u001B[0m \u001B[38;5;66;03m# print(response)\u001B[39;00m\n\u001B[0;32m     17\u001B[0m result_text \u001B[38;5;241m=\u001B[39m response\u001B[38;5;241m.\u001B[39mchoices[\u001B[38;5;241m0\u001B[39m]\u001B[38;5;241m.\u001B[39mmessage\u001B[38;5;241m.\u001B[39mcontent\u001B[38;5;241m.\u001B[39mstrip()\n",
      "\u001B[1;31mNameError\u001B[0m: name 'open_client' is not defined"
     ]
    }
   ],
   "execution_count": 1
  },
  {
   "metadata": {},
   "cell_type": "markdown",
   "source": "#### 返回`pydantic`模型",
   "id": "ca6137035af6d452"
  },
  {
   "metadata": {
    "ExecuteTime": {
     "end_time": "2024-08-10T15:56:37.960963Z",
     "start_time": "2024-08-10T15:56:37.826625Z"
    }
   },
   "cell_type": "code",
   "source": [
    "from pydantic import BaseModel\n",
    "from typing import TypeVar, Type\n",
    "\n",
    "# 定义泛型类型变量\n",
    "T = TypeVar('T', bound=BaseModel)\n",
    "\n",
    "\n",
    "def generate_instance_from_prompt(open_client: OpenAI, prompt: str, model: Type[T]) -> T:\n",
    "    \"\"\"\n",
    "    调用 OpenAI API，根据提示词生成符合指定 Pydantic 类型的实例.\n",
    "\n",
    "    :param open_client: OpenAI 客户端对象\n",
    "    :param prompt: 提示词\n",
    "    :param model: Pydantic 泛型类型\n",
    "    :return: Pydantic 类型的实例\n",
    "    \"\"\"\n",
    "    # 调用 OpenAI API 生成 JSON 数据\n",
    "    response = open_client.chat.completions.create(\n",
    "        model=\"gpt-4o-mini\",\n",
    "        messages=[\n",
    "            {\n",
    "                \"role\": \"user\",\n",
    "                \"content\": f\"\"\"{prompt},返回的数据需要符合以下 json schema: {json.dumps(model.model_json_schema(), indent=4)}\n",
    "\"\"\"\n",
    "            }\n",
    "        ],\n",
    "        response_format={\"type\": \"json_object\"}\n",
    "    )\n",
    "    # print(response)\n",
    "    # 提取生成的 JSON 数据\n",
    "    result_text = response.choices[0].message.content.strip()\n",
    "\n",
    "    # 解析 JSON 数据为 Pydantic 实例\n",
    "    data_dict = json.loads(result_text)\n",
    "    instance = model(**data_dict)\n",
    "    return instance\n",
    "\n",
    "\n",
    "class Person(BaseModel):\n",
    "    name: str\n",
    "    age: int\n",
    "    \n",
    "instance = generate_instance_from_prompt(open_client, \"随机生成一个人的信息\", Person)\n",
    "\n",
    "print(instance)"
   ],
   "id": "7e148e275b8c35b8",
   "outputs": [
    {
     "ename": "ModuleNotFoundError",
     "evalue": "No module named 'pydantic'",
     "output_type": "error",
     "traceback": [
      "\u001B[1;31m---------------------------------------------------------------------------\u001B[0m",
      "\u001B[1;31mModuleNotFoundError\u001B[0m                       Traceback (most recent call last)",
      "Cell \u001B[1;32mIn[1], line 1\u001B[0m\n\u001B[1;32m----> 1\u001B[0m \u001B[38;5;28;01mfrom\u001B[39;00m \u001B[38;5;21;01mpydantic\u001B[39;00m \u001B[38;5;28;01mimport\u001B[39;00m BaseModel\n\u001B[0;32m      2\u001B[0m \u001B[38;5;28;01mfrom\u001B[39;00m \u001B[38;5;21;01mtyping\u001B[39;00m \u001B[38;5;28;01mimport\u001B[39;00m TypeVar, Type\n\u001B[0;32m      4\u001B[0m \u001B[38;5;66;03m# 定义泛型类型变量\u001B[39;00m\n",
      "\u001B[1;31mModuleNotFoundError\u001B[0m: No module named 'pydantic'"
     ]
    }
   ],
   "execution_count": 1
  },
  {
   "metadata": {},
   "cell_type": "code",
   "outputs": [],
   "execution_count": null,
   "source": "",
   "id": "cf5abb6515053178"
  }
 ],
 "metadata": {
  "kernelspec": {
   "display_name": "Python 3",
   "language": "python",
   "name": "python3"
  },
  "language_info": {
   "codemirror_mode": {
    "name": "ipython",
    "version": 2
   },
   "file_extension": ".py",
   "mimetype": "text/x-python",
   "name": "python",
   "nbconvert_exporter": "python",
   "pygments_lexer": "ipython2",
   "version": "2.7.6"
  }
 },
 "nbformat": 4,
 "nbformat_minor": 5
}
