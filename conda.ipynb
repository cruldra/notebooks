{
 "cells": [
  {
   "metadata": {},
   "cell_type": "markdown",
   "source": "# 获取当前环境列表",
   "id": "71a3b42d03b210f5"
  },
  {
   "metadata": {},
   "cell_type": "code",
   "source": [
    "import subprocess\n",
    "\n",
    "import subprocess\n",
    "\n",
    "# 使用原始字符串来避免转义字符问题\n",
    "command_line = r\"\"\"powershell.exe -ExecutionPolicy ByPass -NoExit -Command \"& 'd:\\ProgramData\\miniconda3\\shell\\condabin\\conda-hook.ps1' ;conda activate base;conda info --envs;\" \"\"\"\n",
    "\n",
    "#command_line2 = r\"\"\"powershell.exe -ExecutionPolicy ByPass -NoExit -Command \"echo Hello\" \"\"\"\n",
    "\n",
    "# 运行命令并捕获输出和错误\n",
    "result = subprocess.run(command_line, shell=True, capture_output=True, text=True, check=True, cwd=r\"C:\\Windows\\System32\\WindowsPowerShell\\v1.0\")\n",
    "output = result.stdout\n",
    "error = result.stderr\n",
    "\n",
    "# 打印输出和错误\n",
    "print(f\"Output: {output}\")\n",
    "print(f\"Error: {error}\")"
   ],
   "id": "763ec11130fe8407",
   "outputs": [],
   "execution_count": null
  },
  {
   "metadata": {},
   "cell_type": "markdown",
   "source": [
    "# 删除环境\n",
    "[conda remove -h](https://poe.com/s/Hh0hwbJ18zIUKaJaCdEK)\n",
    "## 删除整个环境"
   ],
   "id": "575cf8f951764975"
  },
  {
   "metadata": {},
   "cell_type": "code",
   "source": [
    "import subprocess\n",
    "\n",
    "# 使用原始字符串来避免转义字符问题\n",
    "command_line = r\"\"\"powershell.exe -ExecutionPolicy ByPass -NoExit -Command \"& 'd:\\ProgramData\\miniconda3\\shell\\condabin\\conda-hook.ps1' ;conda activate base;conda remove -n kid_eng_story --all;\" \"\"\"\n",
    "\n",
    "\n",
    "# 运行命令并捕获输出和错误\n",
    "result = subprocess.run(command_line, shell=True, capture_output=True, text=True, check=True, cwd=r\"C:\\Windows\\System32\\WindowsPowerShell\\v1.0\")\n",
    "output = result.stdout\n",
    "error = result.stderr\n"
   ],
   "id": "13456f14f4e75a83",
   "outputs": [],
   "execution_count": null
  },
  {
   "metadata": {},
   "cell_type": "code",
   "source": "",
   "id": "8b467efa671a18c3",
   "outputs": [],
   "execution_count": null
  }
 ],
 "metadata": {
  "kernelspec": {
   "display_name": "Python 3",
   "language": "python",
   "name": "python3"
  },
  "language_info": {
   "codemirror_mode": {
    "name": "ipython",
    "version": 2
   },
   "file_extension": ".py",
   "mimetype": "text/x-python",
   "name": "python",
   "nbconvert_exporter": "python",
   "pygments_lexer": "ipython2",
   "version": "2.7.6"
  }
 },
 "nbformat": 4,
 "nbformat_minor": 5
}
