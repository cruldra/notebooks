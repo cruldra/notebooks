{
 "cells": [
  {
   "cell_type": "markdown",
   "id": "1af6bfec",
   "metadata": {},
   "source": [
    "# 简介\n",
    "\n",
    "[Pillow](https://pillow.readthedocs.io/en/stable/index.html)用于在`Python`中处理图片,它是`Python Imaging Library (PIL)`的一个分支,提供了更多功能和更好的性能."
   ]
  },
  {
   "cell_type": "markdown",
   "id": "cad5a911",
   "metadata": {},
   "source": [
    "# 安装"
   ]
  },
  {
   "cell_type": "code",
   "execution_count": 1,
   "id": "c9d8e680",
   "metadata": {},
   "outputs": [
    {
     "name": "stdout",
     "output_type": "stream",
     "text": [
      "Collecting pillow\n",
      "  Downloading pillow-10.4.0-cp312-cp312-win_amd64.whl.metadata (9.3 kB)\n",
      "Downloading pillow-10.4.0-cp312-cp312-win_amd64.whl (2.6 MB)\n",
      "   ---------------------------------------- 0.0/2.6 MB ? eta -:--:--\n",
      "    --------------------------------------- 0.0/2.6 MB 960.0 kB/s eta 0:00:03\n",
      "   --- ------------------------------------ 0.2/2.6 MB 2.3 MB/s eta 0:00:02\n",
      "   -------- ------------------------------- 0.6/2.6 MB 4.3 MB/s eta 0:00:01\n",
      "   ----------------------- ---------------- 1.5/2.6 MB 8.8 MB/s eta 0:00:01\n",
      "   ---------------------------------------  2.5/2.6 MB 12.4 MB/s eta 0:00:01\n",
      "   ---------------------------------------- 2.6/2.6 MB 9.6 MB/s eta 0:00:00\n",
      "Installing collected packages: pillow\n",
      "Successfully installed pillow-10.4.0\n"
     ]
    }
   ],
   "source": [
    "! pip install pillow"
   ]
  },
  {
   "cell_type": "markdown",
   "id": "47ac9d7b",
   "metadata": {},
   "source": [
    "# 用`Pillow`创建字幕样式"
   ]
  },
  {
   "cell_type": "markdown",
   "id": "7d2e11db",
   "metadata": {},
   "source": [
    "## 示例一: "
   ]
  },
  {
   "cell_type": "code",
   "execution_count": 4,
   "id": "e91e7a31",
   "metadata": {},
   "outputs": [],
   "source": [
    "from PIL import Image, ImageDraw, ImageFont\n",
    "import os\n",
    "\n",
    "def create_rounded_rectangle(draw, xy, corner_radius, fill):\n",
    "    upper_left_point = xy[0]\n",
    "    bottom_right_point = xy[1]\n",
    "    draw.rectangle(\n",
    "        [\n",
    "            (upper_left_point[0], upper_left_point[1] + corner_radius),\n",
    "            (bottom_right_point[0], bottom_right_point[1] - corner_radius)\n",
    "        ],\n",
    "        fill=fill\n",
    "    )\n",
    "    draw.rectangle(\n",
    "        [\n",
    "            (upper_left_point[0] + corner_radius, upper_left_point[1]),\n",
    "            (bottom_right_point[0] - corner_radius, bottom_right_point[1])\n",
    "        ],\n",
    "        fill=fill\n",
    "    )\n",
    "    draw.pieslice([upper_left_point, (upper_left_point[0] + corner_radius * 2, upper_left_point[1] + corner_radius * 2)],\n",
    "        180, 270, fill=fill)\n",
    "    draw.pieslice([(bottom_right_point[0] - corner_radius * 2, bottom_right_point[1] - corner_radius * 2), bottom_right_point],\n",
    "        0, 90, fill=fill)\n",
    "    draw.pieslice([(upper_left_point[0], bottom_right_point[1] - corner_radius * 2), (upper_left_point[0] + corner_radius * 2, bottom_right_point[1])],\n",
    "        90, 180, fill=fill)\n",
    "    draw.pieslice([(bottom_right_point[0] - corner_radius * 2, upper_left_point[1]), (bottom_right_point[0], upper_left_point[1] + corner_radius * 2)],\n",
    "        270, 360, fill=fill)\n",
    "\n",
    "def create_subtitle_image(text, width, height, font_size=40, font_color=(0, 0, 0), bg_color=(255, 224, 0), corner_radius=20):\n",
    "    # 创建透明背景的图片\n",
    "    image = Image.new('RGBA', (width, height), (0, 0, 0, 0))\n",
    "    draw = ImageDraw.Draw(image)\n",
    "    \n",
    "    # 加载字体\n",
    "    font = ImageFont.truetype(r\"D:\\Workspace\\aiworld\\py_automation\\digital_human_video\\resources\\fonts\\华文彩云.ttf\", font_size)\n",
    "    \n",
    "    # 计算文本大小和位置\n",
    "    left, top, right, bottom = font.getbbox(text)\n",
    "    text_width = right - left\n",
    "    text_height = bottom - top\n",
    "    \n",
    "    # 计算背景矩形的大小和位置\n",
    "    padding = 20\n",
    "    rect_width = text_width + padding * 2\n",
    "    rect_height = text_height + padding * 2\n",
    "    rect_position = ((width - rect_width) // 2, (height - rect_height) // 2)\n",
    "    \n",
    "    # 绘制圆角矩形背景\n",
    "    create_rounded_rectangle(draw, \n",
    "                             (rect_position, (rect_position[0] + rect_width, rect_position[1] + rect_height)),\n",
    "                             corner_radius, bg_color)\n",
    "    \n",
    "    # 绘制文本\n",
    "    text_position = ((width - text_width) // 2, (height - text_height) // 2)\n",
    "    draw.text(text_position, text, font=font, fill=font_color)\n",
    "    \n",
    "    return image\n",
    "\n",
    "# 使用示例\n",
    "subtitle_image = create_subtitle_image(\"福建老板都是狼人\\n发明了坐牢股份制\", 800, 200, font_size=30)\n",
    "subtitle_image.save(\"subtitle_with_background.png\")"
   ]
  },
  {
   "cell_type": "markdown",
   "id": "43fbfb9a04e1bf8a",
   "metadata": {},
   "source": [
    "# 羊皮纸效果"
   ]
  },
  {
   "cell_type": "code",
   "execution_count": 1,
   "id": "979ef440aab940d7",
   "metadata": {
    "ExecuteTime": {
     "end_time": "2024-07-19T15:59:32.330326Z",
     "start_time": "2024-07-19T15:59:32.038583Z"
    }
   },
   "outputs": [],
   "source": [
    "from PIL import Image, ImageDraw, ImageFilter, ImageOps\n",
    "import random\n",
    "\n",
    "def generate_parchment(width, height):\n",
    "    # 创建一个新的图像，初始颜色为一种浅棕色\n",
    "    image = Image.new('RGB', (width, height), (228, 195, 151))\n",
    "    draw = ImageDraw.Draw(image)\n",
    "\n",
    "    # 添加杂色以模拟羊皮纸的纹理\n",
    "    for _ in range(int(width * height * 0.05)):\n",
    "        x = random.randint(0, width - 1)\n",
    "        y = random.randint(0, height - 1)\n",
    "        draw.point((x, y), fill=(random.randint(160, 200), random.randint(130, 170), random.randint(90, 130)))\n",
    "\n",
    "    # 应用高斯模糊使纹理更加自然\n",
    "    image = image.filter(ImageFilter.GaussianBlur(radius=1))\n",
    "\n",
    "    # 添加一些随机的暗色斑点\n",
    "    for _ in range(int(width * height * 0.005)):\n",
    "        x = random.randint(0, width - 1)\n",
    "        y = random.randint(0, height - 1)\n",
    "        draw.point((x, y), fill=(random.randint(80, 120), random.randint(50, 90), random.randint(20, 60)))\n",
    "\n",
    "    # 添加边缘渐变效果\n",
    "    image = ImageOps.expand(image, border=20, fill=(228, 195, 151))\n",
    "    image = image.filter(ImageFilter.GaussianBlur(radius=5))\n",
    "\n",
    "    return image\n",
    "\n",
    "# 生成羊皮纸效果的图像\n",
    "width, height = 800, 600\n",
    "parchment_image = generate_parchment(width, height)\n",
    "\n",
    "# 保存图像\n",
    "parchment_image.save('jianying/resources/images/羊皮纸.png')\n",
    "\n",
    "# 显示图像\n",
    "parchment_image.show()"
   ]
  },
  {
   "cell_type": "code",
   "execution_count": null,
   "id": "ebf2fbb4824da035",
   "metadata": {},
   "outputs": [],
   "source": []
  }
 ],
 "metadata": {
  "kernelspec": {
   "display_name": "Python 3 (ipykernel)",
   "language": "python",
   "name": "python3"
  },
  "language_info": {
   "codemirror_mode": {
    "name": "ipython",
    "version": 3
   },
   "file_extension": ".py",
   "mimetype": "text/x-python",
   "name": "python",
   "nbconvert_exporter": "python",
   "pygments_lexer": "ipython3",
   "version": "3.12.4"
  }
 },
 "nbformat": 4,
 "nbformat_minor": 5
}
