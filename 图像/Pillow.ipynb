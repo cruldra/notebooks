{
 "cells": [
  {
   "cell_type": "markdown",
   "id": "43fbfb9a04e1bf8a",
   "metadata": {},
   "source": [
    "# 羊皮纸效果"
   ]
  },
  {
   "cell_type": "code",
   "id": "979ef440aab940d7",
   "metadata": {
    "ExecuteTime": {
     "end_time": "2024-07-19T15:59:32.330326Z",
     "start_time": "2024-07-19T15:59:32.038583Z"
    }
   },
   "source": [
    "from PIL import Image, ImageDraw, ImageFilter, ImageOps\n",
    "import random\n",
    "\n",
    "def generate_parchment(width, height):\n",
    "    # 创建一个新的图像，初始颜色为一种浅棕色\n",
    "    image = Image.new('RGB', (width, height), (228, 195, 151))\n",
    "    draw = ImageDraw.Draw(image)\n",
    "\n",
    "    # 添加杂色以模拟羊皮纸的纹理\n",
    "    for _ in range(int(width * height * 0.05)):\n",
    "        x = random.randint(0, width - 1)\n",
    "        y = random.randint(0, height - 1)\n",
    "        draw.point((x, y), fill=(random.randint(160, 200), random.randint(130, 170), random.randint(90, 130)))\n",
    "\n",
    "    # 应用高斯模糊使纹理更加自然\n",
    "    image = image.filter(ImageFilter.GaussianBlur(radius=1))\n",
    "\n",
    "    # 添加一些随机的暗色斑点\n",
    "    for _ in range(int(width * height * 0.005)):\n",
    "        x = random.randint(0, width - 1)\n",
    "        y = random.randint(0, height - 1)\n",
    "        draw.point((x, y), fill=(random.randint(80, 120), random.randint(50, 90), random.randint(20, 60)))\n",
    "\n",
    "    # 添加边缘渐变效果\n",
    "    image = ImageOps.expand(image, border=20, fill=(228, 195, 151))\n",
    "    image = image.filter(ImageFilter.GaussianBlur(radius=5))\n",
    "\n",
    "    return image\n",
    "\n",
    "# 生成羊皮纸效果的图像\n",
    "width, height = 800, 600\n",
    "parchment_image = generate_parchment(width, height)\n",
    "\n",
    "# 保存图像\n",
    "parchment_image.save('jianying/resources/images/羊皮纸.png')\n",
    "\n",
    "# 显示图像\n",
    "parchment_image.show()"
   ],
   "outputs": [],
   "execution_count": 1
  },
  {
   "cell_type": "code",
   "execution_count": null,
   "id": "ebf2fbb4824da035",
   "metadata": {},
   "outputs": [],
   "source": []
  }
 ],
 "metadata": {
  "kernelspec": {
   "display_name": "Python 3 (ipykernel)",
   "language": "python",
   "name": "python3"
  },
  "language_info": {
   "codemirror_mode": {
    "name": "ipython",
    "version": 3
   },
   "file_extension": ".py",
   "mimetype": "text/x-python",
   "name": "python",
   "nbconvert_exporter": "python",
   "pygments_lexer": "ipython3",
   "version": "3.12.4"
  }
 },
 "nbformat": 4,
 "nbformat_minor": 5
}
