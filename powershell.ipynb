{
 "cells": [
  {
   "metadata": {},
   "cell_type": "markdown",
   "source": "# 查看当前`powershell`的编码格式",
   "id": "5cd400e51feb9278"
  },
  {
   "metadata": {
    "ExecuteTime": {
     "end_time": "2024-07-21T12:37:13.740797Z",
     "start_time": "2024-07-21T12:37:12.307395Z"
    }
   },
   "cell_type": "code",
   "source": [
    "import subprocess\n",
    "\n",
    "import subprocess\n",
    "\n",
    "# 使用原始字符串来避免转义字符问题\n",
    "command_line = r\"\"\"powershell.exe -ExecutionPolicy ByPass -NoExit -Command \"& [console]::OutputEncoding;\" \"\"\"\n",
    "print(1)\n",
    "# 运行命令并捕获输出和错误\n",
    "result = subprocess.run(command_line, shell=True, capture_output=True, text=True, check=True, cwd=r\"C:\\Windows\\System32\\WindowsPowerShell\\v1.0\")\n",
    "output = result.stdout\n",
    "error = result.stderr\n",
    "\n",
    "# 打印输出和错误\n",
    "print(f\"Output: {output}\")\n",
    "print(f\"Error: {error}\")\n"
   ],
   "id": "fc612c4da52c465a",
   "outputs": [
    {
     "name": "stdout",
     "output_type": "stream",
     "text": [
      "1\n"
     ]
    },
    {
     "ename": "CalledProcessError",
     "evalue": "Command 'powershell.exe -ExecutionPolicy ByPass -NoExit -Command \"& [console]::OutputEncoding;\" ' returned non-zero exit status 1.",
     "output_type": "error",
     "traceback": [
      "\u001B[1;31m---------------------------------------------------------------------------\u001B[0m",
      "\u001B[1;31mCalledProcessError\u001B[0m                        Traceback (most recent call last)",
      "Cell \u001B[1;32mIn[5], line 9\u001B[0m\n\u001B[0;32m      7\u001B[0m \u001B[38;5;28mprint\u001B[39m(\u001B[38;5;241m1\u001B[39m)\n\u001B[0;32m      8\u001B[0m \u001B[38;5;66;03m# 运行命令并捕获输出和错误\u001B[39;00m\n\u001B[1;32m----> 9\u001B[0m result \u001B[38;5;241m=\u001B[39m \u001B[43msubprocess\u001B[49m\u001B[38;5;241;43m.\u001B[39;49m\u001B[43mrun\u001B[49m\u001B[43m(\u001B[49m\u001B[43mcommand_line\u001B[49m\u001B[43m,\u001B[49m\u001B[43m \u001B[49m\u001B[43mshell\u001B[49m\u001B[38;5;241;43m=\u001B[39;49m\u001B[38;5;28;43;01mTrue\u001B[39;49;00m\u001B[43m,\u001B[49m\u001B[43m \u001B[49m\u001B[43mcapture_output\u001B[49m\u001B[38;5;241;43m=\u001B[39;49m\u001B[38;5;28;43;01mTrue\u001B[39;49;00m\u001B[43m,\u001B[49m\u001B[43m \u001B[49m\u001B[43mtext\u001B[49m\u001B[38;5;241;43m=\u001B[39;49m\u001B[38;5;28;43;01mTrue\u001B[39;49;00m\u001B[43m,\u001B[49m\u001B[43m \u001B[49m\u001B[43mcheck\u001B[49m\u001B[38;5;241;43m=\u001B[39;49m\u001B[38;5;28;43;01mTrue\u001B[39;49;00m\u001B[43m,\u001B[49m\u001B[43m \u001B[49m\u001B[43mcwd\u001B[49m\u001B[38;5;241;43m=\u001B[39;49m\u001B[38;5;124;43mr\u001B[39;49m\u001B[38;5;124;43m\"\u001B[39;49m\u001B[38;5;124;43mC:\u001B[39;49m\u001B[38;5;124;43m\\\u001B[39;49m\u001B[38;5;124;43mWindows\u001B[39;49m\u001B[38;5;124;43m\\\u001B[39;49m\u001B[38;5;124;43mSystem32\u001B[39;49m\u001B[38;5;124;43m\\\u001B[39;49m\u001B[38;5;124;43mWindowsPowerShell\u001B[39;49m\u001B[38;5;124;43m\\\u001B[39;49m\u001B[38;5;124;43mv1.0\u001B[39;49m\u001B[38;5;124;43m\"\u001B[39;49m\u001B[43m)\u001B[49m\n\u001B[0;32m     10\u001B[0m output \u001B[38;5;241m=\u001B[39m result\u001B[38;5;241m.\u001B[39mstdout\n\u001B[0;32m     11\u001B[0m error \u001B[38;5;241m=\u001B[39m result\u001B[38;5;241m.\u001B[39mstderr\n",
      "File \u001B[1;32msubprocess.py:571\u001B[0m, in \u001B[0;36mrun\u001B[1;34m(input, capture_output, timeout, check, *popenargs, **kwargs)\u001B[0m\n",
      "\u001B[1;31mCalledProcessError\u001B[0m: Command 'powershell.exe -ExecutionPolicy ByPass -NoExit -Command \"& [console]::OutputEncoding;\" ' returned non-zero exit status 1."
     ]
    }
   ],
   "execution_count": 5
  },
  {
   "metadata": {},
   "cell_type": "code",
   "outputs": [],
   "execution_count": null,
   "source": "",
   "id": "5acdf13f311b2c6f"
  }
 ],
 "metadata": {
  "kernelspec": {
   "display_name": "Python 3",
   "language": "python",
   "name": "python3"
  },
  "language_info": {
   "codemirror_mode": {
    "name": "ipython",
    "version": 2
   },
   "file_extension": ".py",
   "mimetype": "text/x-python",
   "name": "python",
   "nbconvert_exporter": "python",
   "pygments_lexer": "ipython2",
   "version": "2.7.6"
  }
 },
 "nbformat": 4,
 "nbformat_minor": 5
}
