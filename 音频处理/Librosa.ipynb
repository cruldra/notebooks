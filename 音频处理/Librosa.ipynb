{
 "cells": [
  {
   "cell_type": "markdown",
   "metadata": {},
   "source": [
    "# 简介\n",
    "\n",
    "[librosa](https://github.com/librosa/librosa)是一个专门用于音乐和音频分析的Python库.它提供了一系列用于音频特征提取的函数,以及一些用于音频分析的工具."
   ]
  }
 ],
 "metadata": {
  "language_info": {
   "name": "python"
  }
 },
 "nbformat": 4,
 "nbformat_minor": 2
}
