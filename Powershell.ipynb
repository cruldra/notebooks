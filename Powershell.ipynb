{
 "cells": [
  {
   "cell_type": "markdown",
   "id": "d4c87ee8",
   "metadata": {},
   "source": [
    "# `PowerShell`配置文件\n",
    "\n",
    "以下命令打开你的配置文件。如果文件不存在，会自动创建："
   ]
  },
  {
   "cell_type": "code",
   "execution_count": 1,
   "id": "0cfdab58",
   "metadata": {
    "dotnet_interactive": {
     "language": "pwsh"
    },
    "polyglot_notebook": {
     "kernelName": "pwsh"
    },
    "vscode": {
     "languageId": "polyglot-notebook"
    }
   },
   "outputs": [],
   "source": [
    "if (!(Test-Path -Path $PROFILE)) {\n",
    "    New-Item -Type File -Path $PROFILE -Force\n",
    "}\n",
    "notepad $PROFILE"
   ]
  },
  {
   "cell_type": "markdown",
   "id": "5a869c4a",
   "metadata": {},
   "source": [
    "可以将公共函数放在`$PROFILE`中，这样可以在任何地方调用。"
   ]
  },
  {
   "cell_type": "code",
   "execution_count": 2,
   "id": "b1ec6f0b",
   "metadata": {
    "dotnet_interactive": {
     "language": "pwsh"
    },
    "polyglot_notebook": {
     "kernelName": "pwsh"
    },
    "vscode": {
     "languageId": "polyglot-notebook"
    }
   },
   "outputs": [],
   "source": [
    "function Set-ConsoleTitle {\n",
    "    param (\n",
    "        [string]$Title\n",
    "    )\n",
    "    $host.UI.RawUI.WindowTitle = $Title\n",
    "}"
   ]
  },
  {
   "cell_type": "markdown",
   "id": "b0a4d69e",
   "metadata": {},
   "source": [
    "然后使用`. $PROFILE`来加载配置文件。"
   ]
  }
 ],
 "metadata": {
  "kernelspec": {
   "display_name": ".NET (C#)",
   "language": "C#",
   "name": ".net-csharp"
  },
  "language_info": {
   "codemirror_mode": {
    "name": "ipython",
    "version": 3
   },
   "file_extension": ".py",
   "mimetype": "text/x-python",
   "name": "powershell",
   "nbconvert_exporter": "python",
   "pygments_lexer": "ipython3",
   "version": "3.12.0"
  },
  "polyglot_notebook": {
   "kernelInfo": {
    "defaultKernelName": "csharp",
    "items": [
     {
      "aliases": [],
      "name": "csharp"
     }
    ]
   }
  }
 },
 "nbformat": 4,
 "nbformat_minor": 5
}
