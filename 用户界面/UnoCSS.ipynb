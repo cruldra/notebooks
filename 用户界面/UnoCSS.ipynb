{
 "cells": [
  {
   "cell_type": "markdown",
   "metadata": {},
   "source": [
    "# 简介\n",
    "\n",
    "[UnoCSS](https://unocss.dev/)是一个[即时按需](https://poe.com/s/31pFRcLvyBKkTrinyYoT)的`css`原子类引擎."
   ]
  },
  {
   "cell_type": "markdown",
   "metadata": {},
   "source": [
    "# CLI\n",
    "\n",
    "对于`Laravel`等传统后端,通过`CLI`扫描项目中的文件实时生成`css`文件."
   ]
  },
  {
   "cell_type": "markdown",
   "metadata": {},
   "source": [
    "## 安装\n",
    "\n",
    "```bash\n",
    "npm install -g @unocss/cli\n",
    "```"
   ]
  },
  {
   "cell_type": "markdown",
   "metadata": {},
   "source": [
    "## 配置文件\n",
    "\n",
    "要使用`CLI`,需要在项目根目录下创建一个`unocss.config.js`文件,内容如下:\n",
    "\n",
    "```ts\n",
    "// unocss.config.ts\n",
    "import { defineConfig } from 'unocss'\n",
    "\n",
    "export default defineConfig({\n",
    "    cli: {\n",
    "        entry: {\n",
    "            // 指定要扫描的文件\n",
    "            patterns: [\n",
    "                'src/ts/**/*.tsx',\n",
    "            ],\n",
    "            // 指定输出的css文件\n",
    "            outFile: 'assets/uno.css'\n",
    "        },\n",
    "    },\n",
    "})\n",
    "```"
   ]
  },
  {
   "cell_type": "markdown",
   "metadata": {},
   "source": [
    "# 参考\n",
    "\n",
    "* [UnoCSS with Laravel · The Late Developer](https://code.moussaclarke.co.uk/posts/uno-css-with-laravel/)"
   ]
  }
 ],
 "metadata": {
  "language_info": {
   "name": "python"
  }
 },
 "nbformat": 4,
 "nbformat_minor": 2
}
