{
 "cells": [
  {
   "cell_type": "markdown",
   "metadata": {},
   "source": [
    "**Table of contents**<a id='toc0_'></a>    \n",
    "- [简介](#toc1_)    \n",
    "- [选择器(Selectors)](#toc2_)    \n",
    "  - [标签选择器](#toc2_1_)    \n",
    "    - [示例:查找所有的`p`元素](#toc2_1_1_)    \n",
    "  - [类选择器](#toc2_2_)    \n",
    "    - [示例:查找所有的`class`属性值为`username`的元素](#toc2_2_1_)    \n",
    "  - [ID选择器](#toc2_3_)    \n",
    "    - [示例:查找所有的`id`属性值为`username`的元素](#toc2_3_1_)    \n",
    "  - [属性选择器](#toc2_4_)    \n",
    "    - [示例:查找页面上所有的`type`属性值为`text`的元素](#toc2_4_1_)    \n",
    "    - [示例:查找自定义属性](#toc2_4_2_)    \n",
    "    - [示例:和其他选择器一起使用](#toc2_4_3_)    \n",
    "  - [伪类选择器](#toc2_5_)    \n",
    "  - [连接多个选择器](#toc2_6_)    \n",
    "    - [实现`AND`关系](#toc2_6_1_)    \n",
    "    - [实现`OR`关系](#toc2_6_2_)    \n",
    "    - [查找直接子元素](#toc2_6_3_)    \n",
    "    - [查找嵌套后代元素](#toc2_6_4_)    \n",
    "    - [组合多个不同类型的选择器](#toc2_6_5_)    \n",
    "\n",
    "<!-- vscode-jupyter-toc-config\n",
    "\tnumbering=false\n",
    "\tanchor=true\n",
    "\tflat=false\n",
    "\tminLevel=1\n",
    "\tmaxLevel=6\n",
    "\t/vscode-jupyter-toc-config -->\n",
    "<!-- THIS CELL WILL BE REPLACED ON TOC UPDATE. DO NOT WRITE YOUR TEXT IN THIS CELL -->"
   ]
  },
  {
   "cell_type": "markdown",
   "metadata": {},
   "source": [
    "# <a id='toc1_'></a>[简介](#toc0_)\n",
    "\n",
    "[CSS(Cascading Style Sheets)](https://developer.mozilla.org/zh-CN/docs/Web/CSS)是一种描述网页样式的语言,和`HTML`、`Javascript`组成现代网页的三大基石.\n",
    "\n",
    "把一个网页当成一个人来看的话,`HTML`就是人的骨架,`Javascript`就是人的大脑,`CSS`就是人的衣服."
   ]
  },
  {
   "cell_type": "markdown",
   "metadata": {},
   "source": [
    "# <a id='toc2_'></a>[选择器(Selectors)](#toc0_)\n",
    "\n",
    "[选择器](https://developer.mozilla.org/zh-CN/docs/Web/CSS/Attribute_selectors)用于找到页面上符合条件的元素,以便后续对其进行样式设置或者`DOM`操作等."
   ]
  },
  {
   "cell_type": "markdown",
   "metadata": {},
   "source": [
    "## <a id='toc2_1_'></a>[标签选择器](#toc0_)\n",
    "\n",
    "[标签选择器](https://developer.mozilla.org/zh-CN/docs/Web/CSS/Type_selectors)用于查找指定类型的元素\n",
    "\n",
    "**语法**\n",
    "\n",
    "```css\n",
    "[tagname] {\n",
    "    property: value;\n",
    "}\n",
    "```\n",
    "\n",
    "```javascript\n",
    "document.querySelectorAll('tagname')\n",
    "document.getElementsByTagName('tagname')\n",
    "document.querySelector('tagname')\n",
    "```"
   ]
  },
  {
   "cell_type": "markdown",
   "metadata": {},
   "source": [
    "### <a id='toc2_1_1_'></a>[示例:查找所有的`p`元素](#toc0_)"
   ]
  },
  {
   "cell_type": "code",
   "execution_count": 8,
   "metadata": {},
   "outputs": [
    {
     "data": {
      "text/html": [
       "\n",
       "<span>这里是由 span 元素包裹的一些文字。</span>\n",
       "<p>这里是由 p 元素包裹的一些文字。</p>\n",
       "<span>这里是由 span 元素包裹的一些文字。</span>\n"
      ],
      "text/plain": [
       "<IPython.core.display.HTML object>"
      ]
     },
     "metadata": {},
     "output_type": "display_data"
    }
   ],
   "source": [
    "%%HTML\n",
    "\n",
    "<span>这里是由 span 元素包裹的一些文字。</span>\n",
    "<p>这里是由 p 元素包裹的一些文字。</p>\n",
    "<span>这里是由 span 元素包裹的一些文字。</span>"
   ]
  },
  {
   "cell_type": "code",
   "execution_count": 11,
   "metadata": {},
   "outputs": [
    {
     "data": {
      "application/javascript": "\nvar spans = document.querySelectorAll('p');\nalert(spans.length);\n",
      "text/plain": [
       "<IPython.core.display.Javascript object>"
      ]
     },
     "metadata": {},
     "output_type": "display_data"
    }
   ],
   "source": [
    "%%javascript\n",
    "\n",
    "var spans = document.querySelectorAll('p');\n",
    "alert(spans.length);"
   ]
  },
  {
   "cell_type": "markdown",
   "metadata": {},
   "source": [
    "## <a id='toc2_2_'></a>[类选择器](#toc0_)\n",
    "\n",
    "[类选择器](https://developer.mozilla.org/zh-CN/docs/Web/CSS/Class_selectors)用于查找标签的`class`属性值为指定值的元素\n",
    "\n",
    "**语法**\n",
    "\n",
    "```css\n",
    ".classname {\n",
    "    property: value;\n",
    "}\n",
    "```\n",
    "\n",
    "```javascript\n",
    "document.querySelectorAll('.classname')\n",
    "document.getElementsByClassName('classname')\n",
    "document.querySelector('.classname')\n",
    "```"
   ]
  },
  {
   "cell_type": "markdown",
   "metadata": {},
   "source": [
    "### <a id='toc2_2_1_'></a>[示例:查找所有的`class`属性值为`username`的元素](#toc0_)"
   ]
  },
  {
   "cell_type": "code",
   "execution_count": 12,
   "metadata": {},
   "outputs": [
    {
     "data": {
      "text/html": [
       "\n",
       "<input type=\"text\" class=\"username\" value=\"用户名\">\n",
       "<input type=\"text\" class=\"password\" value=\"密码\">\n"
      ],
      "text/plain": [
       "<IPython.core.display.HTML object>"
      ]
     },
     "metadata": {},
     "output_type": "display_data"
    }
   ],
   "source": [
    "%%HTML\n",
    "\n",
    "<input type=\"text\" class=\"username\" value=\"用户名\">\n",
    "<input type=\"text\" class=\"password\" value=\"密码\">"
   ]
  },
  {
   "cell_type": "code",
   "execution_count": 13,
   "metadata": {},
   "outputs": [
    {
     "data": {
      "application/javascript": "\nvar usernameInput = document.querySelector('.username');\n\nalert(usernameInput.value);\n",
      "text/plain": [
       "<IPython.core.display.Javascript object>"
      ]
     },
     "metadata": {},
     "output_type": "display_data"
    }
   ],
   "source": [
    "%%javascript\n",
    "\n",
    "var usernameInput = document.querySelector('.username');\n",
    "\n",
    "alert(usernameInput.value);"
   ]
  },
  {
   "cell_type": "markdown",
   "metadata": {},
   "source": [
    "## <a id='toc2_3_'></a>[ID选择器](#toc0_)\n",
    "\n",
    "[ID选择器](https://developer.mozilla.org/zh-CN/docs/Web/CSS/ID_selectors)用于查找标签的`id`属性值为指定值的元素\n",
    "\n",
    "**语法**\n",
    "\n",
    "```css\n",
    "#idname {\n",
    "    property: value;\n",
    "}\n",
    "```\n",
    "\n",
    "```javascript\n",
    "document.querySelectorAll('#idname')\n",
    "document.getElementById('idname')\n",
    "document.querySelector('#idname')\n",
    "```\n"
   ]
  },
  {
   "cell_type": "markdown",
   "metadata": {},
   "source": [
    "### <a id='toc2_3_1_'></a>[示例:查找所有的`id`属性值为`username`的元素](#toc0_)"
   ]
  },
  {
   "cell_type": "code",
   "execution_count": 16,
   "metadata": {},
   "outputs": [
    {
     "data": {
      "text/html": [
       "\n",
       "<input type=\"text\" id=\"username\" value=\"用户名2\">\n",
       "<input type=\"text\" id=\"password\" value=\"密码2\">\n"
      ],
      "text/plain": [
       "<IPython.core.display.HTML object>"
      ]
     },
     "metadata": {},
     "output_type": "display_data"
    }
   ],
   "source": [
    "%%HTML\n",
    "\n",
    "<input type=\"text\" id=\"username\" value=\"用户名2\">\n",
    "<input type=\"text\" id=\"password\" value=\"密码2\">"
   ]
  },
  {
   "cell_type": "code",
   "execution_count": 18,
   "metadata": {},
   "outputs": [
    {
     "data": {
      "application/javascript": "\nvar usernameInput = document.querySelector('#username');\n\nalert(usernameInput.value);\n",
      "text/plain": [
       "<IPython.core.display.Javascript object>"
      ]
     },
     "metadata": {},
     "output_type": "display_data"
    }
   ],
   "source": [
    "%%javascript\n",
    "\n",
    "var usernameInput = document.querySelector('#username');\n",
    "\n",
    "alert(usernameInput.value);"
   ]
  },
  {
   "cell_type": "markdown",
   "metadata": {},
   "source": [
    "## <a id='toc2_4_'></a>[属性选择器](#toc0_)\n",
    "\n",
    "[属性选择器](https://developer.mozilla.org/zh-CN/docs/Web/CSS/Attribute_selectors)用于支持根据除了`class`和`id`之外的属性值来查找元素\n",
    "\n",
    "**语法**\n",
    "\n",
    "```css\n",
    "[attribute] {\n",
    "    property: value;\n",
    "}\n",
    "```\n",
    "\n",
    "```javascript\n",
    "document.querySelectorAll('[attribute]')\n",
    "document.querySelector('[attribute]')\n",
    "```"
   ]
  },
  {
   "cell_type": "markdown",
   "metadata": {},
   "source": [
    "### <a id='toc2_4_1_'></a>[示例:查找页面上所有的`type`属性值为`text`的元素](#toc0_)\n",
    "\n",
    "下面的例子证明了[属性选择器可以不和标签一起使用](https://poe.com/s/COziLvt1kyxZcHccBTZI)"
   ]
  },
  {
   "cell_type": "code",
   "execution_count": 36,
   "metadata": {},
   "outputs": [
    {
     "data": {
      "application/javascript": "\nvar textInputs = document.querySelectorAll('[type=\"text\"]');\nalert(textInputs.length); \n",
      "text/plain": [
       "<IPython.core.display.Javascript object>"
      ]
     },
     "metadata": {},
     "output_type": "display_data"
    }
   ],
   "source": [
    "%%javascript\n",
    "\n",
    "var textInputs = document.querySelectorAll('[type=\"text\"]');\n",
    "alert(textInputs.length); "
   ]
  },
  {
   "cell_type": "markdown",
   "metadata": {},
   "source": [
    "### <a id='toc2_4_2_'></a>[示例:查找自定义属性](#toc0_)\n",
    "\n",
    "自定义属性需要加上`data-`前缀"
   ]
  },
  {
   "cell_type": "code",
   "execution_count": 37,
   "metadata": {},
   "outputs": [
    {
     "data": {
      "text/html": [
       "\n",
       "<input data-demo=\"demo1\" type=\"text\" value=\"用户名\"/>\n",
       "<input data-demo=\"demo1\" type=\"password\" value=\"密码\"/>\n",
       "<input data-demo=\"demo1\" type=\"number\" value=\"123\"/>\n",
       "<input data-demo=\"demo2\" type=\"button\" value=\"登录\"/>\n"
      ],
      "text/plain": [
       "<IPython.core.display.HTML object>"
      ]
     },
     "metadata": {},
     "output_type": "display_data"
    }
   ],
   "source": [
    "%%html\n",
    "\n",
    "<input data-demo=\"demo1\" type=\"text\" value=\"用户名\"/>\n",
    "<input data-demo=\"demo1\" type=\"password\" value=\"密码\"/>\n",
    "<input data-demo=\"demo1\" type=\"number\" value=\"123\"/>\n",
    "<input data-demo=\"demo2\" type=\"button\" value=\"登录\"/>"
   ]
  },
  {
   "cell_type": "code",
   "execution_count": 35,
   "metadata": {},
   "outputs": [
    {
     "data": {
      "application/javascript": "\nvar textInputs = document.querySelectorAll('[data-demo=\"demo1\"]');\nalert(textInputs.length); \n",
      "text/plain": [
       "<IPython.core.display.Javascript object>"
      ]
     },
     "metadata": {},
     "output_type": "display_data"
    }
   ],
   "source": [
    "%%javascript\n",
    "\n",
    "var textInputs = document.querySelectorAll('[data-demo=\"demo1\"]');\n",
    "alert(textInputs.length); "
   ]
  },
  {
   "cell_type": "markdown",
   "metadata": {},
   "source": [
    "### <a id='toc2_4_3_'></a>[示例:和其他选择器一起使用](#toc0_)\n",
    "\n",
    "例如和标签选择器一起使用"
   ]
  },
  {
   "cell_type": "code",
   "execution_count": 39,
   "metadata": {},
   "outputs": [
    {
     "data": {
      "application/javascript": "\nvar textInputs = document.querySelectorAll('input[data-demo=\"demo1\"]');\nalert(textInputs.length); \n//3\n",
      "text/plain": [
       "<IPython.core.display.Javascript object>"
      ]
     },
     "metadata": {},
     "output_type": "display_data"
    }
   ],
   "source": [
    "%%javascript\n",
    "\n",
    "var textInputs = document.querySelectorAll('input[data-demo=\"demo1\"]');\n",
    "alert(textInputs.length); "
   ]
  },
  {
   "cell_type": "markdown",
   "metadata": {},
   "source": [
    "## <a id='toc2_5_'></a>[伪类选择器](#toc0_)\n",
    "\n",
    "[伪类选择器](https://developer.mozilla.org/zh-CN/docs/Web/CSS/Pseudo-classes)用于查找处于特殊状态的元素\n",
    "\n",
    "**语法**\n",
    "\n",
    "```css\n",
    "selector:pseudo-class {\n",
    "    property: value;\n",
    "}\n",
    "```\n",
    "\n",
    "```javascript\n",
    "document.querySelectorAll('selector:pseudo-class')\n",
    "document.querySelector('selector:pseudo-class')\n",
    "```"
   ]
  },
  {
   "cell_type": "markdown",
   "metadata": {},
   "source": [
    "### 示例:查找指定索引位置上的子元素"
   ]
  },
  {
   "cell_type": "code",
   "execution_count": 14,
   "metadata": {},
   "outputs": [
    {
     "data": {
      "text/html": [
       "<a href=\"//www.douyin.com/video/7395492514834304297\" class=\"hY8lWHgA _4furHfW\" target=\"_blank\" rel=\"noopener noreferrer\">\n",
       "   <div>\n",
       "      <div data-home-video-id=\"\" class=\"qe7sV8w4 videoImage\">\n",
       "         <div class=\"ZzX17tOV\">\n",
       "            <div class=\"VCzQd6LR zevBf7YE\">\n",
       "               <div class=\"FWkvEMo5\" style=\"background-image: url(&quot;//p3-pc-sign.douyinpic.com/image-cut-tos-priv/74acec033d1687dfa911388284824363~tplv-dy-resize-origshort-autoq-75:330.jpeg?biz_tag=pcweb_cover&amp;from=327834062&amp;s=PackSourceEnum_SEARCH&amp;sc=cover&amp;se=false&amp;x-expires=2038838400&amp;x-signature=dqOGfr1EZ%2Fv%2FJW%2F6h7cNJ%2Bvfz%2Bs%3D&quot;);\"></div>\n",
       "               <div class=\"FWkvEMo5\" style=\"background-image: url(&quot;//p3-pc-sign.douyinpic.com/image-cut-tos-priv/74acec033d1687dfa911388284824363~tplv-dy-resize-origshort-autoq-75:330.jpeg?biz_tag=pcweb_cover&amp;from=327834062&amp;s=PackSourceEnum_SEARCH&amp;sc=cover&amp;se=false&amp;x-expires=2038838400&amp;x-signature=dqOGfr1EZ%2Fv%2FJW%2F6h7cNJ%2Bvfz%2Bs%3D&quot;);\"></div>\n",
       "               <div class=\"E7aJbYAx\"></div>\n",
       "               <img src=\"//p3-pc-sign.douyinpic.com/image-cut-tos-priv/74acec033d1687dfa911388284824363~tplv-dy-resize-origshort-autoq-75:330.jpeg?biz_tag=pcweb_cover&amp;from=327834062&amp;s=PackSourceEnum_SEARCH&amp;sc=cover&amp;se=false&amp;x-expires=2038838400&amp;x-signature=dqOGfr1EZ%2Fv%2FJW%2F6h7cNJ%2Bvfz%2Bs%3D\" class=\"\">\n",
       "            </div>\n",
       "            <div class=\"nDBG4MPu\">\n",
       "               <div class=\"ZfMUvS5i\"></div>\n",
       "               <div class=\"qac2bCBB\">\n",
       "                  <div class=\"_e88vBUb\"></div>\n",
       "                  <div class=\"ckopQfVu\">02:04</div>\n",
       "                  <div class=\"z2lFLtJ0\">\n",
       "                     <svg width=\"24\" height=\"24\" fill=\"none\" xmlns=\"http://www.w3.org/2000/svg\" class=\"E3egbuQM\" viewBox=\"0 0 24 24\">\n",
       "                        <path fill-rule=\"evenodd\" clip-rule=\"evenodd\" d=\"M9.224 4.667C6.326 4.667 4 7.151 4 10.043l.002.169a1.078 1.078 0 00-.002.094c.009.387.097.855.195 1.245.096.382.23.806.38 1.113.605 1.301 1.664 2.563 2.683 3.6a30.679 30.679 0 003.425 3.008l.02.017.015.012c.226.226.703.7 1.554.7h.025c.241 0 .816-.001 1.331-.502.009-.008.022-.02.042-.035l.182-.151.004-.004c.565-.465 1.886-1.554 3.188-2.867.834-.836 1.698-1.807 2.359-2.81.09-.136.176-.273.258-.41.033-.055.06-.112.082-.17.03-.077.044-.108.055-.13.013-.025.034-.063.088-.146.038-.06.07-.122.096-.188.037-.093.064-.156.085-.199l.004-.009c.087-.11.152-.238.19-.374.162-.576.273-1.082.284-1.705 0-.03 0-.058-.002-.087a7.123 7.123 0 00.001-.206c-.019-2.876-2.338-5.341-5.224-5.341-1.094 0-2.159.339-2.999 1.021-.909-.658-1.957-1.021-3.097-1.021zm9.162 5.377v.134a2.388 2.388 0 000 .14c-.01.294-.057.559-.156.935-.043.07-.076.135-.1.186a4.313 4.313 0 00-.116.26c-.108.173-.178.31-.251.492-.05.082-.104.167-.16.252h-.001c-.55.834-1.304 1.69-2.087 2.476l-.003.002c-1.223 1.234-2.474 2.266-3.033 2.727l-.041.034c-.05.04-.105.086-.157.13l-.06-.061c-.065-.064-.154-.135-.197-.17l-.008-.006a28.517 28.517 0 01-3.214-2.817l-.003-.004c-.968-.985-1.824-2.042-2.27-3.009a4.077 4.077 0 01-.24-.719 4.491 4.491 0 01-.129-.715l.001-.036v-.098l-.001-.005-.002-.129c0-1.778 1.436-3.218 3.066-3.218.857 0 1.667.348 2.393 1.102a1.079 1.079 0 001.66-.129c.428-.61 1.155-.973 2.043-.973 1.63 0 3.066 1.441 3.066 3.218v.001z\" fill=\"#fff\"></path>\n",
       "                     </svg>\n",
       "                     <span class=\"cIiU4Muu\">5.2万</span>\n",
       "                  </div>\n",
       "               </div>\n",
       "            </div>\n",
       "         </div>\n",
       "      </div>\n",
       "      <div class=\"DCS6T_qh\">\n",
       "         <div class=\"qv25ZNOB\">\n",
       "            <div class=\"VDYK8Xd7\">同学们家长们！去英国留学一直是大家比较喜欢的，但是这几年，局面悄悄的发生了变化……#教育 #留学 #升学规划 #英国留学 #暴叔讲留学 @暴叔讲升学规划 @暴叔讲家庭教育 @暴叔讲生涯规划</div>\n",
       "            <div class=\"dW_QmDH1\"><span class=\"E3Qz9sDw\"><span class=\"AQ45enhU\">@</span><span class=\"MZNczJmS\">暴叔讲留学</span></span><span class=\"faDtinfi\">2周前</span></div>\n",
       "         </div>\n",
       "      </div>\n",
       "   </div>\n",
       "</a>\n"
      ],
      "text/plain": [
       "<IPython.core.display.HTML object>"
      ]
     },
     "metadata": {},
     "output_type": "display_data"
    }
   ],
   "source": [
    "%%html\n",
    "<a href=\"//www.douyin.com/video/7395492514834304297\" class=\"hY8lWHgA _4furHfW\" target=\"_blank\" rel=\"noopener noreferrer\">\n",
    "    <div>\n",
    "      <div data-home-video-id=\"\" class=\"qe7sV8w4 videoImage\">\n",
    "         <div class=\"ZzX17tOV\">\n",
    "            <div class=\"VCzQd6LR zevBf7YE\">\n",
    "               <div class=\"FWkvEMo5\" style=\"background-image: url(&quot;//p3-pc-sign.douyinpic.com/image-cut-tos-priv/74acec033d1687dfa911388284824363~tplv-dy-resize-origshort-autoq-75:330.jpeg?biz_tag=pcweb_cover&amp;from=327834062&amp;s=PackSourceEnum_SEARCH&amp;sc=cover&amp;se=false&amp;x-expires=2038838400&amp;x-signature=dqOGfr1EZ%2Fv%2FJW%2F6h7cNJ%2Bvfz%2Bs%3D&quot;);\"></div>\n",
    "               <div class=\"FWkvEMo5\" style=\"background-image: url(&quot;//p3-pc-sign.douyinpic.com/image-cut-tos-priv/74acec033d1687dfa911388284824363~tplv-dy-resize-origshort-autoq-75:330.jpeg?biz_tag=pcweb_cover&amp;from=327834062&amp;s=PackSourceEnum_SEARCH&amp;sc=cover&amp;se=false&amp;x-expires=2038838400&amp;x-signature=dqOGfr1EZ%2Fv%2FJW%2F6h7cNJ%2Bvfz%2Bs%3D&quot;);\"></div>\n",
    "               <div class=\"E7aJbYAx\"></div>\n",
    "               <img src=\"//p3-pc-sign.douyinpic.com/image-cut-tos-priv/74acec033d1687dfa911388284824363~tplv-dy-resize-origshort-autoq-75:330.jpeg?biz_tag=pcweb_cover&amp;from=327834062&amp;s=PackSourceEnum_SEARCH&amp;sc=cover&amp;se=false&amp;x-expires=2038838400&amp;x-signature=dqOGfr1EZ%2Fv%2FJW%2F6h7cNJ%2Bvfz%2Bs%3D\" class=\"\">\n",
    "            </div>\n",
    "            <div class=\"nDBG4MPu\">\n",
    "               <div class=\"ZfMUvS5i\"></div>\n",
    "               <div class=\"qac2bCBB\">\n",
    "                  <div class=\"_e88vBUb\"></div>\n",
    "                  <div class=\"ckopQfVu\">02:04</div>\n",
    "                  <div class=\"z2lFLtJ0\">\n",
    "                     <svg width=\"24\" height=\"24\" fill=\"none\" xmlns=\"http://www.w3.org/2000/svg\" class=\"E3egbuQM\" viewBox=\"0 0 24 24\">\n",
    "                        <path fill-rule=\"evenodd\" clip-rule=\"evenodd\" d=\"M9.224 4.667C6.326 4.667 4 7.151 4 10.043l.002.169a1.078 1.078 0 00-.002.094c.009.387.097.855.195 1.245.096.382.23.806.38 1.113.605 1.301 1.664 2.563 2.683 3.6a30.679 30.679 0 003.425 3.008l.02.017.015.012c.226.226.703.7 1.554.7h.025c.241 0 .816-.001 1.331-.502.009-.008.022-.02.042-.035l.182-.151.004-.004c.565-.465 1.886-1.554 3.188-2.867.834-.836 1.698-1.807 2.359-2.81.09-.136.176-.273.258-.41.033-.055.06-.112.082-.17.03-.077.044-.108.055-.13.013-.025.034-.063.088-.146.038-.06.07-.122.096-.188.037-.093.064-.156.085-.199l.004-.009c.087-.11.152-.238.19-.374.162-.576.273-1.082.284-1.705 0-.03 0-.058-.002-.087a7.123 7.123 0 00.001-.206c-.019-2.876-2.338-5.341-5.224-5.341-1.094 0-2.159.339-2.999 1.021-.909-.658-1.957-1.021-3.097-1.021zm9.162 5.377v.134a2.388 2.388 0 000 .14c-.01.294-.057.559-.156.935-.043.07-.076.135-.1.186a4.313 4.313 0 00-.116.26c-.108.173-.178.31-.251.492-.05.082-.104.167-.16.252h-.001c-.55.834-1.304 1.69-2.087 2.476l-.003.002c-1.223 1.234-2.474 2.266-3.033 2.727l-.041.034c-.05.04-.105.086-.157.13l-.06-.061c-.065-.064-.154-.135-.197-.17l-.008-.006a28.517 28.517 0 01-3.214-2.817l-.003-.004c-.968-.985-1.824-2.042-2.27-3.009a4.077 4.077 0 01-.24-.719 4.491 4.491 0 01-.129-.715l.001-.036v-.098l-.001-.005-.002-.129c0-1.778 1.436-3.218 3.066-3.218.857 0 1.667.348 2.393 1.102a1.079 1.079 0 001.66-.129c.428-.61 1.155-.973 2.043-.973 1.63 0 3.066 1.441 3.066 3.218v.001z\" fill=\"#fff\"></path>\n",
    "                     </svg>\n",
    "                     <span class=\"cIiU4Muu\">5.2万</span>\n",
    "                  </div>\n",
    "               </div>\n",
    "            </div>\n",
    "         </div>\n",
    "      </div>\n",
    "      <div class=\"DCS6T_qh\">\n",
    "         <div class=\"qv25ZNOB\">\n",
    "            <div class=\"VDYK8Xd7\">同学们家长们！去英国留学一直是大家比较喜欢的，但是这几年，局面悄悄的发生了变化……#教育 #留学 #升学规划 #英国留学 #暴叔讲留学 @暴叔讲升学规划 @暴叔讲家庭教育 @暴叔讲生涯规划</div>\n",
    "            <div class=\"dW_QmDH1\"><span class=\"E3Qz9sDw\"><span class=\"AQ45enhU\">@</span><span class=\"MZNczJmS\">暴叔讲留学</span></span><span class=\"faDtinfi\">2周前</span></div>\n",
    "         </div>\n",
    "      </div>\n",
    "   </div>\n",
    "</a>"
   ]
  },
  {
   "cell_type": "code",
   "execution_count": 47,
   "metadata": {},
   "outputs": [
    {
     "data": {
      "application/javascript": "\nvar root = document.querySelector('.hY8lWHgA');\nvar targetElement = root.querySelector('a[href^=\"//www.douyin.com/video/\"] > div > div:nth-child(2) > div > div');\nalert(targetElement.innerText);\n",
      "text/plain": [
       "<IPython.core.display.Javascript object>"
      ]
     },
     "metadata": {},
     "output_type": "display_data"
    }
   ],
   "source": [
    "%%javascript\n",
    "\n",
    "var root = document.querySelector('.hY8lWHgA');\n",
    "var targetElement = root.querySelector('a[href^=\"//www.douyin.com/video/\"] > div > div:nth-child(2) > div > div');\n",
    "alert(targetElement.innerText);"
   ]
  },
  {
   "cell_type": "markdown",
   "metadata": {},
   "source": [
    "## <a id='toc2_6_'></a>[连接多个选择器](#toc0_)\n",
    "\n",
    "连接多个选择器一共有4种写法:\n",
    "\n",
    "* selector1selector2(没有空格): 同时匹配`selector1`和`selector2`的元素\n",
    "* selector1, selector2: 匹配`selector1`或者`selector2`的元素\n",
    "* selector1 > selector2: `selector1`元素的`直接子元素`中匹配`selector2`的元素\n",
    "* selector1 selector2(中间有空格): `selector1`元素的`后代(包括深层嵌套的)元素`中匹配`selector2`的元素\n"
   ]
  },
  {
   "cell_type": "markdown",
   "metadata": {},
   "source": [
    "### <a id='toc2_6_1_'></a>[实现`AND`关系](#toc0_)\n",
    "\n",
    "将多个选择器直接连接起来(不要有空格),就可以实现`AND`关系"
   ]
  },
  {
   "cell_type": "code",
   "execution_count": 44,
   "metadata": {},
   "outputs": [
    {
     "data": {
      "application/javascript": "\n//找出所有 type=\"button\" 且 data-demo=\"demo1\" 的 元素,结果是 0\nvar textInputs = document.querySelectorAll('[data-demo=\"demo1\"][type=\"button\"]');\n\n//找出所有 type=\"button\" 且 data-demo=\"demo2\" 的 元素,结果是 1\nvar textInputs1 = document.querySelectorAll('[data-demo=\"demo2\"][type=\"button\"]');\nalert(`${textInputs.length},${textInputs1.length}`);\n",
      "text/plain": [
       "<IPython.core.display.Javascript object>"
      ]
     },
     "metadata": {},
     "output_type": "display_data"
    }
   ],
   "source": [
    "%%javascript\n",
    "\n",
    "//找出所有 type=\"button\" 且 data-demo=\"demo1\" 的 元素,结果是 0\n",
    "var textInputs = document.querySelectorAll('[data-demo=\"demo1\"][type=\"button\"]');\n",
    "\n",
    "//找出所有 type=\"button\" 且 data-demo=\"demo2\" 的 元素,结果是 1\n",
    "var textInputs1 = document.querySelectorAll('[data-demo=\"demo2\"][type=\"button\"]');\n",
    "alert(`${textInputs.length},${textInputs1.length}`);"
   ]
  },
  {
   "cell_type": "markdown",
   "metadata": {},
   "source": [
    "### <a id='toc2_6_2_'></a>[实现`OR`关系](#toc0_)\n",
    "\n",
    "将多个选择器用逗号`,`连接起来,就可以实现`OR`关系"
   ]
  },
  {
   "cell_type": "code",
   "execution_count": 45,
   "metadata": {},
   "outputs": [
    {
     "data": {
      "application/javascript": "\n//找出所有 type=\"button\" 或者 data-demo=\"demo1\" 的 元素,结果是 4\nvar textInputs = document.querySelectorAll('[data-demo=\"demo1\"],[type=\"button\"]');\nalert(textInputs.length);\n",
      "text/plain": [
       "<IPython.core.display.Javascript object>"
      ]
     },
     "metadata": {},
     "output_type": "display_data"
    }
   ],
   "source": [
    "%%javascript\n",
    "\n",
    "//找出所有 type=\"button\" 或者 data-demo=\"demo1\" 的 元素,结果是 4\n",
    "var textInputs = document.querySelectorAll('[data-demo=\"demo1\"],[type=\"button\"]');\n",
    "alert(textInputs.length);"
   ]
  },
  {
   "cell_type": "markdown",
   "metadata": {},
   "source": [
    "### <a id='toc2_6_3_'></a>[查找直接子元素](#toc0_)\n",
    "\n",
    "多个选择器之间用`>`连接,可以实现查找`直接子元素`的功能\n",
    "\n",
    "**直接子元素**是指`父元素`的`一级子元素`"
   ]
  },
  {
   "cell_type": "code",
   "execution_count": 46,
   "metadata": {},
   "outputs": [
    {
     "data": {
      "text/html": [
       "<div class=\"container\">\n",
       "    <p class=\"p1\">段落 1</p>\n",
       "    <div class=\"inner\">\n",
       "        <p class=\"p2\">段落 2</p>\n",
       "    </div>\n",
       "    <span class=\"highlight\">高亮文本</span>\n",
       "</div>\n",
       "<p class=\"highlight\">段落 3</p>\n"
      ],
      "text/plain": [
       "<IPython.core.display.HTML object>"
      ]
     },
     "metadata": {},
     "output_type": "display_data"
    }
   ],
   "source": [
    "%%html\n",
    "<div class=\"container\">\n",
    "    <p class=\"p1\">段落 1</p>\n",
    "    <div class=\"inner\">\n",
    "        <p class=\"p2\">段落 2</p>\n",
    "    </div>\n",
    "    <span class=\"highlight\">高亮文本</span>\n",
    "</div>\n",
    "<p class=\"highlight\">段落 3</p>"
   ]
  },
  {
   "cell_type": "code",
   "execution_count": 50,
   "metadata": {},
   "outputs": [
    {
     "data": {
      "application/javascript": "\n//用类名匹配段落2,会发现找不到,因为段落2是二级子元素\nvar ele = document.querySelector('.container>.p2');\n\n//用类名匹配段落1就可以,因为段落1是一级子元素\nvar ele1 = document.querySelector('.container>.p1');\n\nalert(`${ele === null},${ele1 === null}`);\n",
      "text/plain": [
       "<IPython.core.display.Javascript object>"
      ]
     },
     "metadata": {},
     "output_type": "display_data"
    }
   ],
   "source": [
    "%%javascript\n",
    "\n",
    "//用类名匹配段落2,会发现找不到,因为段落2是二级子元素\n",
    "var ele = document.querySelector('.container>.p2');\n",
    "\n",
    "//用类名匹配段落1就可以,因为段落1是一级子元素\n",
    "var ele1 = document.querySelector('.container>.p1');\n",
    "\n",
    "alert(`${ele === null},${ele1 === null}`);"
   ]
  },
  {
   "cell_type": "markdown",
   "metadata": {},
   "source": [
    "### <a id='toc2_6_4_'></a>[查找嵌套后代元素](#toc0_)\n",
    "\n",
    "多个选择器之间用空格连接,可以找到符合条件的所有`后代元素`"
   ]
  },
  {
   "cell_type": "code",
   "execution_count": 56,
   "metadata": {},
   "outputs": [
    {
     "data": {
      "application/javascript": "\n//还是上面的例子，把 > 去掉，就可以找到段落2了\nvar ele = document.querySelector('.container .p2');\n\nalert(`${ele !== null}`);\n",
      "text/plain": [
       "<IPython.core.display.Javascript object>"
      ]
     },
     "metadata": {},
     "output_type": "display_data"
    }
   ],
   "source": [
    "%%javascript\n",
    "\n",
    "//还是上面的例子，把 > 去掉，就可以找到段落2了\n",
    "var ele = document.querySelector('.container .p2');\n",
    "\n",
    "alert(`${ele !== null}`);"
   ]
  },
  {
   "cell_type": "markdown",
   "metadata": {},
   "source": [
    "### <a id='toc2_6_5_'></a>[组合多个不同类型的选择器](#toc0_)\n",
    "\n",
    "下面这个例子模拟了抖音首页的`Header`部分,现在要找出藏在`Header`里面的搜索框"
   ]
  },
  {
   "cell_type": "code",
   "execution_count": 57,
   "metadata": {},
   "outputs": [
    {
     "data": {
      "text/html": [
       "\n",
       "<div id=\"container\">\n",
       "    <div class=\"random-cls1\">\n",
       "        <div class=\"random-cls2\">\n",
       "            <input class=\"st2xnJtZ YIde9aUh\" data-e2e=\"searchbar-input\" type=\"text\" maxlength=\"100\" placeholder=\"搜索你感兴趣的内容\" value=\"\">\n",
       "        </div>\n",
       "    </div>\n",
       "</div>\n"
      ],
      "text/plain": [
       "<IPython.core.display.HTML object>"
      ]
     },
     "metadata": {},
     "output_type": "display_data"
    }
   ],
   "source": [
    "%%html\n",
    "\n",
    "<div id=\"douyin-header\">\n",
    "    <div class=\"random-cls1\">\n",
    "        <div class=\"random-cls2\">\n",
    "            <input class=\"st2xnJtZ YIde9aUh\" data-e2e=\"searchbar-input\" type=\"text\" maxlength=\"100\" placeholder=\"搜索你感兴趣的内容\" value=\"\">\n",
    "        </div>\n",
    "    </div>\n",
    "</div>"
   ]
  },
  {
   "cell_type": "code",
   "execution_count": 58,
   "metadata": {},
   "outputs": [
    {
     "data": {
      "application/javascript": "\nvar searchInput = document.querySelector('#container input[data-e2e=\"searchbar-input\"][placeholder=\"搜索你感兴趣的内容\"]');\n\nalert(searchInput !== null);\n",
      "text/plain": [
       "<IPython.core.display.Javascript object>"
      ]
     },
     "metadata": {},
     "output_type": "display_data"
    }
   ],
   "source": [
    "%%javascript\n",
    "\n",
    "var searchInput = document.querySelector('#douyin-header input[data-e2e=\"searchbar-input\"][placeholder=\"搜索你感兴趣的内容\"]');\n",
    "\n",
    "alert(searchInput !== null);"
   ]
  }
 ],
 "metadata": {
  "kernelspec": {
   "display_name": "jupyter-notebook",
   "language": "python",
   "name": "python3"
  },
  "language_info": {
   "codemirror_mode": {
    "name": "ipython",
    "version": 3
   },
   "file_extension": ".py",
   "mimetype": "text/x-python",
   "name": "python",
   "nbconvert_exporter": "python",
   "pygments_lexer": "ipython3",
   "version": "3.12.4"
  },
  "polyglot_notebook": {
   "kernelInfo": {
    "defaultKernelName": "csharp",
    "items": [
     {
      "aliases": [],
      "name": "csharp"
     }
    ]
   }
  }
 },
 "nbformat": 4,
 "nbformat_minor": 2
}
