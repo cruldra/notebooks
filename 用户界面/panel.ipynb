{
 "cells": [
  {
   "metadata": {
    "ExecuteTime": {
     "end_time": "2024-07-27T12:46:20.529141Z",
     "start_time": "2024-07-27T12:46:19.804857Z"
    }
   },
   "cell_type": "code",
   "source": [
    "import panel as pn\n",
    "pn.extension( theme='dark')\n",
    "window_widget = pn.widgets.IntSlider(name=\"window\", value=30, start=1, end=60)\n",
    "sigma_widget = pn.widgets.IntSlider(name=\"sigma\", value=10, start=0, end=20)\n",
    "pn.template.DarkTheme()\n",
    "pn.template.MaterialTemplate(\n",
    "    site=\"Panel\",\n",
    "    title=\"Getting Started App\",\n",
    "    sidebar=[ window_widget, sigma_widget],\n",
    "    main=[ ],\n",
    ").servable(); # The ; is needed in the notebook to not display the template. Its not needed in a script"
   ],
   "id": "c1a75cc353639ec7",
   "outputs": [],
   "execution_count": 1
  },
  {
   "metadata": {},
   "cell_type": "code",
   "outputs": [],
   "execution_count": null,
   "source": "",
   "id": "de39952443d34a3e"
  }
 ],
 "metadata": {
  "kernelspec": {
   "display_name": "Python 3",
   "language": "python",
   "name": "python3"
  },
  "language_info": {
   "codemirror_mode": {
    "name": "ipython",
    "version": 2
   },
   "file_extension": ".py",
   "mimetype": "text/x-python",
   "name": "python",
   "nbconvert_exporter": "python",
   "pygments_lexer": "ipython2",
   "version": "2.7.6"
  }
 },
 "nbformat": 4,
 "nbformat_minor": 5
}
