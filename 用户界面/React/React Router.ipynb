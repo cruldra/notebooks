{
 "cells": [
  {
   "cell_type": "markdown",
   "metadata": {},
   "source": [
    "# 简介\n",
    "\n",
    "[React Router](https://reactrouter.com/en/main)是一个为`React`应用程序设计的声明式路由库,它用于管理链接到组件的映射."
   ]
  },
  {
   "cell_type": "markdown",
   "metadata": {},
   "source": [
    "# 主要功能\n",
    "\n",
    "* **URL 管理** - 允许应用根据`URL`变化渲染不同的组件,而无需刷新整个页面.\n",
    "* **导航控制** - 提供了编程式导航的能力,可以通过`JavaScript`代码控制页面跳转\n",
    "* **嵌套路由** - 支持嵌套路由,可以在一个组件中嵌套另一个组件\n",
    "* **历史管理** - 和浏览器的`history api`集成,可以通过`pushState`和`replaceState`方法控制历史记录"
   ]
  },
  {
   "cell_type": "markdown",
   "metadata": {},
   "source": [
    "# 安装\n",
    "\n",
    "\n",
    "```bash\n",
    "npm install react-router-dom\n",
    "```"
   ]
  },
  {
   "cell_type": "markdown",
   "metadata": {},
   "source": [
    "# 创建路由配置\n",
    "\n",
    "路由配置中定义了`URL`和对应的组件,当`URL`匹配时,对应的组件将会被渲染.\n",
    "\n",
    "```jsx\n",
    "\n",
    "import {\n",
    "  createBrowserRouter,\n",
    "  RouterProvider,\n",
    "} from \"react-router-dom\";\n",
    "\n",
    "\n",
    "const router = createBrowserRouter([\n",
    "  {\n",
    "    path: \"/\",\n",
    "    element: <div>Hello world!</div>,\n",
    "  },\n",
    "]);\n",
    "\n",
    "```"
   ]
  },
  {
   "cell_type": "markdown",
   "metadata": {},
   "source": [
    "# 渲染路由\n",
    "\n",
    "使用`RouterProvider`组件来按照指定的路由配置渲染组件.\n",
    "\n",
    "```jsx\n",
    "  <RouterProvider router={router} />\n",
    "```"
   ]
  }
 ],
 "metadata": {
  "language_info": {
   "name": "python"
  }
 },
 "nbformat": 4,
 "nbformat_minor": 2
}
