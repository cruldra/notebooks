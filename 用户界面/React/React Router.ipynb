{
 "cells": [
  {
   "cell_type": "markdown",
   "metadata": {},
   "source": [
    "# 简介\n",
    "\n",
    "[React Router](https://reactrouter.com/en/main)是一个为`React`应用程序设计的声明式路由库,它用于管理链接到组件的映射."
   ]
  },
  {
   "cell_type": "markdown",
   "metadata": {},
   "source": [
    "# 主要功能\n",
    "\n",
    "* **URL 管理** - 允许应用根据`URL`变化渲染不同的组件,而无需刷新整个页面.\n",
    "* **导航控制** - 提供了编程式导航的能力,可以通过`JavaScript`代码控制页面跳转\n",
    "* **嵌套路由** - 支持嵌套路由,可以在一个组件中嵌套另一个组件\n",
    "* **历史管理** - 和浏览器的`history api`集成,可以通过`pushState`和`replaceState`方法控制历史记录"
   ]
  },
  {
   "cell_type": "markdown",
   "metadata": {},
   "source": [
    "# 安装\n",
    "\n",
    "\n",
    "```bash\n",
    "npm install react-router-dom\n",
    "```"
   ]
  },
  {
   "cell_type": "markdown",
   "metadata": {},
   "source": [
    "# 创建路由配置\n",
    "\n",
    "路由配置中定义了`URL`和对应的组件,当`URL`匹配时,对应的组件将会被渲染.\n",
    "\n",
    "```jsx\n",
    "\n",
    "import {\n",
    "  createBrowserRouter,\n",
    "  RouterProvider,\n",
    "} from \"react-router-dom\";\n",
    "\n",
    "\n",
    "const router = createBrowserRouter([\n",
    "  {\n",
    "    path: \"/\",\n",
    "    element: <div>Hello world!</div>,\n",
    "  },\n",
    "]);\n",
    "\n",
    "```"
   ]
  },
  {
   "cell_type": "markdown",
   "metadata": {},
   "source": [
    "## 嵌套路由\n",
    "\n",
    "嵌套路由用于在多个组件之间共享相同的`URL`片段,例如:\n",
    "\n",
    "```tsx\n",
    "\n",
    "const RootLayout = () => {\n",
    "  return (\n",
    "    <div>\n",
    "      <h1>Root Layout</h1>\n",
    "      <Link to=\"/page-a\">  Page A </Link><br/ >\n",
    "       <Link to=\"/page-b\">Page B</Link>\n",
    "      <Outlet />\n",
    "    </div>\n",
    "  );\n",
    "};\n",
    "const PageA = () => {\n",
    "  return <div>Page A</div>;\n",
    "};\n",
    "\n",
    "const PageB = () => {\n",
    "  return <div>Page B</div>;\n",
    "};\n",
    "const router = createBrowserRouter([\n",
    "  {\n",
    "      path: \"/\",\n",
    "      element: <RootLayout />,\n",
    "      children: [\n",
    "          {\n",
    "              path: \"page-a\",\n",
    "              element: <PageA />,\n",
    "          },\n",
    "          {\n",
    "              path: \"page-b\",\n",
    "              element: <PageB />,\n",
    "          }, \n",
    "      ]\n",
    "  }\n",
    "\n",
    "])\n",
    "\n",
    "```\n",
    "\n",
    "效果如下:\n",
    "\n",
    "![](https://github.com/cruldra/picx-images-hosting/raw/master/采样器.5tqxxdyv1b.gif)\n",
    "\n",
    "上面这个嵌套路由的工作原理是:\n",
    "\n",
    "1. 当`URL`为`/`时,渲染`RootLayout`组件\n",
    "2. 进入`/page-a`时,将`RootLayout`组件中的`Outlet`替换为`PageA`组件\n",
    "3. 进入`/page-b`时,将`RootLayout`组件中的`Outlet`替换为`PageB`组件\n"
   ]
  },
  {
   "cell_type": "markdown",
   "metadata": {},
   "source": [
    "### 参考\n",
    "\n",
    "* [代码空间](https://github.com/codespaces/laughing-couscous-5gg5px7pj6qhvp95)\n",
    "* [工作原理](https://remix.run/_docs/routing)\n"
   ]
  },
  {
   "cell_type": "markdown",
   "metadata": {},
   "source": [
    "# 渲染路由\n",
    "\n",
    "使用`RouterProvider`组件来按照指定的路由配置渲染组件.\n",
    "\n",
    "```jsx\n",
    "  <RouterProvider router={router} />\n",
    "```"
   ]
  }
 ],
 "metadata": {
  "kernelspec": {
   "display_name": ".NET (C#)",
   "language": "C#",
   "name": ".net-csharp"
  },
  "language_info": {
   "name": "python"
  },
  "polyglot_notebook": {
   "kernelInfo": {
    "defaultKernelName": "csharp",
    "items": [
     {
      "aliases": [],
      "name": "csharp"
     }
    ]
   }
  }
 },
 "nbformat": 4,
 "nbformat_minor": 2
}
