{
 "cells": [
  {
   "cell_type": "markdown",
   "id": "20444cd869b491d1",
   "metadata": {},
   "source": [
    "# 自定义组件\n",
    "\n",
    "[Building a Component Library with React, Typescript, and Storybook: A Comprehensive Guide | by Ashish Kachhadiya | Simform Engineering | Medium](https://medium.com/simform-engineering/building-a-component-library-with-react-typescript-and-storybook-a-comprehensive-guide-ba189accdaf5)\n",
    "\n",
    "\n",
    "# 服务器组件\n",
    "\n",
    "[理解 React 服务器组件](https://www.joshwcomeau.com/react/server-components/)"
   ]
  }
 ],
 "metadata": {
  "kernelspec": {
   "display_name": "Python 3",
   "language": "python",
   "name": "python3"
  },
  "language_info": {
   "codemirror_mode": {
    "name": "ipython",
    "version": 2
   },
   "file_extension": ".py",
   "mimetype": "text/x-python",
   "name": "python",
   "nbconvert_exporter": "python",
   "pygments_lexer": "ipython2",
   "version": "2.7.6"
  }
 },
 "nbformat": 4,
 "nbformat_minor": 5
}
