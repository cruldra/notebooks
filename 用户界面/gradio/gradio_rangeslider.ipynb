{
 "cells": [
  {
   "cell_type": "markdown",
   "id": "ecbe16c55caf6a54",
   "metadata": {},
   "source": [
    "# 简介\n",
    "\n",
    "`gradio`默认的数字滑块只有一个返回值,这个组件允许在一个范围内滑动\n",
    "\n",
    "# 安装\n",
    "\n",
    "```bash\n",
    "pip install gradio_rangeslider\n",
    "```"
   ]
  },
  {
   "cell_type": "code",
   "id": "abf4485208e180e9",
   "metadata": {
    "ExecuteTime": {
     "end_time": "2024-07-21T12:42:59.403251Z",
     "start_time": "2024-07-21T12:42:57.437257Z"
    }
   },
   "source": [
    "import gradio as gr\n",
    "from gradio_rangeslider import RangeSlider\n",
    "from pathlib import Path\n",
    "\n",
    "text = \"## The range is: {min} to {max}\" \n",
    "\n",
    "with gr.Blocks() as demo:\n",
    "    with gr.Tabs():\n",
    "        with gr.Tab(\"Demo\"):\n",
    "            gr.Markdown(\"\"\"## 🛝 SqlFilters\n",
    "\n",
    "            ## Drag either end and see the selected endpoints update in real-time.\n",
    "            \"\"\") \n",
    "            range_slider = RangeSlider(minimum=0, maximum=100, value=(0, 100))\n",
    "            range_ = gr.Markdown(value=text.format(min=0, max=100))\n",
    "            range_slider.change(lambda s: text.format(min=s[0], max=s[1]), range_slider, range_,\n",
    "                                show_progress=\"hide\", trigger_mode=\"always_last\")\n",
    "            gr.Examples([(20, 30), (40, 80)], inputs=[range_slider])\n",
    "        # with gr.Tab(\"Docs\"):\n",
    "        #     gr.Markdown(docs.read_text())\n",
    "\n",
    "\n",
    "if __name__ == \"__main__\":\n",
    "    demo.launch()"
   ],
   "outputs": [
    {
     "name": "stderr",
     "output_type": "stream",
     "text": [
      "D:\\Workspace\\aiworld\\自动化工作流\\英语短文\\py_automation\\.venv\\Lib\\site-packages\\tqdm\\auto.py:21: TqdmWarning: IProgress not found. Please update jupyter and ipywidgets. See https://ipywidgets.readthedocs.io/en/stable/user_install.html\n",
      "  from .autonotebook import tqdm as notebook_tqdm\n"
     ]
    },
    {
     "name": "stdout",
     "output_type": "stream",
     "text": [
      "Running on local URL:  http://127.0.0.1:7860\n",
      "\n",
      "To create a public link, set `share=True` in `launch()`.\n"
     ]
    },
    {
     "data": {
      "text/plain": [
       "<IPython.core.display.HTML object>"
      ],
      "text/html": [
       "<div><iframe src=\"http://127.0.0.1:7860/\" width=\"100%\" height=\"500\" allow=\"autoplay; camera; microphone; clipboard-read; clipboard-write;\" frameborder=\"0\" allowfullscreen></iframe></div>"
      ]
     },
     "metadata": {},
     "output_type": "display_data"
    }
   ],
   "execution_count": 1
  },
  {
   "cell_type": "code",
   "execution_count": null,
   "id": "8016aecf-648c-4084-b075-e52400f072c7",
   "metadata": {},
   "outputs": [],
   "source": []
  }
 ],
 "metadata": {
  "kernelspec": {
   "display_name": "Python 3 (ipykernel)",
   "language": "python",
   "name": "python3"
  },
  "language_info": {
   "codemirror_mode": {
    "name": "ipython",
    "version": 3
   },
   "file_extension": ".py",
   "mimetype": "text/x-python",
   "name": "python",
   "nbconvert_exporter": "python",
   "pygments_lexer": "ipython3",
   "version": "3.12.4"
  }
 },
 "nbformat": 4,
 "nbformat_minor": 5
}
