{
 "cells": [
  {
   "metadata": {},
   "cell_type": "markdown",
   "source": [
    "# 简介\n",
    "\n",
    "[Dash Mantine Components](https://github.com/snehilvj/dash-mantine-components)是一个基于[Plotly Dash](https://dash.plotly.com/installation)和[Mantine](https://mantine.dev/)的组件库，用于构建数据可视化应用程序。"
   ],
   "id": "ad9149e540757fd3"
  },
  {
   "metadata": {},
   "cell_type": "markdown",
   "source": "",
   "id": "ac4f6cb4fd7025b5"
  }
 ],
 "metadata": {
  "kernelspec": {
   "display_name": "Python 3",
   "language": "python",
   "name": "python3"
  },
  "language_info": {
   "codemirror_mode": {
    "name": "ipython",
    "version": 2
   },
   "file_extension": ".py",
   "mimetype": "text/x-python",
   "name": "python",
   "nbconvert_exporter": "python",
   "pygments_lexer": "ipython2",
   "version": "2.7.6"
  }
 },
 "nbformat": 4,
 "nbformat_minor": 5
}
