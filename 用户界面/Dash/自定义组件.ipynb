{
 "cells": [
  {
   "cell_type": "markdown",
   "metadata": {},
   "source": [
    "# 简介\n",
    "\n",
    "[自定义Dash组件](https://dash.plotly.com/plugins)可以重用`React`生态,实现更丰富的交互组件."
   ]
  },
  {
   "cell_type": "markdown",
   "metadata": {},
   "source": [
    "# 创建自定义Dash组件\n",
    "\n",
    "自定义`Dash`组件的流程如下:\n",
    "\n",
    "1. 编写React组件\n",
    "2. Webpack打包成UMD格式js\n",
    "3. 由dash命令行生成python、julia等后台组件包装类"
   ]
  },
  {
   "cell_type": "code",
   "execution_count": 4,
   "metadata": {},
   "outputs": [],
   "source": [
    "import iplantuml"
   ]
  },
  {
   "cell_type": "code",
   "execution_count": 12,
   "metadata": {},
   "outputs": [
    {
     "data": {
      "image/svg+xml": [
       "<svg xmlns=\"http://www.w3.org/2000/svg\" xmlns:xlink=\"http://www.w3.org/1999/xlink\" contentStyleType=\"text/css\" height=\"353px\" preserveAspectRatio=\"none\" style=\"width:896px;height:353px;background:#FFFFFF;\" version=\"1.1\" viewBox=\"0 0 896 353\" width=\"896px\" zoomAndPan=\"magnify\"><defs/><g><line style=\"stroke:#181818;stroke-width:0.5;stroke-dasharray:5.0,5.0;\" x1=\"23\" x2=\"23\" y1=\"81.2969\" y2=\"272.9609\"/><line style=\"stroke:#181818;stroke-width:0.5;stroke-dasharray:5.0,5.0;\" x1=\"201.8579\" x2=\"201.8579\" y1=\"81.2969\" y2=\"272.9609\"/><line style=\"stroke:#181818;stroke-width:0.5;stroke-dasharray:5.0,5.0;\" x1=\"332.6323\" x2=\"332.6323\" y1=\"81.2969\" y2=\"272.9609\"/><line style=\"stroke:#181818;stroke-width:0.5;stroke-dasharray:5.0,5.0;\" x1=\"519.2954\" x2=\"519.2954\" y1=\"81.2969\" y2=\"272.9609\"/><text fill=\"#000000\" font-family=\"sans-serif\" font-size=\"14\" lengthAdjust=\"spacing\" textLength=\"31.9102\" x=\"5\" y=\"77.9951\">User</text><ellipse cx=\"23.9551\" cy=\"13.5\" fill=\"#E2E2F0\" rx=\"8\" ry=\"8\" style=\"stroke:#181818;stroke-width:0.5;\"/><path d=\"M23.9551,21.5 L23.9551,48.5 M10.9551,29.5 L36.9551,29.5 M23.9551,48.5 L10.9551,63.5 M23.9551,48.5 L36.9551,63.5 \" fill=\"none\" style=\"stroke:#181818;stroke-width:0.5;\"/><text fill=\"#000000\" font-family=\"sans-serif\" font-size=\"14\" lengthAdjust=\"spacing\" textLength=\"31.9102\" x=\"5\" y=\"284.9561\">User</text><ellipse cx=\"23.9551\" cy=\"296.7578\" fill=\"#E2E2F0\" rx=\"8\" ry=\"8\" style=\"stroke:#181818;stroke-width:0.5;\"/><path d=\"M23.9551,304.7578 L23.9551,331.7578 M10.9551,312.7578 L36.9551,312.7578 M23.9551,331.7578 L10.9551,346.7578 M23.9551,331.7578 L36.9551,346.7578 \" fill=\"none\" style=\"stroke:#181818;stroke-width:0.5;\"/><rect fill=\"#E2E2F0\" height=\"30.2969\" rx=\"2.5\" ry=\"2.5\" style=\"stroke:#181818;stroke-width:0.5;\" width=\"54.1064\" x=\"174.8579\" y=\"50\"/><text fill=\"#000000\" font-family=\"sans-serif\" font-size=\"14\" lengthAdjust=\"spacing\" textLength=\"40.1064\" x=\"181.8579\" y=\"69.9951\">React</text><rect fill=\"#E2E2F0\" height=\"30.2969\" rx=\"2.5\" ry=\"2.5\" style=\"stroke:#181818;stroke-width:0.5;\" width=\"54.1064\" x=\"174.8579\" y=\"271.9609\"/><text fill=\"#000000\" font-family=\"sans-serif\" font-size=\"14\" lengthAdjust=\"spacing\" textLength=\"40.1064\" x=\"181.8579\" y=\"291.9561\">React</text><rect fill=\"#E2E2F0\" height=\"30.2969\" rx=\"2.5\" ry=\"2.5\" style=\"stroke:#181818;stroke-width:0.5;\" width=\"78.6133\" x=\"293.6323\" y=\"50\"/><text fill=\"#000000\" font-family=\"sans-serif\" font-size=\"14\" lengthAdjust=\"spacing\" textLength=\"64.6133\" x=\"300.6323\" y=\"69.9951\">Webpack</text><rect fill=\"#E2E2F0\" height=\"30.2969\" rx=\"2.5\" ry=\"2.5\" style=\"stroke:#181818;stroke-width:0.5;\" width=\"78.6133\" x=\"293.6323\" y=\"271.9609\"/><text fill=\"#000000\" font-family=\"sans-serif\" font-size=\"14\" lengthAdjust=\"spacing\" textLength=\"64.6133\" x=\"300.6323\" y=\"291.9561\">Webpack</text><rect fill=\"#E2E2F0\" height=\"30.2969\" rx=\"2.5\" ry=\"2.5\" style=\"stroke:#181818;stroke-width:0.5;\" width=\"49.5264\" x=\"495.2954\" y=\"50\"/><text fill=\"#000000\" font-family=\"sans-serif\" font-size=\"14\" lengthAdjust=\"spacing\" textLength=\"35.5264\" x=\"502.2954\" y=\"69.9951\">Dash</text><rect fill=\"#E2E2F0\" height=\"30.2969\" rx=\"2.5\" ry=\"2.5\" style=\"stroke:#181818;stroke-width:0.5;\" width=\"49.5264\" x=\"495.2954\" y=\"271.9609\"/><text fill=\"#000000\" font-family=\"sans-serif\" font-size=\"14\" lengthAdjust=\"spacing\" textLength=\"35.5264\" x=\"502.2954\" y=\"291.9561\">Dash</text><polygon fill=\"#181818\" points=\"189.9111,108.4297,199.9111,112.4297,189.9111,116.4297,193.9111,112.4297\" style=\"stroke:#181818;stroke-width:1.0;\"/><line style=\"stroke:#181818;stroke-width:1.0;\" x1=\"23.9551\" x2=\"195.9111\" y1=\"112.4297\" y2=\"112.4297\"/><text fill=\"#000000\" font-family=\"sans-serif\" font-size=\"13\" lengthAdjust=\"spacing\" textLength=\"153.9561\" x=\"30.9551\" y=\"107.3638\">Write React component</text><polygon fill=\"#181818\" points=\"320.939,137.5625,330.939,141.5625,320.939,145.5625,324.939,141.5625\" style=\"stroke:#181818;stroke-width:1.0;\"/><line style=\"stroke:#181818;stroke-width:1.0;\" x1=\"201.9111\" x2=\"326.939\" y1=\"141.5625\" y2=\"141.5625\"/><text fill=\"#000000\" font-family=\"sans-serif\" font-size=\"13\" lengthAdjust=\"spacing\" textLength=\"107.0278\" x=\"208.9111\" y=\"136.4966\">Pass component</text><line style=\"stroke:#181818;stroke-width:1.0;\" x1=\"332.939\" x2=\"374.939\" y1=\"170.6953\" y2=\"170.6953\"/><line style=\"stroke:#181818;stroke-width:1.0;\" x1=\"374.939\" x2=\"374.939\" y1=\"170.6953\" y2=\"183.6953\"/><line style=\"stroke:#181818;stroke-width:1.0;\" x1=\"333.939\" x2=\"374.939\" y1=\"183.6953\" y2=\"183.6953\"/><polygon fill=\"#181818\" points=\"343.939,179.6953,333.939,183.6953,343.939,187.6953,339.939,183.6953\" style=\"stroke:#181818;stroke-width:1.0;\"/><text fill=\"#000000\" font-family=\"sans-serif\" font-size=\"13\" lengthAdjust=\"spacing\" textLength=\"173.1196\" x=\"339.939\" y=\"165.6294\">Bundle into UMD format JS</text><polygon fill=\"#181818\" points=\"508.0586,208.8281,518.0586,212.8281,508.0586,216.8281,512.0586,212.8281\" style=\"stroke:#181818;stroke-width:1.0;\"/><line style=\"stroke:#181818;stroke-width:1.0;\" x1=\"332.939\" x2=\"514.0586\" y1=\"212.8281\" y2=\"212.8281\"/><text fill=\"#000000\" font-family=\"sans-serif\" font-size=\"13\" lengthAdjust=\"spacing\" textLength=\"154.832\" x=\"339.939\" y=\"207.7622\">Generate UMD package</text><line style=\"stroke:#181818;stroke-width:1.0;\" x1=\"520.0586\" x2=\"562.0586\" y1=\"241.9609\" y2=\"241.9609\"/><line style=\"stroke:#181818;stroke-width:1.0;\" x1=\"562.0586\" x2=\"562.0586\" y1=\"241.9609\" y2=\"254.9609\"/><line style=\"stroke:#181818;stroke-width:1.0;\" x1=\"521.0586\" x2=\"562.0586\" y1=\"254.9609\" y2=\"254.9609\"/><polygon fill=\"#181818\" points=\"531.0586,250.9609,521.0586,254.9609,531.0586,258.9609,527.0586,254.9609\" style=\"stroke:#181818;stroke-width:1.0;\"/><text fill=\"#000000\" font-family=\"sans-serif\" font-size=\"13\" lengthAdjust=\"spacing\" textLength=\"362.7305\" x=\"527.0586\" y=\"236.895\">Create Python, Julia, etc. backend component wrappers</text><!--SRC=[LSv12i9030NG_PpY7w1wW2vSQ44e24KfNQVJQ8ljp9194MzlXmhMJU0dBoHarGlgo69CgjWTS6MocgEHGNaDi7uAth5Ji-P5DTm6iiyS5SMu0T_-7pdEhXiPWrEF-bBWxcKYHNdRwe9Yd-FCZeMMmycb4JtOfD6Fd8GJgDxQUvUXdCU1Ch3QFTfbWLttUmSleH1OuWS0]--></g></svg>"
      ],
      "text/plain": [
       "<IPython.core.display.SVG object>"
      ]
     },
     "execution_count": 12,
     "metadata": {},
     "output_type": "execute_result"
    }
   ],
   "source": [
    "%%plantuml\n",
    "\n",
    "@startuml\n",
    "actor User\n",
    "\n",
    "User -> React: Write React component\n",
    "React -> Webpack: Pass component\n",
    "Webpack -> Webpack: Bundle into UMD format JS\n",
    "Webpack -> Dash: Generate UMD package\n",
    "Dash -> Dash: Create Python, Julia, etc. backend component wrappers\n",
    "\n",
    "@enduml"
   ]
  }
 ],
 "metadata": {
  "kernelspec": {
   "display_name": "Python 3",
   "language": "python",
   "name": "python3"
  },
  "language_info": {
   "codemirror_mode": {
    "name": "ipython",
    "version": 3
   },
   "file_extension": ".py",
   "mimetype": "text/x-python",
   "name": "python",
   "nbconvert_exporter": "python",
   "pygments_lexer": "ipython3",
   "version": "3.12.0"
  }
 },
 "nbformat": 4,
 "nbformat_minor": 2
}
