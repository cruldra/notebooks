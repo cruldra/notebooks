{
 "cells": [
  {
   "cell_type": "markdown",
   "metadata": {},
   "source": [
    "# 简介\n",
    "\n",
    "[TinyDB](https://tinydb.readthedocs.io/en/latest/index.html)是一个小型嵌入式数据库,它将数据存储在`json`文件中并提供类似`sql`的语法来存取数据.\n",
    "\n",
    "\n",
    "# 安装\n",
    "\n",
    "```bash\n",
    "pip install tinydb\n",
    "```"
   ]
  },
  {
   "cell_type": "markdown",
   "metadata": {},
   "source": [
    "# 使用\n",
    "\n",
    "## 创建或打开数据库"
   ]
  },
  {
   "cell_type": "code",
   "execution_count": 2,
   "metadata": {},
   "outputs": [
    {
     "name": "stdout",
     "output_type": "stream",
     "text": [
      "[{'name': 'John', 'age': 30, 'email': 'john@example.com'}, {'name': 'Alice', 'age': 25, 'email': 'alice@example.com'}, {'name': 'Bob', 'age': 30, 'email': 'bob@example.com'}, {'name': 'Charlie', 'age': 35, 'email': 'charlie@example.com'}]\n"
     ]
    }
   ],
   "source": [
    "from tinydb import TinyDB, Query\n",
    "\n",
    "db = TinyDB('db.json')\n",
    "\n",
    "print(db.all())"
   ]
  },
  {
   "cell_type": "markdown",
   "metadata": {},
   "source": [
    "## 插入数据"
   ]
  },
  {
   "cell_type": "code",
   "execution_count": 9,
   "metadata": {},
   "outputs": [
    {
     "name": "stdout",
     "output_type": "stream",
     "text": [
      "[{'name': 'John', 'age': 30, 'email': 'john@example.com'}]\n"
     ]
    }
   ],
   "source": [
    "\n",
    "from pydantic import BaseModel\n",
    "\n",
    "\n",
    "class User(BaseModel):\n",
    "\n",
    "    name: str\n",
    "    age: int\n",
    "    email: str\n",
    "\n",
    "\n",
    "# Insert a new user into the database\n",
    "user = User(name='John', age=30, email='john@example.com')\n",
    "db.insert(user.model_dump())\n",
    "\n",
    "# Print all the data in the database\n",
    "print(db.all())"
   ]
  },
  {
   "cell_type": "markdown",
   "metadata": {},
   "source": [
    "### 批量插入"
   ]
  },
  {
   "cell_type": "code",
   "execution_count": 10,
   "metadata": {},
   "outputs": [
    {
     "name": "stdout",
     "output_type": "stream",
     "text": [
      "[{'name': 'John', 'age': 30, 'email': 'john@example.com'}, {'name': 'Alice', 'age': 25, 'email': 'alice@example.com'}, {'name': 'Bob', 'age': 30, 'email': 'bob@example.com'}, {'name': 'Charlie', 'age': 35, 'email': 'charlie@example.com'}]\n"
     ]
    }
   ],
   "source": [
    "# 定义要插入的多个用户\n",
    "users = [\n",
    "    User(name='Alice', age=25, email='alice@example.com'),\n",
    "    User(name='Bob', age=30, email='bob@example.com'),\n",
    "    User(name='Charlie', age=35, email='charlie@example.com')\n",
    "]\n",
    "\n",
    "# 批量插入用户数据\n",
    "db.insert_multiple([user.model_dump() for user in users])\n",
    "\n",
    "# 打印数据库中的所有数据\n",
    "print(db.all())"
   ]
  },
  {
   "cell_type": "markdown",
   "metadata": {},
   "source": [
    "## 查询数据"
   ]
  },
  {
   "cell_type": "code",
   "execution_count": 5,
   "metadata": {},
   "outputs": [
    {
     "name": "stdout",
     "output_type": "stream",
     "text": [
      "[{'name': 'John', 'age': 30, 'email': 'john@example.com'}]\n"
     ]
    }
   ],
   "source": [
    "# Define a query\n",
    "User = Query()\n",
    "query_result = db.search(User.name == 'John')\n",
    "\n",
    "# Print the query result\n",
    "print(query_result)"
   ]
  },
  {
   "cell_type": "markdown",
   "metadata": {},
   "source": [
    "### 根据单个结果\n",
    "\n",
    "有时候我们只需要查询一条数据,可以使用`get`方法,如果查询不到数据,则返回`None`."
   ]
  },
  {
   "cell_type": "code",
   "execution_count": 3,
   "metadata": {},
   "outputs": [
    {
     "name": "stdout",
     "output_type": "stream",
     "text": [
      "{'name': 'John', 'age': 30, 'email': 'john@example.com'}\n"
     ]
    },
    {
     "ename": "",
     "evalue": "",
     "output_type": "error",
     "traceback": [
      "\u001b[1;31m在当前单元格或上一个单元格中执行代码时 Kernel 崩溃。\n",
      "\u001b[1;31m请查看单元格中的代码，以确定故障的可能原因。\n",
      "\u001b[1;31m单击<a href='https://aka.ms/vscodeJupyterKernelCrash'>此处</a>了解详细信息。\n",
      "\u001b[1;31m有关更多详细信息，请查看 Jupyter <a href='command:jupyter.viewOutput'>log</a>。"
     ]
    }
   ],
   "source": [
    "# Define a query\n",
    "User = Query()\n",
    "query_result = db.get(User.name == 'John')\n",
    "\n",
    "# Print the query result\n",
    "print(query_result)"
   ]
  },
  {
   "cell_type": "markdown",
   "metadata": {},
   "source": [
    "## 更新数据"
   ]
  },
  {
   "cell_type": "code",
   "execution_count": 6,
   "metadata": {},
   "outputs": [
    {
     "name": "stdout",
     "output_type": "stream",
     "text": [
      "[{'name': 'John', 'age': 35, 'email': 'john@example.com'}]\n"
     ]
    }
   ],
   "source": [
    "# Update the age of the user\n",
    "user.age = 35\n",
    "db.update(user.model_dump(), User.name == 'John')\n",
    "\n",
    "# Print the updated data in the database\n",
    "print(db.all())"
   ]
  },
  {
   "cell_type": "markdown",
   "metadata": {},
   "source": [
    "## 删除数据"
   ]
  },
  {
   "cell_type": "code",
   "execution_count": 7,
   "metadata": {},
   "outputs": [
    {
     "name": "stdout",
     "output_type": "stream",
     "text": [
      "[]\n"
     ]
    }
   ],
   "source": [
    "# Delete the user with name 'John' from the database\n",
    "db.remove(User.name == 'John')\n",
    "\n",
    "# Print the updated data in the database\n",
    "print(db.all())"
   ]
  }
 ],
 "metadata": {
  "kernelspec": {
   "display_name": ".venv",
   "language": "python",
   "name": "python3"
  },
  "language_info": {
   "codemirror_mode": {
    "name": "ipython",
    "version": 3
   },
   "file_extension": ".py",
   "mimetype": "text/x-python",
   "name": "python",
   "nbconvert_exporter": "python",
   "pygments_lexer": "ipython3",
   "version": "3.12.0"
  }
 },
 "nbformat": 4,
 "nbformat_minor": 2
}
