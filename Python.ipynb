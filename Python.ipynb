{
 "cells": [
  {
   "cell_type": "markdown",
   "id": "3e12fc15",
   "metadata": {},
   "source": [
    "**Table of contents**<a id='toc0_'></a>    \n",
    "- [数据类型](#toc1_)    \n",
    "  - [列表(List)](#toc1_1_)    \n",
    "    - [more-itertools](#toc1_1_1_)    \n",
    "      - [安装](#toc1_1_1_1_)    \n",
    "      - [示例1:`flatten`](#toc1_1_1_2_)    \n",
    "      - [示例2:`chunked`](#toc1_1_1_3_)    \n",
    "  - [字典(Dictionary)](#toc1_2_)    \n",
    "    - [addict](#toc1_2_1_)    \n",
    "      - [安装](#toc1_2_1_1_)    \n",
    "      - [创建字典](#toc1_2_1_2_)    \n",
    "      - [通过属性读写值](#toc1_2_1_3_)    \n",
    "- [关键字](#toc2_)    \n",
    "  - [`with`](#toc2_1_)    \n",
    "    - [一个简单的例子](#toc2_1_1_)    \n",
    "    - [自定义上下文管理器](#toc2_1_2_)    \n",
    "- [模块化](#toc3_)    \n",
    "  - [`__init__.py`](#toc3_1_)    \n",
    "    - [验证`__init__.py`只会在包第一次被导入时执行](#toc3_1_1_)    \n",
    "  - [热插拔](#toc3_2_)    \n",
    "- [内置模块-`uuid`](#toc4_)    \n",
    "  - [`shortuuid`](#toc4_1_)    \n",
    "    - [安装](#toc4_1_1_)    \n",
    "    - [示例](#toc4_1_2_)    \n",
    "- [装饰器(Decorators)](#toc5_)    \n",
    "  - [一个简单的例子](#toc5_1_)    \n",
    "  - [多个装饰器](#toc5_2_)    \n",
    "  - [装饰器参数](#toc5_3_)    \n",
    "  - [`wrapt`](#toc5_4_)    \n",
    "    - [实现`my_decorator`的功能](#toc5_4_1_)    \n",
    "    - [多个装饰器](#toc5_4_2_)    \n",
    "    - [装饰器参数](#toc5_4_3_)    \n",
    "- [依赖管理](#toc6_)    \n",
    "  - [pipreqs](#toc6_1_)    \n",
    "\n",
    "<!-- vscode-jupyter-toc-config\n",
    "\tnumbering=false\n",
    "\tanchor=true\n",
    "\tflat=false\n",
    "\tminLevel=1\n",
    "\tmaxLevel=6\n",
    "\t/vscode-jupyter-toc-config -->\n",
    "<!-- THIS CELL WILL BE REPLACED ON TOC UPDATE. DO NOT WRITE YOUR TEXT IN THIS CELL -->"
   ]
  },
  {
   "cell_type": "markdown",
   "id": "350e296b",
   "metadata": {},
   "source": [
    "# <a id='toc1_'></a>[数据类型](#toc0_)"
   ]
  },
  {
   "cell_type": "markdown",
   "id": "e4e7485a",
   "metadata": {},
   "source": [
    "## <a id='toc1_1_'></a>[列表(List)](#toc0_)\n"
   ]
  },
  {
   "cell_type": "markdown",
   "id": "18c83feb",
   "metadata": {},
   "source": [
    "### <a id='toc1_1_1_'></a>[more-itertools](#toc0_)\n",
    "\n",
    "[more-itertools](https://pypi.org/project/more-itertools/)扩展了`Python`标准库的[itertools](https://docs.python.org/zh-cn/3/library/itertools.html)模块,提供了[更多](https://poe.com/s/8Ethyx0xwr9kejoize6g)有用的迭代器函数."
   ]
  },
  {
   "cell_type": "markdown",
   "id": "3398f1ec",
   "metadata": {},
   "source": [
    "#### <a id='toc1_1_1_1_'></a>[安装](#toc0_)\n"
   ]
  },
  {
   "cell_type": "code",
   "execution_count": 11,
   "id": "c579daac",
   "metadata": {},
   "outputs": [
    {
     "name": "stdout",
     "output_type": "stream",
     "text": [
      "Collecting more-itertools\n",
      "  Using cached more_itertools-10.4.0-py3-none-any.whl.metadata (36 kB)\n",
      "Using cached more_itertools-10.4.0-py3-none-any.whl (60 kB)\n",
      "Installing collected packages: more-itertools\n",
      "Successfully installed more-itertools-10.4.0\n"
     ]
    }
   ],
   "source": [
    "! pip install more-itertools"
   ]
  },
  {
   "cell_type": "markdown",
   "id": "1b2af638",
   "metadata": {},
   "source": [
    "#### <a id='toc1_1_1_2_'></a>[示例1:`flatten`](#toc0_)\n",
    "\n",
    "`flatten`函数将嵌套的列表展平."
   ]
  },
  {
   "cell_type": "code",
   "execution_count": 12,
   "id": "cdf9325b",
   "metadata": {},
   "outputs": [
    {
     "name": "stdout",
     "output_type": "stream",
     "text": [
      "[0, 1, 2, 3]\n"
     ]
    }
   ],
   "source": [
    "from more_itertools import flatten\n",
    "iterable = [(0, 1), (2, 3)]\n",
    "print(list(flatten(iterable)))"
   ]
  },
  {
   "cell_type": "markdown",
   "id": "15ef0cd0",
   "metadata": {},
   "source": [
    "#### <a id='toc1_1_1_3_'></a>[示例2:`chunked`](#toc0_)\n",
    "\n",
    "`chunked`函数将一个可迭代对象分成指定大小的块."
   ]
  },
  {
   "cell_type": "code",
   "execution_count": 13,
   "id": "73332198",
   "metadata": {},
   "outputs": [
    {
     "name": "stdout",
     "output_type": "stream",
     "text": [
      "[[0, 1], [2, 3], [4, 5]]\n"
     ]
    }
   ],
   "source": [
    "from more_itertools import chunked\n",
    "\n",
    "iterable = [0, 1, 2, 3, 4, 5]\n",
    "print(list(chunked(iterable, 2)))"
   ]
  },
  {
   "cell_type": "markdown",
   "id": "2f89b996",
   "metadata": {},
   "source": [
    "## <a id='toc1_2_'></a>[字典(Dictionary)](#toc0_)"
   ]
  },
  {
   "cell_type": "markdown",
   "id": "da4d1250",
   "metadata": {},
   "source": [
    "### <a id='toc1_2_1_'></a>[addict](#toc0_)\n",
    "\n",
    "[addict](https://github.com/mewwts/addict)扩展了原生的字典, 使其支持通过属性访问字典的键值对.\n"
   ]
  },
  {
   "cell_type": "markdown",
   "id": "e005384a",
   "metadata": {},
   "source": [
    "#### <a id='toc1_2_1_1_'></a>[安装](#toc0_)\n"
   ]
  },
  {
   "cell_type": "code",
   "execution_count": 8,
   "id": "64270b1a",
   "metadata": {},
   "outputs": [
    {
     "name": "stdout",
     "output_type": "stream",
     "text": [
      "Requirement already satisfied: addict in e:\\appdata\\conda\\envs\\jupyter-notebook\\lib\\site-packages (2.4.0)\n"
     ]
    }
   ],
   "source": [
    "! pip install addict"
   ]
  },
  {
   "cell_type": "markdown",
   "id": "509cb580",
   "metadata": {},
   "source": [
    "#### <a id='toc1_2_1_2_'></a>[创建字典](#toc0_)"
   ]
  },
  {
   "cell_type": "code",
   "execution_count": 9,
   "id": "369d1fa8",
   "metadata": {},
   "outputs": [
    {
     "name": "stdout",
     "output_type": "stream",
     "text": [
      "{'query': {'filtered': {'query': {'match': {'description': 'addictive'}}, 'filter': {'term': {'created_by': 'Mats'}}}}}\n"
     ]
    }
   ],
   "source": [
    "from addict import Dict\n",
    "body = Dict()\n",
    "# 自动创建嵌套字典\n",
    "body.query.filtered.query.match.description = 'addictive'\n",
    "body.query.filtered.filter.term.created_by = 'Mats'\n",
    "print(body)"
   ]
  },
  {
   "cell_type": "markdown",
   "id": "302307fe",
   "metadata": {},
   "source": [
    "#### <a id='toc1_2_1_3_'></a>[通过属性读写值](#toc0_)\n"
   ]
  },
  {
   "cell_type": "code",
   "execution_count": 10,
   "id": "cbaf41a2",
   "metadata": {},
   "outputs": [
    {
     "name": "stdout",
     "output_type": "stream",
     "text": [
      "value\n",
      "another value\n"
     ]
    }
   ],
   "source": [
    "addict_dict = Dict()\n",
    "addict_dict.key = 'value'  # 通过属性设置值\n",
    "print(addict_dict.key)  # 通过属性访问值\n",
    "\n",
    "# 仍然可以使用标准字典语法\n",
    "addict_dict['another_key'] = 'another value'\n",
    "print(addict_dict['another_key'])"
   ]
  },
  {
   "cell_type": "markdown",
   "id": "63134d2e",
   "metadata": {},
   "source": [
    "# <a id='toc2_'></a>[关键字](#toc0_)"
   ]
  },
  {
   "cell_type": "markdown",
   "id": "b3bb7779",
   "metadata": {},
   "source": [
    "## <a id='toc2_1_'></a>[`with`](#toc0_)\n",
    "\n",
    "`with`关键字用于简化资源管理,类似`java`中的`try-with-resources`语句,确保在资源使用完成后能够自动执行清理代码,例如关闭文件、释放数据库连接等.\n",
    "\n",
    "**语法**:\n",
    "\n",
    "```python\n",
    "with expression:ContextManager [as variable]:\n",
    "    #with-block\n",
    "```\n",
    "\n",
    "**上下文管理器(Context Manager)**:\n",
    "\n",
    "`上下文管理器`是一个实现了`__enter__`和`__exit__`方法的对象,这两个方法分别定义了进入和退出上下文时的行为"
   ]
  },
  {
   "cell_type": "markdown",
   "id": "7af8cc8c",
   "metadata": {},
   "source": [
    "### <a id='toc2_1_1_'></a>[一个简单的例子](#toc0_)"
   ]
  },
  {
   "cell_type": "code",
   "execution_count": null,
   "id": "c11a68d3",
   "metadata": {},
   "outputs": [],
   "source": [
    "with open('example.txt', 'r') as file:\n",
    "    content = file.read()\n",
    "    print(content)"
   ]
  },
  {
   "cell_type": "markdown",
   "id": "2fe0c790",
   "metadata": {},
   "source": [
    "### <a id='toc2_1_2_'></a>[自定义上下文管理器](#toc0_)"
   ]
  },
  {
   "cell_type": "code",
   "execution_count": null,
   "id": "79db008e",
   "metadata": {},
   "outputs": [],
   "source": [
    "class MyContextManager:\n",
    "    def __enter__(self):\n",
    "        print(\"Entering the context\")\n",
    "        return self\n",
    "\n",
    "    def __exit__(self, exc_type, exc_value, traceback):\n",
    "        print(\"Exiting the context\")\n",
    "\n",
    "# 使用自定义上下文管理器\n",
    "with MyContextManager():\n",
    "    print(\"Inside the context\")"
   ]
  },
  {
   "cell_type": "markdown",
   "id": "864fcb89",
   "metadata": {},
   "source": [
    "# <a id='toc3_'></a>[模块化](#toc0_)"
   ]
  },
  {
   "cell_type": "markdown",
   "id": "aaebd0da",
   "metadata": {},
   "source": [
    "## <a id='toc3_1_'></a>[`__init__.py`](#toc0_)\n",
    "\n",
    "\n",
    "`__init__.py`文件用于以下目的:\n",
    "\n",
    "1. **标识目录为Python的包** - 在`3.3`版本之前, Python只会将包含`__init__.py`文件的目录视为包, 从`3.3`版本开始, Python会将所有目录视为包, 但是为了向后兼容, 通常还是会在目录中包含`__init__.py`文件\n",
    "2. **初始化包** - `__init__.py`文件可以包含包的初始化代码, 当包**第一次被导入**时, `__init__.py`文件会被自动执行,可以在这个文件中初始化包的模块、设置包级别的变量、导入子模块或子包"
   ]
  },
  {
   "cell_type": "markdown",
   "id": "bcf9dd95",
   "metadata": {},
   "source": [
    "### <a id='toc3_1_1_'></a>[验证`__init__.py`只会在包第一次被导入时执行](#toc0_)\n",
    "\n",
    "下面这个例子,第一次运行会输出:\n",
    "\n",
    "```text\n",
    "__init__.py is running\n",
    "```\n",
    "\n",
    "第二次就不会输出了,说明`__init__.py`只会在包第一次被导入时执行"
   ]
  },
  {
   "cell_type": "code",
   "execution_count": null,
   "id": "5419ebd2",
   "metadata": {},
   "outputs": [],
   "source": [
    "import  test_package\n",
    "\n",
    "print(test_package.__version__)"
   ]
  },
  {
   "cell_type": "code",
   "execution_count": null,
   "id": "5f549eae",
   "metadata": {},
   "outputs": [],
   "source": [
    "import test_package\n",
    "\n",
    "# 调用包级别的函数\n",
    "test_package.package_function()\n",
    "\n",
    "# 调用子模块的函数\n",
    "test_package.function1()\n",
    "test_package.function2()\n",
    "\n",
    "# 使用 * 导入\n",
    "from test_package import *\n",
    "function1()\n",
    "function2()\n",
    "package_function()"
   ]
  },
  {
   "cell_type": "markdown",
   "id": "37b4093b",
   "metadata": {},
   "source": [
    "## <a id='toc3_2_'></a>[热插拔](#toc0_)\n",
    "\n",
    "[pluginbase](https://github.com/mitsuhiko/pluginbase)这个库用于在`Python`中实现插件系统."
   ]
  },
  {
   "cell_type": "markdown",
   "id": "7a18a156",
   "metadata": {},
   "source": [
    "# <a id='toc4_'></a>[内置模块-`uuid`](#toc0_)"
   ]
  },
  {
   "cell_type": "markdown",
   "id": "aa720465",
   "metadata": {},
   "source": [
    "## <a id='toc4_1_'></a>[`shortuuid`](#toc0_)\n",
    "\n",
    "[shortuuid](https://pypi.org/project/shortuuid/)用于简洁、明确、URL 安全的 UUID."
   ]
  },
  {
   "cell_type": "markdown",
   "id": "d1ac8062",
   "metadata": {},
   "source": [
    "### <a id='toc4_1_1_'></a>[安装](#toc0_)"
   ]
  },
  {
   "cell_type": "code",
   "execution_count": 14,
   "id": "c5f73c71",
   "metadata": {},
   "outputs": [
    {
     "name": "stdout",
     "output_type": "stream",
     "text": [
      "Collecting shortuuid\n",
      "  Downloading shortuuid-1.0.13-py3-none-any.whl.metadata (5.8 kB)\n",
      "Downloading shortuuid-1.0.13-py3-none-any.whl (10 kB)\n",
      "Installing collected packages: shortuuid\n",
      "Successfully installed shortuuid-1.0.13\n"
     ]
    }
   ],
   "source": [
    "! pip install shortuuid"
   ]
  },
  {
   "cell_type": "markdown",
   "id": "6f0df4f7",
   "metadata": {},
   "source": [
    "### <a id='toc4_1_2_'></a>[示例](#toc0_)"
   ]
  },
  {
   "cell_type": "code",
   "execution_count": 15,
   "id": "944e7e25",
   "metadata": {},
   "outputs": [
    {
     "name": "stdout",
     "output_type": "stream",
     "text": [
      "JuoB7jVRM8j7WEss4V2vFZ\n"
     ]
    }
   ],
   "source": [
    "import shortuuid\n",
    "print(shortuuid.uuid())"
   ]
  },
  {
   "cell_type": "markdown",
   "id": "7ca5e77b",
   "metadata": {},
   "source": [
    "# <a id='toc5_'></a>[装饰器(Decorators)](#toc0_)\n",
    "\n",
    "装饰器是Python的一个强大特性,它可以让函数或类在不修改原有代码的情况下增加新的功能,装饰器本质上是一个函数,它接受一个函数作为参数,并返回一个新的函数."
   ]
  },
  {
   "cell_type": "markdown",
   "id": "d6dec40a",
   "metadata": {},
   "source": [
    "## <a id='toc5_1_'></a>[一个简单的例子](#toc0_)\n",
    "\n",
    "下面这个例子定义了一个装饰器`my_decorator`,它接受一个函数作为参数,并返回一个新的函数,这个新的函数在调用原函数之前会输出`start`,在调用原函数之后会输出`end`"
   ]
  },
  {
   "cell_type": "code",
   "execution_count": null,
   "id": "39065338",
   "metadata": {},
   "outputs": [],
   "source": [
    "def my_decorator(func):\n",
    "    def wrapper(*args, **kwargs):\n",
    "        print(\"Start\")\n",
    "        result = func(*args, **kwargs)\n",
    "        print(\"End\")\n",
    "        return result\n",
    "    return wrapper\n",
    "\n",
    "@my_decorator\n",
    "def add(a, b):\n",
    "    print(\"Add\")\n",
    "    return a + b\n",
    "\n",
    "print(add(1, 2))\n",
    "# 上面的代码本质上是\n",
    "# add = my_decorator(add)"
   ]
  },
  {
   "cell_type": "markdown",
   "id": "8e0499da",
   "metadata": {},
   "source": [
    "## <a id='toc5_2_'></a>[多个装饰器](#toc0_)\n",
    "\n",
    "一个函数可以同时被多个装饰器装饰,装饰器的执行顺序是从下往上,即最后一个装饰器最先执行"
   ]
  },
  {
   "cell_type": "markdown",
   "id": "0f50b97e",
   "metadata": {},
   "source": [
    "## <a id='toc5_3_'></a>[装饰器参数](#toc0_)\n",
    "\n",
    "装饰器也可以接受参数,下面这个例子中的`repeat`装饰器,它接受一个参数`n`,表示重复调用原函数`n`次"
   ]
  },
  {
   "cell_type": "code",
   "execution_count": null,
   "id": "23912d82",
   "metadata": {},
   "outputs": [],
   "source": [
    "def repeat(n):\n",
    "    def decorator(func):\n",
    "        def wrapper(*args, **kwargs):\n",
    "            for _ in range(n):\n",
    "                result = func(*args, **kwargs)\n",
    "            return result\n",
    "        return wrapper\n",
    "    return decorator\n",
    "\n",
    "@repeat(3)\n",
    "def greet(name):\n",
    "    print(f\"Hello, {name}!\")\n",
    "\n",
    "greet(\"Alice\")\n",
    "# 上面的代码本质上是\n",
    "# greet = repeat(3)(greet)"
   ]
  },
  {
   "cell_type": "code",
   "execution_count": null,
   "id": "554df1df",
   "metadata": {},
   "outputs": [],
   "source": [
    "def decorator1(func):\n",
    "    def wrapper(*args, **kwargs):\n",
    "        print(\"Decorator 1\")\n",
    "        return func(*args, **kwargs)\n",
    "    return wrapper\n",
    "\n",
    "def decorator2(func):\n",
    "    def wrapper(*args, **kwargs):\n",
    "        print(\"Decorator 2\")\n",
    "        return func(*args, **kwargs)\n",
    "    return wrapper\n",
    "\n",
    "@decorator1\n",
    "@decorator2\n",
    "def my_function():\n",
    "    print(\"Inside the function\")\n",
    "\n",
    "my_function()\n",
    "# 上面的代码本质上是\n",
    "# my_function = decorator1(decorator2(my_function))"
   ]
  },
  {
   "cell_type": "markdown",
   "id": "d5e6a591",
   "metadata": {},
   "source": [
    "## <a id='toc5_4_'></a>[`wrapt`](#toc0_)\n",
    "\n",
    "[wrapt](https://wrapt.readthedocs.io/en/master/)是一个简化装饰器编写的库,它提供了`FunctionWrapper`和`ObjectProxy`两个类,可以用来编写更加复杂的装饰器\n"
   ]
  },
  {
   "cell_type": "markdown",
   "id": "c8d25d14",
   "metadata": {},
   "source": [
    "### <a id='toc5_4_1_'></a>[实现`my_decorator`的功能](#toc0_)\n",
    "\n",
    "下面这个例子使用`wrapt`库实现了上面提到的`my_decorator`的功能"
   ]
  },
  {
   "cell_type": "code",
   "execution_count": null,
   "id": "619f5f4f",
   "metadata": {},
   "outputs": [],
   "source": [
    "import wrapt\n",
    "@wrapt.decorator\n",
    "def my_decorator(wrapped, instance, args, kwargs):\n",
    "    print(\"Start\")\n",
    "    result = wrapped(*args, **kwargs)\n",
    "    print(\"End\")\n",
    "    return result\n",
    "\n",
    "@my_decorator\n",
    "def add(a, b):\n",
    "    print(\"Add\")\n",
    "    return a + b\n",
    "\n",
    "print(add(1, 2))"
   ]
  },
  {
   "cell_type": "markdown",
   "id": "424acf0e",
   "metadata": {},
   "source": [
    "### <a id='toc5_4_2_'></a>[多个装饰器](#toc0_)\n",
    "\n",
    "下面这个例子用`wrapt`重现了上面的`decorator1`和`decorator2`的功能"
   ]
  },
  {
   "cell_type": "code",
   "execution_count": null,
   "id": "5c5be422",
   "metadata": {},
   "outputs": [],
   "source": [
    "import wrapt\n",
    "\n",
    "@wrapt.decorator\n",
    "def decorator1(wrapped, instance, args, kwargs):\n",
    "    print(\"Decorator 1\")\n",
    "    return wrapped(*args, **kwargs)\n",
    "\n",
    "@wrapt.decorator\n",
    "def decorator2(wrapped, instance, args, kwargs):\n",
    "    print(\"Decorator 2\")\n",
    "    return wrapped(*args, **kwargs)\n",
    "\n",
    "@decorator1\n",
    "@decorator2\n",
    "def my_function():\n",
    "    print(\"Inside the function\")\n",
    "\n",
    "my_function()"
   ]
  },
  {
   "cell_type": "markdown",
   "id": "f48bc7a6",
   "metadata": {},
   "source": [
    "### <a id='toc5_4_3_'></a>[装饰器参数](#toc0_)\n",
    "\n",
    "下面这个例子用`wrapt`实现了上面的`repeat`装饰器"
   ]
  },
  {
   "cell_type": "code",
   "execution_count": null,
   "id": "8307a883",
   "metadata": {},
   "outputs": [],
   "source": [
    "import wrapt\n",
    "\n",
    "def repeat(n):\n",
    "    @wrapt.decorator\n",
    "    def decorator(wrapped, instance, args, kwargs):\n",
    "        print(f\"Repeat {n} times\")\n",
    "        for _ in range(n):\n",
    "            result = wrapped(*args, **kwargs)\n",
    "        return result\n",
    "    return decorator\n",
    "\n",
    "@repeat(3)\n",
    "def greet(name):\n",
    "    print(f\"Hello, {name}!\")\n",
    "\n",
    "greet(\"Alice\")"
   ]
  },
  {
   "cell_type": "markdown",
   "id": "84a479c4",
   "metadata": {},
   "source": [
    "# <a id='toc6_'></a>[依赖管理](#toc0_)"
   ]
  },
  {
   "cell_type": "markdown",
   "id": "beff3a01",
   "metadata": {},
   "source": [
    "\n",
    "## <a id='toc6_1_'></a>[pipreqs](#toc0_)\n",
    "\n",
    "使用[pipreqs](https://pypi.org/project/pipreqs/)来自动生成`requirements.txt`文件\n",
    "\n",
    "```bash\n",
    "\n",
    "pip install pipreqs\n",
    "\n",
    "pipreqs --force --ignore wslvenv,.venv .\n",
    "    \n",
    "```"
   ]
  }
 ],
 "metadata": {
  "kernelspec": {
   "display_name": "jupyter-notebook",
   "language": "python",
   "name": "python3"
  },
  "language_info": {
   "codemirror_mode": {
    "name": "ipython",
    "version": 3
   },
   "file_extension": ".py",
   "mimetype": "text/x-python",
   "name": "python",
   "nbconvert_exporter": "python",
   "pygments_lexer": "ipython3",
   "version": "3.12.4"
  },
  "polyglot_notebook": {
   "kernelInfo": {
    "defaultKernelName": "csharp",
    "items": [
     {
      "aliases": [],
      "name": "csharp"
     }
    ]
   }
  }
 },
 "nbformat": 4,
 "nbformat_minor": 5
}
