{
 "cells": [
  {
   "cell_type": "markdown",
   "metadata": {},
   "source": [
    "# 数据类型"
   ]
  },
  {
   "cell_type": "markdown",
   "id": "0504d632",
   "metadata": {},
   "source": [
    "## 列表(List)\n"
   ]
  },
  {
   "cell_type": "markdown",
   "id": "334f13e0",
   "metadata": {},
   "source": [
    "### more-itertools\n",
    "\n",
    "[more-itertools](https://pypi.org/project/more-itertools/)扩展了`Python`标准库的[itertools](https://docs.python.org/zh-cn/3/library/itertools.html)模块,提供了[更多](https://poe.com/s/8Ethyx0xwr9kejoize6g)有用的迭代器函数."
   ]
  },
  {
   "cell_type": "markdown",
   "id": "8286f99c",
   "metadata": {},
   "source": [
    "#### 安装\n"
   ]
  },
  {
   "cell_type": "code",
   "execution_count": 11,
   "id": "02958c35",
   "metadata": {},
   "outputs": [
    {
     "name": "stdout",
     "output_type": "stream",
     "text": [
      "Collecting more-itertools\n",
      "  Using cached more_itertools-10.4.0-py3-none-any.whl.metadata (36 kB)\n",
      "Using cached more_itertools-10.4.0-py3-none-any.whl (60 kB)\n",
      "Installing collected packages: more-itertools\n",
      "Successfully installed more-itertools-10.4.0\n"
     ]
    }
   ],
   "source": [
    "! pip install more-itertools"
   ]
  },
  {
   "cell_type": "markdown",
   "metadata": {},
   "source": [
    "#### 示例1:`flatten`\n",
    "\n",
    "`flatten`函数将嵌套的列表展平."
   ]
  },
  {
   "cell_type": "code",
   "execution_count": 12,
   "id": "55f3dc11",
   "metadata": {},
   "outputs": [
    {
     "name": "stdout",
     "output_type": "stream",
     "text": [
      "[0, 1, 2, 3]\n"
     ]
    }
   ],
   "source": [
    "from more_itertools import flatten\n",
    "iterable = [(0, 1), (2, 3)]\n",
    "print(list(flatten(iterable)))"
   ]
  },
  {
   "cell_type": "markdown",
   "metadata": {},
   "source": [
    "#### 示例2:`chunked`\n",
    "\n",
    "`chunked`函数将一个可迭代对象分成指定大小的块."
   ]
  },
  {
   "cell_type": "code",
   "execution_count": 13,
   "id": "b3eee4c1",
   "metadata": {},
   "outputs": [
    {
     "name": "stdout",
     "output_type": "stream",
     "text": [
      "[[0, 1], [2, 3], [4, 5]]\n"
     ]
    }
   ],
   "source": [
    "from more_itertools import chunked\n",
    "\n",
    "iterable = [0, 1, 2, 3, 4, 5]\n",
    "print(list(chunked(iterable, 2)))"
   ]
  },
  {
   "cell_type": "markdown",
   "metadata": {},
   "source": [
    "## 字典(Dictionary)"
   ]
  },
  {
   "cell_type": "markdown",
   "id": "e0351936",
   "metadata": {},
   "source": [
    "### addict\n",
    "\n",
    "[addict](https://github.com/mewwts/addict)扩展了原生的字典, 使其支持通过属性访问字典的键值对.\n"
   ]
  },
  {
   "cell_type": "markdown",
   "id": "9b2cb13a",
   "metadata": {},
   "source": [
    "#### 安装\n"
   ]
  },
  {
   "cell_type": "code",
   "execution_count": 8,
   "id": "bd7d9cab",
   "metadata": {},
   "outputs": [
    {
     "name": "stdout",
     "output_type": "stream",
     "text": [
      "Requirement already satisfied: addict in e:\\appdata\\conda\\envs\\jupyter-notebook\\lib\\site-packages (2.4.0)\n"
     ]
    }
   ],
   "source": [
    "! pip install addict"
   ]
  },
  {
   "cell_type": "markdown",
   "metadata": {},
   "source": [
    "#### 创建字典"
   ]
  },
  {
   "cell_type": "code",
   "execution_count": 9,
   "id": "c6e8aff5",
   "metadata": {},
   "outputs": [
    {
     "name": "stdout",
     "output_type": "stream",
     "text": [
      "{'query': {'filtered': {'query': {'match': {'description': 'addictive'}}, 'filter': {'term': {'created_by': 'Mats'}}}}}\n"
     ]
    }
   ],
   "source": [
    "from addict import Dict\n",
    "body = Dict()\n",
    "# 自动创建嵌套字典\n",
    "body.query.filtered.query.match.description = 'addictive'\n",
    "body.query.filtered.filter.term.created_by = 'Mats'\n",
    "print(body)"
   ]
  },
  {
   "cell_type": "markdown",
   "metadata": {},
   "source": [
    "#### 通过属性读写值\n"
   ]
  },
  {
   "cell_type": "code",
   "execution_count": 10,
   "id": "15239624",
   "metadata": {},
   "outputs": [
    {
     "name": "stdout",
     "output_type": "stream",
     "text": [
      "value\n",
      "another value\n"
     ]
    }
   ],
   "source": [
    "addict_dict = Dict()\n",
    "addict_dict.key = 'value'  # 通过属性设置值\n",
    "print(addict_dict.key)  # 通过属性访问值\n",
    "\n",
    "# 仍然可以使用标准字典语法\n",
    "addict_dict['another_key'] = 'another value'\n",
    "print(addict_dict['another_key'])"
   ]
  },
  {
   "cell_type": "markdown",
   "metadata": {},
   "source": [
    "# 关键字"
   ]
  },
  {
   "cell_type": "markdown",
   "id": "7aca1e7e",
   "metadata": {},
   "source": [
    "## `with`\n",
    "\n",
    "`with`关键字用于简化资源管理,类似`java`中的`try-with-resources`语句,确保在资源使用完成后能够自动执行清理代码,例如关闭文件、释放数据库连接等.\n",
    "\n",
    "**语法**:\n",
    "\n",
    "```python\n",
    "with expression:ContextManager [as variable]:\n",
    "    #with-block\n",
    "```\n",
    "\n",
    "**上下文管理器(Context Manager)**:\n",
    "\n",
    "`上下文管理器`是一个实现了`__enter__`和`__exit__`方法的对象,这两个方法分别定义了进入和退出上下文时的行为"
   ]
  },
  {
   "cell_type": "markdown",
   "id": "901b9e8d",
   "metadata": {},
   "source": [
    "### 一个简单的例子"
   ]
  },
  {
   "cell_type": "code",
   "execution_count": null,
   "id": "92b2e9c8",
   "metadata": {},
   "outputs": [],
   "source": [
    "with open('example.txt', 'r') as file:\n",
    "    content = file.read()\n",
    "    print(content)"
   ]
  },
  {
   "cell_type": "markdown",
   "metadata": {},
   "source": [
    "### 自定义上下文管理器"
   ]
  },
  {
   "cell_type": "code",
   "execution_count": null,
   "id": "39e20c0f",
   "metadata": {},
   "outputs": [],
   "source": [
    "class MyContextManager:\n",
    "    def __enter__(self):\n",
    "        print(\"Entering the context\")\n",
    "        return self\n",
    "\n",
    "    def __exit__(self, exc_type, exc_value, traceback):\n",
    "        print(\"Exiting the context\")\n",
    "\n",
    "# 使用自定义上下文管理器\n",
    "with MyContextManager():\n",
    "    print(\"Inside the context\")"
   ]
  },
  {
   "cell_type": "markdown",
   "metadata": {},
   "source": [
    "# 模块化"
   ]
  },
  {
   "cell_type": "markdown",
   "id": "84574e2d",
   "metadata": {},
   "source": [
    "## `__init__.py`\n",
    "\n",
    "\n",
    "`__init__.py`文件用于以下目的:\n",
    "\n",
    "1. **标识目录为Python的包** - 在`3.3`版本之前, Python只会将包含`__init__.py`文件的目录视为包, 从`3.3`版本开始, Python会将所有目录视为包, 但是为了向后兼容, 通常还是会在目录中包含`__init__.py`文件\n",
    "2. **初始化包** - `__init__.py`文件可以包含包的初始化代码, 当包**第一次被导入**时, `__init__.py`文件会被自动执行,可以在这个文件中初始化包的模块、设置包级别的变量、导入子模块或子包"
   ]
  },
  {
   "cell_type": "markdown",
   "id": "5b1b10fb",
   "metadata": {},
   "source": [
    "### 验证`__init__.py`只会在包第一次被导入时执行\n",
    "\n",
    "下面这个例子,第一次运行会输出:\n",
    "\n",
    "```text\n",
    "__init__.py is running\n",
    "```\n",
    "\n",
    "第二次就不会输出了,说明`__init__.py`只会在包第一次被导入时执行"
   ]
  },
  {
   "cell_type": "code",
   "execution_count": null,
   "id": "61b75ae5",
   "metadata": {},
   "outputs": [],
   "source": [
    "import  test_package\n",
    "\n",
    "print(test_package.__version__)"
   ]
  },
  {
   "cell_type": "code",
   "execution_count": null,
   "id": "5f549eae",
   "metadata": {},
   "outputs": [],
   "source": [
    "import test_package\n",
    "\n",
    "# 调用包级别的函数\n",
    "test_package.package_function()\n",
    "\n",
    "# 调用子模块的函数\n",
    "test_package.function1()\n",
    "test_package.function2()\n",
    "\n",
    "# 使用 * 导入\n",
    "from test_package import *\n",
    "function1()\n",
    "function2()\n",
    "package_function()"
   ]
  },
  {
   "cell_type": "markdown",
   "metadata": {},
   "source": [
    "## 热插拔\n",
    "\n",
    "[pluginbase](https://github.com/mitsuhiko/pluginbase)这个库用于在`Python`中实现插件系统."
   ]
  },
  {
   "cell_type": "markdown",
   "id": "7bb94dc2",
   "metadata": {},
   "source": [
    "# 内置模块-`uuid`"
   ]
  },
  {
   "cell_type": "markdown",
   "id": "432ef356",
   "metadata": {},
   "source": [
    "## `shortuuid`\n",
    "\n",
    "[shortuuid](https://pypi.org/project/shortuuid/)用于简洁、明确、URL 安全的 UUID."
   ]
  },
  {
   "cell_type": "markdown",
   "id": "19888357",
   "metadata": {},
   "source": [
    "### 安装"
   ]
  },
  {
   "cell_type": "code",
   "execution_count": 14,
   "id": "d60cf42b",
   "metadata": {},
   "outputs": [
    {
     "name": "stdout",
     "output_type": "stream",
     "text": [
      "Collecting shortuuid\n",
      "  Downloading shortuuid-1.0.13-py3-none-any.whl.metadata (5.8 kB)\n",
      "Downloading shortuuid-1.0.13-py3-none-any.whl (10 kB)\n",
      "Installing collected packages: shortuuid\n",
      "Successfully installed shortuuid-1.0.13\n"
     ]
    }
   ],
   "source": [
    "! pip install shortuuid"
   ]
  },
  {
   "cell_type": "markdown",
   "metadata": {},
   "source": [
    "### 示例"
   ]
  },
  {
   "cell_type": "code",
   "execution_count": 15,
   "id": "28bbb71c",
   "metadata": {},
   "outputs": [
    {
     "name": "stdout",
     "output_type": "stream",
     "text": [
      "JuoB7jVRM8j7WEss4V2vFZ\n"
     ]
    }
   ],
   "source": [
    "import shortuuid\n",
    "print(shortuuid.uuid())"
   ]
  },
  {
   "cell_type": "markdown",
   "metadata": {},
   "source": [
    "# 装饰器(Decorators)\n",
    "\n",
    "装饰器是Python的一个强大特性,它可以让函数或类在不修改原有代码的情况下增加新的功能,装饰器本质上是一个函数,它接受一个函数作为参数,并返回一个新的函数."
   ]
  },
  {
   "cell_type": "markdown",
   "id": "6cefcfdf",
   "metadata": {},
   "source": [
    "## 一个简单的例子\n",
    "\n",
    "下面这个例子定义了一个装饰器`my_decorator`,它接受一个函数作为参数,并返回一个新的函数,这个新的函数在调用原函数之前会输出`start`,在调用原函数之后会输出`end`"
   ]
  },
  {
   "cell_type": "code",
   "execution_count": null,
   "id": "2ba1b958",
   "metadata": {},
   "outputs": [],
   "source": [
    "def my_decorator(func):\n",
    "    def wrapper(*args, **kwargs):\n",
    "        print(\"Start\")\n",
    "        result = func(*args, **kwargs)\n",
    "        print(\"End\")\n",
    "        return result\n",
    "    return wrapper\n",
    "\n",
    "@my_decorator\n",
    "def add(a, b):\n",
    "    print(\"Add\")\n",
    "    return a + b\n",
    "\n",
    "print(add(1, 2))\n",
    "# 上面的代码本质上是\n",
    "# add = my_decorator(add)"
   ]
  },
  {
   "cell_type": "markdown",
   "metadata": {},
   "source": [
    "## 多个装饰器\n",
    "\n",
    "一个函数可以同时被多个装饰器装饰,装饰器的执行顺序是从下往上,即最后一个装饰器最先执行"
   ]
  },
  {
   "cell_type": "markdown",
   "id": "52ba3f8f",
   "metadata": {},
   "source": [
    "## 装饰器参数\n",
    "\n",
    "装饰器也可以接受参数,下面这个例子中的`repeat`装饰器,它接受一个参数`n`,表示重复调用原函数`n`次"
   ]
  },
  {
   "cell_type": "code",
   "execution_count": null,
   "id": "e8cc31b0",
   "metadata": {},
   "outputs": [],
   "source": [
    "def repeat(n):\n",
    "    def decorator(func):\n",
    "        def wrapper(*args, **kwargs):\n",
    "            for _ in range(n):\n",
    "                result = func(*args, **kwargs)\n",
    "            return result\n",
    "        return wrapper\n",
    "    return decorator\n",
    "\n",
    "@repeat(3)\n",
    "def greet(name):\n",
    "    print(f\"Hello, {name}!\")\n",
    "\n",
    "greet(\"Alice\")\n",
    "# 上面的代码本质上是\n",
    "# greet = repeat(3)(greet)"
   ]
  },
  {
   "cell_type": "markdown",
   "metadata": {},
   "source": [
    "# 依赖管理"
   ]
  },
  {
   "cell_type": "markdown",
   "id": "df366ff8",
   "metadata": {},
   "source": [
    "\n",
    "## pipreqs\n",
    "\n",
    "使用[pipreqs](https://pypi.org/project/pipreqs/)来自动生成`requirements.txt`文件\n",
    "\n",
    "```bash\n",
    "\n",
    "pip install pipreqs\n",
    "\n",
    "pipreqs --force --ignore wslvenv,.venv .\n",
    "    \n",
    "```"
   ]
  },
  {
   "cell_type": "markdown",
   "id": "83c1f6a2",
   "metadata": {},
   "source": [
    "# 调试"
   ]
  },
  {
   "cell_type": "markdown",
   "id": "63c38b7a",
   "metadata": {},
   "source": [
    "## PySnooper\n",
    "\n",
    "[PySnooper](https://pypi.org/project/PySnooper/)是一个用于调试的库,可以在函数内部的任何地方插入`@pysnooper.snoop()`装饰器,并在函数执行时输出变量的值\n"
   ]
  },
  {
   "cell_type": "markdown",
   "id": "d5a954aa",
   "metadata": {},
   "source": [
    "# 打包"
   ]
  },
  {
   "cell_type": "markdown",
   "id": "7fa4bfd4",
   "metadata": {},
   "source": [
    "## Pynsist\n",
    "\n",
    "[pynsist](https://pypi.org/project/pynsist/)用于将`Python`应用程序打包成`Windows`安装程序"
   ]
  }
 ],
 "metadata": {
  "kernelspec": {
   "display_name": "jupyter-notebook",
   "language": "python",
   "name": "python3"
  },
  "language_info": {
   "codemirror_mode": {
    "name": "ipython",
    "version": 3
   },
   "file_extension": ".py",
   "mimetype": "text/x-python",
   "name": "python",
   "nbconvert_exporter": "python",
   "pygments_lexer": "ipython3",
   "version": "3.12.4"
  },
  "polyglot_notebook": {
   "kernelInfo": {
    "defaultKernelName": "csharp",
    "items": [
     {
      "aliases": [],
      "name": "csharp"
     }
    ]
   }
  }
 },
 "nbformat": 4,
 "nbformat_minor": 5
}
