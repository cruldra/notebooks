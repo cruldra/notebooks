{
 "cells": [
  {
   "cell_type": "markdown",
   "id": "d8c8af462d98b994",
   "metadata": {},
   "source": [
    "# 关键字"
   ]
  },
  {
   "cell_type": "markdown",
   "id": "f0424bf893bed89",
   "metadata": {},
   "source": [
    "## `with`\n",
    "\n",
    "`with`关键字用于简化资源管理,类似`java`中的`try-with-resources`语句,确保在资源使用完成后能够自动执行清理代码,例如关闭文件、释放数据库连接等.\n",
    "\n",
    "**语法**:\n",
    "\n",
    "```python\n",
    "with expression:ContextManager [as variable]:\n",
    "    #with-block\n",
    "```\n",
    "\n",
    "**上下文管理器(Context Manager)**:\n",
    "\n",
    "`上下文管理器`是一个实现了`__enter__`和`__exit__`方法的对象,这两个方法分别定义了进入和退出上下文时的行为"
   ]
  },
  {
   "cell_type": "markdown",
   "id": "301a648b3ced97fc",
   "metadata": {},
   "source": [
    "### 一个简单的例子"
   ]
  },
  {
   "cell_type": "code",
   "execution_count": null,
   "id": "6567ce9d9b4b2344",
   "metadata": {},
   "outputs": [],
   "source": [
    "with open('example.txt', 'r') as file:\n",
    "    content = file.read()\n",
    "    print(content)"
   ]
  },
  {
   "cell_type": "markdown",
   "id": "7ed5c9f4ccbde947",
   "metadata": {},
   "source": [
    "### 自定义上下文管理器"
   ]
  },
  {
   "cell_type": "code",
   "execution_count": 1,
   "id": "33741b3cdfb1f06e",
   "metadata": {
    "ExecuteTime": {
     "end_time": "2024-08-06T15:28:08.501372Z",
     "start_time": "2024-08-06T15:28:08.497679Z"
    }
   },
   "outputs": [
    {
     "name": "stdout",
     "output_type": "stream",
     "text": [
      "Entering the context\n",
      "Inside the context\n",
      "Exiting the context\n"
     ]
    }
   ],
   "source": [
    "class MyContextManager:\n",
    "    def __enter__(self):\n",
    "        print(\"Entering the context\")\n",
    "        return self\n",
    "\n",
    "    def __exit__(self, exc_type, exc_value, traceback):\n",
    "        print(\"Exiting the context\")\n",
    "\n",
    "# 使用自定义上下文管理器\n",
    "with MyContextManager():\n",
    "    print(\"Inside the context\")"
   ]
  },
  {
   "cell_type": "markdown",
   "id": "ac912e50cfdbfeb8",
   "metadata": {},
   "source": [
    "# 模块化"
   ]
  },
  {
   "cell_type": "markdown",
   "id": "6b911e42eefe67b1",
   "metadata": {},
   "source": [
    "## `__init__.py`\n",
    "\n",
    "\n",
    "`__init__.py`文件用于以下目的:\n",
    "\n",
    "1. **标识目录为Python的包** - 在`3.3`版本之前, Python只会将包含`__init__.py`文件的目录视为包, 从`3.3`版本开始, Python会将所有目录视为包, 但是为了向后兼容, 通常还是会在目录中包含`__init__.py`文件\n",
    "2. **初始化包** - `__init__.py`文件可以包含包的初始化代码, 当包**第一次被导入**时, `__init__.py`文件会被自动执行,可以在这个文件中初始化包的模块、设置包级别的变量、导入子模块或子包"
   ]
  },
  {
   "cell_type": "markdown",
   "id": "f1d5d01c71e5fd65",
   "metadata": {},
   "source": [
    "### 验证`__init__.py`只会在包第一次被导入时执行\n",
    "\n",
    "下面这个例子,第一次运行会输出:\n",
    "\n",
    "```text\n",
    "__init__.py is running\n",
    "```\n",
    "\n",
    "第二次就不会输出了,说明`__init__.py`只会在包第一次被导入时执行"
   ]
  },
  {
   "cell_type": "code",
   "execution_count": 2,
   "id": "2a045fdea43ee0f5",
   "metadata": {
    "ExecuteTime": {
     "end_time": "2024-08-06T10:46:28.368900Z",
     "start_time": "2024-08-06T10:46:28.365451Z"
    }
   },
   "outputs": [
    {
     "name": "stdout",
     "output_type": "stream",
     "text": [
      "1.0.0\n"
     ]
    }
   ],
   "source": [
    "import  test_package\n",
    "\n",
    "print(test_package.__version__)"
   ]
  },
  {
   "cell_type": "code",
   "execution_count": 1,
   "id": "d890ec69d49bbf18",
   "metadata": {
    "ExecuteTime": {
     "end_time": "2024-08-06T10:46:21.132733Z",
     "start_time": "2024-08-06T10:46:21.127419Z"
    }
   },
   "outputs": [
    {
     "name": "stdout",
     "output_type": "stream",
     "text": [
      "__init__.py is running\n",
      "This is a function defined at the package level.\n",
      "Function 1 from module 1\n",
      "Function 2 from module 2\n",
      "Function 1 from module 1\n",
      "Function 2 from module 2\n",
      "This is a function defined at the package level.\n"
     ]
    }
   ],
   "source": [
    "import test_package\n",
    "\n",
    "# 调用包级别的函数\n",
    "test_package.package_function()\n",
    "\n",
    "# 调用子模块的函数\n",
    "test_package.function1()\n",
    "test_package.function2()\n",
    "\n",
    "# 使用 * 导入\n",
    "from test_package import *\n",
    "function1()\n",
    "function2()\n",
    "package_function()"
   ]
  },
  {
   "cell_type": "markdown",
   "id": "332a2879",
   "metadata": {},
   "source": [
    "## 热插拔\n",
    "\n",
    "[pluginbase](https://github.com/mitsuhiko/pluginbase)这个库用于在`Python`中实现插件系统."
   ]
  },
  {
   "cell_type": "markdown",
   "id": "a0d5a494010bb334",
   "metadata": {},
   "source": [
    "# 装饰器(Decorators)\n",
    "\n",
    "装饰器是Python的一个强大特性,它可以让函数或类在不修改原有代码的情况下增加新的功能,装饰器本质上是一个函数,它接受一个函数作为参数,并返回一个新的函数."
   ]
  },
  {
   "cell_type": "markdown",
   "id": "7a510209",
   "metadata": {},
   "source": [
    "## 一个简单的例子\n",
    "\n",
    "下面这个例子定义了一个装饰器`my_decorator`,它接受一个函数作为参数,并返回一个新的函数,这个新的函数在调用原函数之前会输出`start`,在调用原函数之后会输出`end`"
   ]
  },
  {
   "cell_type": "code",
   "execution_count": 1,
   "id": "e1c1e511",
   "metadata": {},
   "outputs": [
    {
     "name": "stdout",
     "output_type": "stream",
     "text": [
      "Start\n",
      "Add\n",
      "End\n",
      "3\n"
     ]
    }
   ],
   "source": [
    "def my_decorator(func):\n",
    "    def wrapper(*args, **kwargs):\n",
    "        print(\"Start\")\n",
    "        result = func(*args, **kwargs)\n",
    "        print(\"End\")\n",
    "        return result\n",
    "    return wrapper\n",
    "\n",
    "@my_decorator\n",
    "def add(a, b):\n",
    "    print(\"Add\")\n",
    "    return a + b\n",
    "\n",
    "print(add(1, 2))\n",
    "# 上面的代码本质上是\n",
    "# add = my_decorator(add)"
   ]
  },
  {
   "cell_type": "markdown",
   "id": "122ddbed",
   "metadata": {},
   "source": [
    "## 多个装饰器\n",
    "\n",
    "一个函数可以同时被多个装饰器装饰,装饰器的执行顺序是从下往上,即最后一个装饰器最先执行"
   ]
  },
  {
   "cell_type": "markdown",
   "id": "6e49d11c",
   "metadata": {},
   "source": [
    "## 装饰器参数\n",
    "\n",
    "装饰器也可以接受参数,下面这个例子中的`repeat`装饰器,它接受一个参数`n`,表示重复调用原函数`n`次"
   ]
  },
  {
   "cell_type": "code",
   "execution_count": 16,
   "id": "f23f9b38",
   "metadata": {},
   "outputs": [
    {
     "name": "stdout",
     "output_type": "stream",
     "text": [
      "3\n",
      "Hello, Alice!\n",
      "Hello, Alice!\n",
      "Hello, Alice!\n"
     ]
    }
   ],
   "source": [
    "def repeat(n):\n",
    "    def decorator(func):\n",
    "        def wrapper(*args, **kwargs):\n",
    "            for _ in range(n):\n",
    "                result = func(*args, **kwargs)\n",
    "            return result\n",
    "        return wrapper\n",
    "    return decorator\n",
    "\n",
    "@repeat(3)\n",
    "def greet(name):\n",
    "    print(f\"Hello, {name}!\")\n",
    "\n",
    "greet(\"Alice\")\n",
    "# 上面的代码本质上是\n",
    "# greet = repeat(3)(greet)"
   ]
  },
  {
   "cell_type": "code",
   "execution_count": 7,
   "id": "51fe381d",
   "metadata": {},
   "outputs": [
    {
     "name": "stdout",
     "output_type": "stream",
     "text": [
      "Decorator 1\n",
      "Decorator 2\n",
      "Inside the function\n"
     ]
    }
   ],
   "source": [
    "def decorator1(func):\n",
    "    def wrapper(*args, **kwargs):\n",
    "        print(\"Decorator 1\")\n",
    "        return func(*args, **kwargs)\n",
    "    return wrapper\n",
    "\n",
    "def decorator2(func):\n",
    "    def wrapper(*args, **kwargs):\n",
    "        print(\"Decorator 2\")\n",
    "        return func(*args, **kwargs)\n",
    "    return wrapper\n",
    "\n",
    "@decorator1\n",
    "@decorator2\n",
    "def my_function():\n",
    "    print(\"Inside the function\")\n",
    "\n",
    "my_function()\n",
    "# 上面的代码本质上是\n",
    "# my_function = decorator1(decorator2(my_function))"
   ]
  },
  {
   "cell_type": "markdown",
   "id": "eb66570b",
   "metadata": {},
   "source": [
    "## `wrapt`\n",
    "\n",
    "[wrapt](https://wrapt.readthedocs.io/en/master/)是一个简化装饰器编写的库,它提供了`FunctionWrapper`和`ObjectProxy`两个类,可以用来编写更加复杂的装饰器\n"
   ]
  },
  {
   "cell_type": "markdown",
   "id": "58a78dac",
   "metadata": {},
   "source": [
    "### 实现`my_decorator`的功能\n",
    "\n",
    "下面这个例子使用`wrapt`库实现了上面提到的`my_decorator`的功能"
   ]
  },
  {
   "cell_type": "code",
   "execution_count": 3,
   "id": "d9f11b5f",
   "metadata": {},
   "outputs": [
    {
     "name": "stdout",
     "output_type": "stream",
     "text": [
      "Start\n",
      "Add\n",
      "End\n",
      "3\n"
     ]
    }
   ],
   "source": [
    "import wrapt\n",
    "@wrapt.decorator\n",
    "def my_decorator(wrapped, instance, args, kwargs):\n",
    "    print(\"Start\")\n",
    "    result = wrapped(*args, **kwargs)\n",
    "    print(\"End\")\n",
    "    return result\n",
    "\n",
    "@my_decorator\n",
    "def add(a, b):\n",
    "    print(\"Add\")\n",
    "    return a + b\n",
    "\n",
    "print(add(1, 2))"
   ]
  },
  {
   "cell_type": "markdown",
   "id": "b8f6c952",
   "metadata": {},
   "source": [
    "### 多个装饰器\n",
    "\n",
    "下面这个例子用`wrapt`重现了上面的`decorator1`和`decorator2`的功能"
   ]
  },
  {
   "cell_type": "code",
   "execution_count": 8,
   "id": "86bd276e",
   "metadata": {},
   "outputs": [
    {
     "name": "stdout",
     "output_type": "stream",
     "text": [
      "Decorator 1\n",
      "Decorator 2\n",
      "Inside the function\n"
     ]
    }
   ],
   "source": [
    "import wrapt\n",
    "\n",
    "@wrapt.decorator\n",
    "def decorator1(wrapped, instance, args, kwargs):\n",
    "    print(\"Decorator 1\")\n",
    "    return wrapped(*args, **kwargs)\n",
    "\n",
    "@wrapt.decorator\n",
    "def decorator2(wrapped, instance, args, kwargs):\n",
    "    print(\"Decorator 2\")\n",
    "    return wrapped(*args, **kwargs)\n",
    "\n",
    "@decorator1\n",
    "@decorator2\n",
    "def my_function():\n",
    "    print(\"Inside the function\")\n",
    "\n",
    "my_function()"
   ]
  },
  {
   "cell_type": "markdown",
   "id": "d5723d64",
   "metadata": {},
   "source": [
    "### 装饰器参数\n",
    "\n",
    "下面这个例子用`wrapt`实现了上面的`repeat`装饰器"
   ]
  },
  {
   "cell_type": "code",
   "execution_count": 18,
   "id": "0d0b52a5",
   "metadata": {},
   "outputs": [
    {
     "name": "stdout",
     "output_type": "stream",
     "text": [
      "Repeat 3 times\n",
      "Hello, Alice!\n",
      "Hello, Alice!\n",
      "Hello, Alice!\n"
     ]
    }
   ],
   "source": [
    "import wrapt\n",
    "\n",
    "def repeat(n):\n",
    "    @wrapt.decorator\n",
    "    def decorator(wrapped, instance, args, kwargs):\n",
    "        print(f\"Repeat {n} times\")\n",
    "        for _ in range(n):\n",
    "            result = wrapped(*args, **kwargs)\n",
    "        return result\n",
    "    return decorator\n",
    "\n",
    "@repeat(3)\n",
    "def greet(name):\n",
    "    print(f\"Hello, {name}!\")\n",
    "\n",
    "greet(\"Alice\")"
   ]
  },
  {
   "cell_type": "markdown",
   "id": "be7df733",
   "metadata": {},
   "source": [
    "# 依赖管理\n",
    "\n",
    "使用[pipreqs](https://pypi.org/project/pipreqs/)来自动生成`requirements.txt`文件\n",
    "\n",
    "```bash\n",
    "\n",
    "pip install pipreqs\n",
    "\n",
    "pipreqs --force --ignore wslvenv,.venv .\n",
    "    \n",
    "```"
   ]
  }
 ],
 "metadata": {
  "kernelspec": {
   "display_name": "Python 3",
   "language": "python",
   "name": "python3"
  },
  "language_info": {
   "codemirror_mode": {
    "name": "ipython",
    "version": 3
   },
   "file_extension": ".py",
   "mimetype": "text/x-python",
   "name": "python",
   "nbconvert_exporter": "python",
   "pygments_lexer": "ipython3",
   "version": "3.12.0"
  }
 },
 "nbformat": 4,
 "nbformat_minor": 5
}
