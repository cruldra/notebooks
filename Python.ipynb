{
 "cells": [
  {
   "metadata": {},
   "cell_type": "markdown",
   "source": "# 关键字",
   "id": "d8c8af462d98b994"
  },
  {
   "metadata": {},
   "cell_type": "markdown",
   "source": [
    "## `with`\n",
    "\n",
    "`with`关键字用于简化资源管理,类似`java`中的`try-with-resources`语句,确保在资源使用完成后能够自动执行清理代码,例如关闭文件、释放数据库连接等.\n",
    "\n",
    "**语法**:\n",
    "\n",
    "```python\n",
    "with expression:ContextManager [as variable]:\n",
    "    #with-block\n",
    "```\n",
    "\n",
    "**上下文管理器(Context Manager)**:\n",
    "\n",
    "`上下文管理器`是一个实现了`__enter__`和`__exit__`方法的对象,这两个方法分别定义了进入和退出上下文时的行为"
   ],
   "id": "f0424bf893bed89"
  },
  {
   "metadata": {},
   "cell_type": "markdown",
   "source": "### 一个简单的例子",
   "id": "301a648b3ced97fc"
  },
  {
   "metadata": {},
   "cell_type": "code",
   "outputs": [],
   "execution_count": null,
   "source": [
    "with open('example.txt', 'r') as file:\n",
    "    content = file.read()\n",
    "    print(content)"
   ],
   "id": "6567ce9d9b4b2344"
  },
  {
   "metadata": {},
   "cell_type": "markdown",
   "source": "### 自定义上下文管理器",
   "id": "7ed5c9f4ccbde947"
  },
  {
   "metadata": {
    "ExecuteTime": {
     "end_time": "2024-08-06T15:28:08.501372Z",
     "start_time": "2024-08-06T15:28:08.497679Z"
    }
   },
   "cell_type": "code",
   "source": [
    "class MyContextManager:\n",
    "    def __enter__(self):\n",
    "        print(\"Entering the context\")\n",
    "        return self\n",
    "\n",
    "    def __exit__(self, exc_type, exc_value, traceback):\n",
    "        print(\"Exiting the context\")\n",
    "\n",
    "# 使用自定义上下文管理器\n",
    "with MyContextManager():\n",
    "    print(\"Inside the context\")"
   ],
   "id": "33741b3cdfb1f06e",
   "outputs": [
    {
     "name": "stdout",
     "output_type": "stream",
     "text": [
      "Entering the context\n",
      "Inside the context\n",
      "Exiting the context\n"
     ]
    }
   ],
   "execution_count": 1
  },
  {
   "metadata": {},
   "cell_type": "markdown",
   "source": "# 模块化",
   "id": "ac912e50cfdbfeb8"
  },
  {
   "metadata": {},
   "cell_type": "markdown",
   "source": [
    "## `__init__.py`\n",
    "\n",
    "\n",
    "`__init__.py`文件用于以下目的:\n",
    "\n",
    "1. **标识目录为Python的包** - 在`3.3`版本之前, Python只会将包含`__init__.py`文件的目录视为包, 从`3.3`版本开始, Python会将所有目录视为包, 但是为了向后兼容, 通常还是会在目录中包含`__init__.py`文件\n",
    "2. **初始化包** - `__init__.py`文件可以包含包的初始化代码, 当包**第一次被导入**时, `__init__.py`文件会被自动执行,可以在这个文件中初始化包的模块、设置包级别的变量、导入子模块或子包"
   ],
   "id": "6b911e42eefe67b1"
  },
  {
   "metadata": {},
   "cell_type": "markdown",
   "source": [
    "### 验证`__init__.py`只会在包第一次被导入时执行\n",
    "\n",
    "下面这个例子,第一次运行会输出:\n",
    "\n",
    "```text\n",
    "__init__.py is running\n",
    "```\n",
    "\n",
    "第二次就不会输出了,说明`__init__.py`只会在包第一次被导入时执行"
   ],
   "id": "f1d5d01c71e5fd65"
  },
  {
   "metadata": {
    "ExecuteTime": {
     "end_time": "2024-08-06T10:46:28.368900Z",
     "start_time": "2024-08-06T10:46:28.365451Z"
    }
   },
   "cell_type": "code",
   "source": [
    "import  test_package\n",
    "\n",
    "print(test_package.__version__)"
   ],
   "id": "2a045fdea43ee0f5",
   "outputs": [
    {
     "name": "stdout",
     "output_type": "stream",
     "text": [
      "1.0.0\n"
     ]
    }
   ],
   "execution_count": 2
  },
  {
   "metadata": {
    "ExecuteTime": {
     "end_time": "2024-08-06T10:46:21.132733Z",
     "start_time": "2024-08-06T10:46:21.127419Z"
    }
   },
   "cell_type": "code",
   "source": [
    "import test_package\n",
    "\n",
    "# 调用包级别的函数\n",
    "test_package.package_function()\n",
    "\n",
    "# 调用子模块的函数\n",
    "test_package.function1()\n",
    "test_package.function2()\n",
    "\n",
    "# 使用 * 导入\n",
    "from test_package import *\n",
    "function1()\n",
    "function2()\n",
    "package_function()"
   ],
   "id": "d890ec69d49bbf18",
   "outputs": [
    {
     "name": "stdout",
     "output_type": "stream",
     "text": [
      "__init__.py is running\n",
      "This is a function defined at the package level.\n",
      "Function 1 from module 1\n",
      "Function 2 from module 2\n",
      "Function 1 from module 1\n",
      "Function 2 from module 2\n",
      "This is a function defined at the package level.\n"
     ]
    }
   ],
   "execution_count": 1
  },
  {
   "metadata": {},
   "cell_type": "code",
   "outputs": [],
   "execution_count": null,
   "source": "",
   "id": "a0d5a494010bb334"
  }
 ],
 "metadata": {
  "kernelspec": {
   "display_name": "Python 3",
   "language": "python",
   "name": "python3"
  },
  "language_info": {
   "codemirror_mode": {
    "name": "ipython",
    "version": 2
   },
   "file_extension": ".py",
   "mimetype": "text/x-python",
   "name": "python",
   "nbconvert_exporter": "python",
   "pygments_lexer": "ipython2",
   "version": "2.7.6"
  }
 },
 "nbformat": 4,
 "nbformat_minor": 5
}
