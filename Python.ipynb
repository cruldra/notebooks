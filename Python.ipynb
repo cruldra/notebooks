{
 "cells": [
  {
   "metadata": {},
   "cell_type": "markdown",
   "source": "# 模块化",
   "id": "ac912e50cfdbfeb8"
  },
  {
   "metadata": {},
   "cell_type": "markdown",
   "source": [
    "## `__init__.py`\n",
    "\n",
    "\n",
    "`__init__.py`文件用于以下目的:\n",
    "\n",
    "1. **标识目录为Python的包** - 在`3.3`版本之前, Python只会将包含`__init__.py`文件的目录视为包, 从`3.3`版本开始, Python会将所有目录视为包, 但是为了向后兼容, 通常还是会在目录中包含`__init__.py`文件\n",
    "2. **初始化包** - `__init__.py`文件可以包含包的初始化代码, 当包**第一次被导入**时, `__init__.py`文件会被自动执行,可以在这个文件中初始化包的模块、设置包级别的变量、导入子模块或子包"
   ],
   "id": "6b911e42eefe67b1"
  },
  {
   "metadata": {},
   "cell_type": "markdown",
   "source": [
    "### 验证`__init__.py`只会在包第一次被导入时执行\n",
    "\n",
    "下面这个例子,第一次运行会输出:\n",
    "\n",
    "```text\n",
    "__init__.py is running\n",
    "```\n",
    "\n",
    "第二次就不会输出了,说明`__init__.py`只会在包第一次被导入时执行"
   ],
   "id": "f1d5d01c71e5fd65"
  },
  {
   "metadata": {
    "ExecuteTime": {
     "end_time": "2024-08-06T10:46:28.368900Z",
     "start_time": "2024-08-06T10:46:28.365451Z"
    }
   },
   "cell_type": "code",
   "source": [
    "import  test_package\n",
    "\n",
    "print(test_package.__version__)"
   ],
   "id": "2a045fdea43ee0f5",
   "outputs": [
    {
     "name": "stdout",
     "output_type": "stream",
     "text": [
      "1.0.0\n"
     ]
    }
   ],
   "execution_count": 2
  },
  {
   "metadata": {
    "ExecuteTime": {
     "end_time": "2024-08-06T10:46:21.132733Z",
     "start_time": "2024-08-06T10:46:21.127419Z"
    }
   },
   "cell_type": "code",
   "source": [
    "import test_package\n",
    "\n",
    "# 调用包级别的函数\n",
    "test_package.package_function()\n",
    "\n",
    "# 调用子模块的函数\n",
    "test_package.function1()\n",
    "test_package.function2()\n",
    "\n",
    "# 使用 * 导入\n",
    "from test_package import *\n",
    "function1()\n",
    "function2()\n",
    "package_function()"
   ],
   "id": "d890ec69d49bbf18",
   "outputs": [
    {
     "name": "stdout",
     "output_type": "stream",
     "text": [
      "__init__.py is running\n",
      "This is a function defined at the package level.\n",
      "Function 1 from module 1\n",
      "Function 2 from module 2\n",
      "Function 1 from module 1\n",
      "Function 2 from module 2\n",
      "This is a function defined at the package level.\n"
     ]
    }
   ],
   "execution_count": 1
  },
  {
   "metadata": {},
   "cell_type": "code",
   "outputs": [],
   "execution_count": null,
   "source": "",
   "id": "a0d5a494010bb334"
  }
 ],
 "metadata": {
  "kernelspec": {
   "display_name": "Python 3",
   "language": "python",
   "name": "python3"
  },
  "language_info": {
   "codemirror_mode": {
    "name": "ipython",
    "version": 2
   },
   "file_extension": ".py",
   "mimetype": "text/x-python",
   "name": "python",
   "nbconvert_exporter": "python",
   "pygments_lexer": "ipython2",
   "version": "2.7.6"
  }
 },
 "nbformat": 4,
 "nbformat_minor": 5
}
