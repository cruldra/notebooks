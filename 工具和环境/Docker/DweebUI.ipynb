{
 "cells": [
  {
   "cell_type": "markdown",
   "metadata": {},
   "source": [
    "# 简介\n",
    "\n",
    "[DweebUI](https://github.com/lllllllillllllillll/DweebUI?tab=readme-ov-file)用于管理`Docker`资源,比如容器,镜像,网络等."
   ]
  }
 ],
 "metadata": {
  "language_info": {
   "name": "python"
  }
 },
 "nbformat": 4,
 "nbformat_minor": 2
}
