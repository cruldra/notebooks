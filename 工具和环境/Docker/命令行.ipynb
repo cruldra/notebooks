{
 "cells": [
  {
   "cell_type": "markdown",
   "id": "8172b789",
   "metadata": {},
   "source": [
    "# 简介\n",
    "\n",
    "`Docker`命令行用于和`Docker`引擎进行交互."
   ]
  },
  {
   "cell_type": "markdown",
   "id": "aba8051f3baadc71",
   "metadata": {},
   "source": [
    "# 镜像管理\n",
    "\n",
    "`Docker`中的镜像可以理解成`Java`中的类."
   ]
  },
  {
   "cell_type": "markdown",
   "id": "b032b536",
   "metadata": {},
   "source": [
    "\n",
    "## 镜像备份和恢复\n",
    "\n",
    "有些情况下受限于网络环境, 我们无法直接从`Docker Hub`上拉取镜像, 这时我们可以通过备份镜像的方式来解决这个问题.\n"
   ]
  },
  {
   "cell_type": "markdown",
   "id": "c9ea01ba",
   "metadata": {},
   "source": [
    "### 备份镜像\n",
    "\n",
    "首先在能够访问`Docker Hub`的环境中拉取镜像, 然后将镜像保存到本地文件中.\n",
    "\n",
    "```bash\n",
    "# 命令格式\n",
    "docker save -o <保存文件路径> <镜像名称>:<标签>\n",
    "\n",
    "# 示例\n",
    "docker save -o clash.tar centralx/clash:latest\n",
    "```"
   ]
  },
  {
   "cell_type": "markdown",
   "id": "2aeaa3cb",
   "metadata": {},
   "source": [
    "### 恢复镜像\n",
    "\n",
    "将保存的镜像文件导入到`Docker`中.\n",
    "\n",
    "```bash\n",
    "\n",
    "# 命令格式\n",
    "docker load -i <镜像文件路径>\n",
    "\n",
    "# 示例\n",
    "\n",
    "docker load -i clash.tar\n",
    "```"
   ]
  },
  {
   "cell_type": "markdown",
   "id": "e7cb806527e07dd6",
   "metadata": {},
   "source": [
    "## 推送到`Docker Hub`\n",
    "\n",
    "如果想把自己的镜像共享给他人, 可以将镜像推送到`Docker Hub`上.\n"
   ]
  },
  {
   "cell_type": "markdown",
   "id": "216dd17c",
   "metadata": {},
   "source": [
    "\n",
    "### 登录\n",
    "\n",
    "推送镜像之前需要先登录.\n",
    "\n",
    "```bash\n",
    "docker login\n",
    "```"
   ]
  },
  {
   "cell_type": "markdown",
   "id": "be46747e",
   "metadata": {},
   "source": [
    "\n",
    "### 重新打标签\n",
    "\n",
    "推送到`Docker Hub`上的镜像需要重新打标签, 格式为`<用户名>/<仓库名>:<标签>`.\n",
    "\n",
    "```bash\n",
    "docker tag local-image:tagname dongjak/new-repo:tagname\n",
    "```"
   ]
  },
  {
   "cell_type": "markdown",
   "id": "a1d30c43",
   "metadata": {},
   "source": [
    "### 推送\n",
    "\n",
    "```bash\n",
    "docker push dongjak/new-repo:tagname\n",
    "```"
   ]
  },
  {
   "cell_type": "markdown",
   "id": "674efc9d",
   "metadata": {},
   "source": [
    "\n",
    "## 从容器的某个状态创建镜像\n",
    "\n",
    "```bash\n",
    "docker commit -m \"What did you do to the image\" -a \"Author Name\" container-id repository/new_image_name\n",
    "```\n",
    "\n",
    "## 交互环境\n",
    "\n",
    "下载并运行某个镜像(创建一个该镜像的容器)然后进入`bash`交互模式\n",
    "\n",
    "```bash\n",
    "docker run -it ubuntu bash\n",
    "```"
   ]
  }
 ],
 "metadata": {
  "kernelspec": {
   "display_name": "Python 3 (ipykernel)",
   "language": "python",
   "name": "python3"
  },
  "language_info": {
   "codemirror_mode": {
    "name": "ipython",
    "version": 3
   },
   "file_extension": ".py",
   "mimetype": "text/x-python",
   "name": "python",
   "nbconvert_exporter": "python",
   "pygments_lexer": "ipython3",
   "version": "3.12.0"
  }
 },
 "nbformat": 4,
 "nbformat_minor": 5
}
