{
 "cells": [
  {
   "cell_type": "markdown",
   "metadata": {},
   "source": [
    "# Dockerfile\n",
    "\n",
    "## `CMD`\n",
    "\n",
    "1. 确保容器不会退出以便调试\n",
    "\n",
    "```dockerfile\n",
    "CMD [\"tail\", \"-f\", \"/dev/null\"]\n",
    "```"
   ]
  }
 ],
 "metadata": {
  "language_info": {
   "name": "python"
  }
 },
 "nbformat": 4,
 "nbformat_minor": 2
}
