{
 "cells": [
  {
   "cell_type": "markdown",
   "metadata": {},
   "source": [
    "# 简介\n",
    "\n",
    "[Docker Python SDK](https://pypi.org/project/docker/)用于通过`Python`代码管理`Docker`容器、镜像、网络等`Docker`资源."
   ]
  },
  {
   "cell_type": "markdown",
   "metadata": {},
   "source": [
    "\n",
    "# 安装\n",
    "\n",
    "```bash\n",
    "pip install docker\n",
    "```\n"
   ]
  },
  {
   "cell_type": "markdown",
   "metadata": {},
   "source": [
    "\n",
    "# 创建客户端\n",
    "\n",
    "要使用`Docker Python SDK`，首先需要创建一个`Docker`客户端对象。"
   ]
  },
  {
   "cell_type": "code",
   "execution_count": null,
   "metadata": {},
   "outputs": [],
   "source": [
    "import docker\n",
    "\n",
    "client = docker.from_env()"
   ]
  },
  {
   "cell_type": "markdown",
   "metadata": {},
   "source": [
    "# 容器管理"
   ]
  },
  {
   "cell_type": "markdown",
   "metadata": {},
   "source": [
    "## 在容器中运行一个命令\n",
    "\n",
    "实现`docker run -it ubuntu bash -c \"echo hello world\"`的效果"
   ]
  },
  {
   "cell_type": "code",
   "execution_count": null,
   "metadata": {},
   "outputs": [],
   "source": [
    "command = 'bash -c \"echo hello world\"'\n",
    "\n",
    "logs = client.containers.run(\n",
    "    \"ubuntu\",\n",
    "    command,\n",
    "    remove=True,  \n",
    "    tty=True,\n",
    "    stdin_open=True,\n",
    "    # detach=True\n",
    ")\n",
    "print(logs.decode('utf-8').strip())"
   ]
  }
 ],
 "metadata": {
  "language_info": {
   "name": "python"
  }
 },
 "nbformat": 4,
 "nbformat_minor": 2
}
