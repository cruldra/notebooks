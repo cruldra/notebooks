{
 "cells": [
  {
   "cell_type": "markdown",
   "id": "7934cec1",
   "metadata": {},
   "source": [
    "# 简介"
   ]
  },
  {
   "cell_type": "markdown",
   "id": "f1f63270",
   "metadata": {},
   "source": [
    "## 配置"
   ]
  },
  {
   "cell_type": "markdown",
   "id": "64b47ef5",
   "metadata": {},
   "source": [
    "### 代理配置\n",
    "\n",
    "```bash\n",
    "\n",
    "# 设置代理\n",
    "git config --global http.proxy http://localhost:7890\n",
    "git config --global https.proxy https://localhost:7890\n",
    "# 取消代理\n",
    "git config --global --unset http.proxy\n",
    "git config --global --unset https.proxy\n",
    "\n",
    "\n",
    "```"
   ]
  },
  {
   "cell_type": "markdown",
   "id": "bafcce5e41976778",
   "metadata": {},
   "source": [
    "[将某个目录变成子模块](https://poe.com/s/eBkTC8D3MmXh7kCReTEy)"
   ]
  }
 ],
 "metadata": {
  "kernelspec": {
   "display_name": "Python 3",
   "language": "python",
   "name": "python3"
  },
  "language_info": {
   "codemirror_mode": {
    "name": "ipython",
    "version": 2
   },
   "file_extension": ".py",
   "mimetype": "text/x-python",
   "name": "python",
   "nbconvert_exporter": "python",
   "pygments_lexer": "ipython2",
   "version": "2.7.6"
  }
 },
 "nbformat": 4,
 "nbformat_minor": 5
}
