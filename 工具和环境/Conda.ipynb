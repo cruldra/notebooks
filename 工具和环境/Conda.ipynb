{
 "cells": [
  {
   "cell_type": "markdown",
   "id": "270e7be1",
   "metadata": {},
   "source": [
    "# 简介\n"
   ]
  },
  {
   "cell_type": "markdown",
   "id": "f3330ab2",
   "metadata": {},
   "source": [
    "# 安装\n"
   ]
  },
  {
   "cell_type": "markdown",
   "id": "d79c222a",
   "metadata": {},
   "source": [
    "## Linux\n",
    "\n",
    "```bash\n",
    "mkdir -p ~/miniconda3\n",
    "wget https://repo.anaconda.com/miniconda/Miniconda3-latest-Linux-x86_64.sh -O ~/miniconda3/miniconda.sh\n",
    "bash ~/miniconda3/miniconda.sh -b -u -p ~/miniconda3\n",
    "rm ~/miniconda3/miniconda.sh\n",
    "\n",
    "```"
   ]
  },
  {
   "cell_type": "markdown",
   "id": "8716e6b3",
   "metadata": {},
   "source": [
    "# 环境管理"
   ]
  },
  {
   "cell_type": "markdown",
   "id": "1e60238c",
   "metadata": {},
   "source": [
    "## 创建环境\n",
    "\n",
    "```bash\n",
    "# 创建一个名为license_server的环境，指定python版本为3.12\n",
    "conda create --name license_server  python=3.12\n",
    "```"
   ]
  }
 ],
 "metadata": {
  "kernelspec": {
   "display_name": "Python 3",
   "language": "python",
   "name": "python3"
  },
  "language_info": {
   "codemirror_mode": {
    "name": "ipython",
    "version": 2
   },
   "file_extension": ".py",
   "mimetype": "text/x-python",
   "name": "python",
   "nbconvert_exporter": "python",
   "pygments_lexer": "ipython2",
   "version": "2.7.6"
  }
 },
 "nbformat": 4,
 "nbformat_minor": 5
}
