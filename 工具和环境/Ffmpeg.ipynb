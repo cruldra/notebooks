{
 "cells": [
  {
   "cell_type": "markdown",
   "metadata": {},
   "source": [
    "# 简介\n",
    "[FFmpeg](https://www.ffmpeg.org/)是一个强大的音视频处理工具,它可以用来对音视频进行编解码、转码、剪辑、过滤等操作.\n"
   ]
  },
  {
   "cell_type": "markdown",
   "metadata": {},
   "source": [
    "# 参考\n",
    "\n",
    "* [ffmpeg视频模糊处理，降噪处理 - yongfengnice - 博客园](https://www.cnblogs.com/yongfengnice/p/7121946.html)\n",
    "* [介绍下ffmpeg](https://poe.com/s/bvARFtTXlRaCNKjmz2bK)\n",
    "* [Ffmpeg的滤镜是什么](https://poe.com/s/89R8HNWbyfq5JjmIWDWX)"
   ]
  }
 ],
 "metadata": {
  "kernelspec": {
   "display_name": ".NET (C#)",
   "language": "C#",
   "name": ".net-csharp"
  },
  "language_info": {
   "name": "python"
  },
  "polyglot_notebook": {
   "kernelInfo": {
    "defaultKernelName": "csharp",
    "items": [
     {
      "aliases": [],
      "name": "csharp"
     }
    ]
   }
  }
 },
 "nbformat": 4,
 "nbformat_minor": 2
}
