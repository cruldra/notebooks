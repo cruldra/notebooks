{
 "cells": [
  {
   "cell_type": "code",
   "id": "initial_id",
   "metadata": {
    "collapsed": true,
    "ExecuteTime": {
     "end_time": "2024-07-21T05:49:23.915954Z",
     "start_time": "2024-07-21T05:49:23.909810Z"
    }
   },
   "source": [
    "%%javascript\n",
    "alert(\"Hello, Jupyter!\")"
   ],
   "outputs": [
    {
     "data": {
      "text/plain": [
       "<IPython.core.display.Javascript object>"
      ],
      "application/javascript": "alert(\"Hello, Jupyter!\")\n"
     },
     "metadata": {},
     "output_type": "display_data"
    }
   ],
   "execution_count": 1
  },
  {
   "metadata": {},
   "cell_type": "markdown",
   "source": [
    "# 参考\n",
    "\n",
    "* [扩展Jupyter Notebook的Markdown语法](https://poe.com/s/Btvpmcnrru4bufqbNHOy)"
   ],
   "id": "ec270c2fcb2bd68"
  }
 ],
 "metadata": {
  "kernelspec": {
   "display_name": "Python 3",
   "language": "python",
   "name": "python3"
  },
  "language_info": {
   "codemirror_mode": {
    "name": "ipython",
    "version": 2
   },
   "file_extension": ".py",
   "mimetype": "text/x-python",
   "name": "python",
   "nbconvert_exporter": "python",
   "pygments_lexer": "ipython2",
   "version": "2.7.6"
  }
 },
 "nbformat": 4,
 "nbformat_minor": 5
}
