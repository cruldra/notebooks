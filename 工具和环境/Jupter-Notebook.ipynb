{
 "cells": [
  {
   "cell_type": "markdown",
   "id": "82a6865f",
   "metadata": {},
   "source": [
    "**Table of contents**<a id='toc0_'></a>    \n",
    "- [简介](#toc1_)    \n",
    "- [列魔法(Cell Magic)](#toc2_)    \n",
    "  - [`%%time`](#toc2_1_)    \n",
    "  - [`%%javascript`](#toc2_2_)    \n",
    "  - [`%%plantuml`](#toc2_3_)    \n",
    "- [参考](#toc3_)    \n",
    "\n",
    "<!-- vscode-jupyter-toc-config\n",
    "\tnumbering=false\n",
    "\tanchor=true\n",
    "\tflat=false\n",
    "\tminLevel=1\n",
    "\tmaxLevel=6\n",
    "\t/vscode-jupyter-toc-config -->\n",
    "<!-- THIS CELL WILL BE REPLACED ON TOC UPDATE. DO NOT WRITE YOUR TEXT IN THIS CELL -->"
   ]
  },
  {
   "cell_type": "markdown",
   "id": "2fbbf2eb",
   "metadata": {},
   "source": [
    "# <a id='toc1_'></a>[简介](#toc0_)\n",
    "\n",
    "[Jupyter](https://jupyter.org/)是一个开源的交互式笔记本工具,用于创建和共享文学化程序文档,支持实时代码、数学方程、可视化和markdown."
   ]
  },
  {
   "cell_type": "markdown",
   "id": "30d6aaf6",
   "metadata": {},
   "source": [
    "# <a id='toc2_'></a>[列魔法(Cell Magic)](#toc0_)"
   ]
  },
  {
   "cell_type": "markdown",
   "id": "6b3c3cb6",
   "metadata": {},
   "source": [
    "## <a id='toc2_1_'></a>[`%%time`](#toc0_)\n",
    "\n",
    "`%%time`魔法命令用于计算单元格的代码运行时间.\n"
   ]
  },
  {
   "cell_type": "code",
   "execution_count": 3,
   "id": "90533c6d",
   "metadata": {},
   "outputs": [
    {
     "name": "stdout",
     "output_type": "stream",
     "text": [
      "[1, 1, 4, 11, 11]\n",
      "CPU times: total: 93.8 ms\n",
      "Wall time: 643 ms\n"
     ]
    }
   ],
   "source": [
    "%%time\n",
    "# 这里我们创建一个大列表并对其进行排序\n",
    "import random\n",
    "\n",
    "# 生成一个包含100万个随机整数的列表\n",
    "large_list = [random.randint(1, 1000000) for _ in range(1000000)]\n",
    "\n",
    "# 对列表进行排序\n",
    "sorted_list = sorted(large_list)\n",
    "\n",
    "# 打印排序后列表的前5个元素，以确认排序成功\n",
    "print(sorted_list[:5])\n",
    "\n",
    "# 运行上面的代码会出现类似如下的输出：\n",
    "#[1, 1, 4, 11, 11] 代码本身的输出\n",
    "#CPU times: total: 93.8 ms  代码在 CPU 上执行的时间\n",
    "#Wall time: 643 ms 实际经过的时间，也就是您等待代码执行完成的时间\n"
   ]
  },
  {
   "cell_type": "markdown",
   "id": "fa90df2f",
   "metadata": {},
   "source": [
    "## <a id='toc2_2_'></a>[`%%javascript`](#toc0_)\n",
    "\n",
    "`%%javascript`魔法可以在`Jupyter Notebook`中运行`Javascript`代码."
   ]
  },
  {
   "cell_type": "code",
   "execution_count": 1,
   "id": "54024a95",
   "metadata": {},
   "outputs": [
    {
     "data": {
      "application/javascript": "alert(\"Hello, Jupyter!\")\n",
      "text/plain": [
       "<IPython.core.display.Javascript object>"
      ]
     },
     "metadata": {},
     "output_type": "display_data"
    }
   ],
   "source": [
    "%%javascript\n",
    "alert(\"Hello, Jupyter!\")"
   ]
  },
  {
   "cell_type": "markdown",
   "id": "9fa217d1",
   "metadata": {},
   "source": [
    "## <a id='toc2_3_'></a>[`%%plantuml`](#toc0_)\n",
    "\n",
    "`%%plantuml`魔法用于在`Jupyter Notebook`中绘制`Plantuml`图表.\n",
    "\n",
    "要使用这个魔法命令,需要先安装[IPlantUML](https://pypi.org/project/IPlantUML/)"
   ]
  },
  {
   "cell_type": "code",
   "execution_count": 1,
   "id": "f26756bd",
   "metadata": {},
   "outputs": [
    {
     "name": "stdout",
     "output_type": "stream",
     "text": [
      "Requirement already satisfied: iplantuml in d:\\workspace\\dongjak\\dongjak-dash-components\\.venv\\lib\\site-packages (0.1.1)\n",
      "Requirement already satisfied: plantweb in d:\\workspace\\dongjak\\dongjak-dash-components\\.venv\\lib\\site-packages (from iplantuml) (1.2.1)\n",
      "Requirement already satisfied: six in d:\\workspace\\dongjak\\dongjak-dash-components\\.venv\\lib\\site-packages (from plantweb->iplantuml) (1.16.0)\n",
      "Requirement already satisfied: requests in d:\\workspace\\dongjak\\dongjak-dash-components\\.venv\\lib\\site-packages (from plantweb->iplantuml) (2.32.3)\n",
      "Requirement already satisfied: docutils in d:\\workspace\\dongjak\\dongjak-dash-components\\.venv\\lib\\site-packages (from plantweb->iplantuml) (0.21.2)\n",
      "Requirement already satisfied: charset-normalizer<4,>=2 in d:\\workspace\\dongjak\\dongjak-dash-components\\.venv\\lib\\site-packages (from requests->plantweb->iplantuml) (3.3.2)\n",
      "Requirement already satisfied: idna<4,>=2.5 in d:\\workspace\\dongjak\\dongjak-dash-components\\.venv\\lib\\site-packages (from requests->plantweb->iplantuml) (3.7)\n",
      "Requirement already satisfied: urllib3<3,>=1.21.1 in d:\\workspace\\dongjak\\dongjak-dash-components\\.venv\\lib\\site-packages (from requests->plantweb->iplantuml) (2.2.2)\n",
      "Requirement already satisfied: certifi>=2017.4.17 in d:\\workspace\\dongjak\\dongjak-dash-components\\.venv\\lib\\site-packages (from requests->plantweb->iplantuml) (2024.7.4)\n"
     ]
    }
   ],
   "source": [
    "! pip install iplantuml"
   ]
  },
  {
   "cell_type": "code",
   "execution_count": 6,
   "id": "b7ac7b0c",
   "metadata": {},
   "outputs": [],
   "source": [
    "import iplantuml"
   ]
  },
  {
   "cell_type": "code",
   "execution_count": 5,
   "id": "174c7ab1",
   "metadata": {},
   "outputs": [
    {
     "data": {
      "image/svg+xml": [
       "<svg xmlns=\"http://www.w3.org/2000/svg\" xmlns:xlink=\"http://www.w3.org/1999/xlink\" contentStyleType=\"text/css\" height=\"149px\" preserveAspectRatio=\"none\" style=\"width:241px;height:149px;background:#FFFFFF;\" version=\"1.1\" viewBox=\"0 0 241 149\" width=\"241px\" zoomAndPan=\"magnify\"><defs/><g><line style=\"stroke:#181818;stroke-width:0.5;stroke-dasharray:5.0,5.0;\" x1=\"28\" x2=\"28\" y1=\"36.2969\" y2=\"114.5625\"/><line style=\"stroke:#181818;stroke-width:0.5;stroke-dasharray:5.0,5.0;\" x1=\"214.8877\" x2=\"214.8877\" y1=\"36.2969\" y2=\"114.5625\"/><rect fill=\"#E2E2F0\" height=\"30.2969\" rx=\"2.5\" ry=\"2.5\" style=\"stroke:#181818;stroke-width:0.5;\" width=\"47.667\" x=\"5\" y=\"5\"/><text fill=\"#000000\" font-family=\"sans-serif\" font-size=\"14\" lengthAdjust=\"spacing\" textLength=\"33.667\" x=\"12\" y=\"24.9951\">Alice</text><rect fill=\"#E2E2F0\" height=\"30.2969\" rx=\"2.5\" ry=\"2.5\" style=\"stroke:#181818;stroke-width:0.5;\" width=\"47.667\" x=\"5\" y=\"113.5625\"/><text fill=\"#000000\" font-family=\"sans-serif\" font-size=\"14\" lengthAdjust=\"spacing\" textLength=\"33.667\" x=\"12\" y=\"133.5576\">Alice</text><rect fill=\"#E2E2F0\" height=\"30.2969\" rx=\"2.5\" ry=\"2.5\" style=\"stroke:#181818;stroke-width:0.5;\" width=\"41.0566\" x=\"194.8877\" y=\"5\"/><text fill=\"#000000\" font-family=\"sans-serif\" font-size=\"14\" lengthAdjust=\"spacing\" textLength=\"27.0566\" x=\"201.8877\" y=\"24.9951\">Bob</text><rect fill=\"#E2E2F0\" height=\"30.2969\" rx=\"2.5\" ry=\"2.5\" style=\"stroke:#181818;stroke-width:0.5;\" width=\"41.0566\" x=\"194.8877\" y=\"113.5625\"/><text fill=\"#000000\" font-family=\"sans-serif\" font-size=\"14\" lengthAdjust=\"spacing\" textLength=\"27.0566\" x=\"201.8877\" y=\"133.5576\">Bob</text><polygon fill=\"#181818\" points=\"203.416,63.4297,213.416,67.4297,203.416,71.4297,207.416,67.4297\" style=\"stroke:#181818;stroke-width:1.0;\"/><line style=\"stroke:#181818;stroke-width:1.0;\" x1=\"28.8335\" x2=\"209.416\" y1=\"67.4297\" y2=\"67.4297\"/><text fill=\"#000000\" font-family=\"sans-serif\" font-size=\"13\" lengthAdjust=\"spacing\" textLength=\"152.9531\" x=\"35.8335\" y=\"62.3638\">Authentication Request</text><polygon fill=\"#181818\" points=\"39.8335,92.5625,29.8335,96.5625,39.8335,100.5625,35.8335,96.5625\" style=\"stroke:#181818;stroke-width:1.0;\"/><line style=\"stroke:#181818;stroke-width:1.0;stroke-dasharray:2.0,2.0;\" x1=\"33.8335\" x2=\"214.416\" y1=\"96.5625\" y2=\"96.5625\"/><text fill=\"#000000\" font-family=\"sans-serif\" font-size=\"13\" lengthAdjust=\"spacing\" textLength=\"162.5825\" x=\"45.8335\" y=\"91.4966\">Authentication Response</text><!--SRC=[Syp9J4vLqBLJSCfFib9mB2t9ICqhoKnEBCdCprC8IYqiJIqkuGBAAUW2rJY256DHLLoGdrUS2W00]--></g></svg>"
      ],
      "text/plain": [
       "<IPython.core.display.SVG object>"
      ]
     },
     "execution_count": 5,
     "metadata": {},
     "output_type": "execute_result"
    }
   ],
   "source": [
    "%%plantuml\n",
    "\n",
    "@startuml\n",
    "Alice -> Bob: Authentication Request\n",
    "Bob --> Alice: Authentication Response\n",
    "@enduml"
   ]
  },
  {
   "cell_type": "markdown",
   "id": "ee92a490",
   "metadata": {},
   "source": [
    "# <a id='toc3_'></a>[参考](#toc0_)\n",
    "\n",
    "* [扩展Jupyter Notebook的Markdown语法](https://poe.com/s/Btvpmcnrru4bufqbNHOy)\n",
    "* [How to Import Functions from Another Jupyter Notebook | Saturn Cloud Blog](https://saturncloud.io/blog/how-to-import-functions-from-another-jupyter-notebook/)\n",
    "* [如何在jupyter notebook中运行javascript和HTML代码 - DataSense](https://mlln.cn/2020/03/26/%E5%A6%82%E4%BD%95%E5%9C%A8jupyter-notebook%E4%B8%AD%E8%BF%90%E8%A1%8Cjavascript%E5%92%8CHTML%E4%BB%A3%E7%A0%81/)"
   ]
  }
 ],
 "metadata": {
  "kernelspec": {
   "display_name": "Python 3",
   "language": "python",
   "name": "python3"
  },
  "language_info": {
   "codemirror_mode": {
    "name": "ipython",
    "version": 3
   },
   "file_extension": ".py",
   "mimetype": "text/x-python",
   "name": "python",
   "nbconvert_exporter": "python",
   "pygments_lexer": "ipython3",
   "version": "3.12.4"
  }
 },
 "nbformat": 4,
 "nbformat_minor": 5
}
