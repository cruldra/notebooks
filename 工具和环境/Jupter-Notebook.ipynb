{
 "cells": [
  {
   "cell_type": "code",
   "execution_count": 1,
   "id": "initial_id",
   "metadata": {
    "ExecuteTime": {
     "end_time": "2024-07-21T05:49:23.915954Z",
     "start_time": "2024-07-21T05:49:23.909810Z"
    },
    "collapsed": true
   },
   "outputs": [
    {
     "data": {
      "application/javascript": "alert(\"Hello, Jupyter!\")\n",
      "text/plain": [
       "<IPython.core.display.Javascript object>"
      ]
     },
     "metadata": {},
     "output_type": "display_data"
    }
   ],
   "source": [
    "%%javascript\n",
    "alert(\"Hello, Jupyter!\")"
   ]
  },
  {
   "cell_type": "markdown",
   "id": "ec270c2fcb2bd68",
   "metadata": {},
   "source": [
    "# 参考\n",
    "\n",
    "* [扩展Jupyter Notebook的Markdown语法](https://poe.com/s/Btvpmcnrru4bufqbNHOy)\n",
    "* [How to Import Functions from Another Jupyter Notebook | Saturn Cloud Blog](https://saturncloud.io/blog/how-to-import-functions-from-another-jupyter-notebook/)"
   ]
  }
 ],
 "metadata": {
  "kernelspec": {
   "display_name": "Python 3",
   "language": "python",
   "name": "python3"
  },
  "language_info": {
   "codemirror_mode": {
    "name": "ipython",
    "version": 2
   },
   "file_extension": ".py",
   "mimetype": "text/x-python",
   "name": "python",
   "nbconvert_exporter": "python",
   "pygments_lexer": "ipython2",
   "version": "2.7.6"
  }
 },
 "nbformat": 4,
 "nbformat_minor": 5
}
