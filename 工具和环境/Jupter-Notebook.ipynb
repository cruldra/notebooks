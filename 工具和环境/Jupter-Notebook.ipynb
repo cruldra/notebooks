{
 "cells": [
  {
   "cell_type": "markdown",
   "id": "bd9764e8",
   "metadata": {},
   "source": [
    "# 简介\n",
    "\n",
    "[Jupyter](https://jupyter.org/)是一个开源的交互式笔记本工具,用于创建和共享文学化程序文档,支持实时代码、数学方程、可视化和markdown."
   ]
  },
  {
   "cell_type": "code",
   "execution_count": 1,
   "id": "initial_id",
   "metadata": {
    "ExecuteTime": {
     "end_time": "2024-07-21T05:49:23.915954Z",
     "start_time": "2024-07-21T05:49:23.909810Z"
    },
    "collapsed": true
   },
   "outputs": [
    {
     "data": {
      "application/javascript": "alert(\"Hello, Jupyter!\")\n",
      "text/plain": [
       "<IPython.core.display.Javascript object>"
      ]
     },
     "metadata": {},
     "output_type": "display_data"
    }
   ],
   "source": [
    "%%javascript\n",
    "alert(\"Hello, Jupyter!\")"
   ]
  },
  {
   "cell_type": "markdown",
   "id": "f746fe01",
   "metadata": {},
   "source": [
    "# 扩展"
   ]
  },
  {
   "cell_type": "markdown",
   "id": "8e3b2d24",
   "metadata": {},
   "source": [
    "## Plantuml\n",
    "\n",
    "要在`Jupyter`中使用`Plantuml`,需要先安装[IPlantUML](https://pypi.org/project/IPlantUML/)"
   ]
  },
  {
   "cell_type": "code",
   "execution_count": 1,
   "id": "f26756bd",
   "metadata": {},
   "outputs": [
    {
     "name": "stdout",
     "output_type": "stream",
     "text": [
      "Requirement already satisfied: iplantuml in d:\\workspace\\dongjak\\dongjak-dash-components\\.venv\\lib\\site-packages (0.1.1)\n",
      "Requirement already satisfied: plantweb in d:\\workspace\\dongjak\\dongjak-dash-components\\.venv\\lib\\site-packages (from iplantuml) (1.2.1)\n",
      "Requirement already satisfied: six in d:\\workspace\\dongjak\\dongjak-dash-components\\.venv\\lib\\site-packages (from plantweb->iplantuml) (1.16.0)\n",
      "Requirement already satisfied: requests in d:\\workspace\\dongjak\\dongjak-dash-components\\.venv\\lib\\site-packages (from plantweb->iplantuml) (2.32.3)\n",
      "Requirement already satisfied: docutils in d:\\workspace\\dongjak\\dongjak-dash-components\\.venv\\lib\\site-packages (from plantweb->iplantuml) (0.21.2)\n",
      "Requirement already satisfied: charset-normalizer<4,>=2 in d:\\workspace\\dongjak\\dongjak-dash-components\\.venv\\lib\\site-packages (from requests->plantweb->iplantuml) (3.3.2)\n",
      "Requirement already satisfied: idna<4,>=2.5 in d:\\workspace\\dongjak\\dongjak-dash-components\\.venv\\lib\\site-packages (from requests->plantweb->iplantuml) (3.7)\n",
      "Requirement already satisfied: urllib3<3,>=1.21.1 in d:\\workspace\\dongjak\\dongjak-dash-components\\.venv\\lib\\site-packages (from requests->plantweb->iplantuml) (2.2.2)\n",
      "Requirement already satisfied: certifi>=2017.4.17 in d:\\workspace\\dongjak\\dongjak-dash-components\\.venv\\lib\\site-packages (from requests->plantweb->iplantuml) (2024.7.4)\n"
     ]
    }
   ],
   "source": [
    "! pip install iplantuml"
   ]
  },
  {
   "cell_type": "code",
   "execution_count": 6,
   "id": "b7ac7b0c",
   "metadata": {},
   "outputs": [],
   "source": [
    "import iplantuml"
   ]
  },
  {
   "cell_type": "code",
   "execution_count": 5,
   "id": "39d48716",
   "metadata": {},
   "outputs": [
    {
     "data": {
      "image/svg+xml": [
       "<svg xmlns=\"http://www.w3.org/2000/svg\" xmlns:xlink=\"http://www.w3.org/1999/xlink\" contentStyleType=\"text/css\" height=\"149px\" preserveAspectRatio=\"none\" style=\"width:241px;height:149px;background:#FFFFFF;\" version=\"1.1\" viewBox=\"0 0 241 149\" width=\"241px\" zoomAndPan=\"magnify\"><defs/><g><line style=\"stroke:#181818;stroke-width:0.5;stroke-dasharray:5.0,5.0;\" x1=\"28\" x2=\"28\" y1=\"36.2969\" y2=\"114.5625\"/><line style=\"stroke:#181818;stroke-width:0.5;stroke-dasharray:5.0,5.0;\" x1=\"214.8877\" x2=\"214.8877\" y1=\"36.2969\" y2=\"114.5625\"/><rect fill=\"#E2E2F0\" height=\"30.2969\" rx=\"2.5\" ry=\"2.5\" style=\"stroke:#181818;stroke-width:0.5;\" width=\"47.667\" x=\"5\" y=\"5\"/><text fill=\"#000000\" font-family=\"sans-serif\" font-size=\"14\" lengthAdjust=\"spacing\" textLength=\"33.667\" x=\"12\" y=\"24.9951\">Alice</text><rect fill=\"#E2E2F0\" height=\"30.2969\" rx=\"2.5\" ry=\"2.5\" style=\"stroke:#181818;stroke-width:0.5;\" width=\"47.667\" x=\"5\" y=\"113.5625\"/><text fill=\"#000000\" font-family=\"sans-serif\" font-size=\"14\" lengthAdjust=\"spacing\" textLength=\"33.667\" x=\"12\" y=\"133.5576\">Alice</text><rect fill=\"#E2E2F0\" height=\"30.2969\" rx=\"2.5\" ry=\"2.5\" style=\"stroke:#181818;stroke-width:0.5;\" width=\"41.0566\" x=\"194.8877\" y=\"5\"/><text fill=\"#000000\" font-family=\"sans-serif\" font-size=\"14\" lengthAdjust=\"spacing\" textLength=\"27.0566\" x=\"201.8877\" y=\"24.9951\">Bob</text><rect fill=\"#E2E2F0\" height=\"30.2969\" rx=\"2.5\" ry=\"2.5\" style=\"stroke:#181818;stroke-width:0.5;\" width=\"41.0566\" x=\"194.8877\" y=\"113.5625\"/><text fill=\"#000000\" font-family=\"sans-serif\" font-size=\"14\" lengthAdjust=\"spacing\" textLength=\"27.0566\" x=\"201.8877\" y=\"133.5576\">Bob</text><polygon fill=\"#181818\" points=\"203.416,63.4297,213.416,67.4297,203.416,71.4297,207.416,67.4297\" style=\"stroke:#181818;stroke-width:1.0;\"/><line style=\"stroke:#181818;stroke-width:1.0;\" x1=\"28.8335\" x2=\"209.416\" y1=\"67.4297\" y2=\"67.4297\"/><text fill=\"#000000\" font-family=\"sans-serif\" font-size=\"13\" lengthAdjust=\"spacing\" textLength=\"152.9531\" x=\"35.8335\" y=\"62.3638\">Authentication Request</text><polygon fill=\"#181818\" points=\"39.8335,92.5625,29.8335,96.5625,39.8335,100.5625,35.8335,96.5625\" style=\"stroke:#181818;stroke-width:1.0;\"/><line style=\"stroke:#181818;stroke-width:1.0;stroke-dasharray:2.0,2.0;\" x1=\"33.8335\" x2=\"214.416\" y1=\"96.5625\" y2=\"96.5625\"/><text fill=\"#000000\" font-family=\"sans-serif\" font-size=\"13\" lengthAdjust=\"spacing\" textLength=\"162.5825\" x=\"45.8335\" y=\"91.4966\">Authentication Response</text><!--SRC=[Syp9J4vLqBLJSCfFib9mB2t9ICqhoKnEBCdCprC8IYqiJIqkuGBAAUW2rJY256DHLLoGdrUS2W00]--></g></svg>"
      ],
      "text/plain": [
       "<IPython.core.display.SVG object>"
      ]
     },
     "execution_count": 5,
     "metadata": {},
     "output_type": "execute_result"
    }
   ],
   "source": [
    "%%plantuml\n",
    "\n",
    "@startuml\n",
    "Alice -> Bob: Authentication Request\n",
    "Bob --> Alice: Authentication Response\n",
    "@enduml"
   ]
  },
  {
   "cell_type": "markdown",
   "id": "ec270c2fcb2bd68",
   "metadata": {},
   "source": [
    "# 参考\n",
    "\n",
    "* [扩展Jupyter Notebook的Markdown语法](https://poe.com/s/Btvpmcnrru4bufqbNHOy)\n",
    "* [How to Import Functions from Another Jupyter Notebook | Saturn Cloud Blog](https://saturncloud.io/blog/how-to-import-functions-from-another-jupyter-notebook/)"
   ]
  }
 ],
 "metadata": {
  "kernelspec": {
   "display_name": "Python 3",
   "language": "python",
   "name": "python3"
  },
  "language_info": {
   "codemirror_mode": {
    "name": "ipython",
    "version": 3
   },
   "file_extension": ".py",
   "mimetype": "text/x-python",
   "name": "python",
   "nbconvert_exporter": "python",
   "pygments_lexer": "ipython3",
   "version": "3.12.0"
  }
 },
 "nbformat": 4,
 "nbformat_minor": 5
}
