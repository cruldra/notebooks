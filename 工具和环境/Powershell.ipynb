{
 "cells": [
  {
   "metadata": {},
   "cell_type": "markdown",
   "source": "# 查看当前`powershell`的编码格式",
   "id": "5cd400e51feb9278"
  },
  {
   "metadata": {},
   "cell_type": "code",
   "source": [
    "import subprocess\n",
    "\n",
    "import subprocess\n",
    "\n",
    "# 使用原始字符串来避免转义字符问题\n",
    "command_line = r\"\"\"powershell.exe -ExecutionPolicy ByPass -NoExit -Command \"& [console]::OutputEncoding;\" \"\"\"\n",
    "print(1)\n",
    "# 运行命令并捕获输出和错误\n",
    "result = subprocess.run(command_line, shell=True, capture_output=True, text=True, check=True, cwd=r\"C:\\Windows\\System32\\WindowsPowerShell\\v1.0\")\n",
    "output = result.stdout\n",
    "error = result.stderr\n",
    "\n",
    "# 打印输出和错误\n",
    "print(f\"Output: {output}\")\n",
    "print(f\"Error: {error}\")\n"
   ],
   "id": "fc612c4da52c465a",
   "outputs": [],
   "execution_count": null
  }
 ],
 "metadata": {
  "kernelspec": {
   "display_name": "Python 3",
   "language": "python",
   "name": "python3"
  },
  "language_info": {
   "codemirror_mode": {
    "name": "ipython",
    "version": 2
   },
   "file_extension": ".py",
   "mimetype": "text/x-python",
   "name": "python",
   "nbconvert_exporter": "python",
   "pygments_lexer": "ipython2",
   "version": "2.7.6"
  }
 },
 "nbformat": 4,
 "nbformat_minor": 5
}
