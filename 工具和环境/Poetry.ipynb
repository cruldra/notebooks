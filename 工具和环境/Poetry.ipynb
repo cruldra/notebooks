{
 "cells": [
  {
   "cell_type": "markdown",
   "metadata": {},
   "source": [
    "**Table of contents**<a id='toc0_'></a>    \n",
    "- [简介](#toc1_)    \n",
    "- [项目管理](#toc2_)    \n",
    "  - [创建新项目](#toc2_1_)    \n",
    "  - [初始化现有项目](#toc2_2_)    \n",
    "- [依赖管理](#toc3_)    \n",
    "  - [添加依赖](#toc3_1_)    \n",
    "  - [添加开发依赖](#toc3_2_)    \n",
    "  - [删除依赖](#toc3_3_)    \n",
    "  - [查看依赖树](#toc3_4_)    \n",
    "- [构建和发布](#toc4_)    \n",
    "  - [构建项目](#toc4_1_)    \n",
    "  - [发布到`PyPI`](#toc4_2_)    \n",
    "- [配置](#toc5_)    \n",
    "  - [在项目目录下创建虚拟环境](#toc5_1_)    \n",
    "\n",
    "<!-- vscode-jupyter-toc-config\n",
    "\tnumbering=false\n",
    "\tanchor=true\n",
    "\tflat=false\n",
    "\tminLevel=1\n",
    "\tmaxLevel=6\n",
    "\t/vscode-jupyter-toc-config -->\n",
    "<!-- THIS CELL WILL BE REPLACED ON TOC UPDATE. DO NOT WRITE YOUR TEXT IN THIS CELL -->"
   ]
  },
  {
   "cell_type": "markdown",
   "metadata": {},
   "source": [
    "# <a id='toc1_'></a>[简介](#toc0_)\n",
    "\n",
    "[Poetry](https://python-poetry.org/)用于一站式管理`Python`项目的依赖、构建和发布."
   ]
  },
  {
   "cell_type": "markdown",
   "metadata": {},
   "source": [
    "# <a id='toc2_'></a>[项目管理](#toc0_)"
   ]
  },
  {
   "cell_type": "markdown",
   "metadata": {},
   "source": [
    "## <a id='toc2_1_'></a>[创建新项目](#toc0_)\n",
    "\n",
    "```bash\n",
    "poetry new my-project\n",
    "```"
   ]
  },
  {
   "cell_type": "markdown",
   "metadata": {},
   "source": [
    "## <a id='toc2_2_'></a>[初始化现有项目](#toc0_)\n",
    "\n",
    "```bash\n",
    "cd my-project\n",
    "poetry init\n",
    "```"
   ]
  },
  {
   "cell_type": "markdown",
   "metadata": {},
   "source": [
    "# <a id='toc3_'></a>[依赖管理](#toc0_)"
   ]
  },
  {
   "cell_type": "markdown",
   "metadata": {},
   "source": [
    "## <a id='toc3_1_'></a>[添加依赖](#toc0_)\n",
    "\n",
    "```bash\n",
    "poetry add requests\n",
    "```"
   ]
  },
  {
   "cell_type": "markdown",
   "metadata": {},
   "source": [
    "## <a id='toc3_2_'></a>[添加开发依赖](#toc0_)\n",
    "\n",
    "开发依赖不会被打包到发布的包中,一般用于安装测试、文档生成等工具.\n",
    "\n",
    "```bash\n",
    "poetry add --dev pytest\n",
    "```"
   ]
  },
  {
   "cell_type": "markdown",
   "metadata": {},
   "source": [
    "## <a id='toc3_3_'></a>[删除依赖](#toc0_)\n",
    "\n",
    "```bash\n",
    "poetry remove requests\n",
    "```"
   ]
  },
  {
   "cell_type": "markdown",
   "metadata": {},
   "source": [
    "## <a id='toc3_4_'></a>[查看依赖树](#toc0_)\n",
    "\n",
    "```bash\n",
    "poetry show --tree\n",
    "```"
   ]
  },
  {
   "cell_type": "markdown",
   "metadata": {},
   "source": [
    "# <a id='toc4_'></a>[构建和发布](#toc0_)"
   ]
  },
  {
   "cell_type": "markdown",
   "metadata": {},
   "source": [
    "## <a id='toc4_1_'></a>[构建项目](#toc0_)\n",
    "\n",
    "```bash\n",
    "poetry build\n",
    "```"
   ]
  },
  {
   "cell_type": "markdown",
   "metadata": {},
   "source": [
    "## <a id='toc4_2_'></a>[发布到`PyPI`](#toc0_)\n",
    "\n",
    "```bash\n",
    "poetry publish\n",
    "```"
   ]
  },
  {
   "cell_type": "markdown",
   "metadata": {},
   "source": [
    "# <a id='toc5_'></a>[配置](#toc0_)"
   ]
  },
  {
   "cell_type": "markdown",
   "metadata": {},
   "source": [
    "## <a id='toc5_1_'></a>[在项目目录下创建虚拟环境](#toc0_)\n",
    "\n",
    "```bash\n",
    "poetry config virtualenvs.in-project true\n",
    "```"
   ]
  }
 ],
 "metadata": {
  "language_info": {
   "name": "python"
  }
 },
 "nbformat": 4,
 "nbformat_minor": 2
}
