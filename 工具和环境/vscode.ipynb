{
 "cells": [
  {
   "cell_type": "markdown",
   "metadata": {},
   "source": [
    "# 简介\n",
    "\n",
    "# 快捷键\n",
    "\n",
    "* [Double shift key in Visual Studio Code | by Alexis Vigoureux | Medium](https://alexisvigoureux.medium.com/double-shift-key-in-visual-studio-code-eaef156b493f)"
   ]
  }
 ],
 "metadata": {
  "language_info": {
   "name": "python"
  }
 },
 "nbformat": 4,
 "nbformat_minor": 2
}
