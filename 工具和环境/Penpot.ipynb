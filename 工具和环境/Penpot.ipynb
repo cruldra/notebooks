{
 "cells": [
  {
   "cell_type": "markdown",
   "metadata": {},
   "source": [
    "# 简介\n",
    "\n",
    "[Penpot](https://github.com/penpot/penpot)是一个开源免费的原型设计工具,用于代替`Adobe XD`、`Figma`、`Sketch`等"
   ]
  }
 ],
 "metadata": {
  "language_info": {
   "name": "python"
  }
 },
 "nbformat": 4,
 "nbformat_minor": 2
}
