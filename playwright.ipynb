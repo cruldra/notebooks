{
 "cells": [
  {
   "metadata": {},
   "cell_type": "markdown",
   "source": [
    "# 参考\n",
    "\n",
    "* [Installation | Playwright Python](https://playwright.dev/python/docs/intro)"
   ],
   "id": "c0d31d1b55acd3f5"
  },
  {
   "metadata": {},
   "cell_type": "markdown",
   "source": "# 一个简单的例子",
   "id": "a3a6e88c0f2abb60"
  },
  {
   "metadata": {
    "ExecuteTime": {
     "end_time": "2024-07-26T20:15:05.727974Z",
     "start_time": "2024-07-26T20:14:58.661663Z"
    }
   },
   "cell_type": "code",
   "source": [
    "from playwright.async_api import async_playwright\n",
    " \n",
    "playwright = await async_playwright().start()\n",
    "browser = await playwright.chromium.launch(headless = False,)\n",
    " \n",
    "c=await browser.new_context(viewport={'width':1024,'height':768})\n",
    " \n",
    "page = await c.new_page()\n",
    " \n",
    "await page.goto(\"http://image.baidu.com\")\n",
    " \n",
    "await page.locator(\"#kw\").fill(\"XXX...\")\n",
    " \n",
    "await page.locator(\"#homeSearchForm > span.s_btn_wr > input\").click()\n",
    " \n",
    "async with  page.expect_popup() as page1_info:\n",
    "     await page.locator(\"#imgid > div > ul > li:nth-child(6)\").click()\n",
    "page1 = await page1_info.value\n",
    " \n",
    "await browser.close()\n",
    "await playwright.stop()"
   ],
   "id": "f5d56a58d535a469",
   "outputs": [
    {
     "ename": "TargetClosedError",
     "evalue": "Locator.fill: Target page, context or browser has been closed\nCall log:\nwaiting for locator(\"#kw\")\n",
     "output_type": "error",
     "traceback": [
      "\u001B[1;31m---------------------------------------------------------------------------\u001B[0m",
      "\u001B[1;31mTargetClosedError\u001B[0m                         Traceback (most recent call last)",
      "Cell \u001B[1;32mIn[5], line 12\u001B[0m\n\u001B[0;32m      8\u001B[0m page \u001B[38;5;241m=\u001B[39m \u001B[38;5;28;01mawait\u001B[39;00m c\u001B[38;5;241m.\u001B[39mnew_page()\n\u001B[0;32m     10\u001B[0m \u001B[38;5;28;01mawait\u001B[39;00m page\u001B[38;5;241m.\u001B[39mgoto(\u001B[38;5;124m\"\u001B[39m\u001B[38;5;124mhttp://image.baidu.com\u001B[39m\u001B[38;5;124m\"\u001B[39m)\n\u001B[1;32m---> 12\u001B[0m \u001B[38;5;28;01mawait\u001B[39;00m page\u001B[38;5;241m.\u001B[39mlocator(\u001B[38;5;124m\"\u001B[39m\u001B[38;5;124m#kw\u001B[39m\u001B[38;5;124m\"\u001B[39m)\u001B[38;5;241m.\u001B[39mfill(\u001B[38;5;124m\"\u001B[39m\u001B[38;5;124mXXX...\u001B[39m\u001B[38;5;124m\"\u001B[39m)\n\u001B[0;32m     14\u001B[0m \u001B[38;5;28;01mawait\u001B[39;00m page\u001B[38;5;241m.\u001B[39mlocator(\u001B[38;5;124m\"\u001B[39m\u001B[38;5;124m#homeSearchForm > span.s_btn_wr > input\u001B[39m\u001B[38;5;124m\"\u001B[39m)\u001B[38;5;241m.\u001B[39mclick()\n\u001B[0;32m     16\u001B[0m \u001B[38;5;28;01masync\u001B[39;00m \u001B[38;5;28;01mwith\u001B[39;00m  page\u001B[38;5;241m.\u001B[39mexpect_popup() \u001B[38;5;28;01mas\u001B[39;00m page1_info:\n",
      "File \u001B[1;32mD:\\Workspace\\aiworld\\digital_video\\.venv\\Lib\\site-packages\\playwright\\async_api\\_generated.py:15381\u001B[0m, in \u001B[0;36mLocator.fill\u001B[1;34m(self, value, timeout, no_wait_after, force)\u001B[0m\n\u001B[0;32m  15335\u001B[0m \u001B[38;5;28;01masync\u001B[39;00m \u001B[38;5;28;01mdef\u001B[39;00m \u001B[38;5;21mfill\u001B[39m(\n\u001B[0;32m  15336\u001B[0m     \u001B[38;5;28mself\u001B[39m,\n\u001B[0;32m  15337\u001B[0m     value: \u001B[38;5;28mstr\u001B[39m,\n\u001B[1;32m   (...)\u001B[0m\n\u001B[0;32m  15341\u001B[0m     force: typing\u001B[38;5;241m.\u001B[39mOptional[\u001B[38;5;28mbool\u001B[39m] \u001B[38;5;241m=\u001B[39m \u001B[38;5;28;01mNone\u001B[39;00m\n\u001B[0;32m  15342\u001B[0m ) \u001B[38;5;241m-\u001B[39m\u001B[38;5;241m>\u001B[39m \u001B[38;5;28;01mNone\u001B[39;00m:\n\u001B[0;32m  15343\u001B[0m \u001B[38;5;250m    \u001B[39m\u001B[38;5;124;03m\"\"\"Locator.fill\u001B[39;00m\n\u001B[0;32m  15344\u001B[0m \n\u001B[0;32m  15345\u001B[0m \u001B[38;5;124;03m    Set a value to the input field.\u001B[39;00m\n\u001B[1;32m   (...)\u001B[0m\n\u001B[0;32m  15377\u001B[0m \u001B[38;5;124;03m        Whether to bypass the [actionability](../actionability.md) checks. Defaults to `false`.\u001B[39;00m\n\u001B[0;32m  15378\u001B[0m \u001B[38;5;124;03m    \"\"\"\u001B[39;00m\n\u001B[0;32m  15380\u001B[0m     \u001B[38;5;28;01mreturn\u001B[39;00m mapping\u001B[38;5;241m.\u001B[39mfrom_maybe_impl(\n\u001B[1;32m> 15381\u001B[0m         \u001B[38;5;28;01mawait\u001B[39;00m \u001B[38;5;28mself\u001B[39m\u001B[38;5;241m.\u001B[39m_impl_obj\u001B[38;5;241m.\u001B[39mfill(\n\u001B[0;32m  15382\u001B[0m             value\u001B[38;5;241m=\u001B[39mvalue, timeout\u001B[38;5;241m=\u001B[39mtimeout, noWaitAfter\u001B[38;5;241m=\u001B[39mno_wait_after, force\u001B[38;5;241m=\u001B[39mforce\n\u001B[0;32m  15383\u001B[0m         )\n\u001B[0;32m  15384\u001B[0m     )\n",
      "File \u001B[1;32mD:\\Workspace\\aiworld\\digital_video\\.venv\\Lib\\site-packages\\playwright\\_impl\\_locator.py:208\u001B[0m, in \u001B[0;36mLocator.fill\u001B[1;34m(self, value, timeout, noWaitAfter, force)\u001B[0m\n\u001B[0;32m    200\u001B[0m \u001B[38;5;28;01masync\u001B[39;00m \u001B[38;5;28;01mdef\u001B[39;00m \u001B[38;5;21mfill\u001B[39m(\n\u001B[0;32m    201\u001B[0m     \u001B[38;5;28mself\u001B[39m,\n\u001B[0;32m    202\u001B[0m     value: \u001B[38;5;28mstr\u001B[39m,\n\u001B[1;32m   (...)\u001B[0m\n\u001B[0;32m    205\u001B[0m     force: \u001B[38;5;28mbool\u001B[39m \u001B[38;5;241m=\u001B[39m \u001B[38;5;28;01mNone\u001B[39;00m,\n\u001B[0;32m    206\u001B[0m ) \u001B[38;5;241m-\u001B[39m\u001B[38;5;241m>\u001B[39m \u001B[38;5;28;01mNone\u001B[39;00m:\n\u001B[0;32m    207\u001B[0m     params \u001B[38;5;241m=\u001B[39m locals_to_params(\u001B[38;5;28mlocals\u001B[39m())\n\u001B[1;32m--> 208\u001B[0m     \u001B[38;5;28;01mreturn\u001B[39;00m \u001B[38;5;28;01mawait\u001B[39;00m \u001B[38;5;28mself\u001B[39m\u001B[38;5;241m.\u001B[39m_frame\u001B[38;5;241m.\u001B[39mfill(\u001B[38;5;28mself\u001B[39m\u001B[38;5;241m.\u001B[39m_selector, strict\u001B[38;5;241m=\u001B[39m\u001B[38;5;28;01mTrue\u001B[39;00m, \u001B[38;5;241m*\u001B[39m\u001B[38;5;241m*\u001B[39mparams)\n",
      "File \u001B[1;32mD:\\Workspace\\aiworld\\digital_video\\.venv\\Lib\\site-packages\\playwright\\_impl\\_frame.py:527\u001B[0m, in \u001B[0;36mFrame.fill\u001B[1;34m(self, selector, value, timeout, noWaitAfter, strict, force)\u001B[0m\n\u001B[0;32m    518\u001B[0m \u001B[38;5;28;01masync\u001B[39;00m \u001B[38;5;28;01mdef\u001B[39;00m \u001B[38;5;21mfill\u001B[39m(\n\u001B[0;32m    519\u001B[0m     \u001B[38;5;28mself\u001B[39m,\n\u001B[0;32m    520\u001B[0m     selector: \u001B[38;5;28mstr\u001B[39m,\n\u001B[1;32m   (...)\u001B[0m\n\u001B[0;32m    525\u001B[0m     force: \u001B[38;5;28mbool\u001B[39m \u001B[38;5;241m=\u001B[39m \u001B[38;5;28;01mNone\u001B[39;00m,\n\u001B[0;32m    526\u001B[0m ) \u001B[38;5;241m-\u001B[39m\u001B[38;5;241m>\u001B[39m \u001B[38;5;28;01mNone\u001B[39;00m:\n\u001B[1;32m--> 527\u001B[0m     \u001B[38;5;28;01mawait\u001B[39;00m \u001B[38;5;28mself\u001B[39m\u001B[38;5;241m.\u001B[39m_channel\u001B[38;5;241m.\u001B[39msend(\u001B[38;5;124m\"\u001B[39m\u001B[38;5;124mfill\u001B[39m\u001B[38;5;124m\"\u001B[39m, locals_to_params(\u001B[38;5;28mlocals\u001B[39m()))\n",
      "File \u001B[1;32mD:\\Workspace\\aiworld\\digital_video\\.venv\\Lib\\site-packages\\playwright\\_impl\\_connection.py:59\u001B[0m, in \u001B[0;36mChannel.send\u001B[1;34m(self, method, params)\u001B[0m\n\u001B[0;32m     58\u001B[0m \u001B[38;5;28;01masync\u001B[39;00m \u001B[38;5;28;01mdef\u001B[39;00m \u001B[38;5;21msend\u001B[39m(\u001B[38;5;28mself\u001B[39m, method: \u001B[38;5;28mstr\u001B[39m, params: Dict \u001B[38;5;241m=\u001B[39m \u001B[38;5;28;01mNone\u001B[39;00m) \u001B[38;5;241m-\u001B[39m\u001B[38;5;241m>\u001B[39m Any:\n\u001B[1;32m---> 59\u001B[0m     \u001B[38;5;28;01mreturn\u001B[39;00m \u001B[38;5;28;01mawait\u001B[39;00m \u001B[38;5;28mself\u001B[39m\u001B[38;5;241m.\u001B[39m_connection\u001B[38;5;241m.\u001B[39mwrap_api_call(\n\u001B[0;32m     60\u001B[0m         \u001B[38;5;28;01mlambda\u001B[39;00m: \u001B[38;5;28mself\u001B[39m\u001B[38;5;241m.\u001B[39minner_send(method, params, \u001B[38;5;28;01mFalse\u001B[39;00m)\n\u001B[0;32m     61\u001B[0m     )\n",
      "File \u001B[1;32mD:\\Workspace\\aiworld\\digital_video\\.venv\\Lib\\site-packages\\playwright\\_impl\\_connection.py:514\u001B[0m, in \u001B[0;36mConnection.wrap_api_call\u001B[1;34m(self, cb, is_internal)\u001B[0m\n\u001B[0;32m    512\u001B[0m     \u001B[38;5;28;01mreturn\u001B[39;00m \u001B[38;5;28;01mawait\u001B[39;00m cb()\n\u001B[0;32m    513\u001B[0m \u001B[38;5;28;01mexcept\u001B[39;00m \u001B[38;5;167;01mException\u001B[39;00m \u001B[38;5;28;01mas\u001B[39;00m error:\n\u001B[1;32m--> 514\u001B[0m     \u001B[38;5;28;01mraise\u001B[39;00m rewrite_error(error, \u001B[38;5;124mf\u001B[39m\u001B[38;5;124m\"\u001B[39m\u001B[38;5;132;01m{\u001B[39;00mparsed_st[\u001B[38;5;124m'\u001B[39m\u001B[38;5;124mapiName\u001B[39m\u001B[38;5;124m'\u001B[39m]\u001B[38;5;132;01m}\u001B[39;00m\u001B[38;5;124m: \u001B[39m\u001B[38;5;132;01m{\u001B[39;00merror\u001B[38;5;132;01m}\u001B[39;00m\u001B[38;5;124m\"\u001B[39m) \u001B[38;5;28;01mfrom\u001B[39;00m \u001B[38;5;28;01mNone\u001B[39;00m\n\u001B[0;32m    515\u001B[0m \u001B[38;5;28;01mfinally\u001B[39;00m:\n\u001B[0;32m    516\u001B[0m     \u001B[38;5;28mself\u001B[39m\u001B[38;5;241m.\u001B[39m_api_zone\u001B[38;5;241m.\u001B[39mset(\u001B[38;5;28;01mNone\u001B[39;00m)\n",
      "\u001B[1;31mTargetClosedError\u001B[0m: Locator.fill: Target page, context or browser has been closed\nCall log:\nwaiting for locator(\"#kw\")\n"
     ]
    }
   ],
   "execution_count": 5
  },
  {
   "metadata": {},
   "cell_type": "markdown",
   "source": [
    "# 常见问题\n",
    "\n",
    "## 在`jupyter notebook`中运行`playwright`代码会出现`NotImplementedError`错误\n",
    "\n",
    "* [[BUG] Async Playwright with Jupyter throws NotImplementedError · Issue #723 · microsoft/playwright-python](https://github.com/microsoft/playwright-python/issues/723)\n",
    "* [Running Playwright in JupyterLab Notebook Problem - Not implemented Error - JupyterLab - Jupyter Community Forum](https://discourse.jupyter.org/t/running-playwright-in-jupyterlab-notebook-problem-not-implemented-error/17653/2)"
   ],
   "id": "58e3341ae5520f7f"
  },
  {
   "metadata": {},
   "cell_type": "code",
   "outputs": [],
   "execution_count": null,
   "source": "",
   "id": "b27828ac044fd58"
  }
 ],
 "metadata": {
  "kernelspec": {
   "display_name": "Python 3",
   "language": "python",
   "name": "python3"
  },
  "language_info": {
   "codemirror_mode": {
    "name": "ipython",
    "version": 2
   },
   "file_extension": ".py",
   "mimetype": "text/x-python",
   "name": "python",
   "nbconvert_exporter": "python",
   "pygments_lexer": "ipython2",
   "version": "2.7.6"
  }
 },
 "nbformat": 4,
 "nbformat_minor": 5
}
