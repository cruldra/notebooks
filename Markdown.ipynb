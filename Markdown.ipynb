{
 "cells": [
  {
   "metadata": {},
   "cell_type": "markdown",
   "source": [
    "# 在`markdown`中实现目录树\n",
    "\n",
    "```markdown\n",
    "\n",
    "color_picker/\n",
    "├── pyproject.toml            <- Configuration file\n",
    "├── README.md\n",
    "├── .gitignore                <- Exclude dist/ and metadata folders\n",
    "├── custom_components/\n",
    "│   └── reflex_color_picker/  <- Custom component source directory\n",
    "│       ├── color_picker.py\n",
    "│       └── __init__.py\n",
    "└── color_picker_demo/        <- Demo Reflex app directory\n",
    "    └── assets/\n",
    "        color_picker_demo/\n",
    "        requirements.txt\n",
    "        rxconfig.py\n",
    "```"
   ],
   "id": "531d4fc765017a94"
  },
  {
   "metadata": {},
   "cell_type": "markdown",
   "source": "",
   "id": "e7df0c54d6c3bb5e"
  }
 ],
 "metadata": {
  "kernelspec": {
   "display_name": "Python 3",
   "language": "python",
   "name": "python3"
  },
  "language_info": {
   "codemirror_mode": {
    "name": "ipython",
    "version": 2
   },
   "file_extension": ".py",
   "mimetype": "text/x-python",
   "name": "python",
   "nbconvert_exporter": "python",
   "pygments_lexer": "ipython2",
   "version": "2.7.6"
  }
 },
 "nbformat": 4,
 "nbformat_minor": 5
}
