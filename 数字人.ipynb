{
 "cells": [
  {
   "metadata": {},
   "cell_type": "markdown",
   "source": [
    "# 目前几个商用的数字人产品\n",
    "\n",
    "| 主页                                                  |价格 |支持api调用|\n",
    "|-----------------------------------------------------| --- | --- |\n",
    "| [Heygen](https://www.heygen.com/personalized-video) | 未知 | 未知 |\n",
    "|[腾讯智影](https://zenvideo.qq.com/vip/intro)       | 未知 | 未知 |\n",
    "\n",
    "# 参考资料\n",
    "\n",
    "* [YUANZHUO-BNU/metahuman_overview: 数字人资料整理](https://github.com/YUANZHUO-BNU/metahuman_overview)"
   ],
   "id": "bef6a6b6310f5ade"
  }
 ],
 "metadata": {
  "kernelspec": {
   "display_name": "Python 3",
   "language": "python",
   "name": "python3"
  },
  "language_info": {
   "codemirror_mode": {
    "name": "ipython",
    "version": 2
   },
   "file_extension": ".py",
   "mimetype": "text/x-python",
   "name": "python",
   "nbconvert_exporter": "python",
   "pygments_lexer": "ipython2",
   "version": "2.7.6"
  }
 },
 "nbformat": 4,
 "nbformat_minor": 5
}
