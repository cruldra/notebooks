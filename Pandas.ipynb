{
 "cells": [
  {
   "cell_type": "markdown",
   "id": "3ddd874b3f6ba24f",
   "metadata": {},
   "source": [
    "# 简介\n",
    "\n",
    "[pandas](https://pandas.pydata.org/docs/index.html)用于数据分析和清洗."
   ]
  },
  {
   "cell_type": "markdown",
   "id": "f148f6735855e277",
   "metadata": {},
   "source": [
    "# 示例1: 按字典列表中的某几个字段排序"
   ]
  },
  {
   "cell_type": "code",
   "execution_count": 1,
   "id": "8ba02f832de6cc17",
   "metadata": {
    "ExecuteTime": {
     "end_time": "2024-08-03T16:51:09.510281Z",
     "start_time": "2024-08-03T16:51:09.293701Z"
    }
   },
   "outputs": [
    {
     "name": "stdout",
     "output_type": "stream",
     "text": [
      "Collecting pandas\n",
      "  Downloading pandas-2.2.2-cp312-cp312-win_amd64.whl.metadata (19 kB)\n",
      "Collecting numpy>=1.26.0 (from pandas)\n",
      "  Downloading numpy-2.0.1-cp312-cp312-win_amd64.whl.metadata (60 kB)\n",
      "Requirement already satisfied: python-dateutil>=2.8.2 in d:\\workspace\\dongjak\\dongjak-dash-components\\.venv\\lib\\site-packages (from pandas) (2.9.0.post0)\n",
      "Collecting pytz>=2020.1 (from pandas)\n",
      "  Downloading pytz-2024.1-py2.py3-none-any.whl.metadata (22 kB)\n",
      "Collecting tzdata>=2022.7 (from pandas)\n",
      "  Downloading tzdata-2024.1-py2.py3-none-any.whl.metadata (1.4 kB)\n",
      "Requirement already satisfied: six>=1.5 in d:\\workspace\\dongjak\\dongjak-dash-components\\.venv\\lib\\site-packages (from python-dateutil>=2.8.2->pandas) (1.16.0)\n",
      "Downloading pandas-2.2.2-cp312-cp312-win_amd64.whl (11.5 MB)\n",
      "   ---------------------------------------- 0.0/11.5 MB ? eta -:--:--\n",
      "   ----------------------- ---------------- 6.8/11.5 MB 46.5 MB/s eta 0:00:01\n",
      "   ---------------------------------------- 11.5/11.5 MB 31.2 MB/s eta 0:00:00\n",
      "Downloading numpy-2.0.1-cp312-cp312-win_amd64.whl (16.3 MB)\n",
      "   ---------------------------------------- 0.0/16.3 MB ? eta -:--:--\n",
      "   ---------------------- ----------------- 9.2/16.3 MB 71.3 MB/s eta 0:00:01\n",
      "   ---------------------------------------- 16.3/16.3 MB 48.8 MB/s eta 0:00:00\n",
      "Downloading pytz-2024.1-py2.py3-none-any.whl (505 kB)\n",
      "Downloading tzdata-2024.1-py2.py3-none-any.whl (345 kB)\n",
      "Installing collected packages: pytz, tzdata, numpy, pandas\n",
      "Successfully installed numpy-2.0.1 pandas-2.2.2 pytz-2024.1 tzdata-2024.1\n",
      "   id     name  total_recharged  total_consumption\n",
      "1   2      Bob              150                 60\n",
      "2   3  Charlie              120                 70\n",
      "0   1    Alice              100                 50\n"
     ]
    }
   ],
   "source": [
    "! pip install pandas\n",
    "import pandas as pd\n",
    "\n",
    "# 假设 user_dicts 是你的字典列表\n",
    "user_dicts = [\n",
    "    {\n",
    "        \"id\": 1,\n",
    "        \"name\": \"Alice\",\n",
    "        \"total_recharged\": 100,\n",
    "        \"total_consumption\": 50\n",
    "    },\n",
    "    {\n",
    "        \"id\": 2,\n",
    "        \"name\": \"Bob\",\n",
    "        \"total_recharged\": 150,\n",
    "        \"total_consumption\": 60\n",
    "    },\n",
    "    {\n",
    "        \"id\": 3,\n",
    "        \"name\": \"Charlie\",\n",
    "        \"total_recharged\": 120,\n",
    "        \"total_consumption\": 70\n",
    "    }\n",
    "    # ... 其他用户数据\n",
    "]\n",
    "\n",
    "# 将字典列表转换为 DataFrame\n",
    "df = pd.DataFrame(user_dicts)\n",
    "\n",
    "# 按 total_recharged 和 total_consumption 降序排序\n",
    "df_sorted = df.sort_values(by=['total_recharged', 'total_consumption'], ascending=[False, False])\n",
    "\n",
    "# 打印排序后的 DataFrame\n",
    "print(df_sorted)"
   ]
  },
  {
   "cell_type": "code",
   "execution_count": null,
   "id": "5c1dbadf82e7c6c6",
   "metadata": {},
   "outputs": [],
   "source": []
  }
 ],
 "metadata": {
  "kernelspec": {
   "display_name": "Python 3",
   "language": "python",
   "name": "python3"
  },
  "language_info": {
   "codemirror_mode": {
    "name": "ipython",
    "version": 3
   },
   "file_extension": ".py",
   "mimetype": "text/x-python",
   "name": "python",
   "nbconvert_exporter": "python",
   "pygments_lexer": "ipython3",
   "version": "3.12.0"
  }
 },
 "nbformat": 4,
 "nbformat_minor": 5
}
