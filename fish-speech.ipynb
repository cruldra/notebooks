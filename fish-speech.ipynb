{
 "cells": [
  {
   "metadata": {},
   "cell_type": "markdown",
   "source": [
    "# 参考\n",
    "\n",
    "* [高质量AI音频生成！Fish-Speech懒人包(解压即用)！包涵推理与模型微调手把手教程！_哔哩哔哩_bilibili](https://www.bilibili.com/video/BV1xs421A71f/?spm_id_from=333.788.recommend_more_video.2&vd_source=035c7c34b49f43ab2f1efe4c0b6fc206)\n",
    "* [Fish Audio: Audio Generation For All](https://fish.audio/zh-CN/)\n",
    "* [fishaudio/fish-speech-1.2 · Hugging Face](https://huggingface.co/fishaudio/fish-speech-1.2)"
   ],
   "id": "54608fe2f935b55c"
  }
 ],
 "metadata": {
  "kernelspec": {
   "display_name": "Python 3",
   "language": "python",
   "name": "python3"
  },
  "language_info": {
   "codemirror_mode": {
    "name": "ipython",
    "version": 2
   },
   "file_extension": ".py",
   "mimetype": "text/x-python",
   "name": "python",
   "nbconvert_exporter": "python",
   "pygments_lexer": "ipython2",
   "version": "2.7.6"
  }
 },
 "nbformat": 4,
 "nbformat_minor": 5
}
