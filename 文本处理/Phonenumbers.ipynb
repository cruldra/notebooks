{
 "cells": [
  {
   "cell_type": "markdown",
   "metadata": {},
   "source": [
    "# 简介\n",
    "\n",
    "[phonenumbers](https://pypi.org/project/phonenumbers/)是[Google Libphonenumber](https://github.com/google/libphonenumber)的`Python`版本,专门用于解析、验证和格式化国际电话号码"
   ]
  }
 ],
 "metadata": {
  "language_info": {
   "name": "python"
  }
 },
 "nbformat": 4,
 "nbformat_minor": 2
}
