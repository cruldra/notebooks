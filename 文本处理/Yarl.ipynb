{
 "cells": [
  {
   "cell_type": "markdown",
   "metadata": {},
   "source": [
    "**Table of contents**<a id='toc0_'></a>    \n",
    "- [简介](#toc1_)    \n",
    "- [安装](#toc2_)    \n",
    "- [示例](#toc3_)    \n",
    "  - [示例1:解析`URL`](#toc3_1_)    \n",
    "  - [修改`URL`的查询参数](#toc3_2_)    \n",
    "- [参考](#toc4_)    \n",
    "\n",
    "<!-- vscode-jupyter-toc-config\n",
    "\tnumbering=false\n",
    "\tanchor=true\n",
    "\tflat=false\n",
    "\tminLevel=1\n",
    "\tmaxLevel=6\n",
    "\t/vscode-jupyter-toc-config -->\n",
    "<!-- THIS CELL WILL BE REPLACED ON TOC UPDATE. DO NOT WRITE YOUR TEXT IN THIS CELL -->"
   ]
  },
  {
   "cell_type": "markdown",
   "metadata": {},
   "source": [
    "# <a id='toc1_'></a>[简介](#toc0_)\n",
    "\n",
    "[yarl](https://pypi.org/project/yarl/)模块提供了一个便利的`URL`类, 用于解析和构建`URL`."
   ]
  },
  {
   "cell_type": "markdown",
   "metadata": {},
   "source": [
    "# <a id='toc2_'></a>[安装](#toc0_)\n"
   ]
  },
  {
   "cell_type": "code",
   "execution_count": 1,
   "metadata": {},
   "outputs": [
    {
     "name": "stdout",
     "output_type": "stream",
     "text": [
      "Collecting yarl\n",
      "  Using cached yarl-1.9.4-cp312-cp312-win_amd64.whl.metadata (32 kB)\n",
      "Requirement already satisfied: idna>=2.0 in e:\\appdata\\conda\\envs\\jupyter-notebook\\lib\\site-packages (from yarl) (3.7)\n",
      "Collecting multidict>=4.0 (from yarl)\n",
      "  Using cached multidict-6.0.5-cp312-cp312-win_amd64.whl.metadata (4.3 kB)\n",
      "Using cached yarl-1.9.4-cp312-cp312-win_amd64.whl (76 kB)\n",
      "Using cached multidict-6.0.5-cp312-cp312-win_amd64.whl (27 kB)\n",
      "Installing collected packages: multidict, yarl\n",
      "Successfully installed multidict-6.0.5 yarl-1.9.4\n"
     ]
    }
   ],
   "source": [
    "! pip install yarl"
   ]
  },
  {
   "cell_type": "markdown",
   "metadata": {},
   "source": [
    "# <a id='toc3_'></a>[示例](#toc0_)"
   ]
  },
  {
   "cell_type": "markdown",
   "metadata": {},
   "source": [
    "## <a id='toc3_1_'></a>[示例1:解析`URL`](#toc0_)"
   ]
  },
  {
   "cell_type": "code",
   "execution_count": 3,
   "metadata": {},
   "outputs": [
    {
     "name": "stdout",
     "output_type": "stream",
     "text": [
      "https\n",
      "www.python.org\n",
      "/~guido\n",
      "arg=1\n",
      "<MultiDictProxy('arg': '1')>\n",
      "frag\n"
     ]
    }
   ],
   "source": [
    "from yarl import URL\n",
    "url = URL('https://www.python.org/~guido?arg=1#frag')\n",
    "print(url.scheme) # 方案\n",
    "print(url.host) # 主机\n",
    "print(url.path) # 路径\n",
    "print(url.query_string) # 查询字符串\n",
    "print(url.query)    # 查询参数(字典形式)\n",
    "print(url.fragment) # 片段"
   ]
  },
  {
   "cell_type": "markdown",
   "metadata": {},
   "source": [
    "## <a id='toc3_2_'></a>[修改`URL`的查询参数](#toc0_)"
   ]
  },
  {
   "cell_type": "code",
   "execution_count": 11,
   "metadata": {},
   "outputs": [
    {
     "name": "stdout",
     "output_type": "stream",
     "text": [
      "https://www.douyin.com/search/%E7%95%99%E5%AD%A6?aid=2774348e-ca22-41fb-b992-67dbce5f9ae3&type=video\n"
     ]
    }
   ],
   "source": [
    "from yarl import URL\n",
    "url=URL('https://www.douyin.com/search/%E7%95%99%E5%AD%A6?aid=2774348e-ca22-41fb-b992-67dbce5f9ae3&type=general')\n",
    "new_query=url.query.copy()\n",
    "new_query['type']='video'\n",
    "url=url.with_query(new_query)\n",
    "print(url)"
   ]
  },
  {
   "cell_type": "markdown",
   "metadata": {},
   "source": [
    "# <a id='toc4_'></a>[参考](#toc0_)\n",
    "\n",
    "* [yarl,一个神奇的库](https://mp.weixin.qq.com/s/C6teaGU_1I2EFTTDZeAejQ)"
   ]
  }
 ],
 "metadata": {
  "kernelspec": {
   "display_name": "jupyter-notebook",
   "language": "python",
   "name": "python3"
  },
  "language_info": {
   "codemirror_mode": {
    "name": "ipython",
    "version": 3
   },
   "file_extension": ".py",
   "mimetype": "text/x-python",
   "name": "python",
   "nbconvert_exporter": "python",
   "pygments_lexer": "ipython3",
   "version": "3.12.4"
  }
 },
 "nbformat": 4,
 "nbformat_minor": 2
}
