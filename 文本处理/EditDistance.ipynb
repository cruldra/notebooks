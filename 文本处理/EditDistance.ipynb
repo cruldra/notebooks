{
 "cells": [
  {
   "cell_type": "markdown",
   "metadata": {},
   "source": [
    "# 简介\n",
    "\n",
    "[编辑距离(Edit Distance)](https://pypi.org/project/editdistance/)是一种用于度量两个字符串之间的相似度的方法.它表示通过最少几次操作,以将一个字符串转换为另一个字符串.这里的操作包括插入、删除、替换字符.\n"
   ]
  }
 ],
 "metadata": {
  "language_info": {
   "name": "python"
  }
 },
 "nbformat": 4,
 "nbformat_minor": 2
}
