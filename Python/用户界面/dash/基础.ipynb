{
 "cells": [
  {
   "metadata": {},
   "cell_type": "markdown",
   "source": "https://poe.com/s/Fo8q93ySJ46JCA7sSa8t",
   "id": "c456605a8ff83899"
  },
  {
   "metadata": {
    "ExecuteTime": {
     "end_time": "2024-08-02T18:54:58.932695Z",
     "start_time": "2024-08-02T18:54:48.376943Z"
    }
   },
   "cell_type": "code",
   "source": [
    "from dash import Dash, html, dcc, callback, Output, Input\n",
    "import plotly.express as px\n",
    "import pandas as pd\n",
    "\n",
    "df = pd.read_csv('https://raw.githubusercontent.com/plotly/datasets/master/gapminder_unfiltered.csv')\n",
    "\n",
    "app = Dash()\n",
    "\n",
    "app.layout = [\n",
    "    html.H1(children='Title of Dash App', style={'textAlign':'center'}),\n",
    "    dcc.Dropdown(df.country.unique(), 'Canada', id='dropdown-selection'),\n",
    "    dcc.Graph(id='graph-content')\n",
    "]\n",
    "\n",
    "@callback(\n",
    "    Output('graph-content', 'figure'),\n",
    "    Input('dropdown-selection', 'value')\n",
    ")\n",
    "def update_graph(value):\n",
    "    dff = df[df.country==value]\n",
    "    return px.line(dff, x='year', y='pop')\n",
    "\n",
    "if __name__ == '__main__':\n",
    "    app.run(debug=True,port=8051)\n"
   ],
   "id": "a379e30e63b6902b",
   "outputs": [
    {
     "ename": "OSError",
     "evalue": "Address 'http://127.0.0.1:8050' already in use.\n    Try passing a different port to run_server.",
     "output_type": "error",
     "traceback": [
      "\u001B[1;31m---------------------------------------------------------------------------\u001B[0m",
      "\u001B[1;31mOSError\u001B[0m                                   Traceback (most recent call last)",
      "Cell \u001B[1;32mIn[2], line 24\u001B[0m\n\u001B[0;32m     21\u001B[0m     \u001B[38;5;28;01mreturn\u001B[39;00m px\u001B[38;5;241m.\u001B[39mline(dff, x\u001B[38;5;241m=\u001B[39m\u001B[38;5;124m'\u001B[39m\u001B[38;5;124myear\u001B[39m\u001B[38;5;124m'\u001B[39m, y\u001B[38;5;241m=\u001B[39m\u001B[38;5;124m'\u001B[39m\u001B[38;5;124mpop\u001B[39m\u001B[38;5;124m'\u001B[39m)\n\u001B[0;32m     23\u001B[0m \u001B[38;5;28;01mif\u001B[39;00m \u001B[38;5;18m__name__\u001B[39m \u001B[38;5;241m==\u001B[39m \u001B[38;5;124m'\u001B[39m\u001B[38;5;124m__main__\u001B[39m\u001B[38;5;124m'\u001B[39m:\n\u001B[1;32m---> 24\u001B[0m     \u001B[43mapp\u001B[49m\u001B[38;5;241;43m.\u001B[39;49m\u001B[43mrun\u001B[49m\u001B[43m(\u001B[49m\u001B[43mdebug\u001B[49m\u001B[38;5;241;43m=\u001B[39;49m\u001B[38;5;28;43;01mTrue\u001B[39;49;00m\u001B[43m)\u001B[49m\n",
      "File \u001B[1;32mD:\\Workspace\\aiworld\\py_automation\\.venv\\Lib\\site-packages\\dash\\dash.py:2168\u001B[0m, in \u001B[0;36mDash.run\u001B[1;34m(self, host, port, proxy, debug, jupyter_mode, jupyter_width, jupyter_height, jupyter_server_url, dev_tools_ui, dev_tools_props_check, dev_tools_serve_dev_bundles, dev_tools_hot_reload, dev_tools_hot_reload_interval, dev_tools_hot_reload_watch_interval, dev_tools_hot_reload_max_retry, dev_tools_silence_routes_logging, dev_tools_prune_errors, **flask_run_options)\u001B[0m\n\u001B[0;32m   2165\u001B[0m             extra_files\u001B[38;5;241m.\u001B[39mappend(path)\n\u001B[0;32m   2167\u001B[0m \u001B[38;5;28;01mif\u001B[39;00m jupyter_dash\u001B[38;5;241m.\u001B[39mactive:\n\u001B[1;32m-> 2168\u001B[0m     \u001B[43mjupyter_dash\u001B[49m\u001B[38;5;241;43m.\u001B[39;49m\u001B[43mrun_app\u001B[49m\u001B[43m(\u001B[49m\n\u001B[0;32m   2169\u001B[0m \u001B[43m        \u001B[49m\u001B[38;5;28;43mself\u001B[39;49m\u001B[43m,\u001B[49m\n\u001B[0;32m   2170\u001B[0m \u001B[43m        \u001B[49m\u001B[43mmode\u001B[49m\u001B[38;5;241;43m=\u001B[39;49m\u001B[43mjupyter_mode\u001B[49m\u001B[43m,\u001B[49m\n\u001B[0;32m   2171\u001B[0m \u001B[43m        \u001B[49m\u001B[43mwidth\u001B[49m\u001B[38;5;241;43m=\u001B[39;49m\u001B[43mjupyter_width\u001B[49m\u001B[43m,\u001B[49m\n\u001B[0;32m   2172\u001B[0m \u001B[43m        \u001B[49m\u001B[43mheight\u001B[49m\u001B[38;5;241;43m=\u001B[39;49m\u001B[43mjupyter_height\u001B[49m\u001B[43m,\u001B[49m\n\u001B[0;32m   2173\u001B[0m \u001B[43m        \u001B[49m\u001B[43mhost\u001B[49m\u001B[38;5;241;43m=\u001B[39;49m\u001B[43mhost\u001B[49m\u001B[43m,\u001B[49m\n\u001B[0;32m   2174\u001B[0m \u001B[43m        \u001B[49m\u001B[43mport\u001B[49m\u001B[38;5;241;43m=\u001B[39;49m\u001B[43mport\u001B[49m\u001B[43m,\u001B[49m\n\u001B[0;32m   2175\u001B[0m \u001B[43m        \u001B[49m\u001B[43mserver_url\u001B[49m\u001B[38;5;241;43m=\u001B[39;49m\u001B[43mjupyter_server_url\u001B[49m\u001B[43m,\u001B[49m\n\u001B[0;32m   2176\u001B[0m \u001B[43m    \u001B[49m\u001B[43m)\u001B[49m\n\u001B[0;32m   2177\u001B[0m \u001B[38;5;28;01melse\u001B[39;00m:\n\u001B[0;32m   2178\u001B[0m     \u001B[38;5;28mself\u001B[39m\u001B[38;5;241m.\u001B[39mserver\u001B[38;5;241m.\u001B[39mrun(host\u001B[38;5;241m=\u001B[39mhost, port\u001B[38;5;241m=\u001B[39mport, debug\u001B[38;5;241m=\u001B[39mdebug, \u001B[38;5;241m*\u001B[39m\u001B[38;5;241m*\u001B[39mflask_run_options)\n",
      "File \u001B[1;32mD:\\Workspace\\aiworld\\py_automation\\.venv\\Lib\\site-packages\\dash\\_jupyter.py:404\u001B[0m, in \u001B[0;36mJupyterDash.run_app\u001B[1;34m(self, app, mode, width, height, host, port, server_url)\u001B[0m\n\u001B[0;32m    402\u001B[0m     display(HTML(msg))\n\u001B[0;32m    403\u001B[0m \u001B[38;5;28;01melse\u001B[39;00m:\n\u001B[1;32m--> 404\u001B[0m     \u001B[38;5;28;01mraise\u001B[39;00m final_error\n",
      "File \u001B[1;32mD:\\Workspace\\aiworld\\py_automation\\.venv\\Lib\\site-packages\\dash\\_jupyter.py:391\u001B[0m, in \u001B[0;36mJupyterDash.run_app\u001B[1;34m(self, app, mode, width, height, host, port, server_url)\u001B[0m\n\u001B[0;32m    388\u001B[0m         \u001B[38;5;28;01mraise\u001B[39;00m err\n\u001B[0;32m    390\u001B[0m \u001B[38;5;28;01mtry\u001B[39;00m:\n\u001B[1;32m--> 391\u001B[0m     \u001B[43mwait_for_app\u001B[49m\u001B[43m(\u001B[49m\u001B[43m)\u001B[49m\n\u001B[0;32m    393\u001B[0m     \u001B[38;5;28;01mif\u001B[39;00m \u001B[38;5;28mself\u001B[39m\u001B[38;5;241m.\u001B[39min_colab:\n\u001B[0;32m    394\u001B[0m         JupyterDash\u001B[38;5;241m.\u001B[39m_display_in_colab(dashboard_url, port, mode, width, height)\n",
      "File \u001B[1;32mD:\\Workspace\\aiworld\\py_automation\\.venv\\Lib\\site-packages\\retrying.py:56\u001B[0m, in \u001B[0;36mretry.<locals>.wrap.<locals>.wrapped_f\u001B[1;34m(*args, **kw)\u001B[0m\n\u001B[0;32m     54\u001B[0m \u001B[38;5;129m@six\u001B[39m\u001B[38;5;241m.\u001B[39mwraps(f)\n\u001B[0;32m     55\u001B[0m \u001B[38;5;28;01mdef\u001B[39;00m \u001B[38;5;21mwrapped_f\u001B[39m(\u001B[38;5;241m*\u001B[39margs, \u001B[38;5;241m*\u001B[39m\u001B[38;5;241m*\u001B[39mkw):\n\u001B[1;32m---> 56\u001B[0m     \u001B[38;5;28;01mreturn\u001B[39;00m \u001B[43mRetrying\u001B[49m\u001B[43m(\u001B[49m\u001B[38;5;241;43m*\u001B[39;49m\u001B[43mdargs\u001B[49m\u001B[43m,\u001B[49m\u001B[43m \u001B[49m\u001B[38;5;241;43m*\u001B[39;49m\u001B[38;5;241;43m*\u001B[39;49m\u001B[43mdkw\u001B[49m\u001B[43m)\u001B[49m\u001B[38;5;241;43m.\u001B[39;49m\u001B[43mcall\u001B[49m\u001B[43m(\u001B[49m\u001B[43mf\u001B[49m\u001B[43m,\u001B[49m\u001B[43m \u001B[49m\u001B[38;5;241;43m*\u001B[39;49m\u001B[43margs\u001B[49m\u001B[43m,\u001B[49m\u001B[43m \u001B[49m\u001B[38;5;241;43m*\u001B[39;49m\u001B[38;5;241;43m*\u001B[39;49m\u001B[43mkw\u001B[49m\u001B[43m)\u001B[49m\n",
      "File \u001B[1;32mD:\\Workspace\\aiworld\\py_automation\\.venv\\Lib\\site-packages\\retrying.py:266\u001B[0m, in \u001B[0;36mRetrying.call\u001B[1;34m(self, fn, *args, **kwargs)\u001B[0m\n\u001B[0;32m    263\u001B[0m \u001B[38;5;28;01mif\u001B[39;00m \u001B[38;5;28mself\u001B[39m\u001B[38;5;241m.\u001B[39mstop(attempt_number, delay_since_first_attempt_ms):\n\u001B[0;32m    264\u001B[0m     \u001B[38;5;28;01mif\u001B[39;00m \u001B[38;5;129;01mnot\u001B[39;00m \u001B[38;5;28mself\u001B[39m\u001B[38;5;241m.\u001B[39m_wrap_exception \u001B[38;5;129;01mand\u001B[39;00m attempt\u001B[38;5;241m.\u001B[39mhas_exception:\n\u001B[0;32m    265\u001B[0m         \u001B[38;5;66;03m# get() on an attempt with an exception should cause it to be raised, but raise just in case\u001B[39;00m\n\u001B[1;32m--> 266\u001B[0m         \u001B[38;5;28;01mraise\u001B[39;00m \u001B[43mattempt\u001B[49m\u001B[38;5;241;43m.\u001B[39;49m\u001B[43mget\u001B[49m\u001B[43m(\u001B[49m\u001B[43m)\u001B[49m\n\u001B[0;32m    267\u001B[0m     \u001B[38;5;28;01melse\u001B[39;00m:\n\u001B[0;32m    268\u001B[0m         \u001B[38;5;28;01mraise\u001B[39;00m RetryError(attempt)\n",
      "File \u001B[1;32mD:\\Workspace\\aiworld\\py_automation\\.venv\\Lib\\site-packages\\retrying.py:301\u001B[0m, in \u001B[0;36mAttempt.get\u001B[1;34m(self, wrap_exception)\u001B[0m\n\u001B[0;32m    299\u001B[0m         \u001B[38;5;28;01mraise\u001B[39;00m RetryError(\u001B[38;5;28mself\u001B[39m)\n\u001B[0;32m    300\u001B[0m     \u001B[38;5;28;01melse\u001B[39;00m:\n\u001B[1;32m--> 301\u001B[0m         \u001B[43msix\u001B[49m\u001B[38;5;241;43m.\u001B[39;49m\u001B[43mreraise\u001B[49m\u001B[43m(\u001B[49m\u001B[38;5;28;43mself\u001B[39;49m\u001B[38;5;241;43m.\u001B[39;49m\u001B[43mvalue\u001B[49m\u001B[43m[\u001B[49m\u001B[38;5;241;43m0\u001B[39;49m\u001B[43m]\u001B[49m\u001B[43m,\u001B[49m\u001B[43m \u001B[49m\u001B[38;5;28;43mself\u001B[39;49m\u001B[38;5;241;43m.\u001B[39;49m\u001B[43mvalue\u001B[49m\u001B[43m[\u001B[49m\u001B[38;5;241;43m1\u001B[39;49m\u001B[43m]\u001B[49m\u001B[43m,\u001B[49m\u001B[43m \u001B[49m\u001B[38;5;28;43mself\u001B[39;49m\u001B[38;5;241;43m.\u001B[39;49m\u001B[43mvalue\u001B[49m\u001B[43m[\u001B[49m\u001B[38;5;241;43m2\u001B[39;49m\u001B[43m]\u001B[49m\u001B[43m)\u001B[49m\n\u001B[0;32m    302\u001B[0m \u001B[38;5;28;01melse\u001B[39;00m:\n\u001B[0;32m    303\u001B[0m     \u001B[38;5;28;01mreturn\u001B[39;00m \u001B[38;5;28mself\u001B[39m\u001B[38;5;241m.\u001B[39mvalue\n",
      "File \u001B[1;32mD:\\Workspace\\aiworld\\py_automation\\.venv\\Lib\\site-packages\\six.py:719\u001B[0m, in \u001B[0;36mreraise\u001B[1;34m(tp, value, tb)\u001B[0m\n\u001B[0;32m    717\u001B[0m     \u001B[38;5;28;01mif\u001B[39;00m value\u001B[38;5;241m.\u001B[39m__traceback__ \u001B[38;5;129;01mis\u001B[39;00m \u001B[38;5;129;01mnot\u001B[39;00m tb:\n\u001B[0;32m    718\u001B[0m         \u001B[38;5;28;01mraise\u001B[39;00m value\u001B[38;5;241m.\u001B[39mwith_traceback(tb)\n\u001B[1;32m--> 719\u001B[0m     \u001B[38;5;28;01mraise\u001B[39;00m value\n\u001B[0;32m    720\u001B[0m \u001B[38;5;28;01mfinally\u001B[39;00m:\n\u001B[0;32m    721\u001B[0m     value \u001B[38;5;241m=\u001B[39m \u001B[38;5;28;01mNone\u001B[39;00m\n",
      "File \u001B[1;32mD:\\Workspace\\aiworld\\py_automation\\.venv\\Lib\\site-packages\\retrying.py:251\u001B[0m, in \u001B[0;36mRetrying.call\u001B[1;34m(self, fn, *args, **kwargs)\u001B[0m\n\u001B[0;32m    248\u001B[0m     \u001B[38;5;28mself\u001B[39m\u001B[38;5;241m.\u001B[39m_before_attempts(attempt_number)\n\u001B[0;32m    250\u001B[0m \u001B[38;5;28;01mtry\u001B[39;00m:\n\u001B[1;32m--> 251\u001B[0m     attempt \u001B[38;5;241m=\u001B[39m Attempt(\u001B[43mfn\u001B[49m\u001B[43m(\u001B[49m\u001B[38;5;241;43m*\u001B[39;49m\u001B[43margs\u001B[49m\u001B[43m,\u001B[49m\u001B[43m \u001B[49m\u001B[38;5;241;43m*\u001B[39;49m\u001B[38;5;241;43m*\u001B[39;49m\u001B[43mkwargs\u001B[49m\u001B[43m)\u001B[49m, attempt_number, \u001B[38;5;28;01mFalse\u001B[39;00m)\n\u001B[0;32m    252\u001B[0m \u001B[38;5;28;01mexcept\u001B[39;00m:\n\u001B[0;32m    253\u001B[0m     tb \u001B[38;5;241m=\u001B[39m sys\u001B[38;5;241m.\u001B[39mexc_info()\n",
      "File \u001B[1;32mD:\\Workspace\\aiworld\\py_automation\\.venv\\Lib\\site-packages\\dash\\_jupyter.py:382\u001B[0m, in \u001B[0;36mJupyterDash.run_app.<locals>.wait_for_app\u001B[1;34m()\u001B[0m\n\u001B[0;32m    380\u001B[0m     \u001B[38;5;28;01mif\u001B[39;00m res \u001B[38;5;241m!=\u001B[39m \u001B[38;5;124m\"\u001B[39m\u001B[38;5;124mAlive\u001B[39m\u001B[38;5;124m\"\u001B[39m:\n\u001B[0;32m    381\u001B[0m         url \u001B[38;5;241m=\u001B[39m \u001B[38;5;124mf\u001B[39m\u001B[38;5;124m\"\u001B[39m\u001B[38;5;124mhttp://\u001B[39m\u001B[38;5;132;01m{\u001B[39;00mhost\u001B[38;5;132;01m}\u001B[39;00m\u001B[38;5;124m:\u001B[39m\u001B[38;5;132;01m{\u001B[39;00mport\u001B[38;5;132;01m}\u001B[39;00m\u001B[38;5;124m\"\u001B[39m\n\u001B[1;32m--> 382\u001B[0m         \u001B[38;5;28;01mraise\u001B[39;00m \u001B[38;5;167;01mOSError\u001B[39;00m(\n\u001B[0;32m    383\u001B[0m             \u001B[38;5;124mf\u001B[39m\u001B[38;5;124m\"\u001B[39m\u001B[38;5;124mAddress \u001B[39m\u001B[38;5;124m'\u001B[39m\u001B[38;5;132;01m{\u001B[39;00murl\u001B[38;5;132;01m}\u001B[39;00m\u001B[38;5;124m'\u001B[39m\u001B[38;5;124m already in use.\u001B[39m\u001B[38;5;130;01m\\n\u001B[39;00m\u001B[38;5;124m\"\u001B[39m\n\u001B[0;32m    384\u001B[0m             \u001B[38;5;124m\"\u001B[39m\u001B[38;5;124m    Try passing a different port to run_server.\u001B[39m\u001B[38;5;124m\"\u001B[39m\n\u001B[0;32m    385\u001B[0m         )\n\u001B[0;32m    386\u001B[0m \u001B[38;5;28;01mexcept\u001B[39;00m requests\u001B[38;5;241m.\u001B[39mConnectionError \u001B[38;5;28;01mas\u001B[39;00m err:\n\u001B[0;32m    387\u001B[0m     _get_error()\n",
      "\u001B[1;31mOSError\u001B[0m: Address 'http://127.0.0.1:8050' already in use.\n    Try passing a different port to run_server."
     ]
    }
   ],
   "execution_count": 2
  },
  {
   "metadata": {},
   "cell_type": "code",
   "outputs": [],
   "execution_count": null,
   "source": "",
   "id": "216cb3db43c0520"
  }
 ],
 "metadata": {
  "kernelspec": {
   "display_name": "Python 3",
   "language": "python",
   "name": "python3"
  },
  "language_info": {
   "codemirror_mode": {
    "name": "ipython",
    "version": 2
   },
   "file_extension": ".py",
   "mimetype": "text/x-python",
   "name": "python",
   "nbconvert_exporter": "python",
   "pygments_lexer": "ipython2",
   "version": "2.7.6"
  }
 },
 "nbformat": 4,
 "nbformat_minor": 5
}
