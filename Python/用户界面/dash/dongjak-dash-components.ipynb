{
 "cells": [
  {
   "metadata": {},
   "cell_type": "markdown",
   "source": [
    "# 简介\n",
    "\n",
    "[cruldra/dongjak-dash-components: Plotly Dash components based on Mantine React Components](https://github.com/cruldra/dongjak-dash-components)基于[Dash Mantine Components](https://github.com/snehilvj/dash-mantine-components),新增了许多额外的组件.\n",
    "\n",
    "# 安装\n",
    "\n",
    "```bash\n",
    "pip install dongjak-dash-components\n",
    "```\n",
    "\n",
    "# 使用\n",
    "\n",
    "## 基本"
   ],
   "id": "c21d8cde843fce91"
  },
  {
   "metadata": {},
   "cell_type": "code",
   "outputs": [],
   "execution_count": null,
   "source": [
    "import dongjak_dash_components as dmc\n",
    "from dash import Dash\n",
    "\n",
    "app = Dash(__name__)\n",
    "\n",
    "app.layout = dmc.MantineProvider(\n",
    "    dmc.Alert(\n",
    "        \"Hi from Dash Mantine Components. You can create some great looking dashboards using me!\",\n",
    "        title=\"Welcome!\",\n",
    "        color=\"violet\",\n",
    "    )\n",
    ")\n",
    "\n",
    "if __name__ == \"__main__\":\n",
    "    app.run(port=8049)"
   ],
   "id": "5388df453f9e060f"
  },
  {
   "metadata": {},
   "cell_type": "markdown",
   "source": [
    "## 文本输入框\n",
    "\n",
    "### 基本"
   ],
   "id": "bc3c774423954cf9"
  },
  {
   "metadata": {},
   "cell_type": "code",
   "outputs": [],
   "execution_count": null,
   "source": [
    "dmc.TextInput(\n",
    "                id=\"username-filter\",\n",
    "                label=\"用户名\",\n",
    "                placeholder=\"输入用户名\",\n",
    "                mb=10,\n",
    "            )"
   ],
   "id": "1c443790d1e00db2"
  },
  {
   "metadata": {},
   "cell_type": "markdown",
   "source": [
    "## 按钮\n",
    "\n",
    "### 基本"
   ],
   "id": "725245765dcb0070"
  },
  {
   "metadata": {},
   "cell_type": "code",
   "outputs": [],
   "execution_count": null,
   "source": "dmc.Button(\"计算\", id=\"calculate-price-button\"),",
   "id": "9fbb8c2c67a548d1"
  },
  {
   "metadata": {},
   "cell_type": "markdown",
   "source": [
    "## 滑块\n",
    "\n",
    "### 基本"
   ],
   "id": "3f77fbf7896fc733"
  },
  {
   "metadata": {},
   "cell_type": "code",
   "outputs": [],
   "execution_count": null,
   "source": [
    "dmc.Slider(\n",
    "            id=\"slider-callback\",\n",
    "            value=26,\n",
    "            marks=[\n",
    "                {\"value\": 20, \"label\": \"20%\"},\n",
    "                {\"value\": 50, \"label\": \"50%\"},\n",
    "                {\"value\": 80, \"label\": \"80%\"},\n",
    "            ],\n",
    "            mb=35,\n",
    "        )"
   ],
   "id": "972c604f782e0995"
  },
  {
   "metadata": {},
   "cell_type": "markdown",
   "source": "### 范围滑块",
   "id": "d7f1258cdf22e51c"
  },
  {
   "metadata": {},
   "cell_type": "code",
   "outputs": [],
   "execution_count": null,
   "source": [
    "dmc.RangeSlider(\n",
    "            id=\"range-slider-callback\",\n",
    "            value=[26, 50],\n",
    "            marks=[\n",
    "                {\"value\": 20, \"label\": \"20%\"},\n",
    "                {\"value\": 50, \"label\": \"50%\"},\n",
    "                {\"value\": 80, \"label\": \"80%\"},\n",
    "            ],\n",
    "            mb=35,\n",
    "        ),"
   ],
   "id": "c9a8e703fd7b064d"
  }
 ],
 "metadata": {
  "kernelspec": {
   "display_name": "Python 3",
   "language": "python",
   "name": "python3"
  },
  "language_info": {
   "codemirror_mode": {
    "name": "ipython",
    "version": 2
   },
   "file_extension": ".py",
   "mimetype": "text/x-python",
   "name": "python",
   "nbconvert_exporter": "python",
   "pygments_lexer": "ipython2",
   "version": "2.7.6"
  }
 },
 "nbformat": 4,
 "nbformat_minor": 5
}
