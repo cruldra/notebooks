{
 "cells": [
  {
   "metadata": {},
   "cell_type": "markdown",
   "source": "# 一个简单的例子",
   "id": "14a273aa9ce19160"
  },
  {
   "metadata": {},
   "cell_type": "code",
   "outputs": [],
   "execution_count": null,
   "source": [
    "import dongjak_dash_components as dmc\n",
    "\n",
    "data = [\n",
    "    {\"date\": \"Mar 22\", \"Apples\": 2890, \"Oranges\": 2338, \"Tomatoes\": 2452},\n",
    "    {\"date\": \"Mar 23\", \"Apples\": 2756, \"Oranges\": 2103, \"Tomatoes\": 2402},\n",
    "    {\"date\": \"Mar 24\", \"Apples\": 3322, \"Oranges\": 986, \"Tomatoes\": 1821},\n",
    "    {\"date\": \"Mar 25\", \"Apples\": 3470, \"Oranges\": 2108, \"Tomatoes\": 2809},\n",
    "    {\"date\": \"Mar 26\", \"Apples\": 3129, \"Oranges\": 1726, \"Tomatoes\": 2290}\n",
    "]\n",
    "\n",
    "dmc.LineChart(\n",
    "    h=300,\n",
    "    dataKey=\"date\",\n",
    "    data=data,\n",
    "    series=[\n",
    "        {\"name\": \"Apples\", \"color\": \"indigo.6\"},\n",
    "        {\"name\": \"Oranges\", \"color\": \"blue.6\"},\n",
    "        {\"name\": \"Tomatoes\", \"color\": \"teal.6\"}\n",
    "    ],\n",
    "    curveType=\"linear\",\n",
    "    tickLine=\"xy\",\n",
    "    withXAxis=False,\n",
    "    withDots=False,\n",
    ")"
   ],
   "id": "77682bd7cb04d022"
  },
  {
   "metadata": {},
   "cell_type": "markdown",
   "source": [
    "# Legend\n",
    "\n",
    "To display chart legend, set withLegend prop. When one of the items in the legend is hovered, the corresponding data series is highlighted in the chart."
   ],
   "id": "3af7a83c98f3b8d1"
  },
  {
   "metadata": {},
   "cell_type": "code",
   "outputs": [],
   "execution_count": null,
   "source": [
    "import dongjak_dash_components as dmc\n",
    "\n",
    "dmc.LineChart(\n",
    "    h=300,\n",
    "    dataKey=\"date\",\n",
    "    data=data,\n",
    "    withLegend=True,\n",
    "    series=[\n",
    "        {\"name\": 'Apples', 'color': 'indigo.6'},\n",
    "        {\"name\": 'Oranges', 'color': 'blue.6'},\n",
    "        {'name': 'Tomatoes', 'color': 'teal.6'},\n",
    "    ],\n",
    ")"
   ],
   "id": "527b845d0d07b27f"
  },
  {
   "metadata": {},
   "cell_type": "markdown",
   "source": [
    "# Keyword Arguments\n",
    "\n",
    "| Name                     | Description                                                                                                            | Type                                                                       |\n",
    "|--------------------------|------------------------------------------------------------------------------------------------------------------------|----------------------------------------------------------------------------|\n",
    "| children                 | Additional components that are rendered inside recharts `AreaChart` component.                                         | any                                                                        |\n",
    "| id                       | Unique ID to identify this component in Dash callbacks.                                                                | string                                                                     |\n",
    "| activeDotProps           | Props passed down to all active dots. Ignored if `withDots={False}` is set.                                            | dict                                                                       |\n",
    "| className                | Class added to the root element, if applicable.                                                                        | string                                                                     |\n",
    "| classNames               | Adds class names to Mantine components.                                                                                | dict                                                                       |\n",
    "| clickData                | Click data.                                                                                                            | dict                                                                       |\n",
    "| connectNulls             | Determines whether points with `None` values should be connected, `True` by default.                                   | boolean                                                                    |\n",
    "| curveType                | Type of the curve, `'monotone'` by default.                                                                            | 'bump', 'linear', 'natural', 'monotone', 'step', 'stepBefore', 'stepAfter' |\n",
    "| darkHidden               | Determines whether component should be hidden in dark color scheme with `display: none`.                               | boolean                                                                    |\n",
    "| data                     | Data used to display chart.                                                                                            | list of dicts with strings as keys and values of type dict; required       |\n",
    "| dataKey                  | Key of the `data` object for x-axis values.                                                                            | string; required                                                           |\n",
    "| dotProps                 | Props passed down to all dots. Ignored if `withDots={False}` is set.                                                   | dict                                                                       |\n",
    "| fillOpacity              | Controls fill opacity of all lines, `1` by default.                                                                    | number                                                                     |\n",
    "| gridAxis                 | Specifies which lines should be displayed in the grid, `'x'` by default.                                               | 'none', 'x', 'y', 'xy'                                                     |\n",
    "| gridColor                | Color of the grid and cursor lines, by default depends on color scheme.                                                | dict                                                                       |\n",
    "| gridProps                | Props passed down to the `CartesianGrid` component.                                                                    | dict                                                                       |\n",
    "| hiddenFrom               | Breakpoint above which the component is hidden with `display: none`.                                                   | dict                                                                       |\n",
    "| legendProps              | Props passed down to the `Legend` component.                                                                           | dict                                                                       |\n",
    "| lightHidden              | Determines whether component should be hidden in light color scheme with `display: none`.                              | boolean                                                                    |\n",
    "| lineChartProps           | Props passed down to recharts `LineChart` component.                                                                   | dict                                                                       |\n",
    "| mod                      | Element modifiers transformed into `data-` attributes, for example, `{ 'data-size': 'xl' }`, falsy values are removed. | string | dict                                                              |\n",
    "| orientation              | Chart orientation, `'horizontal'` by default.                                                                          | 'horizontal', 'vertical'                                                   |\n",
    "| referenceLines           | Reference lines that should be displayed on the chart.                                                                 | list of dicts                                                              |\n",
    "| series                   | An array of objects with `name` and `color` keys. Determines which data should be consumed from the `data` array.      | list of dicts; required                                                    |\n",
    "| strokeDasharray          | Dash array for the grid lines and cursor, `'5 5'` by default.                                                          | string | number                                                            |\n",
    "| strokeWidth              | Stroke width for the chart lines, `2` by default.                                                                      | number                                                                     |\n",
    "| style                    | Inline style added to root component element, can subscribe to theme defined on MantineProvider.                       | optional                                                                   |\n",
    "| styles                   | Mantine styles API.                                                                                                    | dict                                                                       |\n",
    "| tabIndex                 | tab-index.                                                                                                             | number                                                                     |\n",
    "| textColor                | Color of the text displayed inside the chart, `'dimmed'` by default.                                                   | dict                                                                       |\n",
    "| tickLine                 | Specifies which axis should have tick line, `'y'` by default.                                                          | 'none', 'x', 'y', 'xy'                                                     |\n",
    "| tooltipAnimationDuration | Tooltip position animation duration in ms, `0` by default.                                                             | number                                                                     |\n",
    "| tooltipProps             | Props passed down to the `Tooltip` component.                                                                          | dict                                                                       |\n",
    "| unit                     | Unit displayed next to each tick in y-axis.                                                                            | string                                                                     |\n",
    "| variant                  | variant.                                                                                                               | string                                                                     |\n",
    "| visibleFrom              | Breakpoint below which the component is hidden with `display: none`.                                                   | dict                                                                       |\n",
    "| withDots                 | Determines whether dots should be displayed, `True` by default.                                                        | boolean                                                                    |\n",
    "| withLegend               | Determines whether chart legend should be displayed, `False` by default.                                               | boolean                                                                    |\n",
    "| withTooltip              | Determines whether chart tooltip should be displayed, `True` by default.                                               | boolean                                                                    |\n",
    "| withXAxis                | Determines whether x-axis should be hidden, `True` by default.                                                         | boolean                                                                    |\n",
    "| withYAxis                | Determines whether y-axis should be hidden, `True` by default.                                                         | boolean                                                                    |\n",
    "| xAxisLabel               | A label to display below the x-axis.                                                                                   | string                                                                     |\n",
    "| xAxisProps               | Props passed down to the `XAxis` recharts component.                                                                   | dict                                                                       |\n",
    "| yAxisLabel               | A label to display next to the y-axis.                                                                                 | string                                                                     |\n",
    "| yAxisProps               | Props passed down to the `YAxis` recharts component.                                                                   | dict                                                                       |\n"
   ],
   "id": "4371fc4e8c80ebba"
  }
 ],
 "metadata": {
  "kernelspec": {
   "display_name": "Python 3",
   "language": "python",
   "name": "python3"
  },
  "language_info": {
   "codemirror_mode": {
    "name": "ipython",
    "version": 2
   },
   "file_extension": ".py",
   "mimetype": "text/x-python",
   "name": "python",
   "nbconvert_exporter": "python",
   "pygments_lexer": "ipython2",
   "version": "2.7.6"
  }
 },
 "nbformat": 4,
 "nbformat_minor": 5
}
