{
 "cells": [
  {
   "metadata": {},
   "cell_type": "markdown",
   "source": "# 一个简单的例子",
   "id": "14a273aa9ce19160"
  },
  {
   "metadata": {},
   "cell_type": "code",
   "outputs": [],
   "execution_count": null,
   "source": [
    "import dash_mantine_components as dmc\n",
    "\n",
    "data = [\n",
    "    {\"date\": \"Mar 22\", \"Apples\": 2890, \"Oranges\": 2338, \"Tomatoes\": 2452},\n",
    "    {\"date\": \"Mar 23\", \"Apples\": 2756, \"Oranges\": 2103, \"Tomatoes\": 2402},\n",
    "    {\"date\": \"Mar 24\", \"Apples\": 3322, \"Oranges\": 986, \"Tomatoes\": 1821},\n",
    "    {\"date\": \"Mar 25\", \"Apples\": 3470, \"Oranges\": 2108, \"Tomatoes\": 2809},\n",
    "    {\"date\": \"Mar 26\", \"Apples\": 3129, \"Oranges\": 1726, \"Tomatoes\": 2290}\n",
    "]\n",
    "\n",
    "dmc.LineChart(\n",
    "    h=300,\n",
    "    dataKey=\"date\",\n",
    "    data=data,\n",
    "    series=[\n",
    "        {\"name\": \"Apples\", \"color\": \"indigo.6\"},\n",
    "        {\"name\": \"Oranges\", \"color\": \"blue.6\"},\n",
    "        {\"name\": \"Tomatoes\", \"color\": \"teal.6\"}\n",
    "    ],\n",
    "    curveType=\"linear\",\n",
    "    tickLine=\"xy\",\n",
    "    withXAxis=False,\n",
    "    withDots=False,\n",
    ")"
   ],
   "id": "77682bd7cb04d022"
  },
  {
   "metadata": {},
   "cell_type": "markdown",
   "source": [
    "# Legend\n",
    "\n",
    "To display chart legend, set withLegend prop. When one of the items in the legend is hovered, the corresponding data series is highlighted in the chart."
   ],
   "id": "3af7a83c98f3b8d1"
  },
  {
   "metadata": {},
   "cell_type": "code",
   "outputs": [],
   "execution_count": null,
   "source": [
    "import dash_mantine_components as dmc\n",
    "\n",
    "dmc.LineChart(\n",
    "    h=300,\n",
    "    dataKey=\"date\",\n",
    "    data=data,\n",
    "    withLegend=True,\n",
    "    series=[\n",
    "        { \"name\": 'Apples', 'color': 'indigo.6' },\n",
    "        { \"name\": 'Oranges', 'color': 'blue.6' },\n",
    "        { 'name': 'Tomatoes', 'color': 'teal.6' },\n",
    "      ],\n",
    ")"
   ],
   "id": "527b845d0d07b27f"
  }
 ],
 "metadata": {
  "kernelspec": {
   "display_name": "Python 3",
   "language": "python",
   "name": "python3"
  },
  "language_info": {
   "codemirror_mode": {
    "name": "ipython",
    "version": 2
   },
   "file_extension": ".py",
   "mimetype": "text/x-python",
   "name": "python",
   "nbconvert_exporter": "python",
   "pygments_lexer": "ipython2",
   "version": "2.7.6"
  }
 },
 "nbformat": 4,
 "nbformat_minor": 5
}
