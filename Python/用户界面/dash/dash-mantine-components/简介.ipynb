{
 "cells": [
  {
   "metadata": {},
   "cell_type": "markdown",
   "source": [
    "# 简介\n",
    "\n",
    "[Dash Mantine Components](https://www.dash-mantine-components.com/components/linechart)是一个基于[Plotly Dash](https://dash.plotly.com/installation)和[Mantine](https://mantine.dev/)的组件库，用于构建数据可视化应用程序。"
   ],
   "id": "ad9149e540757fd3"
  }
 ],
 "metadata": {
  "kernelspec": {
   "display_name": "Python 3",
   "language": "python",
   "name": "python3"
  },
  "language_info": {
   "codemirror_mode": {
    "name": "ipython",
    "version": 2
   },
   "file_extension": ".py",
   "mimetype": "text/x-python",
   "name": "python",
   "nbconvert_exporter": "python",
   "pygments_lexer": "ipython2",
   "version": "2.7.6"
  }
 },
 "nbformat": 4,
 "nbformat_minor": 5
}
