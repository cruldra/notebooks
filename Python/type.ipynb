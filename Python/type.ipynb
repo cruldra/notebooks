{
 "cells": [
  {
   "cell_type": "markdown",
   "metadata": {},
   "source": [
    "# 简介\n",
    "\n",
    "`builtins`模块中的`type`类是`Python`类型系统的核心,它有两个主要用途:"
   ]
  },
  {
   "cell_type": "markdown",
   "metadata": {},
   "source": [
    "# 获取对象的类型\n",
    "\n",
    "当传入一个参数时,`type()`返回该对象的类型.例如:"
   ]
  },
  {
   "cell_type": "code",
   "execution_count": 1,
   "metadata": {},
   "outputs": [
    {
     "name": "stdout",
     "output_type": "stream",
     "text": [
      "<class 'int'>\n"
     ]
    }
   ],
   "source": [
    "x = 5\n",
    "print(type(x))  # 输出: <class 'int'>"
   ]
  },
  {
   "cell_type": "markdown",
   "metadata": {},
   "source": [
    "# 创建新类型\n",
    "\n",
    "当传入三个参数时,`type()`可以用来创建新的类型,语法为:\n",
    "\n",
    "`type(name, bases, dict)`\n",
    "\n",
    "- `name`: 类型的名称\n",
    "- `bases`: 类型的基类\n",
    "- `dict`: 类型的属性"
   ]
  },
  {
   "cell_type": "code",
   "execution_count": 4,
   "metadata": {},
   "outputs": [
    {
     "name": "stdout",
     "output_type": "stream",
     "text": [
      "5\n"
     ]
    },
    {
     "ename": "AttributeError",
     "evalue": "type object 'MyClass' has no attribute '__fields__'",
     "output_type": "error",
     "traceback": [
      "\u001b[1;31m---------------------------------------------------------------------------\u001b[0m",
      "\u001b[1;31mAttributeError\u001b[0m                            Traceback (most recent call last)",
      "Cell \u001b[1;32mIn[4], line 5\u001b[0m\n\u001b[0;32m      2\u001b[0m obj \u001b[38;5;241m=\u001b[39m MyClass()\n\u001b[0;32m      3\u001b[0m obj\u001b[38;5;241m.\u001b[39mprint_x()  \u001b[38;5;66;03m# 输出: 5\u001b[39;00m\n\u001b[1;32m----> 5\u001b[0m \u001b[38;5;28mprint\u001b[39m(\u001b[43mMyClass\u001b[49m\u001b[38;5;241;43m.\u001b[39;49m\u001b[43m__fields__\u001b[49m)\n",
      "\u001b[1;31mAttributeError\u001b[0m: type object 'MyClass' has no attribute '__fields__'"
     ]
    }
   ],
   "source": [
    "MyClass = type('MyClass', (), {'x': 5, 'print_x': lambda self: print(self.x)})\n",
    "obj = MyClass()\n",
    "obj.print_x()  # 输出: 5"
   ]
  }
 ],
 "metadata": {
  "kernelspec": {
   "display_name": "jupyter-notebook",
   "language": "python",
   "name": "python3"
  },
  "language_info": {
   "codemirror_mode": {
    "name": "ipython",
    "version": 3
   },
   "file_extension": ".py",
   "mimetype": "text/x-python",
   "name": "python",
   "nbconvert_exporter": "python",
   "pygments_lexer": "ipython3",
   "version": "3.12.4"
  }
 },
 "nbformat": 4,
 "nbformat_minor": 2
}
