{
 "cells": [
  {
   "cell_type": "markdown",
   "id": "1700afcf",
   "metadata": {},
   "source": [
    "**Table of contents**<a id='toc0_'></a>    \n",
    "- [简介](#toc1_)    \n",
    "- [安装](#toc2_)    \n",
    "- [使用](#toc3_)    \n",
    "  - [基本使用](#toc3_1_)    \n",
    "  - [文本补全](#toc3_2_)    \n",
    "    - [简单对话](#toc3_2_1_)    \n",
    "    - [返回`json`格式](#toc3_2_2_)    \n",
    "      - [返回`pydantic`模型](#toc3_2_2_1_)    \n",
    "\n",
    "<!-- vscode-jupyter-toc-config\n",
    "\tnumbering=false\n",
    "\tanchor=true\n",
    "\tflat=false\n",
    "\tminLevel=1\n",
    "\tmaxLevel=6\n",
    "\t/vscode-jupyter-toc-config -->\n",
    "<!-- THIS CELL WILL BE REPLACED ON TOC UPDATE. DO NOT WRITE YOUR TEXT IN THIS CELL -->"
   ]
  },
  {
   "cell_type": "markdown",
   "metadata": {},
   "source": [
    "# <a id='toc1_'></a>[简介](#toc0_)\n",
    "\n",
    "[openai-python](https://github.com/openai/openai-python)是`OpenAI`的官方`Python`库.\n",
    "\n",
    "# <a id='toc2_'></a>[安装](#toc0_)\n",
    "\n",
    "```bash\n",
    "pip install openai\n",
    "```\n",
    "\n",
    "# <a id='toc3_'></a>[使用](#toc0_)\n",
    "\n",
    "## <a id='toc3_1_'></a>[基本使用](#toc0_)\n",
    "\n",
    "首先要创建一个客户端对象."
   ]
  },
  {
   "cell_type": "code",
   "execution_count": null,
   "id": "233f7ee1",
   "metadata": {},
   "outputs": [],
   "source": [
    "import json\n",
    "\n",
    "from openai import OpenAI\n",
    "\n",
    "open_client = OpenAI(\n",
    "    base_url=\"https://api.juheai.top/v1/\",\n",
    "    api_key='sk-RLbK5xgSbH1YsoYW8fA55c5b03864108930316F7178bF970'\n",
    ")"
   ]
  },
  {
   "cell_type": "markdown",
   "metadata": {},
   "source": [
    "\n",
    "## <a id='toc3_2_'></a>[文本补全](#toc0_)\n",
    "\n",
    "### <a id='toc3_2_1_'></a>[简单对话](#toc0_)"
   ]
  },
  {
   "cell_type": "code",
   "execution_count": null,
   "id": "1546bd3a",
   "metadata": {},
   "outputs": [],
   "source": [
    "response = open_client.chat.completions.create(\n",
    "    model=\"gpt-4o-mini\",\n",
    "    messages=[\n",
    "        {\n",
    "            \"role\": \"user\",\n",
    "            \"content\": f\"\"\"你好\"\"\"\n",
    "        }\n",
    "    ]\n",
    ")\n",
    "result_text = response.choices[0].message.content.strip()\n",
    "print(result_text)"
   ]
  },
  {
   "cell_type": "markdown",
   "metadata": {},
   "source": [
    "### <a id='toc3_2_2_'></a>[返回`json`格式](#toc0_)"
   ]
  },
  {
   "cell_type": "code",
   "execution_count": null,
   "id": "ec2cca71",
   "metadata": {},
   "outputs": [],
   "source": [
    "response = open_client.chat.completions.create(\n",
    "    model=\"gpt-4o-mini\",\n",
    "    messages=[\n",
    "        {\n",
    "            \"role\": \"user\",\n",
    "            \"content\": f\"\"\"随机生成以下json格式的数据: \n",
    "        {{\n",
    "            \"name\": \"张三\",\n",
    "            \"age\": 18,\n",
    "        }}\n",
    "\"\"\"\n",
    "        }\n",
    "    ],\n",
    "    response_format={\"type\": \"json_object\"}\n",
    ")\n",
    "# print(response)\n",
    "result_text = response.choices[0].message.content.strip()\n",
    "print(result_text)"
   ]
  },
  {
   "cell_type": "markdown",
   "metadata": {},
   "source": [
    "#### <a id='toc3_2_2_1_'></a>[返回`pydantic`模型](#toc0_)"
   ]
  },
  {
   "cell_type": "code",
   "execution_count": null,
   "id": "7e148e275b8c35b8",
   "metadata": {
    "ExecuteTime": {
     "end_time": "2024-08-10T15:56:37.960963Z",
     "start_time": "2024-08-10T15:56:37.826625Z"
    }
   },
   "outputs": [],
   "source": [
    "from pydantic import BaseModel\n",
    "from typing import TypeVar, Type\n",
    "\n",
    "# 定义泛型类型变量\n",
    "T = TypeVar('T', bound=BaseModel)\n",
    "\n",
    "\n",
    "def generate_instance_from_prompt(open_client: OpenAI, prompt: str, model: Type[T]) -> T:\n",
    "    \"\"\"\n",
    "    调用 OpenAI API，根据提示词生成符合指定 Pydantic 类型的实例.\n",
    "\n",
    "    :param open_client: OpenAI 客户端对象\n",
    "    :param prompt: 提示词\n",
    "    :param model: Pydantic 泛型类型\n",
    "    :return: Pydantic 类型的实例\n",
    "    \"\"\"\n",
    "    # 调用 OpenAI API 生成 JSON 数据\n",
    "    response = open_client.chat.completions.create(\n",
    "        model=\"gpt-4o-mini\",\n",
    "        messages=[\n",
    "            {\n",
    "                \"role\": \"user\",\n",
    "                \"content\": f\"\"\"{prompt},返回的数据需要符合以下 json schema: {json.dumps(model.model_json_schema(), indent=4)}\n",
    "\"\"\"\n",
    "            }\n",
    "        ],\n",
    "        response_format={\"type\": \"json_object\"}\n",
    "    )\n",
    "    # print(response)\n",
    "    # 提取生成的 JSON 数据\n",
    "    result_text = response.choices[0].message.content.strip()\n",
    "\n",
    "    # 解析 JSON 数据为 Pydantic 实例\n",
    "    data_dict = json.loads(result_text)\n",
    "    instance = model(**data_dict)\n",
    "    return instance\n",
    "\n",
    "\n",
    "class Person(BaseModel):\n",
    "    name: str\n",
    "    age: int\n",
    "    \n",
    "instance = generate_instance_from_prompt(open_client, \"随机生成一个人的信息\", Person)\n",
    "\n",
    "print(instance)"
   ]
  },
  {
   "cell_type": "markdown",
   "id": "25c2afec",
   "metadata": {},
   "source": [
    "## 图像生成"
   ]
  },
  {
   "cell_type": "markdown",
   "id": "d97677bc",
   "metadata": {},
   "source": [
    "## 语音转文本(Speech-to-Text)"
   ]
  },
  {
   "cell_type": "code",
   "execution_count": null,
   "id": "22e8fb6f",
   "metadata": {},
   "outputs": [],
   "source": [
    "with open(\"audio.mp3\", \"rb\") as audio_file:\n",
    "    transcription = open_client.audio.transcriptions.create(\n",
    "        model=\"whisper-1\",\n",
    "        file=audio_file\n",
    "    )\n",
    "    print(transcription.text)"
   ]
  }
 ],
 "metadata": {
  "kernelspec": {
   "display_name": "Python 3",
   "language": "python",
   "name": "python3"
  },
  "language_info": {
   "codemirror_mode": {
    "name": "ipython",
    "version": 2
   },
   "file_extension": ".py",
   "mimetype": "text/x-python",
   "name": "python",
   "nbconvert_exporter": "python",
   "pygments_lexer": "ipython2",
   "version": "2.7.6"
  }
 },
 "nbformat": 4,
 "nbformat_minor": 5
}
