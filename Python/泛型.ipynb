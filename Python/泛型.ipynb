{
 "cells": [
  {
   "cell_type": "markdown",
   "metadata": {},
   "source": [
    "# 简介\n",
    "\n",
    "`Python`中的泛型主要通过[TypeVar](https://docs.python.org/zh-cn/3.8/library/typing.html#typing.TypeVar)、[Generic](https://docs.python.org/zh-cn/3.8/library/typing.html#typing.Generic)等类或者函数来实现\n"
   ]
  },
  {
   "cell_type": "markdown",
   "metadata": {},
   "source": [
    "# TypeVar\n",
    "\n",
    "`TypeVar`是`typing`模块中的一个类,用于定义`类型变量`,类型变量用于在`Python`中表示一个泛型类型.\n",
    "\n",
    "**什么是类型变量?**\n",
    "\n",
    "正常情况下变量指向某个值,但`类型变量`指向的是类型,而不是值."
   ]
  },
  {
   "cell_type": "code",
   "execution_count": 1,
   "metadata": {},
   "outputs": [
    {
     "name": "stdout",
     "output_type": "stream",
     "text": [
      "Collecting pydantic\n",
      "  Using cached pydantic-2.8.2-py3-none-any.whl.metadata (125 kB)\n",
      "Collecting annotated-types>=0.4.0 (from pydantic)\n",
      "  Using cached annotated_types-0.7.0-py3-none-any.whl.metadata (15 kB)\n",
      "Collecting pydantic-core==2.20.1 (from pydantic)\n",
      "  Using cached pydantic_core-2.20.1-cp312-none-win_amd64.whl.metadata (6.7 kB)\n",
      "Requirement already satisfied: typing-extensions>=4.6.1 in e:\\appdata\\conda\\envs\\jupyter-notebook\\lib\\site-packages (from pydantic) (4.12.2)\n",
      "Using cached pydantic-2.8.2-py3-none-any.whl (423 kB)\n",
      "Using cached pydantic_core-2.20.1-cp312-none-win_amd64.whl (1.9 MB)\n",
      "Using cached annotated_types-0.7.0-py3-none-any.whl (13 kB)\n",
      "Installing collected packages: pydantic-core, annotated-types, pydantic\n",
      "Successfully installed annotated-types-0.7.0 pydantic-2.8.2 pydantic-core-2.20.1\n"
     ]
    }
   ],
   "source": [
    "! pip install pydantic"
   ]
  },
  {
   "cell_type": "markdown",
   "metadata": {},
   "source": [
    "下面这个例子定义了一个`process_model`,它要求传入任意一个`Pydantic`的模型类"
   ]
  },
  {
   "cell_type": "code",
   "execution_count": null,
   "metadata": {},
   "outputs": [],
   "source": [
    "from typing import TypeVar\n",
    "from pydantic import BaseModel\n",
    "\n",
    "T = TypeVar('T', bound=BaseModel)\n",
    "# T 是一个类型变量，它的边界（bound）是 BaseModel。这意味着 T 可以是任何继承自 BaseModel 的类型\n",
    "\n",
    "def process_model(model: T) -> T:\n",
    "    # 处理 model\n",
    "    return model\n",
    "\n",
    "process_model(1)"
   ]
  },
  {
   "cell_type": "markdown",
   "metadata": {},
   "source": [
    "上面`process_model(1)`在`IDEA`中会提示类型不匹配:\n",
    "\n",
    "![](https://github.com/cruldra/picx-images-hosting/raw/master/image.3d4ppv1d2r.png)\n",
    "\n",
    "**但是它不会报错,因为`Python`是动态类型语言,所谓的泛型只是一种提示,并不会真正的检查类型**\n"
   ]
  }
 ],
 "metadata": {
  "kernelspec": {
   "display_name": "jupyter-notebook",
   "language": "python",
   "name": "python3"
  },
  "language_info": {
   "codemirror_mode": {
    "name": "ipython",
    "version": 3
   },
   "file_extension": ".py",
   "mimetype": "text/x-python",
   "name": "python",
   "nbconvert_exporter": "python",
   "pygments_lexer": "ipython3",
   "version": "3.12.4"
  }
 },
 "nbformat": 4,
 "nbformat_minor": 2
}
