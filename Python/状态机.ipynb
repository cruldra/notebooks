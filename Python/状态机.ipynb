{
 "cells": [
  {
   "cell_type": "markdown",
   "metadata": {},
   "source": [
    "# 简介\n",
    "\n",
    "[transitions](https://pypi.org/project/transitions/)是一个轻量级、面向对象的状态机库,还包括许多扩展."
   ]
  },
  {
   "cell_type": "markdown",
   "metadata": {},
   "source": [
    "# 安装"
   ]
  },
  {
   "cell_type": "code",
   "execution_count": 1,
   "metadata": {},
   "outputs": [
    {
     "name": "stdout",
     "output_type": "stream",
     "text": [
      "Collecting transitions\n",
      "  Downloading transitions-0.9.2-py2.py3-none-any.whl.metadata (96 kB)\n",
      "     ---------------------------------------- 0.0/96.7 kB ? eta -:--:--\n",
      "     ------------ ------------------------- 30.7/96.7 kB 660.6 kB/s eta 0:00:01\n",
      "     ---------------------------------------- 96.7/96.7 kB 1.1 MB/s eta 0:00:00\n",
      "Requirement already satisfied: six in e:\\appdata\\conda\\envs\\jupyter-notebook\\lib\\site-packages (from transitions) (1.16.0)\n",
      "Downloading transitions-0.9.2-py2.py3-none-any.whl (111 kB)\n",
      "   ---------------------------------------- 0.0/111.8 kB ? eta -:--:--\n",
      "   ---------------------------------------- 111.8/111.8 kB 3.3 MB/s eta 0:00:00\n",
      "Installing collected packages: transitions\n",
      "Successfully installed transitions-0.9.2\n"
     ]
    }
   ],
   "source": [
    "! pip install transitions"
   ]
  },
  {
   "cell_type": "markdown",
   "metadata": {},
   "source": [
    "# 示例1: 视频处理\n",
    "\n",
    "假设有一个视频类,它包括一些视频的基本信息"
   ]
  },
  {
   "cell_type": "markdown",
   "metadata": {},
   "source": [
    "## 创建模型"
   ]
  },
  {
   "cell_type": "code",
   "execution_count": 11,
   "metadata": {},
   "outputs": [],
   "source": [
    "from pydantic import BaseModel\n",
    "from typing import Optional\n",
    "\n",
    "\n",
    "class DouyinVideo(BaseModel):\n",
    "    \"\"\"\n",
    "    抖音视频\n",
    "    \"\"\"\n",
    "    id: str\n",
    "    \"\"\"视频id\"\"\"\n",
    "\n",
    "    title: str\n",
    "    \"\"\"视频标题\"\"\"\n",
    "\n",
    "    author: str\n",
    "    \"\"\"作者\"\"\"\n",
    "\n",
    "    duration: int\n",
    "    \"\"\"视频时长\"\"\"\n",
    "\n",
    "    url: str\n",
    "    \"\"\"视频链接\"\"\"\n",
    "\n",
    "    download_url: Optional[str] = None\n",
    "    \"\"\"下载链接\"\"\"\n",
    "\n",
    "    like_count: int = 0\n",
    "    \"\"\"点赞数量\"\"\"\n",
    "\n",
    "    local_path: Optional[str] = None\n",
    "    \"\"\"本地路径\"\"\"\n",
    "\n",
    "    play_url: Optional[str] = None\n",
    "    \"\"\"播放链接\"\"\"\n",
    "\n",
    "    original_script: Optional[str] = None\n",
    "    \"\"\"原始文案\"\"\"\n",
    "\n",
    "    rewritten_script: Optional[str] = None\n",
    "    \"\"\"改写后的文案\"\"\"\n",
    "\n",
    "    digital_human_video_path: Optional[str] = None\n",
    "    \"\"\"数字人视频路径\"\"\"\n"
   ]
  },
  {
   "cell_type": "markdown",
   "metadata": {},
   "source": [
    "## 创建状态机"
   ]
  },
  {
   "cell_type": "markdown",
   "metadata": {},
   "source": [
    "现在需要为这个视频类创建一个状态机,包含以下几个状态:\n",
    "\n",
    "1. 待下载\n",
    "2. 待提取(文案)\n",
    "3. 待洗稿\n",
    "4. 待生成(数字人视频)"
   ]
  },
  {
   "cell_type": "code",
   "execution_count": 18,
   "metadata": {},
   "outputs": [],
   "source": [
    "from transitions import Machine\n",
    "\n",
    "class DouyinVideoStateMachine:\n",
    "    states = ['待下载', '待提取', '待洗稿', '待生成', '完成']\n",
    "    transitions = [\n",
    "            { 'trigger': 'download', 'source': '待下载', 'dest': '待提取' },\n",
    "            { 'trigger': 'extract', 'source': '待提取', 'dest': '待洗稿' },\n",
    "            { 'trigger': 'rewrite', 'source': '待洗稿', 'dest': '待生成' },\n",
    "            { 'trigger': 'generate', 'source': '待生成', 'dest': '完成' }\n",
    "        ]\n",
    "    state_actions = {\n",
    "        '待下载': {'action': 'download_video', 'label': '下载视频'},\n",
    "        '待提取': {'action': 'extract_original_script', 'label': '提取文案'},\n",
    "        '待洗稿': {'action': 'rewrite_script', 'label': '洗稿'},\n",
    "        '待生成': {'action': 'generate_digital_human_video', 'label': '生成数字人视频'},\n",
    "    }\n",
    "\n",
    "    def __init__(self, video: DouyinVideo):\n",
    "        self.video = video\n",
    "        self.machine = Machine(model=self, states=DouyinVideoStateMachine.states, transitions=DouyinVideoStateMachine.transitions, initial='待下载')\n",
    "    def get_next_transition(self):\n",
    "        current_state = self.state\n",
    "        possible_transitions = self.machine.get_transitions(current_state)\n",
    "        if possible_transitions:\n",
    "            return possible_transitions[0]\n",
    "        return None\n",
    "    def download_video(self):\n",
    "        print(f\"下载视频: {self.video.title}\")\n",
    "        # 这里添加实际的下载逻辑\n",
    "        self.video.local_path = f\"/path/to/downloaded/{self.video.id}.mp4\"\n",
    "        self.download()\n",
    "\n",
    "    def extract_original_script(self):\n",
    "        print(f\"从视频中提取文案: {self.video.title}\")\n",
    "        # 这里添加实际的文案提取逻辑\n",
    "        self.video.original_script = f\"原始{self.video.title}文案\"\n",
    "        self.extract()\n",
    "\n",
    "    def rewrite_script(self):\n",
    "        print(f\"洗稿: {self.video.title}\")\n",
    "        # 这里添加实际的洗稿逻辑\n",
    "        self.video.rewritten_script = f\"洗稿后的{self.video.title}文案\"\n",
    "        self.rewrite()\n",
    "\n",
    "    def generate_digital_human_video(self):\n",
    "        print(f\"生成数字人视频: {self.video.title}\")\n",
    "        # 这里添加实际的数字人视频生成逻辑\n",
    "        self.video.digital_human_video_path = f\"/path/to/digital_human/{self.video.id}.mp4\"\n",
    "        self.generate()"
   ]
  },
  {
   "cell_type": "markdown",
   "metadata": {},
   "source": [
    "## 使用状态机"
   ]
  },
  {
   "cell_type": "code",
   "execution_count": 24,
   "metadata": {},
   "outputs": [
    {
     "name": "stdout",
     "output_type": "stream",
     "text": [
      "初始状态: 待下载\n",
      "下一个状态: None\n",
      "下载视频: 示例抖音视频\n",
      "下载后状态: 待提取\n",
      "本地路径: /path/to/downloaded/123456.mp4\n",
      "从视频中提取文案: 示例抖音视频\n",
      "提取文案后状态: 待洗稿\n",
      "提取的文案: 原始示例抖音视频文案\n",
      "洗稿: 示例抖音视频\n",
      "洗稿后状态: 待生成\n",
      "洗稿后的文案: 洗稿后的示例抖音视频文案\n",
      "生成数字人视频: 示例抖音视频\n",
      "生成数字人视频后状态: 完成\n",
      "数字人视频路径: /path/to/digital_human/123456.mp4\n"
     ]
    }
   ],
   "source": [
    "# 使用示例\n",
    "video = DouyinVideo(\n",
    "    id=\"123456\",\n",
    "    title=\"示例抖音视频\",\n",
    "    author=\"示例作者\",\n",
    "    duration=60,\n",
    "    url=\"https://example.com/video/123456\",\n",
    "    download_url=\"https://example.com/download/123456\"\n",
    ")\n",
    "\n",
    "state_machine = DouyinVideoStateMachine(video)\n",
    "\n",
    "print(f\"初始状态: {state_machine.state}\")\n",
    "print(f\"下一个状态: {state_machine.get_next_transition()}\")\n",
    "\n",
    "state_machine.download_video()\n",
    "print(f\"下载后状态: {state_machine.state}\")\n",
    "print(f\"本地路径: {video.local_path}\")\n",
    "\n",
    "state_machine.extract_original_script()\n",
    "print(f\"提取文案后状态: {state_machine.state}\")\n",
    "print(f\"提取的文案: {video.original_script}\")\n",
    "\n",
    "state_machine.rewrite_script()\n",
    "print(f\"洗稿后状态: {state_machine.state}\")\n",
    "print(f\"洗稿后的文案: {video.rewritten_script}\")\n",
    "\n",
    "state_machine.generate_digital_human_video()\n",
    "print(f\"生成数字人视频后状态: {state_machine.state}\")\n",
    "print(f\"数字人视频路径: {video.digital_human_video_path}\")"
   ]
  },
  {
   "cell_type": "markdown",
   "metadata": {},
   "source": [
    "# 核心概念\n",
    "\n",
    "**状态(States)**:\n",
    "\n",
    "* 系统在特定时刻的条件或阶段\n",
    "* 上面例子中的`待下载`、`待提取`、`待洗稿`、`待生成`就是状态,分别代表视频处理过程中的一个特定阶段\n",
    "\n",
    "**转换(Transitions)**:\n",
    "\n",
    "* 从一个状态到另一个状态的过程或事件\n",
    "* 上面例子中的`download_video`、`extract_original_script`、`rewrite_script`、`generate_digital_human_video`就是转换,它们用来将视频从一个状态转换到另一个状态"
   ]
  }
 ],
 "metadata": {
  "kernelspec": {
   "display_name": "jupyter-notebook",
   "language": "python",
   "name": "python3"
  },
  "language_info": {
   "codemirror_mode": {
    "name": "ipython",
    "version": 3
   },
   "file_extension": ".py",
   "mimetype": "text/x-python",
   "name": "python",
   "nbconvert_exporter": "python",
   "pygments_lexer": "ipython3",
   "version": "3.12.4"
  }
 },
 "nbformat": 4,
 "nbformat_minor": 2
}
