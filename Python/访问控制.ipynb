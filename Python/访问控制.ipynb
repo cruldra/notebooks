{
 "cells": [
  {
   "cell_type": "markdown",
   "metadata": {},
   "source": [
    "# 类的私有属性\n",
    "\n",
    "`Python`不支持真正的私有属性或函数,但可以通过[名称改写(Name Mangling)](https://www.geeksforgeeks.org/name-mangling-in-python/)机制来实现类似的效果.\n",
    "\n",
    "**名称改写的原理是:**\n",
    "\n",
    "当类的属性或方法以两个下划线`__`开头,但不以两个下划线结尾时,`Python`会将属性或方法的名称改写为`_类名__属性名`或`_类名__方法名`.\n",
    "\n"
   ]
  },
  {
   "cell_type": "code",
   "execution_count": 2,
   "metadata": {},
   "outputs": [],
   "source": [
    "class MyClass:\n",
    "    def __init__(self):\n",
    "\n",
    "        # 类的公共属性,任何地方都可以访问\n",
    "        self.public_var = \"I'm public\"\n",
    "\n",
    "        # 类的\"私有\"属性,符合名称改写的条件,在外部无法直接访问\n",
    "        self.__private_var = \"I'm private\"\n",
    "\n",
    "    # 类的公共方法,任何地方都可以访问\n",
    "    def public_method(self):\n",
    "        print(\"This is a public method\")\n",
    "\n",
    "    # 类的\"私有\"方法,符合名称改写的条件,在外部无法直接访问\n",
    "    def __private_method(self):\n",
    "        print(\"This is a private method\")\n",
    "\n",
    "    # 私有属性或者方法在类内部可以访问\n",
    "    def call_private_method(self):\n",
    "        self.__private_method()"
   ]
  },
  {
   "cell_type": "markdown",
   "metadata": {},
   "source": [
    "上面例子中的`__private_var`和`__private_method`会被改写为`_MyClass__private_var`和`_MyClass__private_method`."
   ]
  },
  {
   "cell_type": "code",
   "execution_count": 7,
   "metadata": {},
   "outputs": [
    {
     "name": "stdout",
     "output_type": "stream",
     "text": [
      "['_MyClass__private_method', '_MyClass__private_var', '__class__', '__delattr__', '__dict__', '__dir__', '__doc__', '__eq__', '__format__', '__ge__', '__getattribute__', '__getstate__', '__gt__', '__hash__', '__init__', '__init_subclass__', '__le__', '__lt__', '__module__', '__ne__', '__new__', '__reduce__', '__reduce_ex__', '__repr__', '__setattr__', '__sizeof__', '__str__', '__subclasshook__', '__weakref__', 'call_private_method', 'public_method', 'public_var']\n",
      "This is a public method\n",
      "Cannot access private method directly\n",
      "This is a private method\n",
      "This is a private method\n"
     ]
    }
   ],
   "source": [
    "\n",
    "\n",
    "obj = MyClass()\n",
    "print(dir(obj))\n",
    "# 正常工作\n",
    "obj.public_method()\n",
    "\n",
    "# 抛出 AttributeError\n",
    "try:\n",
    "    obj.__private_method()\n",
    "except AttributeError:\n",
    "    print(\"Cannot access private method directly\")\n",
    "\n",
    "\n",
    "# 正常工作\n",
    "obj.call_private_method()\n",
    "\n",
    "# 仍然可以访问（不推荐）\n",
    "obj._MyClass__private_method()"
   ]
  }
 ],
 "metadata": {
  "kernelspec": {
   "display_name": "jupyter-notebook",
   "language": "python",
   "name": "python3"
  },
  "language_info": {
   "codemirror_mode": {
    "name": "ipython",
    "version": 3
   },
   "file_extension": ".py",
   "mimetype": "text/x-python",
   "name": "python",
   "nbconvert_exporter": "python",
   "pygments_lexer": "ipython3",
   "version": "3.12.4"
  }
 },
 "nbformat": 4,
 "nbformat_minor": 2
}
