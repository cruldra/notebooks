{
 "cells": [
  {
   "cell_type": "markdown",
   "metadata": {},
   "source": [
    "# 简介\n",
    "\n",
    "[Docker Python SDK](https://pypi.org/project/docker/)用于通过`Python`代码管理`Docker`容器、镜像、网络等`Docker`资源."
   ]
  },
  {
   "cell_type": "markdown",
   "metadata": {},
   "source": [
    "\n",
    "# 安装"
   ]
  },
  {
   "cell_type": "code",
   "execution_count": 1,
   "metadata": {},
   "outputs": [
    {
     "name": "stdout",
     "output_type": "stream",
     "text": [
      "Collecting docker\n",
      "  Using cached docker-7.1.0-py3-none-any.whl.metadata (3.8 kB)\n",
      "Requirement already satisfied: pywin32>=304 in e:\\appdata\\conda\\envs\\jupyter-notebook\\lib\\site-packages (from docker) (306)\n",
      "Requirement already satisfied: requests>=2.26.0 in e:\\appdata\\conda\\envs\\jupyter-notebook\\lib\\site-packages (from docker) (2.32.3)\n",
      "Requirement already satisfied: urllib3>=1.26.0 in e:\\appdata\\conda\\envs\\jupyter-notebook\\lib\\site-packages (from docker) (2.2.2)\n",
      "Requirement already satisfied: charset-normalizer<4,>=2 in e:\\appdata\\conda\\envs\\jupyter-notebook\\lib\\site-packages (from requests>=2.26.0->docker) (3.3.2)\n",
      "Requirement already satisfied: idna<4,>=2.5 in e:\\appdata\\conda\\envs\\jupyter-notebook\\lib\\site-packages (from requests>=2.26.0->docker) (3.7)\n",
      "Requirement already satisfied: certifi>=2017.4.17 in e:\\appdata\\conda\\envs\\jupyter-notebook\\lib\\site-packages (from requests>=2.26.0->docker) (2024.7.4)\n",
      "Using cached docker-7.1.0-py3-none-any.whl (147 kB)\n",
      "Installing collected packages: docker\n",
      "Successfully installed docker-7.1.0\n"
     ]
    }
   ],
   "source": [
    "! pip install docker"
   ]
  },
  {
   "cell_type": "markdown",
   "metadata": {},
   "source": [
    "\n",
    "# 创建客户端\n",
    "\n",
    "要使用`Docker Python SDK`，首先需要创建一个`Docker`客户端对象。"
   ]
  },
  {
   "cell_type": "markdown",
   "metadata": {},
   "source": [
    "## 本地\n"
   ]
  },
  {
   "cell_type": "markdown",
   "metadata": {},
   "source": [
    "默认情况下,`Docker`守护程序会侦听`Unix`套接字上的连接以接受来自本地客户端的请求,要连接到本地`Docker`的守护进程非常简单,使用`from_env`方法创建一个客户端对象。"
   ]
  },
  {
   "cell_type": "code",
   "execution_count": null,
   "metadata": {},
   "outputs": [],
   "source": [
    "import docker\n",
    "\n",
    "docker_client = docker.from_env()"
   ]
  },
  {
   "cell_type": "markdown",
   "metadata": {},
   "source": [
    "## 远程"
   ]
  },
  {
   "cell_type": "markdown",
   "metadata": {},
   "source": [
    "### 配置守护进程\n",
    "\n",
    "要[访问远程主机上的`Docker`守护程序](https://docs.docker.com/engine/daemon/remote-access/),需要先配置守护程序以侦听`TCP`连接\n",
    "\n",
    "1. 编辑`/lib/systemd/system/docker.service`文件,修改`ExecStart`行,加一个`-H tcp://0.0.0.0:2375`参数,如图:\n",
    "\n",
    "![](https://github.com/cruldra/picx-images-hosting/raw/master/image.4g4fgdgr0v.png)\n",
    "\n",
    "2. 重新加载`systemd`配置文件\n",
    "\n",
    "```bash\n",
    "sudo systemctl daemon-reload\n",
    "```\n",
    "\n",
    "3. 重启`Docker`服务\n",
    "\n",
    "```bash\n",
    "sudo systemctl restart docker\n",
    "```\n",
    "\n",
    "4. 验证\n",
    "\n",
    "```bash\n",
    "sudo netstat -lntp | grep dockerd\n",
    "```\n",
    "\n",
    "配置成功的话,会看到\n",
    "\n",
    "![](https://github.com/cruldra/picx-images-hosting/raw/master/image.7ax3m5y232.png)\n",
    "\n",
    "也可以在另外一台机器上使用`netcat`测试\n",
    "\n",
    "```bash\n",
    "nc -v host 2375\n",
    "```\n",
    "\n",
    "成功的话会看到:\n",
    "\n",
    "![](https://github.com/cruldra/picx-images-hosting/raw/master/image.41xzpifqpr.png)\n",
    "\n",
    "5. 防火墙\n",
    "\n",
    "有些云服务商需要在安全组中开放`2375`端口,请根据实际情况配置。"
   ]
  },
  {
   "cell_type": "markdown",
   "metadata": {},
   "source": [
    "### 创建客户端"
   ]
  },
  {
   "cell_type": "code",
   "execution_count": 5,
   "metadata": {},
   "outputs": [
    {
     "name": "stdout",
     "output_type": "stream",
     "text": [
      "['af0d6b44fa082f48e3d80553ba1f098e3ef455f93ae04aaa3e6582068af8413c', '22f1685e7996d54f722f83bfd02cf6d8fa40de6821f0762f090fa47aa7e3309c', 'f7d4fa3affd513d40167790ff5344b255437453d99698fd9cab77b442ec1923b']\n"
     ]
    }
   ],
   "source": [
    "import docker\n",
    "docker_client = docker.DockerClient(base_url='tcp://8.130.104.39:2375')\n",
    "\n",
    "# 打印远程服务器上正在运行的docker容器的id\n",
    "print([container.id for container in docker_client.containers.list()])"
   ]
  },
  {
   "cell_type": "markdown",
   "metadata": {},
   "source": [
    "### 使用`SSH`创建客户端\n",
    "\n",
    "直接暴露`Docker`守护程序的`TCP`端口是不安全的,可以使用[`SSH`作为代理进行访问](https://blog.csdn.net/shirukai/article/details/125927428)"
   ]
  },
  {
   "cell_type": "markdown",
   "metadata": {},
   "source": [
    "# 容器管理"
   ]
  },
  {
   "cell_type": "markdown",
   "metadata": {},
   "source": [
    "## 在容器中运行一个命令\n",
    "\n",
    "实现`docker run -it ubuntu bash -c \"echo hello world\"`的效果"
   ]
  },
  {
   "cell_type": "code",
   "execution_count": 7,
   "metadata": {},
   "outputs": [
    {
     "name": "stdout",
     "output_type": "stream",
     "text": [
      "hello world\n"
     ]
    }
   ],
   "source": [
    "command = 'bash -c \"echo hello world\"'\n",
    "\n",
    "logs = docker_client.containers.run(\n",
    "    \"ubuntu\",\n",
    "    command,\n",
    "    remove=True,  \n",
    "    tty=True,\n",
    "    stdin_open=True,\n",
    "    # detach=True\n",
    ")\n",
    "print(logs.decode('utf-8').strip())"
   ]
  },
  {
   "cell_type": "markdown",
   "metadata": {},
   "source": [
    "## 映射目录"
   ]
  },
  {
   "cell_type": "markdown",
   "metadata": {},
   "source": [
    "### 守护进程在远程主机上\n",
    "\n",
    "当`Docker`守护进程位于远程主机上时,需要先把位于本地主机上的文件传输到远程主机上,然后再映射到容器中.\n",
    "\n",
    "可以创建一个上下文管理器来实现:\n",
    "\n",
    "1. 接收一个本地目录路径\n",
    "2. 和一个ssh配置\n",
    "3. 在进入上下文的时候将本地目录打包传到ssh服务器上的指定目录下解压缩\n",
    "4. 在退出上下文的时候删除远程服务器上的这个目录"
   ]
  },
  {
   "cell_type": "code",
   "execution_count": 1,
   "metadata": {},
   "outputs": [
    {
     "name": "stdout",
     "output_type": "stream",
     "text": [
      "Collecting paramiko\n",
      "  Downloading paramiko-3.4.1-py3-none-any.whl.metadata (4.4 kB)\n",
      "Collecting bcrypt>=3.2 (from paramiko)\n",
      "  Using cached bcrypt-4.2.0-cp39-abi3-win_amd64.whl.metadata (9.9 kB)\n",
      "Collecting cryptography>=3.3 (from paramiko)\n",
      "  Using cached cryptography-43.0.0-cp39-abi3-win_amd64.whl.metadata (5.4 kB)\n",
      "Collecting pynacl>=1.5 (from paramiko)\n",
      "  Using cached PyNaCl-1.5.0-cp36-abi3-win_amd64.whl.metadata (8.7 kB)\n",
      "Requirement already satisfied: cffi>=1.12 in e:\\appdata\\conda\\envs\\jupyter-notebook\\lib\\site-packages (from cryptography>=3.3->paramiko) (1.17.0)\n",
      "Requirement already satisfied: pycparser in e:\\appdata\\conda\\envs\\jupyter-notebook\\lib\\site-packages (from cffi>=1.12->cryptography>=3.3->paramiko) (2.22)\n",
      "Downloading paramiko-3.4.1-py3-none-any.whl (226 kB)\n",
      "   ---------------------------------------- 0.0/226.2 kB ? eta -:--:--\n",
      "   ----- ---------------------------------- 30.7/226.2 kB 1.3 MB/s eta 0:00:01\n",
      "   -------------------------------- ------- 184.3/226.2 kB 2.2 MB/s eta 0:00:01\n",
      "   ---------------------------------------- 226.2/226.2 kB 2.3 MB/s eta 0:00:00\n",
      "Using cached bcrypt-4.2.0-cp39-abi3-win_amd64.whl (151 kB)\n",
      "Using cached cryptography-43.0.0-cp39-abi3-win_amd64.whl (3.1 MB)\n",
      "Using cached PyNaCl-1.5.0-cp36-abi3-win_amd64.whl (212 kB)\n",
      "Installing collected packages: bcrypt, pynacl, cryptography, paramiko\n",
      "Successfully installed bcrypt-4.2.0 cryptography-43.0.0 paramiko-3.4.1 pynacl-1.5.0\n"
     ]
    }
   ],
   "source": [
    "! pip install paramiko"
   ]
  },
  {
   "cell_type": "code",
   "execution_count": 2,
   "metadata": {},
   "outputs": [],
   "source": [
    "from contextlib import contextmanager\n",
    "import os\n",
    "import tarfile\n",
    "import tempfile\n",
    "\n",
    "import paramiko\n",
    "\n",
    "\n",
    "class SSHConfig:\n",
    "    def __init__(self, hostname, username, password=None, key_filename=None, port=22):\n",
    "        self.hostname = hostname\n",
    "        self.username = username\n",
    "        self.password = password\n",
    "        self.key_filename = key_filename\n",
    "        self.port = port\n",
    "\n",
    "\n",
    "@contextmanager\n",
    "def remote_directory(local_path, remote_path, ssh_config):\n",
    "    # 创建SSH客户端\n",
    "    ssh = paramiko.SSHClient()\n",
    "    ssh.set_missing_host_key_policy(paramiko.AutoAddPolicy())\n",
    "\n",
    "    try:\n",
    "        # 连接到远程服务器\n",
    "        ssh.connect(\n",
    "            ssh_config.hostname,\n",
    "            port=ssh_config.port,\n",
    "            username=ssh_config.username,\n",
    "            password=ssh_config.password,\n",
    "            key_filename=ssh_config.key_filename\n",
    "        )\n",
    "\n",
    "        # 创建一个临时目录来存储压缩文件\n",
    "        with tempfile.TemporaryDirectory() as temp_dir:\n",
    "            # 压缩本地目录\n",
    "            tar_filename = os.path.join(temp_dir, \"local_directory.tar.gz\")\n",
    "            with tarfile.open(tar_filename, \"w:gz\") as tar:\n",
    "                tar.add(local_path, arcname=os.path.basename(local_path))\n",
    "\n",
    "            # 创建SFTP客户端\n",
    "            sftp = ssh.open_sftp()\n",
    "\n",
    "            # 上传压缩文件\n",
    "            remote_tar_path = os.path.join(remote_path, \"local_directory.tar.gz\")\n",
    "            sftp.put(tar_filename, remote_tar_path)\n",
    "\n",
    "            # 在远程服务器上解压文件\n",
    "            _, stdout, _ = ssh.exec_command(f\"mkdir -p {remote_path} && tar -xzf {remote_tar_path} -C {remote_path} && rm {remote_tar_path}\")\n",
    "            stdout.channel.recv_exit_status()  # 等待命令执行完成\n",
    "\n",
    "        yield  # 允许在上下文中使用远程目录\n",
    "\n",
    "    finally:\n",
    "        # 退出上下文时，删除远程目录\n",
    "        ssh.exec_command(f\"rm -rf {remote_path}\")\n",
    "        \n",
    "        # 关闭SSH连接\n",
    "        ssh.close()"
   ]
  },
  {
   "cell_type": "code",
   "execution_count": 3,
   "metadata": {},
   "outputs": [
    {
     "ename": "KeyboardInterrupt",
     "evalue": "",
     "output_type": "error",
     "traceback": [
      "\u001b[1;31m---------------------------------------------------------------------------\u001b[0m",
      "\u001b[1;31mKeyboardInterrupt\u001b[0m                         Traceback (most recent call last)",
      "Cell \u001b[1;32mIn[3], line 12\u001b[0m\n\u001b[0;32m      4\u001b[0m remote_directory_path \u001b[38;5;241m=\u001b[39m \u001b[38;5;124m\"\u001b[39m\u001b[38;5;124m/tmp/7385533550239419689\u001b[39m\u001b[38;5;124m\"\u001b[39m\n\u001b[0;32m      6\u001b[0m ssh_config \u001b[38;5;241m=\u001b[39m SSHConfig(\n\u001b[0;32m      7\u001b[0m     hostname\u001b[38;5;241m=\u001b[39m\u001b[38;5;124m\"\u001b[39m\u001b[38;5;124m8.130.104.39\u001b[39m\u001b[38;5;124m\"\u001b[39m,\n\u001b[0;32m      8\u001b[0m     username\u001b[38;5;241m=\u001b[39m\u001b[38;5;124m\"\u001b[39m\u001b[38;5;124mroot\u001b[39m\u001b[38;5;124m\"\u001b[39m,\n\u001b[0;32m      9\u001b[0m     password\u001b[38;5;241m=\u001b[39m\u001b[38;5;124m\"\u001b[39m\u001b[38;5;124mdongjak@2015\u001b[39m\u001b[38;5;124m\"\u001b[39m,  \u001b[38;5;66;03m# 或使用 key_filename=\"/path/to/private/key\"\u001b[39;00m\n\u001b[0;32m     10\u001b[0m )\n\u001b[1;32m---> 12\u001b[0m \u001b[43m\u001b[49m\u001b[38;5;28;43;01mwith\u001b[39;49;00m\u001b[43m \u001b[49m\u001b[43mremote_directory\u001b[49m\u001b[43m(\u001b[49m\u001b[43mlocal_directory\u001b[49m\u001b[43m,\u001b[49m\u001b[43m \u001b[49m\u001b[43mremote_directory_path\u001b[49m\u001b[43m,\u001b[49m\u001b[43m \u001b[49m\u001b[43mssh_config\u001b[49m\u001b[43m)\u001b[49m\u001b[43m:\u001b[49m\n\u001b[0;32m     13\u001b[0m \u001b[43m    \u001b[49m\u001b[38;5;28;43mprint\u001b[39;49m\u001b[43m(\u001b[49m\u001b[38;5;124;43mf\u001b[39;49m\u001b[38;5;124;43m\"\u001b[39;49m\u001b[38;5;124;43m本地目录 \u001b[39;49m\u001b[38;5;132;43;01m{\u001b[39;49;00m\u001b[43mlocal_directory\u001b[49m\u001b[38;5;132;43;01m}\u001b[39;49;00m\u001b[38;5;124;43m 已上传并解压到远程路径 \u001b[39;49m\u001b[38;5;132;43;01m{\u001b[39;49;00m\u001b[43mremote_directory_path\u001b[49m\u001b[38;5;132;43;01m}\u001b[39;49;00m\u001b[38;5;124;43m\"\u001b[39;49m\u001b[43m)\u001b[49m\n\u001b[0;32m     14\u001b[0m     \u001b[38;5;66;03m# 在这里执行需要使用远程目录的操作\u001b[39;00m\n",
      "File \u001b[1;32me:\\AppData\\Conda\\envs\\jupyter-notebook\\Lib\\contextlib.py:137\u001b[0m, in \u001b[0;36m_GeneratorContextManager.__enter__\u001b[1;34m(self)\u001b[0m\n\u001b[0;32m    135\u001b[0m \u001b[38;5;28;01mdel\u001b[39;00m \u001b[38;5;28mself\u001b[39m\u001b[38;5;241m.\u001b[39margs, \u001b[38;5;28mself\u001b[39m\u001b[38;5;241m.\u001b[39mkwds, \u001b[38;5;28mself\u001b[39m\u001b[38;5;241m.\u001b[39mfunc\n\u001b[0;32m    136\u001b[0m \u001b[38;5;28;01mtry\u001b[39;00m:\n\u001b[1;32m--> 137\u001b[0m     \u001b[38;5;28;01mreturn\u001b[39;00m \u001b[38;5;28;43mnext\u001b[39;49m\u001b[43m(\u001b[49m\u001b[38;5;28;43mself\u001b[39;49m\u001b[38;5;241;43m.\u001b[39;49m\u001b[43mgen\u001b[49m\u001b[43m)\u001b[49m\n\u001b[0;32m    138\u001b[0m \u001b[38;5;28;01mexcept\u001b[39;00m \u001b[38;5;167;01mStopIteration\u001b[39;00m:\n\u001b[0;32m    139\u001b[0m     \u001b[38;5;28;01mraise\u001b[39;00m \u001b[38;5;167;01mRuntimeError\u001b[39;00m(\u001b[38;5;124m\"\u001b[39m\u001b[38;5;124mgenerator didn\u001b[39m\u001b[38;5;124m'\u001b[39m\u001b[38;5;124mt yield\u001b[39m\u001b[38;5;124m\"\u001b[39m) \u001b[38;5;28;01mfrom\u001b[39;00m \u001b[38;5;28;01mNone\u001b[39;00m\n",
      "Cell \u001b[1;32mIn[2], line 46\u001b[0m, in \u001b[0;36mremote_directory\u001b[1;34m(local_path, remote_path, ssh_config)\u001b[0m\n\u001b[0;32m     44\u001b[0m \u001b[38;5;66;03m# 上传压缩文件\u001b[39;00m\n\u001b[0;32m     45\u001b[0m remote_tar_path \u001b[38;5;241m=\u001b[39m os\u001b[38;5;241m.\u001b[39mpath\u001b[38;5;241m.\u001b[39mjoin(remote_path, \u001b[38;5;124m\"\u001b[39m\u001b[38;5;124mlocal_directory.tar.gz\u001b[39m\u001b[38;5;124m\"\u001b[39m)\n\u001b[1;32m---> 46\u001b[0m \u001b[43msftp\u001b[49m\u001b[38;5;241;43m.\u001b[39;49m\u001b[43mput\u001b[49m\u001b[43m(\u001b[49m\u001b[43mtar_filename\u001b[49m\u001b[43m,\u001b[49m\u001b[43m \u001b[49m\u001b[43mremote_tar_path\u001b[49m\u001b[43m)\u001b[49m\n\u001b[0;32m     48\u001b[0m \u001b[38;5;66;03m# 在远程服务器上解压文件\u001b[39;00m\n\u001b[0;32m     49\u001b[0m _, stdout, _ \u001b[38;5;241m=\u001b[39m ssh\u001b[38;5;241m.\u001b[39mexec_command(\u001b[38;5;124mf\u001b[39m\u001b[38;5;124m\"\u001b[39m\u001b[38;5;124mmkdir -p \u001b[39m\u001b[38;5;132;01m{\u001b[39;00mremote_path\u001b[38;5;132;01m}\u001b[39;00m\u001b[38;5;124m && tar -xzf \u001b[39m\u001b[38;5;132;01m{\u001b[39;00mremote_tar_path\u001b[38;5;132;01m}\u001b[39;00m\u001b[38;5;124m -C \u001b[39m\u001b[38;5;132;01m{\u001b[39;00mremote_path\u001b[38;5;132;01m}\u001b[39;00m\u001b[38;5;124m && rm \u001b[39m\u001b[38;5;132;01m{\u001b[39;00mremote_tar_path\u001b[38;5;132;01m}\u001b[39;00m\u001b[38;5;124m\"\u001b[39m)\n",
      "File \u001b[1;32me:\\AppData\\Conda\\envs\\jupyter-notebook\\Lib\\site-packages\\paramiko\\sftp_client.py:759\u001b[0m, in \u001b[0;36mSFTPClient.put\u001b[1;34m(self, localpath, remotepath, callback, confirm)\u001b[0m\n\u001b[0;32m    757\u001b[0m file_size \u001b[38;5;241m=\u001b[39m os\u001b[38;5;241m.\u001b[39mstat(localpath)\u001b[38;5;241m.\u001b[39mst_size\n\u001b[0;32m    758\u001b[0m \u001b[38;5;28;01mwith\u001b[39;00m \u001b[38;5;28mopen\u001b[39m(localpath, \u001b[38;5;124m\"\u001b[39m\u001b[38;5;124mrb\u001b[39m\u001b[38;5;124m\"\u001b[39m) \u001b[38;5;28;01mas\u001b[39;00m fl:\n\u001b[1;32m--> 759\u001b[0m     \u001b[38;5;28;01mreturn\u001b[39;00m \u001b[38;5;28;43mself\u001b[39;49m\u001b[38;5;241;43m.\u001b[39;49m\u001b[43mputfo\u001b[49m\u001b[43m(\u001b[49m\u001b[43mfl\u001b[49m\u001b[43m,\u001b[49m\u001b[43m \u001b[49m\u001b[43mremotepath\u001b[49m\u001b[43m,\u001b[49m\u001b[43m \u001b[49m\u001b[43mfile_size\u001b[49m\u001b[43m,\u001b[49m\u001b[43m \u001b[49m\u001b[43mcallback\u001b[49m\u001b[43m,\u001b[49m\u001b[43m \u001b[49m\u001b[43mconfirm\u001b[49m\u001b[43m)\u001b[49m\n",
      "File \u001b[1;32me:\\AppData\\Conda\\envs\\jupyter-notebook\\Lib\\site-packages\\paramiko\\sftp_client.py:716\u001b[0m, in \u001b[0;36mSFTPClient.putfo\u001b[1;34m(self, fl, remotepath, file_size, callback, confirm)\u001b[0m\n\u001b[0;32m    714\u001b[0m \u001b[38;5;28;01mwith\u001b[39;00m \u001b[38;5;28mself\u001b[39m\u001b[38;5;241m.\u001b[39mfile(remotepath, \u001b[38;5;124m\"\u001b[39m\u001b[38;5;124mwb\u001b[39m\u001b[38;5;124m\"\u001b[39m) \u001b[38;5;28;01mas\u001b[39;00m fr:\n\u001b[0;32m    715\u001b[0m     fr\u001b[38;5;241m.\u001b[39mset_pipelined(\u001b[38;5;28;01mTrue\u001b[39;00m)\n\u001b[1;32m--> 716\u001b[0m     size \u001b[38;5;241m=\u001b[39m \u001b[38;5;28;43mself\u001b[39;49m\u001b[38;5;241;43m.\u001b[39;49m\u001b[43m_transfer_with_callback\u001b[49m\u001b[43m(\u001b[49m\n\u001b[0;32m    717\u001b[0m \u001b[43m        \u001b[49m\u001b[43mreader\u001b[49m\u001b[38;5;241;43m=\u001b[39;49m\u001b[43mfl\u001b[49m\u001b[43m,\u001b[49m\u001b[43m \u001b[49m\u001b[43mwriter\u001b[49m\u001b[38;5;241;43m=\u001b[39;49m\u001b[43mfr\u001b[49m\u001b[43m,\u001b[49m\u001b[43m \u001b[49m\u001b[43mfile_size\u001b[49m\u001b[38;5;241;43m=\u001b[39;49m\u001b[43mfile_size\u001b[49m\u001b[43m,\u001b[49m\u001b[43m \u001b[49m\u001b[43mcallback\u001b[49m\u001b[38;5;241;43m=\u001b[39;49m\u001b[43mcallback\u001b[49m\n\u001b[0;32m    718\u001b[0m \u001b[43m    \u001b[49m\u001b[43m)\u001b[49m\n\u001b[0;32m    719\u001b[0m \u001b[38;5;28;01mif\u001b[39;00m confirm:\n\u001b[0;32m    720\u001b[0m     s \u001b[38;5;241m=\u001b[39m \u001b[38;5;28mself\u001b[39m\u001b[38;5;241m.\u001b[39mstat(remotepath)\n",
      "File \u001b[1;32me:\\AppData\\Conda\\envs\\jupyter-notebook\\Lib\\site-packages\\paramiko\\sftp_client.py:679\u001b[0m, in \u001b[0;36mSFTPClient._transfer_with_callback\u001b[1;34m(self, reader, writer, file_size, callback)\u001b[0m\n\u001b[0;32m    677\u001b[0m \u001b[38;5;28;01mwhile\u001b[39;00m \u001b[38;5;28;01mTrue\u001b[39;00m:\n\u001b[0;32m    678\u001b[0m     data \u001b[38;5;241m=\u001b[39m reader\u001b[38;5;241m.\u001b[39mread(\u001b[38;5;241m32768\u001b[39m)\n\u001b[1;32m--> 679\u001b[0m     \u001b[43mwriter\u001b[49m\u001b[38;5;241;43m.\u001b[39;49m\u001b[43mwrite\u001b[49m\u001b[43m(\u001b[49m\u001b[43mdata\u001b[49m\u001b[43m)\u001b[49m\n\u001b[0;32m    680\u001b[0m     size \u001b[38;5;241m+\u001b[39m\u001b[38;5;241m=\u001b[39m \u001b[38;5;28mlen\u001b[39m(data)\n\u001b[0;32m    681\u001b[0m     \u001b[38;5;28;01mif\u001b[39;00m \u001b[38;5;28mlen\u001b[39m(data) \u001b[38;5;241m==\u001b[39m \u001b[38;5;241m0\u001b[39m:\n",
      "File \u001b[1;32me:\\AppData\\Conda\\envs\\jupyter-notebook\\Lib\\site-packages\\paramiko\\file.py:389\u001b[0m, in \u001b[0;36mBufferedFile.write\u001b[1;34m(self, data)\u001b[0m\n\u001b[0;32m    387\u001b[0m     \u001b[38;5;28;01mraise\u001b[39;00m \u001b[38;5;167;01mIOError\u001b[39;00m(\u001b[38;5;124m\"\u001b[39m\u001b[38;5;124mFile not open for writing\u001b[39m\u001b[38;5;124m\"\u001b[39m)\n\u001b[0;32m    388\u001b[0m \u001b[38;5;28;01mif\u001b[39;00m \u001b[38;5;129;01mnot\u001b[39;00m (\u001b[38;5;28mself\u001b[39m\u001b[38;5;241m.\u001b[39m_flags \u001b[38;5;241m&\u001b[39m \u001b[38;5;28mself\u001b[39m\u001b[38;5;241m.\u001b[39mFLAG_BUFFERED):\n\u001b[1;32m--> 389\u001b[0m     \u001b[38;5;28;43mself\u001b[39;49m\u001b[38;5;241;43m.\u001b[39;49m\u001b[43m_write_all\u001b[49m\u001b[43m(\u001b[49m\u001b[43mdata\u001b[49m\u001b[43m)\u001b[49m\n\u001b[0;32m    390\u001b[0m     \u001b[38;5;28;01mreturn\u001b[39;00m\n\u001b[0;32m    391\u001b[0m \u001b[38;5;28mself\u001b[39m\u001b[38;5;241m.\u001b[39m_wbuffer\u001b[38;5;241m.\u001b[39mwrite(data)\n",
      "File \u001b[1;32me:\\AppData\\Conda\\envs\\jupyter-notebook\\Lib\\site-packages\\paramiko\\file.py:507\u001b[0m, in \u001b[0;36mBufferedFile._write_all\u001b[1;34m(self, raw_data)\u001b[0m\n\u001b[0;32m    505\u001b[0m data \u001b[38;5;241m=\u001b[39m \u001b[38;5;28mmemoryview\u001b[39m(raw_data)\n\u001b[0;32m    506\u001b[0m \u001b[38;5;28;01mwhile\u001b[39;00m \u001b[38;5;28mlen\u001b[39m(data) \u001b[38;5;241m>\u001b[39m \u001b[38;5;241m0\u001b[39m:\n\u001b[1;32m--> 507\u001b[0m     count \u001b[38;5;241m=\u001b[39m \u001b[38;5;28;43mself\u001b[39;49m\u001b[38;5;241;43m.\u001b[39;49m\u001b[43m_write\u001b[49m\u001b[43m(\u001b[49m\u001b[43mdata\u001b[49m\u001b[43m)\u001b[49m\n\u001b[0;32m    508\u001b[0m     data \u001b[38;5;241m=\u001b[39m data[count:]\n\u001b[0;32m    509\u001b[0m     \u001b[38;5;28;01mif\u001b[39;00m \u001b[38;5;28mself\u001b[39m\u001b[38;5;241m.\u001b[39m_flags \u001b[38;5;241m&\u001b[39m \u001b[38;5;28mself\u001b[39m\u001b[38;5;241m.\u001b[39mFLAG_APPEND:\n",
      "File \u001b[1;32me:\\AppData\\Conda\\envs\\jupyter-notebook\\Lib\\site-packages\\paramiko\\sftp_file.py:195\u001b[0m, in \u001b[0;36mSFTPFile._write\u001b[1;34m(self, data)\u001b[0m\n\u001b[0;32m    192\u001b[0m \u001b[38;5;28;01mdef\u001b[39;00m \u001b[38;5;21m_write\u001b[39m(\u001b[38;5;28mself\u001b[39m, data):\n\u001b[0;32m    193\u001b[0m     \u001b[38;5;66;03m# may write less than requested if it would exceed max packet size\u001b[39;00m\n\u001b[0;32m    194\u001b[0m     chunk \u001b[38;5;241m=\u001b[39m \u001b[38;5;28mmin\u001b[39m(\u001b[38;5;28mlen\u001b[39m(data), \u001b[38;5;28mself\u001b[39m\u001b[38;5;241m.\u001b[39mMAX_REQUEST_SIZE)\n\u001b[1;32m--> 195\u001b[0m     sftp_async_request \u001b[38;5;241m=\u001b[39m \u001b[38;5;28;43mself\u001b[39;49m\u001b[38;5;241;43m.\u001b[39;49m\u001b[43msftp\u001b[49m\u001b[38;5;241;43m.\u001b[39;49m\u001b[43m_async_request\u001b[49m\u001b[43m(\u001b[49m\n\u001b[0;32m    196\u001b[0m \u001b[43m        \u001b[49m\u001b[38;5;28;43mtype\u001b[39;49m\u001b[43m(\u001b[49m\u001b[38;5;28;43;01mNone\u001b[39;49;00m\u001b[43m)\u001b[49m\u001b[43m,\u001b[49m\n\u001b[0;32m    197\u001b[0m \u001b[43m        \u001b[49m\u001b[43mCMD_WRITE\u001b[49m\u001b[43m,\u001b[49m\n\u001b[0;32m    198\u001b[0m \u001b[43m        \u001b[49m\u001b[38;5;28;43mself\u001b[39;49m\u001b[38;5;241;43m.\u001b[39;49m\u001b[43mhandle\u001b[49m\u001b[43m,\u001b[49m\n\u001b[0;32m    199\u001b[0m \u001b[43m        \u001b[49m\u001b[43mint64\u001b[49m\u001b[43m(\u001b[49m\u001b[38;5;28;43mself\u001b[39;49m\u001b[38;5;241;43m.\u001b[39;49m\u001b[43m_realpos\u001b[49m\u001b[43m)\u001b[49m\u001b[43m,\u001b[49m\n\u001b[0;32m    200\u001b[0m \u001b[43m        \u001b[49m\u001b[43mdata\u001b[49m\u001b[43m[\u001b[49m\u001b[43m:\u001b[49m\u001b[43mchunk\u001b[49m\u001b[43m]\u001b[49m\u001b[43m,\u001b[49m\n\u001b[0;32m    201\u001b[0m \u001b[43m    \u001b[49m\u001b[43m)\u001b[49m\n\u001b[0;32m    202\u001b[0m     \u001b[38;5;28mself\u001b[39m\u001b[38;5;241m.\u001b[39m_reqs\u001b[38;5;241m.\u001b[39mappend(sftp_async_request)\n\u001b[0;32m    203\u001b[0m     \u001b[38;5;28;01mif\u001b[39;00m \u001b[38;5;129;01mnot\u001b[39;00m \u001b[38;5;28mself\u001b[39m\u001b[38;5;241m.\u001b[39mpipelined \u001b[38;5;129;01mor\u001b[39;00m (\n\u001b[0;32m    204\u001b[0m         \u001b[38;5;28mlen\u001b[39m(\u001b[38;5;28mself\u001b[39m\u001b[38;5;241m.\u001b[39m_reqs) \u001b[38;5;241m>\u001b[39m \u001b[38;5;241m100\u001b[39m \u001b[38;5;129;01mand\u001b[39;00m \u001b[38;5;28mself\u001b[39m\u001b[38;5;241m.\u001b[39msftp\u001b[38;5;241m.\u001b[39msock\u001b[38;5;241m.\u001b[39mrecv_ready()\n\u001b[0;32m    205\u001b[0m     ):\n",
      "File \u001b[1;32me:\\AppData\\Conda\\envs\\jupyter-notebook\\Lib\\site-packages\\paramiko\\sftp_client.py:881\u001b[0m, in \u001b[0;36mSFTPClient._async_request\u001b[1;34m(self, fileobj, t, *args)\u001b[0m\n\u001b[0;32m    879\u001b[0m \u001b[38;5;28;01mfinally\u001b[39;00m:\n\u001b[0;32m    880\u001b[0m     \u001b[38;5;28mself\u001b[39m\u001b[38;5;241m.\u001b[39m_lock\u001b[38;5;241m.\u001b[39mrelease()\n\u001b[1;32m--> 881\u001b[0m \u001b[38;5;28;43mself\u001b[39;49m\u001b[38;5;241;43m.\u001b[39;49m\u001b[43m_send_packet\u001b[49m\u001b[43m(\u001b[49m\u001b[43mt\u001b[49m\u001b[43m,\u001b[49m\u001b[43m \u001b[49m\u001b[43mmsg\u001b[49m\u001b[43m)\u001b[49m\n\u001b[0;32m    882\u001b[0m \u001b[38;5;28;01mreturn\u001b[39;00m num\n",
      "File \u001b[1;32me:\\AppData\\Conda\\envs\\jupyter-notebook\\Lib\\site-packages\\paramiko\\sftp.py:209\u001b[0m, in \u001b[0;36mBaseSFTP._send_packet\u001b[1;34m(self, t, packet)\u001b[0m\n\u001b[0;32m    207\u001b[0m \u001b[38;5;28;01mif\u001b[39;00m \u001b[38;5;28mself\u001b[39m\u001b[38;5;241m.\u001b[39multra_debug:\n\u001b[0;32m    208\u001b[0m     \u001b[38;5;28mself\u001b[39m\u001b[38;5;241m.\u001b[39m_log(DEBUG, util\u001b[38;5;241m.\u001b[39mformat_binary(out, \u001b[38;5;124m\"\u001b[39m\u001b[38;5;124mOUT: \u001b[39m\u001b[38;5;124m\"\u001b[39m))\n\u001b[1;32m--> 209\u001b[0m \u001b[38;5;28;43mself\u001b[39;49m\u001b[38;5;241;43m.\u001b[39;49m\u001b[43m_write_all\u001b[49m\u001b[43m(\u001b[49m\u001b[43mout\u001b[49m\u001b[43m)\u001b[49m\n",
      "File \u001b[1;32me:\\AppData\\Conda\\envs\\jupyter-notebook\\Lib\\site-packages\\paramiko\\sftp.py:173\u001b[0m, in \u001b[0;36mBaseSFTP._write_all\u001b[1;34m(self, out)\u001b[0m\n\u001b[0;32m    171\u001b[0m \u001b[38;5;28;01mdef\u001b[39;00m \u001b[38;5;21m_write_all\u001b[39m(\u001b[38;5;28mself\u001b[39m, out):\n\u001b[0;32m    172\u001b[0m     \u001b[38;5;28;01mwhile\u001b[39;00m \u001b[38;5;28mlen\u001b[39m(out) \u001b[38;5;241m>\u001b[39m \u001b[38;5;241m0\u001b[39m:\n\u001b[1;32m--> 173\u001b[0m         n \u001b[38;5;241m=\u001b[39m \u001b[38;5;28;43mself\u001b[39;49m\u001b[38;5;241;43m.\u001b[39;49m\u001b[43msock\u001b[49m\u001b[38;5;241;43m.\u001b[39;49m\u001b[43msend\u001b[49m\u001b[43m(\u001b[49m\u001b[43mout\u001b[49m\u001b[43m)\u001b[49m\n\u001b[0;32m    174\u001b[0m         \u001b[38;5;28;01mif\u001b[39;00m n \u001b[38;5;241m<\u001b[39m\u001b[38;5;241m=\u001b[39m \u001b[38;5;241m0\u001b[39m:\n\u001b[0;32m    175\u001b[0m             \u001b[38;5;28;01mraise\u001b[39;00m \u001b[38;5;167;01mEOFError\u001b[39;00m()\n",
      "File \u001b[1;32me:\\AppData\\Conda\\envs\\jupyter-notebook\\Lib\\site-packages\\paramiko\\channel.py:799\u001b[0m, in \u001b[0;36mChannel.send\u001b[1;34m(self, s)\u001b[0m\n\u001b[0;32m    797\u001b[0m m\u001b[38;5;241m.\u001b[39madd_byte(cMSG_CHANNEL_DATA)\n\u001b[0;32m    798\u001b[0m m\u001b[38;5;241m.\u001b[39madd_int(\u001b[38;5;28mself\u001b[39m\u001b[38;5;241m.\u001b[39mremote_chanid)\n\u001b[1;32m--> 799\u001b[0m \u001b[38;5;28;01mreturn\u001b[39;00m \u001b[38;5;28;43mself\u001b[39;49m\u001b[38;5;241;43m.\u001b[39;49m\u001b[43m_send\u001b[49m\u001b[43m(\u001b[49m\u001b[43ms\u001b[49m\u001b[43m,\u001b[49m\u001b[43m \u001b[49m\u001b[43mm\u001b[49m\u001b[43m)\u001b[49m\n",
      "File \u001b[1;32me:\\AppData\\Conda\\envs\\jupyter-notebook\\Lib\\site-packages\\paramiko\\channel.py:1206\u001b[0m, in \u001b[0;36mChannel._send\u001b[1;34m(self, s, m)\u001b[0m\n\u001b[0;32m   1203\u001b[0m     \u001b[38;5;28mself\u001b[39m\u001b[38;5;241m.\u001b[39mlock\u001b[38;5;241m.\u001b[39mrelease()\n\u001b[0;32m   1204\u001b[0m \u001b[38;5;66;03m# Note: We release self.lock before calling _send_user_message.\u001b[39;00m\n\u001b[0;32m   1205\u001b[0m \u001b[38;5;66;03m# Otherwise, we can deadlock during re-keying.\u001b[39;00m\n\u001b[1;32m-> 1206\u001b[0m \u001b[38;5;28;43mself\u001b[39;49m\u001b[38;5;241;43m.\u001b[39;49m\u001b[43mtransport\u001b[49m\u001b[38;5;241;43m.\u001b[39;49m\u001b[43m_send_user_message\u001b[49m\u001b[43m(\u001b[49m\u001b[43mm\u001b[49m\u001b[43m)\u001b[49m\n\u001b[0;32m   1207\u001b[0m \u001b[38;5;28;01mreturn\u001b[39;00m size\n",
      "File \u001b[1;32me:\\AppData\\Conda\\envs\\jupyter-notebook\\Lib\\site-packages\\paramiko\\transport.py:1967\u001b[0m, in \u001b[0;36mTransport._send_user_message\u001b[1;34m(self, data)\u001b[0m\n\u001b[0;32m   1963\u001b[0m         \u001b[38;5;28;01mraise\u001b[39;00m SSHException(\n\u001b[0;32m   1964\u001b[0m             \u001b[38;5;124m\"\u001b[39m\u001b[38;5;124mKey-exchange timed out waiting for key negotiation\u001b[39m\u001b[38;5;124m\"\u001b[39m\n\u001b[0;32m   1965\u001b[0m         )  \u001b[38;5;66;03m# noqa\u001b[39;00m\n\u001b[0;32m   1966\u001b[0m \u001b[38;5;28;01mtry\u001b[39;00m:\n\u001b[1;32m-> 1967\u001b[0m     \u001b[38;5;28;43mself\u001b[39;49m\u001b[38;5;241;43m.\u001b[39;49m\u001b[43m_send_message\u001b[49m\u001b[43m(\u001b[49m\u001b[43mdata\u001b[49m\u001b[43m)\u001b[49m\n\u001b[0;32m   1968\u001b[0m \u001b[38;5;28;01mfinally\u001b[39;00m:\n\u001b[0;32m   1969\u001b[0m     \u001b[38;5;28mself\u001b[39m\u001b[38;5;241m.\u001b[39mclear_to_send_lock\u001b[38;5;241m.\u001b[39mrelease()\n",
      "File \u001b[1;32me:\\AppData\\Conda\\envs\\jupyter-notebook\\Lib\\site-packages\\paramiko\\transport.py:1943\u001b[0m, in \u001b[0;36mTransport._send_message\u001b[1;34m(self, data)\u001b[0m\n\u001b[0;32m   1942\u001b[0m \u001b[38;5;28;01mdef\u001b[39;00m \u001b[38;5;21m_send_message\u001b[39m(\u001b[38;5;28mself\u001b[39m, data):\n\u001b[1;32m-> 1943\u001b[0m     \u001b[38;5;28;43mself\u001b[39;49m\u001b[38;5;241;43m.\u001b[39;49m\u001b[43mpacketizer\u001b[49m\u001b[38;5;241;43m.\u001b[39;49m\u001b[43msend_message\u001b[49m\u001b[43m(\u001b[49m\u001b[43mdata\u001b[49m\u001b[43m)\u001b[49m\n",
      "File \u001b[1;32me:\\AppData\\Conda\\envs\\jupyter-notebook\\Lib\\site-packages\\paramiko\\packet.py:435\u001b[0m, in \u001b[0;36mPacketizer.send_message\u001b[1;34m(self, data)\u001b[0m\n\u001b[0;32m    431\u001b[0m     \u001b[38;5;28;01mraise\u001b[39;00m SSHException(\n\u001b[0;32m    432\u001b[0m         \u001b[38;5;124m\"\u001b[39m\u001b[38;5;124mSequence number rolled over during initial kex!\u001b[39m\u001b[38;5;124m\"\u001b[39m\n\u001b[0;32m    433\u001b[0m     )\n\u001b[0;32m    434\u001b[0m \u001b[38;5;28mself\u001b[39m\u001b[38;5;241m.\u001b[39m__sequence_number_out \u001b[38;5;241m=\u001b[39m next_seq\n\u001b[1;32m--> 435\u001b[0m \u001b[38;5;28;43mself\u001b[39;49m\u001b[38;5;241;43m.\u001b[39;49m\u001b[43mwrite_all\u001b[49m\u001b[43m(\u001b[49m\u001b[43mout\u001b[49m\u001b[43m)\u001b[49m\n\u001b[0;32m    437\u001b[0m \u001b[38;5;28mself\u001b[39m\u001b[38;5;241m.\u001b[39m__sent_bytes \u001b[38;5;241m+\u001b[39m\u001b[38;5;241m=\u001b[39m \u001b[38;5;28mlen\u001b[39m(out)\n\u001b[0;32m    438\u001b[0m \u001b[38;5;28mself\u001b[39m\u001b[38;5;241m.\u001b[39m__sent_packets \u001b[38;5;241m+\u001b[39m\u001b[38;5;241m=\u001b[39m \u001b[38;5;241m1\u001b[39m\n",
      "File \u001b[1;32me:\\AppData\\Conda\\envs\\jupyter-notebook\\Lib\\site-packages\\paramiko\\packet.py:340\u001b[0m, in \u001b[0;36mPacketizer.write_all\u001b[1;34m(self, out)\u001b[0m\n\u001b[0;32m    338\u001b[0m retry_write \u001b[38;5;241m=\u001b[39m \u001b[38;5;28;01mFalse\u001b[39;00m\n\u001b[0;32m    339\u001b[0m \u001b[38;5;28;01mtry\u001b[39;00m:\n\u001b[1;32m--> 340\u001b[0m     n \u001b[38;5;241m=\u001b[39m \u001b[38;5;28;43mself\u001b[39;49m\u001b[38;5;241;43m.\u001b[39;49m\u001b[43m__socket\u001b[49m\u001b[38;5;241;43m.\u001b[39;49m\u001b[43msend\u001b[49m\u001b[43m(\u001b[49m\u001b[43mout\u001b[49m\u001b[43m)\u001b[49m\n\u001b[0;32m    341\u001b[0m \u001b[38;5;28;01mexcept\u001b[39;00m socket\u001b[38;5;241m.\u001b[39mtimeout:\n\u001b[0;32m    342\u001b[0m     retry_write \u001b[38;5;241m=\u001b[39m \u001b[38;5;28;01mTrue\u001b[39;00m\n",
      "\u001b[1;31mKeyboardInterrupt\u001b[0m: "
     ]
    }
   ],
   "source": [
    "# 使用示例\n",
    "if __name__ == \"__main__\":\n",
    "    local_directory = r\"D:\\Workspace\\aiworld\\py_automation\\digital_human_video\\.data\\videos\\7385533550239419689\"\n",
    "    remote_directory_path = \"/tmp/7385533550239419689\"\n",
    "    \n",
    "    ssh_config = SSHConfig(\n",
    "        hostname=\"8.130.104.39\",\n",
    "        username=\"root\",\n",
    "        password=\"dongjak@2015\",  # 或使用 key_filename=\"/path/to/private/key\"\n",
    "    )\n",
    "\n",
    "    with remote_directory(local_directory, remote_directory_path, ssh_config):\n",
    "        print(f\"本地目录 {local_directory} 已上传并解压到远程路径 {remote_directory_path}\")\n",
    "        # 在这里执行需要使用远程目录的操作\n",
    "    \n",
    "    print(\"上下文已退出，远程目录已被删除\")"
   ]
  },
  {
   "cell_type": "code",
   "execution_count": 9,
   "metadata": {},
   "outputs": [
    {
     "name": "stdout",
     "output_type": "stream",
     "text": [
      "D:\\Workspace\\aiworld\\py_automation\\digital_human_video\\.data\\videos\\7385533550239419689\n"
     ]
    },
    {
     "ename": "APIError",
     "evalue": "500 Server Error for http://8.130.104.39:2375/v1.43/containers/create: Internal Server Error (\"invalid volume specification: 'D:\\Workspace\\aiworld\\py_automation\\digital_human_video\\.data\\videos:/tmp_app:rw'\")",
     "output_type": "error",
     "traceback": [
      "\u001b[1;31m---------------------------------------------------------------------------\u001b[0m",
      "\u001b[1;31mHTTPError\u001b[0m                                 Traceback (most recent call last)",
      "File \u001b[1;32me:\\AppData\\Conda\\envs\\jupyter-notebook\\Lib\\site-packages\\docker\\api\\client.py:275\u001b[0m, in \u001b[0;36mAPIClient._raise_for_status\u001b[1;34m(self, response)\u001b[0m\n\u001b[0;32m    274\u001b[0m \u001b[38;5;28;01mtry\u001b[39;00m:\n\u001b[1;32m--> 275\u001b[0m     \u001b[43mresponse\u001b[49m\u001b[38;5;241;43m.\u001b[39;49m\u001b[43mraise_for_status\u001b[49m\u001b[43m(\u001b[49m\u001b[43m)\u001b[49m\n\u001b[0;32m    276\u001b[0m \u001b[38;5;28;01mexcept\u001b[39;00m requests\u001b[38;5;241m.\u001b[39mexceptions\u001b[38;5;241m.\u001b[39mHTTPError \u001b[38;5;28;01mas\u001b[39;00m e:\n",
      "File \u001b[1;32me:\\AppData\\Conda\\envs\\jupyter-notebook\\Lib\\site-packages\\requests\\models.py:1024\u001b[0m, in \u001b[0;36mResponse.raise_for_status\u001b[1;34m(self)\u001b[0m\n\u001b[0;32m   1023\u001b[0m \u001b[38;5;28;01mif\u001b[39;00m http_error_msg:\n\u001b[1;32m-> 1024\u001b[0m     \u001b[38;5;28;01mraise\u001b[39;00m HTTPError(http_error_msg, response\u001b[38;5;241m=\u001b[39m\u001b[38;5;28mself\u001b[39m)\n",
      "\u001b[1;31mHTTPError\u001b[0m: 500 Server Error: Internal Server Error for url: http://8.130.104.39:2375/v1.43/containers/create",
      "\nThe above exception was the direct cause of the following exception:\n",
      "\u001b[1;31mAPIError\u001b[0m                                  Traceback (most recent call last)",
      "Cell \u001b[1;32mIn[9], line 10\u001b[0m\n\u001b[0;32m      7\u001b[0m \u001b[38;5;28mprint\u001b[39m(video_directory_path)\n\u001b[0;32m      8\u001b[0m video_directory \u001b[38;5;241m=\u001b[39m os\u001b[38;5;241m.\u001b[39mpath\u001b[38;5;241m.\u001b[39mdirname(\u001b[38;5;124mr\u001b[39m\u001b[38;5;124m\"\u001b[39m\u001b[38;5;124mD:\u001b[39m\u001b[38;5;124m\\\u001b[39m\u001b[38;5;124mWorkspace\u001b[39m\u001b[38;5;124m\\\u001b[39m\u001b[38;5;124maiworld\u001b[39m\u001b[38;5;124m\\\u001b[39m\u001b[38;5;124mpy_automation\u001b[39m\u001b[38;5;124m\\\u001b[39m\u001b[38;5;124mdigital_human_video\u001b[39m\u001b[38;5;124m\\\u001b[39m\u001b[38;5;124m.data\u001b[39m\u001b[38;5;124m\\\u001b[39m\u001b[38;5;124mvideos\u001b[39m\u001b[38;5;124m\\\u001b[39m\u001b[38;5;124m7385533550239419689\u001b[39m\u001b[38;5;124m\"\u001b[39m)\n\u001b[0;32m      9\u001b[0m logs \u001b[38;5;241m=\u001b[39m (\n\u001b[1;32m---> 10\u001b[0m         \u001b[43mdocker_client\u001b[49m\u001b[38;5;241;43m.\u001b[39;49m\u001b[43mcontainers\u001b[49m\u001b[38;5;241;43m.\u001b[39;49m\u001b[43mrun\u001b[49m\u001b[43m(\u001b[49m\n\u001b[0;32m     11\u001b[0m \u001b[43m            \u001b[49m\u001b[43mffmpeg_image\u001b[49m\u001b[43m,\u001b[49m\n\u001b[0;32m     12\u001b[0m \u001b[43m            \u001b[49m\u001b[43mcommand\u001b[49m\u001b[43m,\u001b[49m\n\u001b[0;32m     13\u001b[0m \u001b[43m            \u001b[49m\u001b[43mvolumes\u001b[49m\u001b[38;5;241;43m=\u001b[39;49m\u001b[43m{\u001b[49m\u001b[43mvideo_directory\u001b[49m\u001b[43m:\u001b[49m\u001b[43m \u001b[49m\u001b[43m{\u001b[49m\u001b[38;5;124;43m\"\u001b[39;49m\u001b[38;5;124;43mbind\u001b[39;49m\u001b[38;5;124;43m\"\u001b[39;49m\u001b[43m:\u001b[49m\u001b[43m \u001b[49m\u001b[38;5;124;43m\"\u001b[39;49m\u001b[38;5;124;43m/tmp_app\u001b[39;49m\u001b[38;5;124;43m\"\u001b[39;49m\u001b[43m,\u001b[49m\u001b[43m \u001b[49m\u001b[38;5;124;43m\"\u001b[39;49m\u001b[38;5;124;43mmode\u001b[39;49m\u001b[38;5;124;43m\"\u001b[39;49m\u001b[43m:\u001b[49m\u001b[43m \u001b[49m\u001b[38;5;124;43m\"\u001b[39;49m\u001b[38;5;124;43mrw\u001b[39;49m\u001b[38;5;124;43m\"\u001b[39;49m\u001b[43m}\u001b[49m\u001b[43m}\u001b[49m\u001b[43m,\u001b[49m\n\u001b[0;32m     14\u001b[0m \u001b[43m            \u001b[49m\u001b[43mremove\u001b[49m\u001b[38;5;241;43m=\u001b[39;49m\u001b[38;5;28;43;01mTrue\u001b[39;49;00m\u001b[43m,\u001b[49m\n\u001b[0;32m     15\u001b[0m \u001b[43m            \u001b[49m\u001b[43mtty\u001b[49m\u001b[38;5;241;43m=\u001b[39;49m\u001b[38;5;28;43;01mTrue\u001b[39;49;00m\u001b[43m,\u001b[49m\n\u001b[0;32m     16\u001b[0m \u001b[43m            \u001b[49m\u001b[43mstdin_open\u001b[49m\u001b[38;5;241;43m=\u001b[39;49m\u001b[38;5;28;43;01mTrue\u001b[39;49;00m\u001b[43m,\u001b[49m\n\u001b[0;32m     17\u001b[0m \u001b[43m        \u001b[49m\u001b[43m)\u001b[49m\n\u001b[0;32m     18\u001b[0m         \u001b[38;5;241m.\u001b[39mdecode(\u001b[38;5;124m\"\u001b[39m\u001b[38;5;124mutf-8\u001b[39m\u001b[38;5;124m\"\u001b[39m)\n\u001b[0;32m     19\u001b[0m         \u001b[38;5;241m.\u001b[39mstrip()\n\u001b[0;32m     20\u001b[0m     )\n\u001b[0;32m     21\u001b[0m logger\u001b[38;5;241m.\u001b[39minfo(\u001b[38;5;124mf\u001b[39m\u001b[38;5;124m\"\u001b[39m\u001b[38;5;124m视频转音频: \u001b[39m\u001b[38;5;132;01m{\u001b[39;00mlogs\u001b[38;5;132;01m}\u001b[39;00m\u001b[38;5;124m\"\u001b[39m)\n",
      "File \u001b[1;32me:\\AppData\\Conda\\envs\\jupyter-notebook\\Lib\\site-packages\\docker\\models\\containers.py:876\u001b[0m, in \u001b[0;36mContainerCollection.run\u001b[1;34m(self, image, command, stdout, stderr, remove, **kwargs)\u001b[0m\n\u001b[0;32m    870\u001b[0m     \u001b[38;5;28;01mraise\u001b[39;00m \u001b[38;5;167;01mRuntimeError\u001b[39;00m(\n\u001b[0;32m    871\u001b[0m         \u001b[38;5;124m'\u001b[39m\u001b[38;5;124mThe option \u001b[39m\u001b[38;5;124m\"\u001b[39m\u001b[38;5;124mnetworking_config\u001b[39m\u001b[38;5;124m\"\u001b[39m\u001b[38;5;124m can not be used \u001b[39m\u001b[38;5;124m'\u001b[39m\n\u001b[0;32m    872\u001b[0m         \u001b[38;5;124m'\u001b[39m\u001b[38;5;124mwithout \u001b[39m\u001b[38;5;124m\"\u001b[39m\u001b[38;5;124mnetwork\u001b[39m\u001b[38;5;124m\"\u001b[39m\u001b[38;5;124m.\u001b[39m\u001b[38;5;124m'\u001b[39m\n\u001b[0;32m    873\u001b[0m     )\n\u001b[0;32m    875\u001b[0m \u001b[38;5;28;01mtry\u001b[39;00m:\n\u001b[1;32m--> 876\u001b[0m     container \u001b[38;5;241m=\u001b[39m \u001b[38;5;28;43mself\u001b[39;49m\u001b[38;5;241;43m.\u001b[39;49m\u001b[43mcreate\u001b[49m\u001b[43m(\u001b[49m\u001b[43mimage\u001b[49m\u001b[38;5;241;43m=\u001b[39;49m\u001b[43mimage\u001b[49m\u001b[43m,\u001b[49m\u001b[43m \u001b[49m\u001b[43mcommand\u001b[49m\u001b[38;5;241;43m=\u001b[39;49m\u001b[43mcommand\u001b[49m\u001b[43m,\u001b[49m\n\u001b[0;32m    877\u001b[0m \u001b[43m                            \u001b[49m\u001b[43mdetach\u001b[49m\u001b[38;5;241;43m=\u001b[39;49m\u001b[43mdetach\u001b[49m\u001b[43m,\u001b[49m\u001b[43m \u001b[49m\u001b[38;5;241;43m*\u001b[39;49m\u001b[38;5;241;43m*\u001b[39;49m\u001b[43mkwargs\u001b[49m\u001b[43m)\u001b[49m\n\u001b[0;32m    878\u001b[0m \u001b[38;5;28;01mexcept\u001b[39;00m ImageNotFound:\n\u001b[0;32m    879\u001b[0m     \u001b[38;5;28mself\u001b[39m\u001b[38;5;241m.\u001b[39mclient\u001b[38;5;241m.\u001b[39mimages\u001b[38;5;241m.\u001b[39mpull(image, platform\u001b[38;5;241m=\u001b[39mplatform)\n",
      "File \u001b[1;32me:\\AppData\\Conda\\envs\\jupyter-notebook\\Lib\\site-packages\\docker\\models\\containers.py:935\u001b[0m, in \u001b[0;36mContainerCollection.create\u001b[1;34m(self, image, command, **kwargs)\u001b[0m\n\u001b[0;32m    933\u001b[0m kwargs[\u001b[38;5;124m'\u001b[39m\u001b[38;5;124mversion\u001b[39m\u001b[38;5;124m'\u001b[39m] \u001b[38;5;241m=\u001b[39m \u001b[38;5;28mself\u001b[39m\u001b[38;5;241m.\u001b[39mclient\u001b[38;5;241m.\u001b[39mapi\u001b[38;5;241m.\u001b[39m_version\n\u001b[0;32m    934\u001b[0m create_kwargs \u001b[38;5;241m=\u001b[39m _create_container_args(kwargs)\n\u001b[1;32m--> 935\u001b[0m resp \u001b[38;5;241m=\u001b[39m \u001b[38;5;28;43mself\u001b[39;49m\u001b[38;5;241;43m.\u001b[39;49m\u001b[43mclient\u001b[49m\u001b[38;5;241;43m.\u001b[39;49m\u001b[43mapi\u001b[49m\u001b[38;5;241;43m.\u001b[39;49m\u001b[43mcreate_container\u001b[49m\u001b[43m(\u001b[49m\u001b[38;5;241;43m*\u001b[39;49m\u001b[38;5;241;43m*\u001b[39;49m\u001b[43mcreate_kwargs\u001b[49m\u001b[43m)\u001b[49m\n\u001b[0;32m    936\u001b[0m \u001b[38;5;28;01mreturn\u001b[39;00m \u001b[38;5;28mself\u001b[39m\u001b[38;5;241m.\u001b[39mget(resp[\u001b[38;5;124m'\u001b[39m\u001b[38;5;124mId\u001b[39m\u001b[38;5;124m'\u001b[39m])\n",
      "File \u001b[1;32me:\\AppData\\Conda\\envs\\jupyter-notebook\\Lib\\site-packages\\docker\\api\\container.py:440\u001b[0m, in \u001b[0;36mContainerApiMixin.create_container\u001b[1;34m(self, image, command, hostname, user, detach, stdin_open, tty, ports, environment, volumes, network_disabled, name, entrypoint, working_dir, domainname, host_config, mac_address, labels, stop_signal, networking_config, healthcheck, stop_timeout, runtime, use_config_proxy, platform)\u001b[0m\n\u001b[0;32m    428\u001b[0m     environment \u001b[38;5;241m=\u001b[39m \u001b[38;5;28mself\u001b[39m\u001b[38;5;241m.\u001b[39m_proxy_configs\u001b[38;5;241m.\u001b[39minject_proxy_environment(\n\u001b[0;32m    429\u001b[0m         environment\n\u001b[0;32m    430\u001b[0m     ) \u001b[38;5;129;01mor\u001b[39;00m \u001b[38;5;28;01mNone\u001b[39;00m\n\u001b[0;32m    432\u001b[0m config \u001b[38;5;241m=\u001b[39m \u001b[38;5;28mself\u001b[39m\u001b[38;5;241m.\u001b[39mcreate_container_config(\n\u001b[0;32m    433\u001b[0m     image, command, hostname, user, detach, stdin_open, tty,\n\u001b[0;32m    434\u001b[0m     ports, environment, volumes,\n\u001b[1;32m   (...)\u001b[0m\n\u001b[0;32m    438\u001b[0m     stop_timeout, runtime\n\u001b[0;32m    439\u001b[0m )\n\u001b[1;32m--> 440\u001b[0m \u001b[38;5;28;01mreturn\u001b[39;00m \u001b[38;5;28;43mself\u001b[39;49m\u001b[38;5;241;43m.\u001b[39;49m\u001b[43mcreate_container_from_config\u001b[49m\u001b[43m(\u001b[49m\u001b[43mconfig\u001b[49m\u001b[43m,\u001b[49m\u001b[43m \u001b[49m\u001b[43mname\u001b[49m\u001b[43m,\u001b[49m\u001b[43m \u001b[49m\u001b[43mplatform\u001b[49m\u001b[43m)\u001b[49m\n",
      "File \u001b[1;32me:\\AppData\\Conda\\envs\\jupyter-notebook\\Lib\\site-packages\\docker\\api\\container.py:457\u001b[0m, in \u001b[0;36mContainerApiMixin.create_container_from_config\u001b[1;34m(self, config, name, platform)\u001b[0m\n\u001b[0;32m    455\u001b[0m     params[\u001b[38;5;124m'\u001b[39m\u001b[38;5;124mplatform\u001b[39m\u001b[38;5;124m'\u001b[39m] \u001b[38;5;241m=\u001b[39m platform\n\u001b[0;32m    456\u001b[0m res \u001b[38;5;241m=\u001b[39m \u001b[38;5;28mself\u001b[39m\u001b[38;5;241m.\u001b[39m_post_json(u, data\u001b[38;5;241m=\u001b[39mconfig, params\u001b[38;5;241m=\u001b[39mparams)\n\u001b[1;32m--> 457\u001b[0m \u001b[38;5;28;01mreturn\u001b[39;00m \u001b[38;5;28;43mself\u001b[39;49m\u001b[38;5;241;43m.\u001b[39;49m\u001b[43m_result\u001b[49m\u001b[43m(\u001b[49m\u001b[43mres\u001b[49m\u001b[43m,\u001b[49m\u001b[43m \u001b[49m\u001b[38;5;28;43;01mTrue\u001b[39;49;00m\u001b[43m)\u001b[49m\n",
      "File \u001b[1;32me:\\AppData\\Conda\\envs\\jupyter-notebook\\Lib\\site-packages\\docker\\api\\client.py:281\u001b[0m, in \u001b[0;36mAPIClient._result\u001b[1;34m(self, response, json, binary)\u001b[0m\n\u001b[0;32m    279\u001b[0m \u001b[38;5;28;01mdef\u001b[39;00m \u001b[38;5;21m_result\u001b[39m(\u001b[38;5;28mself\u001b[39m, response, json\u001b[38;5;241m=\u001b[39m\u001b[38;5;28;01mFalse\u001b[39;00m, binary\u001b[38;5;241m=\u001b[39m\u001b[38;5;28;01mFalse\u001b[39;00m):\n\u001b[0;32m    280\u001b[0m     \u001b[38;5;28;01massert\u001b[39;00m \u001b[38;5;129;01mnot\u001b[39;00m (json \u001b[38;5;129;01mand\u001b[39;00m binary)\n\u001b[1;32m--> 281\u001b[0m     \u001b[38;5;28;43mself\u001b[39;49m\u001b[38;5;241;43m.\u001b[39;49m\u001b[43m_raise_for_status\u001b[49m\u001b[43m(\u001b[49m\u001b[43mresponse\u001b[49m\u001b[43m)\u001b[49m\n\u001b[0;32m    283\u001b[0m     \u001b[38;5;28;01mif\u001b[39;00m json:\n\u001b[0;32m    284\u001b[0m         \u001b[38;5;28;01mreturn\u001b[39;00m response\u001b[38;5;241m.\u001b[39mjson()\n",
      "File \u001b[1;32me:\\AppData\\Conda\\envs\\jupyter-notebook\\Lib\\site-packages\\docker\\api\\client.py:277\u001b[0m, in \u001b[0;36mAPIClient._raise_for_status\u001b[1;34m(self, response)\u001b[0m\n\u001b[0;32m    275\u001b[0m     response\u001b[38;5;241m.\u001b[39mraise_for_status()\n\u001b[0;32m    276\u001b[0m \u001b[38;5;28;01mexcept\u001b[39;00m requests\u001b[38;5;241m.\u001b[39mexceptions\u001b[38;5;241m.\u001b[39mHTTPError \u001b[38;5;28;01mas\u001b[39;00m e:\n\u001b[1;32m--> 277\u001b[0m     \u001b[38;5;28;01mraise\u001b[39;00m \u001b[43mcreate_api_error_from_http_exception\u001b[49m\u001b[43m(\u001b[49m\u001b[43me\u001b[49m\u001b[43m)\u001b[49m \u001b[38;5;28;01mfrom\u001b[39;00m \u001b[38;5;21;01me\u001b[39;00m\n",
      "File \u001b[1;32me:\\AppData\\Conda\\envs\\jupyter-notebook\\Lib\\site-packages\\docker\\errors.py:39\u001b[0m, in \u001b[0;36mcreate_api_error_from_http_exception\u001b[1;34m(e)\u001b[0m\n\u001b[0;32m     37\u001b[0m     \u001b[38;5;28;01melse\u001b[39;00m:\n\u001b[0;32m     38\u001b[0m         \u001b[38;5;28mcls\u001b[39m \u001b[38;5;241m=\u001b[39m NotFound\n\u001b[1;32m---> 39\u001b[0m \u001b[38;5;28;01mraise\u001b[39;00m \u001b[38;5;28mcls\u001b[39m(e, response\u001b[38;5;241m=\u001b[39mresponse, explanation\u001b[38;5;241m=\u001b[39mexplanation) \u001b[38;5;28;01mfrom\u001b[39;00m \u001b[38;5;21;01me\u001b[39;00m\n",
      "\u001b[1;31mAPIError\u001b[0m: 500 Server Error for http://8.130.104.39:2375/v1.43/containers/create: Internal Server Error (\"invalid volume specification: 'D:\\Workspace\\aiworld\\py_automation\\digital_human_video\\.data\\videos:/tmp_app:rw'\")"
     ]
    }
   ],
   "source": [
    "import logging\n",
    "import os\n",
    "\n",
    "logger = logging.getLogger(__name__)\n",
    "ffmpeg_image = \"ffmpeg:1.0\"\n",
    "video_directory_path = r\"D:\\Workspace\\aiworld\\py_automation\\digital_human_video\\.data\\videos\\7385533550239419689\"\n",
    "print(video_directory_path)\n",
    "video_directory = os.path.dirname(r\"D:\\Workspace\\aiworld\\py_automation\\digital_human_video\\.data\\videos\\7385533550239419689\")\n",
    "logs = (\n",
    "        docker_client.containers.run(\n",
    "            ffmpeg_image,\n",
    "            command,\n",
    "            volumes={video_directory: {\"bind\": \"/tmp_app\", \"mode\": \"rw\"}},\n",
    "            remove=True,\n",
    "            tty=True,\n",
    "            stdin_open=True,\n",
    "        )\n",
    "        .decode(\"utf-8\")\n",
    "        .strip()\n",
    "    )\n",
    "logger.info(f\"视频转音频: {logs}\")"
   ]
  }
 ],
 "metadata": {
  "kernelspec": {
   "display_name": "jupyter-notebook",
   "language": "python",
   "name": "python3"
  },
  "language_info": {
   "codemirror_mode": {
    "name": "ipython",
    "version": 3
   },
   "file_extension": ".py",
   "mimetype": "text/x-python",
   "name": "python",
   "nbconvert_exporter": "python",
   "pygments_lexer": "ipython3",
   "version": "3.12.4"
  }
 },
 "nbformat": 4,
 "nbformat_minor": 2
}
