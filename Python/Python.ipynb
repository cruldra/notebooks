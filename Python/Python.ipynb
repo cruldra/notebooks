{
 "cells": [
  {
   "cell_type": "markdown",
   "id": "25b4633e",
   "metadata": {},
   "source": [
    "**Table of contents**<a id='toc0_'></a>    \n",
    "- [数据类型](#toc1_)    \n",
    "  - [列表(List)](#toc1_1_)    \n",
    "    - [more-itertools](#toc1_1_1_)    \n",
    "      - [安装](#toc1_1_1_1_)    \n",
    "      - [示例1:`flatten`](#toc1_1_1_2_)    \n",
    "      - [示例2:`chunked`](#toc1_1_1_3_)    \n",
    "  - [字典(Dictionary)](#toc1_2_)    \n",
    "    - [addict](#toc1_2_1_)    \n",
    "      - [安装](#toc1_2_1_1_)    \n",
    "      - [创建字典](#toc1_2_1_2_)    \n",
    "      - [通过属性读写值](#toc1_2_1_3_)    \n",
    "- [关键字](#toc2_)    \n",
    "  - [`with`](#toc2_1_)    \n",
    "    - [一个简单的例子](#toc2_1_1_)    \n",
    "    - [自定义上下文管理器](#toc2_1_2_)    \n",
    "- [模块化](#toc3_)    \n",
    "  - [`__init__.py`](#toc3_1_)    \n",
    "    - [验证`__init__.py`只会在包第一次被导入时执行](#toc3_1_1_)    \n",
    "  - [热插拔](#toc3_2_)    \n",
    "- [内置模块-`uuid`](#toc4_)    \n",
    "  - [`shortuuid`](#toc4_1_)    \n",
    "    - [安装](#toc4_1_1_)    \n",
    "    - [示例](#toc4_1_2_)    \n",
    "- [装饰器(Decorators)](#toc5_)    \n",
    "  - [内置装饰器](#toc5_1_)    \n",
    "    - [property装饰器](#toc5_1_1_)    \n",
    "  - [自定义装饰器](#toc5_2_)    \n",
    "    - [一个简单的例子](#toc5_2_1_)    \n",
    "    - [多个装饰器](#toc5_2_2_)    \n",
    "    - [装饰器参数](#toc5_2_3_)    \n",
    "- [依赖管理](#toc6_)    \n",
    "  - [pipreqs](#toc6_1_)    \n",
    "- [调试](#toc7_)    \n",
    "  - [PySnooper](#toc7_1_)    \n",
    "- [打包](#toc8_)    \n",
    "  - [Pynsist](#toc8_1_)    \n",
    "\n",
    "<!-- vscode-jupyter-toc-config\n",
    "\tnumbering=false\n",
    "\tanchor=true\n",
    "\tflat=false\n",
    "\tminLevel=1\n",
    "\tmaxLevel=6\n",
    "\t/vscode-jupyter-toc-config -->\n",
    "<!-- THIS CELL WILL BE REPLACED ON TOC UPDATE. DO NOT WRITE YOUR TEXT IN THIS CELL -->"
   ]
  },
  {
   "cell_type": "markdown",
   "id": "fb979dae",
   "metadata": {},
   "source": [
    "# <a id='toc1_'></a>[数据类型](#toc0_)"
   ]
  },
  {
   "cell_type": "markdown",
   "id": "0bb9a417",
   "metadata": {},
   "source": [
    "## <a id='toc1_1_'></a>[列表(List)](#toc0_)\n"
   ]
  },
  {
   "cell_type": "markdown",
   "id": "a8b093c6",
   "metadata": {},
   "source": [
    "### <a id='toc1_1_1_'></a>[more-itertools](#toc0_)\n",
    "\n",
    "[more-itertools](https://pypi.org/project/more-itertools/)扩展了`Python`标准库的[itertools](https://docs.python.org/zh-cn/3/library/itertools.html)模块,提供了[更多](https://poe.com/s/8Ethyx0xwr9kejoize6g)有用的迭代器函数."
   ]
  },
  {
   "cell_type": "markdown",
   "id": "02f8546b",
   "metadata": {},
   "source": [
    "#### <a id='toc1_1_1_1_'></a>[安装](#toc0_)\n"
   ]
  },
  {
   "cell_type": "code",
   "execution_count": 11,
   "id": "8e62d5e1",
   "metadata": {},
   "outputs": [
    {
     "name": "stdout",
     "output_type": "stream",
     "text": [
      "Collecting more-itertools\n",
      "  Using cached more_itertools-10.4.0-py3-none-any.whl.metadata (36 kB)\n",
      "Using cached more_itertools-10.4.0-py3-none-any.whl (60 kB)\n",
      "Installing collected packages: more-itertools\n",
      "Successfully installed more-itertools-10.4.0\n"
     ]
    }
   ],
   "source": [
    "! pip install more-itertools"
   ]
  },
  {
   "cell_type": "markdown",
   "id": "24c21b94",
   "metadata": {},
   "source": [
    "#### <a id='toc1_1_1_2_'></a>[示例1:`flatten`](#toc0_)\n",
    "\n",
    "`flatten`函数将嵌套的列表展平."
   ]
  },
  {
   "cell_type": "code",
   "execution_count": 12,
   "id": "1c7e3bf0",
   "metadata": {},
   "outputs": [
    {
     "name": "stdout",
     "output_type": "stream",
     "text": [
      "[0, 1, 2, 3]\n"
     ]
    }
   ],
   "source": [
    "from more_itertools import flatten\n",
    "iterable = [(0, 1), (2, 3)]\n",
    "print(list(flatten(iterable)))"
   ]
  },
  {
   "cell_type": "markdown",
   "id": "9e6f3fb1",
   "metadata": {},
   "source": [
    "#### <a id='toc1_1_1_3_'></a>[示例2:`chunked`](#toc0_)\n",
    "\n",
    "`chunked`函数将一个可迭代对象分成指定大小的块."
   ]
  },
  {
   "cell_type": "code",
   "execution_count": 13,
   "id": "28555aff",
   "metadata": {},
   "outputs": [
    {
     "name": "stdout",
     "output_type": "stream",
     "text": [
      "[[0, 1], [2, 3], [4, 5]]\n"
     ]
    }
   ],
   "source": [
    "from more_itertools import chunked\n",
    "\n",
    "iterable = [0, 1, 2, 3, 4, 5]\n",
    "print(list(chunked(iterable, 2)))"
   ]
  },
  {
   "cell_type": "markdown",
   "id": "b656b090",
   "metadata": {},
   "source": [
    "## <a id='toc1_2_'></a>[字典(Dictionary)](#toc0_)"
   ]
  },
  {
   "cell_type": "markdown",
   "id": "1e70edfa",
   "metadata": {},
   "source": [
    "### <a id='toc1_2_1_'></a>[addict](#toc0_)\n",
    "\n",
    "[addict](https://github.com/mewwts/addict)扩展了原生的字典, 使其支持通过属性访问字典的键值对.\n"
   ]
  },
  {
   "cell_type": "markdown",
   "id": "fdf552fe",
   "metadata": {},
   "source": [
    "#### <a id='toc1_2_1_1_'></a>[安装](#toc0_)\n"
   ]
  },
  {
   "cell_type": "code",
   "execution_count": 8,
   "id": "e7523d77",
   "metadata": {},
   "outputs": [
    {
     "name": "stdout",
     "output_type": "stream",
     "text": [
      "Requirement already satisfied: addict in e:\\appdata\\conda\\envs\\jupyter-notebook\\lib\\site-packages (2.4.0)\n"
     ]
    }
   ],
   "source": [
    "! pip install addict"
   ]
  },
  {
   "cell_type": "markdown",
   "id": "f56faa8a",
   "metadata": {},
   "source": [
    "#### <a id='toc1_2_1_2_'></a>[创建字典](#toc0_)"
   ]
  },
  {
   "cell_type": "code",
   "execution_count": 9,
   "id": "a326c488",
   "metadata": {},
   "outputs": [
    {
     "name": "stdout",
     "output_type": "stream",
     "text": [
      "{'query': {'filtered': {'query': {'match': {'description': 'addictive'}}, 'filter': {'term': {'created_by': 'Mats'}}}}}\n"
     ]
    }
   ],
   "source": [
    "from addict import Dict\n",
    "body = Dict()\n",
    "# 自动创建嵌套字典\n",
    "body.query.filtered.query.match.description = 'addictive'\n",
    "body.query.filtered.filter.term.created_by = 'Mats'\n",
    "print(body)"
   ]
  },
  {
   "cell_type": "markdown",
   "id": "9c204e97",
   "metadata": {},
   "source": [
    "#### <a id='toc1_2_1_3_'></a>[通过属性读写值](#toc0_)\n"
   ]
  },
  {
   "cell_type": "code",
   "execution_count": 10,
   "id": "5d0b9259",
   "metadata": {},
   "outputs": [
    {
     "name": "stdout",
     "output_type": "stream",
     "text": [
      "value\n",
      "another value\n"
     ]
    }
   ],
   "source": [
    "addict_dict = Dict()\n",
    "addict_dict.key = 'value'  # 通过属性设置值\n",
    "print(addict_dict.key)  # 通过属性访问值\n",
    "\n",
    "# 仍然可以使用标准字典语法\n",
    "addict_dict['another_key'] = 'another value'\n",
    "print(addict_dict['another_key'])"
   ]
  },
  {
   "cell_type": "markdown",
   "id": "15a3732b",
   "metadata": {},
   "source": [
    "# <a id='toc2_'></a>[关键字](#toc0_)"
   ]
  },
  {
   "cell_type": "markdown",
   "id": "5e11494e",
   "metadata": {},
   "source": [
    "## <a id='toc2_1_'></a>[`with`](#toc0_)\n",
    "\n",
    "`with`关键字用于简化资源管理,类似`java`中的`try-with-resources`语句,确保在资源使用完成后能够自动执行清理代码,例如关闭文件、释放数据库连接等.\n",
    "\n",
    "**语法**:\n",
    "\n",
    "```python\n",
    "with expression:ContextManager [as variable]:\n",
    "    #with-block\n",
    "```\n",
    "\n",
    "**上下文管理器(Context Manager)**:\n",
    "\n",
    "`上下文管理器`是一个实现了`__enter__`和`__exit__`方法的对象,这两个方法分别定义了进入和退出上下文时的行为"
   ]
  },
  {
   "cell_type": "markdown",
   "id": "8f647d77",
   "metadata": {},
   "source": [
    "### <a id='toc2_1_1_'></a>[一个简单的例子](#toc0_)"
   ]
  },
  {
   "cell_type": "code",
   "execution_count": null,
   "id": "dc2e2cb3",
   "metadata": {},
   "outputs": [],
   "source": [
    "with open('example.txt', 'r') as file:\n",
    "    content = file.read()\n",
    "    print(content)"
   ]
  },
  {
   "cell_type": "markdown",
   "id": "592f3e1c",
   "metadata": {},
   "source": [
    "### <a id='toc2_1_2_'></a>[自定义上下文管理器](#toc0_)"
   ]
  },
  {
   "cell_type": "code",
   "execution_count": null,
   "id": "51bfd2c3",
   "metadata": {},
   "outputs": [],
   "source": [
    "class MyContextManager:\n",
    "    def __enter__(self):\n",
    "        print(\"Entering the context\")\n",
    "        return self\n",
    "\n",
    "    def __exit__(self, exc_type, exc_value, traceback):\n",
    "        print(\"Exiting the context\")\n",
    "\n",
    "# 使用自定义上下文管理器\n",
    "with MyContextManager():\n",
    "    print(\"Inside the context\")"
   ]
  },
  {
   "cell_type": "markdown",
   "id": "9a52bd0c",
   "metadata": {},
   "source": [
    "# <a id='toc3_'></a>[模块化](#toc0_)"
   ]
  },
  {
   "cell_type": "markdown",
   "id": "96dff321",
   "metadata": {},
   "source": [
    "## <a id='toc3_1_'></a>[`__init__.py`](#toc0_)\n",
    "\n",
    "\n",
    "`__init__.py`文件用于以下目的:\n",
    "\n",
    "1. **标识目录为Python的包** - 在`3.3`版本之前, Python只会将包含`__init__.py`文件的目录视为包, 从`3.3`版本开始, Python会将所有目录视为包, 但是为了向后兼容, 通常还是会在目录中包含`__init__.py`文件\n",
    "2. **初始化包** - `__init__.py`文件可以包含包的初始化代码, 当包**第一次被导入**时, `__init__.py`文件会被自动执行,可以在这个文件中初始化包的模块、设置包级别的变量、导入子模块或子包"
   ]
  },
  {
   "cell_type": "markdown",
   "id": "76f2ef11",
   "metadata": {},
   "source": [
    "### <a id='toc3_1_1_'></a>[验证`__init__.py`只会在包第一次被导入时执行](#toc0_)\n",
    "\n",
    "下面这个例子,第一次运行会输出:\n",
    "\n",
    "```text\n",
    "__init__.py is running\n",
    "```\n",
    "\n",
    "第二次就不会输出了,说明`__init__.py`只会在包第一次被导入时执行"
   ]
  },
  {
   "cell_type": "code",
   "execution_count": null,
   "id": "61b75ae5",
   "metadata": {},
   "outputs": [],
   "source": [
    "import  test_package\n",
    "\n",
    "print(test_package.__version__)"
   ]
  },
  {
   "cell_type": "code",
   "execution_count": null,
   "id": "356a1e6b",
   "metadata": {},
   "outputs": [],
   "source": [
    "import test_package\n",
    "\n",
    "# 调用包级别的函数\n",
    "test_package.package_function()\n",
    "\n",
    "# 调用子模块的函数\n",
    "test_package.function1()\n",
    "test_package.function2()\n",
    "\n",
    "# 使用 * 导入\n",
    "from test_package import *\n",
    "function1()\n",
    "function2()\n",
    "package_function()"
   ]
  },
  {
   "cell_type": "markdown",
   "id": "4c839d2c",
   "metadata": {},
   "source": [
    "## <a id='toc3_2_'></a>[热插拔](#toc0_)\n",
    "\n",
    "[pluginbase](https://github.com/mitsuhiko/pluginbase)这个库用于在`Python`中实现插件系统."
   ]
  },
  {
   "cell_type": "markdown",
   "id": "054e7dab",
   "metadata": {},
   "source": [
    "# <a id='toc4_'></a>[内置模块-`uuid`](#toc0_)"
   ]
  },
  {
   "cell_type": "markdown",
   "id": "5d0f5a71",
   "metadata": {},
   "source": [
    "## <a id='toc4_1_'></a>[`shortuuid`](#toc0_)\n",
    "\n",
    "[shortuuid](https://pypi.org/project/shortuuid/)用于简洁、明确、URL 安全的 UUID."
   ]
  },
  {
   "cell_type": "markdown",
   "id": "069c5b7a",
   "metadata": {},
   "source": [
    "### <a id='toc4_1_1_'></a>[安装](#toc0_)"
   ]
  },
  {
   "cell_type": "code",
   "execution_count": 14,
   "id": "2c1e352f",
   "metadata": {},
   "outputs": [
    {
     "name": "stdout",
     "output_type": "stream",
     "text": [
      "Collecting shortuuid\n",
      "  Downloading shortuuid-1.0.13-py3-none-any.whl.metadata (5.8 kB)\n",
      "Downloading shortuuid-1.0.13-py3-none-any.whl (10 kB)\n",
      "Installing collected packages: shortuuid\n",
      "Successfully installed shortuuid-1.0.13\n"
     ]
    }
   ],
   "source": [
    "! pip install shortuuid"
   ]
  },
  {
   "cell_type": "markdown",
   "id": "b66a5ca9",
   "metadata": {},
   "source": [
    "### <a id='toc4_1_2_'></a>[示例](#toc0_)"
   ]
  },
  {
   "cell_type": "code",
   "execution_count": 15,
   "id": "d2613572",
   "metadata": {},
   "outputs": [
    {
     "name": "stdout",
     "output_type": "stream",
     "text": [
      "JuoB7jVRM8j7WEss4V2vFZ\n"
     ]
    }
   ],
   "source": [
    "import shortuuid\n",
    "print(shortuuid.uuid())"
   ]
  },
  {
   "cell_type": "markdown",
   "id": "50b3415e",
   "metadata": {},
   "source": [
    "# <a id='toc5_'></a>[装饰器(Decorators)](#toc0_)\n",
    "\n",
    "装饰器是Python的一个强大特性,它可以让函数或类在不修改原有代码的情况下增加新的功能,装饰器本质上是一个函数,它接受一个函数作为参数,并返回一个新的函数."
   ]
  },
  {
   "cell_type": "markdown",
   "id": "7ef5cd6d",
   "metadata": {},
   "source": [
    "## <a id='toc5_1_'></a>[内置装饰器](#toc0_)"
   ]
  },
  {
   "cell_type": "markdown",
   "id": "3be77faf",
   "metadata": {},
   "source": [
    "### <a id='toc5_1_1_'></a>[property装饰器](#toc0_)\n",
    "\n",
    "[@property](https://www.freecodecamp.org/news/python-property-decorator/)装饰器有以下几个作用:\n",
    "\n",
    "* **将方法转换为属性** - 允许你像访问属性一样访问方法,无需使用括号.\n",
    "* **封装和控制属性访问** - 可以在不改变类接口的情况下,添加额外的逻辑来控制属性的获取、设置和删除.\n",
    "* **计算属性** - 可以定义一个方法来动态计算某个值,但对外表现为一个属性.\n",
    "* **懒加载** - 可以延迟计算属性值,直到首次访问时才进行计算.\n",
    "* **数据验证** - 可以在设置属性值时添加验证逻辑,确保数据的正确性.\n",
    "* **保护属性** - 可以为私有属性提供受控的公共访问接口."
   ]
  },
  {
   "cell_type": "code",
   "execution_count": null,
   "id": "6c490ef6",
   "metadata": {},
   "outputs": [],
   "source": [
    "class Temperature:\n",
    "    def __init__(self):\n",
    "        self._celsius = 0\n",
    "\n",
    "    @property\n",
    "    def celsius(self):\n",
    "        \"\"\"获取摄氏温度\"\"\"\n",
    "        return self._celsius\n",
    "\n",
    "    @celsius.setter\n",
    "    def celsius(self, value):\n",
    "        \"\"\"设置摄氏温度\"\"\"\n",
    "        if value < -273.15:\n",
    "            raise ValueError(\"温度不能低于绝对零度！\")\n",
    "        self._celsius = value\n",
    "\n",
    "    @property\n",
    "    def fahrenheit(self):\n",
    "        \"\"\"获取华氏温度\"\"\"\n",
    "        return (self.celsius * 9/5) + 32\n",
    "\n",
    "    @fahrenheit.setter\n",
    "    def fahrenheit(self, value):\n",
    "        \"\"\"设置华氏温度\"\"\"\n",
    "        self.celsius = (value - 32) * 5/9\n",
    "\n",
    "    @celsius.deleter\n",
    "    def celsius(self):\n",
    "        \"\"\"删除温度值\"\"\"\n",
    "        del self._celsius\n",
    "\n",
    "# 使用示例\n",
    "temp = Temperature()\n",
    "\n",
    "# 设置摄氏温度\n",
    "temp.celsius = 25\n",
    "print(f\"摄氏温度: {temp.celsius}°C\")\n",
    "print(f\"华氏温度: {temp.fahrenheit}°F\")\n",
    "\n",
    "# 设置华氏温度\n",
    "temp.fahrenheit = 98.6\n",
    "print(f\"摄氏温度: {temp.celsius}°C\")\n",
    "print(f\"华氏温度: {temp.fahrenheit}°F\")\n",
    "\n",
    "# 尝试设置一个无效的温度\n",
    "try:\n",
    "    temp.celsius = -300\n",
    "except ValueError as e:\n",
    "    print(e)\n",
    "\n",
    "# 删除温度值\n",
    "del temp.celsius\n",
    "\n",
    "# 尝试访问已删除的温度值\n",
    "try:\n",
    "    print(temp.celsius)\n",
    "except AttributeError:\n",
    "    print(\"温度值已被删除\")"
   ]
  },
  {
   "cell_type": "markdown",
   "id": "8cfd51c0",
   "metadata": {},
   "source": [
    "## <a id='toc5_2_'></a>[自定义装饰器](#toc0_)"
   ]
  },
  {
   "cell_type": "markdown",
   "id": "d7dcdd96",
   "metadata": {},
   "source": [
    "### <a id='toc5_2_1_'></a>[一个简单的例子](#toc0_)\n",
    "\n",
    "下面这个例子定义了一个装饰器`my_decorator`,它接受一个函数作为参数,并返回一个新的函数,这个新的函数在调用原函数之前会输出`start`,在调用原函数之后会输出`end`"
   ]
  },
  {
   "cell_type": "code",
   "execution_count": null,
   "id": "7f8b5425",
   "metadata": {},
   "outputs": [],
   "source": [
    "def my_decorator(func):\n",
    "    def wrapper(*args, **kwargs):\n",
    "        print(\"Start\")\n",
    "        result = func(*args, **kwargs)\n",
    "        print(\"End\")\n",
    "        return result\n",
    "    return wrapper\n",
    "\n",
    "@my_decorator\n",
    "def add(a, b):\n",
    "    print(\"Add\")\n",
    "    return a + b\n",
    "\n",
    "print(add(1, 2))\n",
    "# 上面的代码本质上是\n",
    "# add = my_decorator(add)"
   ]
  },
  {
   "cell_type": "markdown",
   "id": "749c4a80",
   "metadata": {},
   "source": [
    "### <a id='toc5_2_2_'></a>[多个装饰器](#toc0_)\n",
    "\n",
    "一个函数可以同时被多个装饰器装饰,装饰器的执行顺序是从下往上,即最后一个装饰器最先执行"
   ]
  },
  {
   "cell_type": "markdown",
   "id": "1c305a0b",
   "metadata": {},
   "source": [
    "### <a id='toc5_2_3_'></a>[装饰器参数](#toc0_)\n",
    "\n",
    "装饰器也可以接受参数,下面这个例子中的`repeat`装饰器,它接受一个参数`n`,表示重复调用原函数`n`次"
   ]
  },
  {
   "cell_type": "code",
   "execution_count": null,
   "id": "81ca8ab0",
   "metadata": {},
   "outputs": [],
   "source": [
    "def repeat(n):\n",
    "    def decorator(func):\n",
    "        def wrapper(*args, **kwargs):\n",
    "            for _ in range(n):\n",
    "                result = func(*args, **kwargs)\n",
    "            return result\n",
    "        return wrapper\n",
    "    return decorator\n",
    "\n",
    "@repeat(3)\n",
    "def greet(name):\n",
    "    print(f\"Hello, {name}!\")\n",
    "\n",
    "greet(\"Alice\")\n",
    "# 上面的代码本质上是\n",
    "# greet = repeat(3)(greet)"
   ]
  },
  {
   "cell_type": "markdown",
   "id": "e3f124cf",
   "metadata": {},
   "source": [
    "# <a id='toc6_'></a>[依赖管理](#toc0_)"
   ]
  },
  {
   "cell_type": "markdown",
   "id": "5bb30d0e",
   "metadata": {},
   "source": [
    "\n",
    "## <a id='toc6_1_'></a>[pipreqs](#toc0_)\n",
    "\n",
    "使用[pipreqs](https://pypi.org/project/pipreqs/)来自动生成`requirements.txt`文件\n",
    "\n",
    "```bash\n",
    "\n",
    "pip install pipreqs\n",
    "\n",
    "pipreqs --force --ignore wslvenv,.venv .\n",
    "    \n",
    "```"
   ]
  },
  {
   "cell_type": "markdown",
   "id": "06ee2d83",
   "metadata": {},
   "source": [
    "# <a id='toc7_'></a>[调试](#toc0_)"
   ]
  },
  {
   "cell_type": "markdown",
   "id": "24a77797",
   "metadata": {},
   "source": [
    "## <a id='toc7_1_'></a>[PySnooper](#toc0_)\n",
    "\n",
    "[PySnooper](https://pypi.org/project/PySnooper/)是一个用于调试的库,可以在函数内部的任何地方插入`@pysnooper.snoop()`装饰器,并在函数执行时输出变量的值\n"
   ]
  },
  {
   "cell_type": "markdown",
   "id": "21af6000",
   "metadata": {},
   "source": [
    "# <a id='toc8_'></a>[打包](#toc0_)"
   ]
  },
  {
   "cell_type": "markdown",
   "id": "a228402e",
   "metadata": {},
   "source": [
    "## cx_Freeze\n",
    "\n",
    "[cx_Freeze 7.2.0 documentation](https://cx-freeze.readthedocs.io/en/stable/index.html)"
   ]
  }
 ],
 "metadata": {
  "kernelspec": {
   "display_name": "jupyter-notebook",
   "language": "python",
   "name": "python3"
  },
  "language_info": {
   "codemirror_mode": {
    "name": "ipython",
    "version": 3
   },
   "file_extension": ".py",
   "mimetype": "text/x-python",
   "name": "python",
   "nbconvert_exporter": "python",
   "pygments_lexer": "ipython3",
   "version": "3.12.4"
  },
  "polyglot_notebook": {
   "kernelInfo": {
    "defaultKernelName": "csharp",
    "items": [
     {
      "aliases": [],
      "name": "csharp"
     }
    ]
   }
  }
 },
 "nbformat": 4,
 "nbformat_minor": 5
}
