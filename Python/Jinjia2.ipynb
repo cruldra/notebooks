{
 "cells": [
  {
   "cell_type": "markdown",
   "metadata": {},
   "source": [
    "# 简介\n",
    "\n",
    "[Jinja](https://jinja.palletsprojects.com/en/3.1.x/)是一个快速、富有表现力、可扩展的模板引擎.模板中的特殊占位符允许编写类似于`Python`语法的代码.然后向模板传递数据以呈现最终文档."
   ]
  },
  {
   "cell_type": "markdown",
   "metadata": {},
   "source": [
    "# 安装"
   ]
  },
  {
   "cell_type": "code",
   "execution_count": 1,
   "metadata": {},
   "outputs": [
    {
     "name": "stdout",
     "output_type": "stream",
     "text": [
      "Requirement already satisfied: jinja2 in e:\\appdata\\conda\\envs\\jupyter-notebook\\lib\\site-packages (3.1.4)\n",
      "Requirement already satisfied: MarkupSafe>=2.0 in e:\\appdata\\conda\\envs\\jupyter-notebook\\lib\\site-packages (from jinja2) (2.1.5)\n"
     ]
    }
   ],
   "source": [
    "! pip install jinja2"
   ]
  },
  {
   "cell_type": "markdown",
   "metadata": {},
   "source": [
    "# 示例1: 基本用法\n",
    "\n",
    "基于模板字符串创建模板对象,然后使用`render`方法渲染模板.\n"
   ]
  },
  {
   "cell_type": "code",
   "execution_count": 2,
   "metadata": {},
   "outputs": [
    {
     "name": "stdout",
     "output_type": "stream",
     "text": [
      "my name is Alice and I am 25 years old\n"
     ]
    }
   ],
   "source": [
    "from jinja2 import Template\n",
    "\n",
    "template_string = \"my name is {{ name }} and I am {{ age }} years old\"\n",
    "\n",
    "template = Template(template_string)\n",
    "\n",
    "output = template.render(name=\"Alice\", age=25)\n",
    "\n",
    "print(output)"
   ]
  },
  {
   "cell_type": "markdown",
   "metadata": {},
   "source": [
    "# 示例2: 遍历列表\n",
    "\n",
    "实现\n",
    "    \n",
    "    # 可选标题\n",
    "    \n",
    "    for i in titles:\n",
    "    * i\n",
    "    \n",
    "    # 正文\n",
    "    \n",
    "    main_body\n",
    "这种效果"
   ]
  },
  {
   "cell_type": "code",
   "execution_count": 3,
   "metadata": {},
   "outputs": [
    {
     "name": "stdout",
     "output_type": "stream",
     "text": [
      "\n",
      "# 可选标题\n",
      "\n",
      "\n",
      "* 标题1\n",
      "\n",
      "* 标题2\n",
      "\n",
      "* 标题3\n",
      "\n",
      "\n",
      "# 正文\n",
      "\n",
      "这里是正文内容。\n"
     ]
    }
   ],
   "source": [
    "from jinja2 import Template\n",
    "\n",
    "template_string = '''\n",
    "{%- if titles %}\n",
    "# 可选标题\n",
    "\n",
    "{% for title in titles %}\n",
    "* {{ title }}\n",
    "{% endfor %}\n",
    "{%- endif %}\n",
    "\n",
    "# 正文\n",
    "\n",
    "{{ main_body }}\n",
    "'''\n",
    "\n",
    "template = Template(template_string)\n",
    "\n",
    "# 使用模板\n",
    "result = template.render(\n",
    "    titles=['标题1', '标题2', '标题3'],\n",
    "    main_body='这里是正文内容。'\n",
    ")\n",
    "\n",
    "print(result)"
   ]
  }
 ],
 "metadata": {
  "kernelspec": {
   "display_name": "jupyter-notebook",
   "language": "python",
   "name": "python3"
  },
  "language_info": {
   "codemirror_mode": {
    "name": "ipython",
    "version": 3
   },
   "file_extension": ".py",
   "mimetype": "text/x-python",
   "name": "python",
   "nbconvert_exporter": "python",
   "pygments_lexer": "ipython3",
   "version": "3.12.4"
  }
 },
 "nbformat": 4,
 "nbformat_minor": 2
}
