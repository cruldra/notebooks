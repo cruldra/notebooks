{
 "cells": [
  {
   "cell_type": "markdown",
   "metadata": {},
   "source": [
    "# 简介\n",
    "\n",
    "[wrapt](https://wrapt.readthedocs.io/en/master/)是一个简化装饰器编写的库,它提供了`FunctionWrapper`和`ObjectProxy`两个类,可以用来编写更加复杂的装饰器"
   ]
  },
  {
   "cell_type": "markdown",
   "metadata": {},
   "source": [
    "# 安装"
   ]
  },
  {
   "cell_type": "code",
   "execution_count": 1,
   "metadata": {},
   "outputs": [
    {
     "name": "stdout",
     "output_type": "stream",
     "text": [
      "Collecting wrapt\n",
      "  Using cached wrapt-1.16.0-cp312-cp312-win_amd64.whl.metadata (6.8 kB)\n",
      "Using cached wrapt-1.16.0-cp312-cp312-win_amd64.whl (37 kB)\n",
      "Installing collected packages: wrapt\n",
      "Successfully installed wrapt-1.16.0\n"
     ]
    }
   ],
   "source": [
    "! pip install wrapt"
   ]
  },
  {
   "cell_type": "markdown",
   "metadata": {},
   "source": [
    "# 函数装饰器"
   ]
  },
  {
   "cell_type": "markdown",
   "metadata": {},
   "source": [
    "## 基本用法\n",
    "\n",
    "下面这个例子定义了一个装饰器`my_decorator`,它接受一个函数作为参数,并返回一个新的函数,这个新的函数在调用原函数之前会输出`start`,在调用原函数之后会输出`end`"
   ]
  },
  {
   "cell_type": "code",
   "execution_count": 2,
   "metadata": {},
   "outputs": [
    {
     "name": "stdout",
     "output_type": "stream",
     "text": [
      "Start\n",
      "Add\n",
      "End\n",
      "3\n"
     ]
    }
   ],
   "source": [
    "import wrapt\n",
    "@wrapt.decorator\n",
    "def my_decorator(wrapped, instance, args, kwargs):\n",
    "    print(\"Start\")\n",
    "    result = wrapped(*args, **kwargs)\n",
    "    print(\"End\")\n",
    "    return result\n",
    "\n",
    "@my_decorator\n",
    "def add(a, b):\n",
    "    print(\"Add\")\n",
    "    return a + b\n",
    "\n",
    "print(add(1, 2))"
   ]
  },
  {
   "cell_type": "markdown",
   "metadata": {},
   "source": [
    "## 多个装饰器\n",
    "\n",
    "下面这个例子用`wrapt`重现了上面的`decorator1`和`decorator2`的功能"
   ]
  },
  {
   "cell_type": "code",
   "execution_count": null,
   "metadata": {},
   "outputs": [],
   "source": [
    "import wrapt\n",
    "\n",
    "@wrapt.decorator\n",
    "def decorator1(wrapped, instance, args, kwargs):\n",
    "    print(\"Decorator 1\")\n",
    "    return wrapped(*args, **kwargs)\n",
    "\n",
    "@wrapt.decorator\n",
    "def decorator2(wrapped, instance, args, kwargs):\n",
    "    print(\"Decorator 2\")\n",
    "    return wrapped(*args, **kwargs)\n",
    "\n",
    "@decorator1\n",
    "@decorator2\n",
    "def my_function():\n",
    "    print(\"Inside the function\")\n",
    "\n",
    "my_function()"
   ]
  },
  {
   "cell_type": "markdown",
   "metadata": {},
   "source": [
    "## 装饰器参数\n",
    "\n",
    "下面这个例子用`wrapt`实现了上面的`repeat`装饰器"
   ]
  },
  {
   "cell_type": "code",
   "execution_count": null,
   "metadata": {},
   "outputs": [],
   "source": [
    "import wrapt\n",
    "\n",
    "def repeat(n):\n",
    "    @wrapt.decorator\n",
    "    def decorator(wrapped, instance, args, kwargs):\n",
    "        print(f\"Repeat {n} times\")\n",
    "        for _ in range(n):\n",
    "            result = wrapped(*args, **kwargs)\n",
    "        return result\n",
    "    return decorator\n",
    "\n",
    "@repeat(3)\n",
    "def greet(name):\n",
    "    print(f\"Hello, {name}!\")\n",
    "\n",
    "greet(\"Alice\")"
   ]
  },
  {
   "cell_type": "markdown",
   "metadata": {},
   "source": [
    "# 类装饰器"
   ]
  },
  {
   "cell_type": "markdown",
   "metadata": {},
   "source": [
    "## 基本用法\n",
    "\n",
    "下面这个例子定义了一个类装饰器`@my_decorator`,它会在被包装的类初始化(`__init__`方法被调用)前打印`装饰器被调用`这句话"
   ]
  },
  {
   "cell_type": "code",
   "execution_count": 5,
   "metadata": {},
   "outputs": [
    {
     "name": "stdout",
     "output_type": "stream",
     "text": [
      "装饰器被调用\n"
     ]
    }
   ],
   "source": [
    "import wrapt\n",
    "\n",
    "\n",
    "@wrapt.decorator\n",
    "def my_decorator(wrapped, instance, args, kwargs):\n",
    "    print(\"装饰器被调用\")\n",
    "    return wrapped(*args, **kwargs)\n",
    "\n",
    "@my_decorator\n",
    "class MyClass:\n",
    "    def __init__(self, name):\n",
    "        self.name = name\n",
    "\n",
    "    def say_hello(self):\n",
    "        print(f\"Hello, {self.name}!\")\n",
    "\n",
    "obj = MyClass(\"John\")\n",
    "# obj.say_hello()"
   ]
  },
  {
   "cell_type": "markdown",
   "metadata": {},
   "source": [
    "## 新增类的实例方法\n",
    "\n",
    "下面这个例子定义了一个类装饰器`@add_method`,它会在被包装的类中新增一个方法`new_method`"
   ]
  },
  {
   "cell_type": "code",
   "execution_count": 30,
   "metadata": {},
   "outputs": [
    {
     "name": "stdout",
     "output_type": "stream",
     "text": [
      "这是由装饰器添加的方法\n",
      "这是原始类自带的方法\n"
     ]
    }
   ],
   "source": [
    "import wrapt\n",
    "\n",
    "@wrapt.decorator\n",
    "def add_method(wrapped, instance, args, kwargs):\n",
    "    class NewClass(wrapped):\n",
    "\n",
    "        def __init__(self, *args, **kwargs):\n",
    "            super().__init__(*args, **kwargs)\n",
    "\n",
    "        def new_method(self):\n",
    "            print(\"这是由装饰器添加的方法\")\n",
    "    return NewClass(*args, **kwargs)\n",
    "\n",
    "@add_method\n",
    "class MyClass:\n",
    "    def __init__(self, name):\n",
    "        self.name = name\n",
    "\n",
    "    def say_hello(self):\n",
    "        print(\"这是原始类自带的方法\")\n",
    "\n",
    "obj = MyClass(\"John\")\n",
    "obj.new_method()\n",
    "obj.say_hello()"
   ]
  },
  {
   "cell_type": "markdown",
   "metadata": {},
   "source": [
    "## 新增类的静态方法\n",
    "\n",
    "\n",
    "下面这个例子定义了一个类装饰器`@add_static_method`,它会在被包装的类中新增一个静态方法`new_static_method`"
   ]
  },
  {
   "cell_type": "code",
   "execution_count": 33,
   "metadata": {},
   "outputs": [
    {
     "ename": "AttributeError",
     "evalue": "type object 'MyClass' has no attribute 'new_static_method'",
     "output_type": "error",
     "traceback": [
      "\u001b[1;31m---------------------------------------------------------------------------\u001b[0m",
      "\u001b[1;31mAttributeError\u001b[0m                            Traceback (most recent call last)",
      "Cell \u001b[1;32mIn[33], line 20\u001b[0m\n\u001b[0;32m     16\u001b[0m         \u001b[38;5;28mprint\u001b[39m(\u001b[38;5;124m\"\u001b[39m\u001b[38;5;124m这是原始类自带的方法\u001b[39m\u001b[38;5;124m\"\u001b[39m)\n\u001b[0;32m     18\u001b[0m \u001b[38;5;66;03m#obj = MyClass(\"John\")\u001b[39;00m\n\u001b[0;32m     19\u001b[0m \u001b[38;5;66;03m# obj.say_hello()\u001b[39;00m\n\u001b[1;32m---> 20\u001b[0m \u001b[43mMyClass\u001b[49m\u001b[38;5;241;43m.\u001b[39;49m\u001b[43mnew_static_method\u001b[49m()\n",
      "\u001b[1;31mAttributeError\u001b[0m: type object 'MyClass' has no attribute 'new_static_method'"
     ]
    }
   ],
   "source": [
    "import wrapt\n",
    "\n",
    "@wrapt.decorator\n",
    "def add_static_method(wrapped, instance, args, kwargs):\n",
    "    def new_static_method():\n",
    "        print(\"这是由装饰器添加的一个静态方法\")\n",
    "    wrapped.new_static_method = staticmethod(new_static_method)\n",
    "    return wrapped(*args, **kwargs)\n",
    "\n",
    "@add_static_method\n",
    "class MyClass:\n",
    "    def __init__(self, name):\n",
    "        self.name = name\n",
    "\n",
    "    def say_hello(self):\n",
    "        print(\"这是原始类自带的方法\")\n",
    "\n",
    "#obj = MyClass(\"John\")\n",
    "# obj.say_hello()\n",
    "# 这个有问题,装饰器本质上是一个函数,如果这个装饰器函数没被调用,那装饰逻辑就不会生效,我用装饰器给类添加静态方法却要求类实例化后才能调用,这没啥意义\n",
    "MyClass.new_static_method()\n"
   ]
  }
 ],
 "metadata": {
  "kernelspec": {
   "display_name": "jupyter-notebook",
   "language": "python",
   "name": "python3"
  },
  "language_info": {
   "codemirror_mode": {
    "name": "ipython",
    "version": 3
   },
   "file_extension": ".py",
   "mimetype": "text/x-python",
   "name": "python",
   "nbconvert_exporter": "python",
   "pygments_lexer": "ipython3",
   "version": "3.12.4"
  }
 },
 "nbformat": 4,
 "nbformat_minor": 2
}
