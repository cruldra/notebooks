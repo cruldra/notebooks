{
 "cells": [
  {
   "metadata": {},
   "cell_type": "markdown",
   "source": [
    "# 简介\n",
    "\n",
    "[Pydantic](https://docs.pydantic.dev/latest/)用于模式验证,类似`npm`的`zod`库.\n"
   ],
   "id": "2f3572eca5e7977d"
  },
  {
   "metadata": {},
   "cell_type": "markdown",
   "source": "# 示例",
   "id": "21951fda801e568e"
  },
  {
   "metadata": {},
   "cell_type": "markdown",
   "source": "## 基本使用",
   "id": "34665fb5ad227aa2"
  },
  {
   "metadata": {
    "ExecuteTime": {
     "end_time": "2024-08-03T19:03:30.899264Z",
     "start_time": "2024-08-03T19:03:30.857516Z"
    }
   },
   "cell_type": "code",
   "source": [
    "import json\n",
    "from datetime import datetime\n",
    "\n",
    "from pydantic import BaseModel, PositiveInt\n",
    "\n",
    "\n",
    "class User(BaseModel):\n",
    "    id: int\n",
    "    name: str = 'John Doe'\n",
    "    signup_ts: datetime | None\n",
    "    tastes: dict[str, PositiveInt]\n",
    "\n",
    "\n",
    "external_data = {\n",
    "    'id': 123,\n",
    "    'signup_ts': '2019-06-01 12:22',\n",
    "    'tastes': {\n",
    "        'wine': 9,\n",
    "        b'cheese': 7,\n",
    "        'cabbage': '1',\n",
    "    },\n",
    "}\n",
    "\n",
    "user = User(**external_data)\n",
    "\n",
    "print(user.id)\n",
    "#> 123\n",
    "print(user.model_dump())\n",
    "\"\"\"\n",
    "{\n",
    "    'id': 123,\n",
    "    'name': 'John Doe',\n",
    "    'signup_ts': datetime.datetime(2019, 6, 1, 12, 22),\n",
    "    'tastes': {'wine': 9, 'cheese': 7, 'cabbage': 1},\n",
    "}\n",
    "\"\"\""
   ],
   "id": "e58e8e5ed9d75c04",
   "outputs": [
    {
     "ename": "ValidationError",
     "evalue": "1 validation error for User\ntastes.cabbage\n  Input should be greater than 0 [type=greater_than, input_value='-1', input_type=str]\n    For further information visit https://errors.pydantic.dev/2.8/v/greater_than",
     "output_type": "error",
     "traceback": [
      "\u001B[1;31m---------------------------------------------------------------------------\u001B[0m",
      "\u001B[1;31mValidationError\u001B[0m                           Traceback (most recent call last)",
      "Cell \u001B[1;32mIn[4], line 23\u001B[0m\n\u001B[0;32m     10\u001B[0m     tastes: \u001B[38;5;28mdict\u001B[39m[\u001B[38;5;28mstr\u001B[39m, PositiveInt]  \n\u001B[0;32m     13\u001B[0m external_data \u001B[38;5;241m=\u001B[39m {\n\u001B[0;32m     14\u001B[0m     \u001B[38;5;124m'\u001B[39m\u001B[38;5;124mid\u001B[39m\u001B[38;5;124m'\u001B[39m: \u001B[38;5;241m123\u001B[39m,\n\u001B[0;32m     15\u001B[0m     \u001B[38;5;124m'\u001B[39m\u001B[38;5;124msignup_ts\u001B[39m\u001B[38;5;124m'\u001B[39m: \u001B[38;5;124m'\u001B[39m\u001B[38;5;124m2019-06-01 12:22\u001B[39m\u001B[38;5;124m'\u001B[39m,  \n\u001B[1;32m   (...)\u001B[0m\n\u001B[0;32m     20\u001B[0m     },\n\u001B[0;32m     21\u001B[0m }\n\u001B[1;32m---> 23\u001B[0m user \u001B[38;5;241m=\u001B[39m \u001B[43mUser\u001B[49m\u001B[43m(\u001B[49m\u001B[38;5;241;43m*\u001B[39;49m\u001B[38;5;241;43m*\u001B[39;49m\u001B[43mexternal_data\u001B[49m\u001B[43m)\u001B[49m  \n\u001B[0;32m     25\u001B[0m \u001B[38;5;28mprint\u001B[39m(user\u001B[38;5;241m.\u001B[39mid)  \n\u001B[0;32m     26\u001B[0m \u001B[38;5;66;03m#> 123\u001B[39;00m\n",
      "File \u001B[1;32mD:\\Workspace\\aiworld\\py_automation\\.venv\\Lib\\site-packages\\pydantic\\main.py:193\u001B[0m, in \u001B[0;36mBaseModel.__init__\u001B[1;34m(self, **data)\u001B[0m\n\u001B[0;32m    191\u001B[0m \u001B[38;5;66;03m# `__tracebackhide__` tells pytest and some other tools to omit this function from tracebacks\u001B[39;00m\n\u001B[0;32m    192\u001B[0m __tracebackhide__ \u001B[38;5;241m=\u001B[39m \u001B[38;5;28;01mTrue\u001B[39;00m\n\u001B[1;32m--> 193\u001B[0m \u001B[38;5;28;43mself\u001B[39;49m\u001B[38;5;241;43m.\u001B[39;49m\u001B[43m__pydantic_validator__\u001B[49m\u001B[38;5;241;43m.\u001B[39;49m\u001B[43mvalidate_python\u001B[49m\u001B[43m(\u001B[49m\u001B[43mdata\u001B[49m\u001B[43m,\u001B[49m\u001B[43m \u001B[49m\u001B[43mself_instance\u001B[49m\u001B[38;5;241;43m=\u001B[39;49m\u001B[38;5;28;43mself\u001B[39;49m\u001B[43m)\u001B[49m\n",
      "\u001B[1;31mValidationError\u001B[0m: 1 validation error for User\ntastes.cabbage\n  Input should be greater than 0 [type=greater_than, input_value='-1', input_type=str]\n    For further information visit https://errors.pydantic.dev/2.8/v/greater_than"
     ]
    }
   ],
   "execution_count": 4
  },
  {
   "metadata": {},
   "cell_type": "markdown",
   "source": [
    "## 验证失败\n",
    "\n",
    "验证失败时会抛出`ValidationError`异常,可以通过`e.errors()`获取错误信息."
   ],
   "id": "b51470ce7e33df0a"
  },
  {
   "metadata": {
    "ExecuteTime": {
     "end_time": "2024-08-03T19:07:45.100673Z",
     "start_time": "2024-08-03T19:07:45.096673Z"
    }
   },
   "cell_type": "code",
   "source": [
    "# continuing the above example...\n",
    "\n",
    "from pydantic import ValidationError\n",
    "import json\n",
    "\n",
    "class User(BaseModel):\n",
    "    id: int\n",
    "    name: str = 'John Doe'\n",
    "    signup_ts: datetime | None\n",
    "    tastes: dict[str, PositiveInt]\n",
    "\n",
    "\n",
    "external_data = {'id': 'not an int', 'tastes': {}}\n",
    "\n",
    "try:\n",
    "    User(**external_data)\n",
    "except ValidationError as e:\n",
    "    print(json.dumps(e.errors(), indent=4))\n",
    "    \"\"\"\n",
    "    [\n",
    "        {\n",
    "            'type': 'int_parsing',\n",
    "            'loc': ('id',),\n",
    "            'msg': 'Input should be a valid integer, unable to parse string as an integer',\n",
    "            'input': 'not an int',\n",
    "            'url': 'https://errors.pydantic.dev/2/v/int_parsing',\n",
    "        },\n",
    "        {\n",
    "            'type': 'missing',\n",
    "            'loc': ('signup_ts',),\n",
    "            'msg': 'Field required',\n",
    "            'input': {'id': 'not an int', 'tastes': {}},\n",
    "            'url': 'https://errors.pydantic.dev/2/v/missing',\n",
    "        },\n",
    "    ]\n",
    "    \"\"\""
   ],
   "id": "3b52a19b4cb90c5",
   "outputs": [
    {
     "name": "stdout",
     "output_type": "stream",
     "text": [
      "[\n",
      "    {\n",
      "        \"type\": \"int_parsing\",\n",
      "        \"loc\": [\n",
      "            \"id\"\n",
      "        ],\n",
      "        \"msg\": \"Input should be a valid integer, unable to parse string as an integer\",\n",
      "        \"input\": \"not an int\",\n",
      "        \"url\": \"https://errors.pydantic.dev/2.8/v/int_parsing\"\n",
      "    },\n",
      "    {\n",
      "        \"type\": \"missing\",\n",
      "        \"loc\": [\n",
      "            \"signup_ts\"\n",
      "        ],\n",
      "        \"msg\": \"Field required\",\n",
      "        \"input\": {\n",
      "            \"id\": \"not an int\",\n",
      "            \"tastes\": {}\n",
      "        },\n",
      "        \"url\": \"https://errors.pydantic.dev/2.8/v/missing\"\n",
      "    }\n",
      "]\n"
     ]
    }
   ],
   "execution_count": 8
  },
  {
   "metadata": {},
   "cell_type": "code",
   "outputs": [],
   "execution_count": null,
   "source": "",
   "id": "c8b0b189269eead2"
  }
 ],
 "metadata": {
  "kernelspec": {
   "display_name": "Python 3",
   "language": "python",
   "name": "python3"
  },
  "language_info": {
   "codemirror_mode": {
    "name": "ipython",
    "version": 2
   },
   "file_extension": ".py",
   "mimetype": "text/x-python",
   "name": "python",
   "nbconvert_exporter": "python",
   "pygments_lexer": "ipython2",
   "version": "2.7.6"
  }
 },
 "nbformat": 4,
 "nbformat_minor": 5
}
