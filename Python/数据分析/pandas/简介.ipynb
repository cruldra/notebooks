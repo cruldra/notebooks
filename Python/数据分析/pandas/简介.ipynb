{
 "cells": [
  {
   "metadata": {},
   "cell_type": "markdown",
   "source": [
    "# 简介\n",
    "\n",
    "[pandas](https://pandas.pydata.org/docs/index.html)用于数据分析和清洗."
   ],
   "id": "3ddd874b3f6ba24f"
  },
  {
   "metadata": {},
   "cell_type": "markdown",
   "source": "# 示例1: 按字典列表中的某几个字段排序",
   "id": "f148f6735855e277"
  },
  {
   "metadata": {
    "ExecuteTime": {
     "end_time": "2024-08-03T16:51:09.510281Z",
     "start_time": "2024-08-03T16:51:09.293701Z"
    }
   },
   "cell_type": "code",
   "source": [
    "import pandas as pd\n",
    "\n",
    "# 假设 user_dicts 是你的字典列表\n",
    "user_dicts = [\n",
    "    {\n",
    "        \"id\": 1,\n",
    "        \"name\": \"Alice\",\n",
    "        \"total_recharged\": 100,\n",
    "        \"total_consumption\": 50\n",
    "    },\n",
    "    {\n",
    "        \"id\": 2,\n",
    "        \"name\": \"Bob\",\n",
    "        \"total_recharged\": 150,\n",
    "        \"total_consumption\": 60\n",
    "    },\n",
    "    {\n",
    "        \"id\": 3,\n",
    "        \"name\": \"Charlie\",\n",
    "        \"total_recharged\": 120,\n",
    "        \"total_consumption\": 70\n",
    "    }\n",
    "    # ... 其他用户数据\n",
    "]\n",
    "\n",
    "# 将字典列表转换为 DataFrame\n",
    "df = pd.DataFrame(user_dicts)\n",
    "\n",
    "# 按 total_recharged 和 total_consumption 降序排序\n",
    "df_sorted = df.sort_values(by=['total_recharged', 'total_consumption'], ascending=[False, False])\n",
    "\n",
    "# 打印排序后的 DataFrame\n",
    "print(df_sorted)"
   ],
   "id": "8ba02f832de6cc17",
   "outputs": [
    {
     "name": "stdout",
     "output_type": "stream",
     "text": [
      "   id     name  total_recharged  total_consumption\n",
      "1   2      Bob              150                 60\n",
      "2   3  Charlie              120                 70\n",
      "0   1    Alice              100                 50\n"
     ]
    }
   ],
   "execution_count": 1
  },
  {
   "metadata": {},
   "cell_type": "code",
   "outputs": [],
   "execution_count": null,
   "source": "",
   "id": "5c1dbadf82e7c6c6"
  }
 ],
 "metadata": {
  "kernelspec": {
   "display_name": "Python 3",
   "language": "python",
   "name": "python3"
  },
  "language_info": {
   "codemirror_mode": {
    "name": "ipython",
    "version": 2
   },
   "file_extension": ".py",
   "mimetype": "text/x-python",
   "name": "python",
   "nbconvert_exporter": "python",
   "pygments_lexer": "ipython2",
   "version": "2.7.6"
  }
 },
 "nbformat": 4,
 "nbformat_minor": 5
}
