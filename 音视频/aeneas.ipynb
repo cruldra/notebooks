{
 "cells": [
  {
   "metadata": {},
   "cell_type": "markdown",
   "source": [
    "# Docker\n",
    "\n",
    "1. 先拉取镜像,这里面已经安装好了`ffmpeg`、`espeak`和`aeneas`\n",
    "\n",
    "\n",
    "```bash\n",
    "docker pull dongjak-aeneas \n",
    "```\n",
    "\n",
    "2. 使用以下命令运行:\n",
    "\n",
    "```bash\n",
    "docker run --rm -v D:\\Workspace\\aiworld\\自动化工作流\\英语短文\\projects\\开心的一天:/projects -it dongjak-aeneas bash -c \"source ~/miniconda3/etc/profile.d/conda.sh;conda activate aeneas;python -m aeneas.tools.execute_task /projects/test.mp3 /projects/test.txt 'task_language=eng|os_task_file_format=srt|is_text_type=plain' test.srt;\"\n",
    "```"
   ],
   "id": "822d56b77d0ff98a"
  }
 ],
 "metadata": {
  "kernelspec": {
   "display_name": "Python 3",
   "language": "python",
   "name": "python3"
  },
  "language_info": {
   "codemirror_mode": {
    "name": "ipython",
    "version": 2
   },
   "file_extension": ".py",
   "mimetype": "text/x-python",
   "name": "python",
   "nbconvert_exporter": "python",
   "pygments_lexer": "ipython2",
   "version": "2.7.6"
  }
 },
 "nbformat": 4,
 "nbformat_minor": 5
}
