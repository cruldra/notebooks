{
 "cells": [
  {
   "cell_type": "markdown",
   "metadata": {},
   "source": [
    "# 参考\n",
    "\n",
    "*  [上古卷轴5：天际10周年纪念版新增内容 - 哔哩哔哩](https://www.bilibili.com/read/cv15797789/)\n",
    "* [【上古卷轴5】MOD万能排序规则避免BUG，一看就会_单机游戏热门视频](https://www.bilibili.com/video/BV1gF41157XS/?spm_id_from=333.788&vd_source=092ac7bde6b8d19b47d7e19ff01d95ae)"
   ]
  },
  {
   "cell_type": "markdown",
   "metadata": {},
   "source": [
    "# Mod"
   ]
  },
  {
   "cell_type": "markdown",
   "metadata": {},
   "source": [
    "## 炼金术士之书\n",
    "\n",
    "[下载](https://drive.google.com/open?id=1-p3j5UOYis-D3Hq-q8oMQsFLyPKqPWbK&usp=drive_fs)\n",
    "\n",
    "* [n网](https://www.nexusmods.com/skyrimspecialedition/mods/2961)\n",
    "* [9dm](http://www.9dmsgame.net/forum.php?mod=viewthread&tid=153371&extra=page%3D1%26filter%3Dtypeid%26typeid%3D189)"
   ]
  }
 ],
 "metadata": {
  "language_info": {
   "name": "python"
  }
 },
 "nbformat": 4,
 "nbformat_minor": 2
}
