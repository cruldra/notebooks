{
 "cells": [
  {
   "cell_type": "markdown",
   "metadata": {},
   "source": [
    "# 参考\n",
    "\n",
    "*  [上古卷轴5：天际10周年纪念版新增内容 - 哔哩哔哩](https://www.bilibili.com/read/cv15797789/)\n",
    "* [【上古卷轴5】MOD万能排序规则避免BUG，一看就会_单机游戏热门视频](https://www.bilibili.com/video/BV1gF41157XS/?spm_id_from=333.788&vd_source=092ac7bde6b8d19b47d7e19ff01d95ae)"
   ]
  },
  {
   "cell_type": "markdown",
   "metadata": {},
   "source": [
    "# Mod"
   ]
  },
  {
   "cell_type": "markdown",
   "metadata": {},
   "source": [
    "## 炼金术士之书\n",
    "\n",
    "[下载](https://drive.google.com/open?id=1-p3j5UOYis-D3Hq-q8oMQsFLyPKqPWbK&usp=drive_fs)\n",
    "\n",
    "* [n网](https://www.nexusmods.com/skyrimspecialedition/mods/2961)\n",
    "* [9dm](http://www.9dmsgame.net/forum.php?mod=viewthread&tid=153371&extra=page%3D1%26filter%3Dtypeid%26typeid%3D189)"
   ]
  },
  {
   "cell_type": "markdown",
   "metadata": {},
   "source": [
    "## 征服天际\n",
    "\n",
    "[下载](http://www.9dmsgame.net/forum.php?mod=viewthread&tid=279711&extra=page%3D1%26filter%3Dtypeid%26typeid%3D115)\n",
    "\n",
    "## 更有趣的战利品\n",
    "\n",
    " [添加上千件武器装备](http://www.9dmsgame.net/forum.php?mod=viewthread&tid=165041&extra=page%3D12%26filter%3Dtypeid%26orderby%3Dlastpost%26typeid%3D114)\n"
   ]
  },
  {
   "cell_type": "markdown",
   "metadata": {},
   "source": [
    "# 整合包\n",
    "\n",
    "# 烽火\n",
    "\n",
    "[下载](https://magicskyrim.net/archives/2976)"
   ]
  },
  {
   "cell_type": "markdown",
   "metadata": {},
   "source": [
    "# 随从\n",
    "\n",
    "* [上古卷轴5:天际 全随从资料数据一览_赛兰，Celeval（黎明守卫）-游民星空 GamerSky.com](https://www.gamersky.com/handbook/201501/508553_54.shtml)"
   ]
  },
  {
   "cell_type": "markdown",
   "metadata": {},
   "source": [
    "# 控制台\n",
    "\n",
    "**让随从忽略玩家伤害**\n",
    "\n",
    "```\n",
    "setignorefriendlyhits 1\n",
    "```\n",
    "\n",
    "**加钱**\n",
    "\n",
    "```\n",
    "player.additem f 1000\n",
    "```"
   ]
  }
 ],
 "metadata": {
  "language_info": {
   "name": "python"
  }
 },
 "nbformat": 4,
 "nbformat_minor": 2
}
