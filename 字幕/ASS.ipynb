{
 "cells": [
  {
   "cell_type": "markdown",
   "id": "8d38bb10970cbc4f",
   "metadata": {
    "jp-MarkdownHeadingCollapsed": true
   },
   "source": [
    "# 实时预览ass字幕"
   ]
  },
  {
   "cell_type": "markdown",
   "id": "eac0e8d092966ed3",
   "metadata": {},
   "source": [
    "# 字幕文本超过屏幕宽度\n",
    "\n",
    "## 参考链接\n",
    "\n",
    "* [Poe-ass字幕如何设置最大宽度，超过自动换行](https://poe.com/s/wldjpFM4L9p5R66gX95k)"
   ]
  },
  {
   "cell_type": "markdown",
   "id": "6f2afd314b03b6f3",
   "metadata": {},
   "source": [
    "# 字幕样式\n",
    "这里做以下几件事:\n",
    "\n",
    "1.  使用文本`outputs/我的新朋友/subtitle.ass`作为演示字幕\n",
    "2. 使用`pysubs2`修改字幕文件"
   ]
  },
  {
   "cell_type": "code",
   "execution_count": null,
   "id": "6f3ab3410fa06388",
   "metadata": {},
   "outputs": [],
   "source": [
    "import gradio as gr\n",
    "\n",
    "def update_style(font_type, font_size, bold, italic, underline, strikethrough, primary_color, secondary_color, border_color, shadow_color):\n",
    "    style = {\n",
    "        \"font-family\": font_type,\n",
    "        \"font-size\": f\"{font_size}px\",\n",
    "        \"font-weight\": \"bold\" if bold else \"normal\",\n",
    "        \"font-style\": \"italic\" if italic else \"normal\",\n",
    "        \"text-decoration\": f\"{'underline ' if underline else ''}{'line-through ' if strikethrough else ''}\",\n",
    "        \"color\": primary_color,\n",
    "        \"background-color\": secondary_color,\n",
    "        \"border-color\": border_color,\n",
    "        \"text-shadow\": f\"2px 2px {shadow_color}\"\n",
    "    }\n",
    "    return style\n",
    "\n",
    "def create_gradio_interface():\n",
    "    with gr.Blocks() as demo:\n",
    "        with gr.Accordion(\"字体设置\"):\n",
    "            font_type = gr.Dropdown(label=\"字体类型\", choices=[\"Arial\", \"Times New Roman\", \"Courier New\"])\n",
    "            font_size = gr.Slider(label=\"字体大小\", minimum=10, maximum=50, value=16)\n",
    "            bold = gr.Checkbox(label=\"加粗\")\n",
    "            italic = gr.Checkbox(label=\"斜体\")\n",
    "            underline = gr.Checkbox(label=\"下划线\")\n",
    "            strikethrough = gr.Checkbox(label=\"删除线\")\n",
    "        \n",
    "        with gr.Accordion(\"颜色设置\"):\n",
    "            primary_color = gr.ColorPicker(label=\"主要颜色\")\n",
    "            secondary_color = gr.ColorPicker(label=\"次要颜色\")\n",
    "            border_color = gr.ColorPicker(label=\"边框颜色\")\n",
    "            shadow_color = gr.ColorPicker(label=\"字体阴影颜色\")\n",
    "        \n",
    "        style_output = gr.JSON(label=\"样式输出\")\n",
    "        \n",
    "        inputs = [font_type, font_size, bold, italic, underline, strikethrough, primary_color, secondary_color, border_color, shadow_color]\n",
    "        style_output.change(update_style, inputs=inputs, outputs=style_output)\n",
    "    \n",
    "    demo.launch()\n",
    "\n",
    "create_gradio_interface()"
   ]
  },
  {
   "cell_type": "markdown",
   "id": "3f4a7f3395ddd17a",
   "metadata": {},
   "source": [
    "# 位置自适应\n",
    "已知如下条件:\n",
    "1. 屏幕分辨率1080x1920\n",
    "2. 字幕文本为`One sunny day, Lily found a tiny kitten in her garden\\N一个阳光明媚的日子，莉莉在花园里发现了一只小猫`\n",
    "3. 字体名称为Arial\n",
    "4. 字体大小为28\n",
    "\n",
    "思路如下:\n",
    "\n",
    "1. 首先要有一个方法能够根据字体、大小和内容来获取文本的宽度\n",
    "2. 拿到宽度后计算它在1080宽度的屏幕中居中时的x位置\n",
    "3. 最后生成 f\"{{\\\\pos({pos_x},100)}}\" + 字幕文本"
   ]
  },
  {
   "cell_type": "code",
   "execution_count": null,
   "id": "802906ffcaf1badd",
   "metadata": {
    "ExecuteTime": {
     "end_time": "2024-07-19T07:02:48.954107Z",
     "start_time": "2024-07-19T07:02:48.939116Z"
    }
   },
   "outputs": [],
   "source": [
    "import matplotlib.pyplot as plt\n",
    "from matplotlib.font_manager import FontProperties\n",
    "\n",
    "def get_text_width(text, font_name, font_size):\n",
    "    font = FontProperties(family=font_name, size=font_size)\n",
    "    fig, ax = plt.subplots()\n",
    "    text_obj = ax.text(0, 0, text, fontproperties=font)\n",
    "    renderer = fig.canvas.get_renderer()\n",
    "    bbox = text_obj.get_window_extent(renderer=renderer)\n",
    "    width = bbox.width\n",
    "    plt.close(fig)\n",
    "    return width\n",
    "\n",
    "def calculate_centered_position(text_width, screen_width=1080):\n",
    "    return (screen_width - text_width) / 2\n",
    "\n",
    "text = \"One sunny day, Lily found a tiny kitten in her garden\\\\N一个阳光明媚的日子，莉莉在花园里发现了一只小猫\"\n",
    "font_name = r\"D:\\Workspace\\aiworld\\自动化工作流\\英语短文\\py_automation\\jianying\\resources\\fonts\\华文中宋.ttf\"\n",
    "font_size = 28\n",
    "\n",
    "text_width = get_text_width(text, font_name, font_size)\n",
    "pos_x = calculate_centered_position(text_width)\n",
    "subtitle_text = f\"{{\\\\pos({pos_x},100)}}\" + text\n",
    "\n",
    "print(subtitle_text)"
   ]
  }
 ],
 "metadata": {
  "kernelspec": {
   "display_name": "Python 3 (ipykernel)",
   "language": "python",
   "name": "python3"
  },
  "language_info": {
   "codemirror_mode": {
    "name": "ipython",
    "version": 3
   },
   "file_extension": ".py",
   "mimetype": "text/x-python",
   "name": "python",
   "nbconvert_exporter": "python",
   "pygments_lexer": "ipython3",
   "version": "3.12.4"
  }
 },
 "nbformat": 4,
 "nbformat_minor": 5
}
