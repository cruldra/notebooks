{
 "cells": [
  {
   "metadata": {},
   "cell_type": "markdown",
   "source": "# 实现`grid`布局",
   "id": "f65893363666cc2c"
  },
  {
   "metadata": {},
   "cell_type": "code",
   "outputs": [],
   "execution_count": null,
   "source": [
    "import gradio as gr\n",
    "\n",
    "# 定义一个简单的函数，用于处理输入\n",
    "def greet(name):\n",
    "    return f\"Hello, {name}!\"\n",
    "\n",
    "# 创建 Gradio 界面\n",
    "with gr.Blocks() as demo:\n",
    "    with gr.Row():\n",
    "        # 第一行，两个组件\n",
    "        with gr.Column():\n",
    "            name_input = gr.Textbox(label=\"Enter your name\")\n",
    "        with gr.Column():\n",
    "            greet_button = gr.Button(\"Greet\")\n",
    "    \n",
    "    with gr.Row():\n",
    "        # 第二行，三个组件\n",
    "        with gr.Column():\n",
    "            result_1 = gr.Textbox(label=\"Result 1\")\n",
    "        with gr.Column():\n",
    "            result_2 = gr.Textbox(label=\"Result 2\")\n",
    "        with gr.Column():\n",
    "            result_3 = gr.Textbox(label=\"Result 3\")\n",
    "    \n",
    "    # 将按钮与处理函数关联\n",
    "    greet_button.click(fn=greet, inputs=name_input, outputs=result_1)\n",
    "\n",
    "# 运行 Gradio 应用\n",
    "demo.launch()"
   ],
   "id": "5e860c8930c89fb9"
  }
 ],
 "metadata": {
  "kernelspec": {
   "display_name": "Python 3",
   "language": "python",
   "name": "python3"
  },
  "language_info": {
   "codemirror_mode": {
    "name": "ipython",
    "version": 2
   },
   "file_extension": ".py",
   "mimetype": "text/x-python",
   "name": "python",
   "nbconvert_exporter": "python",
   "pygments_lexer": "ipython2",
   "version": "2.7.6"
  }
 },
 "nbformat": 4,
 "nbformat_minor": 5
}
