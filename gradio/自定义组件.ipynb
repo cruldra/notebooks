{
 "cells": [
  {
   "metadata": {},
   "cell_type": "markdown",
   "source": [
    "# 第一步:使用`create`命令创建组件模板\n",
    "\n",
    "```bash\n",
    "gradio cc create MyComponent --template SimpleTextbox\n",
    "\n",
    "# 一个简单的下拉框组件\n",
    "gradio cc create MyComponent --template SimpleDropdown\n",
    "```\n",
    "\n",
    "在面的例子中:\n",
    "\n",
    "1. MyComponent是自定义组件的名称\n",
    "2. SimpleTextbox是组件的模板,可以用`gradio cc show`查看所有可用的模板\n",
    "\n",
    "组件的目录结构如下:\n",
    "\n",
    "- backend/ <- 自定义组件的后端python代码\n",
    "- frontend/ <- 自定义组件的前端代码\n",
    "- demo/ <- A sample app using your custom component. Modify this to develop your component!\n",
    "- pyproject.toml <- python包元数据,发布到pypi时需要"
   ],
   "id": "81da77fec2e4a2fb"
  },
  {
   "metadata": {},
   "cell_type": "markdown",
   "source": [
    "# 第二步: 启动开发服务器\n",
    "\n",
    "定位到组件目录,运行以下命令:\n",
    "\n",
    "```bash\n",
    "gradio cc dev\n",
    "```\n",
    "\n",
    "如果提示`No custom components were found in D:\\Workspace\\aiworld\\eng_kid_story\\fontselect. It is likely that dev mode does not work properly. Please pass the --gradio-path and --python-path CLI arguments so that\n",
    "gradio uses the right executables`\n",
    "\n",
    "就使用:\n",
    "\n",
    "```bash\n",
    "gradio cc dev --python-path D:\\Workspace\\aiworld\\eng_kid_story\\.venv\\Scripts\\python.exe --gradio-path D:\\Workspace\\aiworld\\eng_kid_story\\.venv\\Scripts\\gradio.exe\n",
    "```"
   ],
   "id": "c17defaa77927cf2"
  },
  {
   "metadata": {},
   "cell_type": "markdown",
   "source": [
    "# 参考链接\n",
    "\n",
    "* [Gradio CLI](https://poe.com/s/6DMZyuwJDsHi1gyud1ow)\n",
    "* [五分钟内定制组件](https://www.gradio.app/guides/custom-components-in-five-minutes)\n",
    "* [如何制作 Gradio 自定义组件](https://poe.com/s/B4Eraj7jwKZy0cw81TQs)"
   ],
   "id": "c9fc64d76da3d65a"
  }
 ],
 "metadata": {
  "kernelspec": {
   "display_name": "Python 3",
   "language": "python",
   "name": "python3"
  },
  "language_info": {
   "codemirror_mode": {
    "name": "ipython",
    "version": 2
   },
   "file_extension": ".py",
   "mimetype": "text/x-python",
   "name": "python",
   "nbconvert_exporter": "python",
   "pygments_lexer": "ipython2",
   "version": "2.7.6"
  }
 },
 "nbformat": 4,
 "nbformat_minor": 5
}
