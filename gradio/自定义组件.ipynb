{
 "cells": [
  {
   "metadata": {},
   "cell_type": "markdown",
   "source": [
    "# 第一步:使用`create`命令创建组件模板\n",
    "\n",
    "```bash\n",
    "gradio cc create MyComponent --template SimpleTextbox\n",
    "```\n",
    "\n",
    "在面的例子中:\n",
    "\n",
    "1. MyComponent是自定义组件的名称\n",
    "2. SimpleTextbox是组件的模板,可以用`gradio cc show`查看所有可用的模板\n",
    "\n",
    "组件的目录结构如下:\n",
    "\n",
    "- backend/ <- 自定义组件的后端python代码\n",
    "- frontend/ <- 自定义组件的前端代码\n",
    "- demo/ <- A sample app using your custom component. Modify this to develop your component!\n",
    "- pyproject.toml <- python包元数据,发布到pypi时需要\n",
    "\n",
    "# 参考链接\n",
    "\n",
    "* [五分钟内定制组件](https://www.gradio.app/guides/custom-components-in-five-minutes)"
   ],
   "id": "81da77fec2e4a2fb"
  },
  {
   "metadata": {},
   "cell_type": "code",
   "outputs": [],
   "execution_count": null,
   "source": "",
   "id": "26af554efdac9a43"
  }
 ],
 "metadata": {
  "kernelspec": {
   "display_name": "Python 3",
   "language": "python",
   "name": "python3"
  },
  "language_info": {
   "codemirror_mode": {
    "name": "ipython",
    "version": 2
   },
   "file_extension": ".py",
   "mimetype": "text/x-python",
   "name": "python",
   "nbconvert_exporter": "python",
   "pygments_lexer": "ipython2",
   "version": "2.7.6"
  }
 },
 "nbformat": 4,
 "nbformat_minor": 5
}
