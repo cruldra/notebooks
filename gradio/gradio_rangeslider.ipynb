{
 "cells": [
  {
   "cell_type": "markdown",
   "id": "ecbe16c55caf6a54",
   "metadata": {},
   "source": [
    "# 简介\n",
    "\n",
    "`gradio`默认的数字滑块只有一个返回值,这个组件允许在一个范围内滑动\n",
    "\n",
    "# 安装\n",
    "\n",
    "```bash\n",
    "pip install gradio_rangeslider\n",
    "```"
   ]
  },
  {
   "cell_type": "code",
   "execution_count": 2,
   "id": "abf4485208e180e9",
   "metadata": {},
   "outputs": [
    {
     "name": "stdout",
     "output_type": "stream",
     "text": [
      "Running on local URL:  http://127.0.0.1:7860\n",
      "\n",
      "To create a public link, set `share=True` in `launch()`.\n"
     ]
    },
    {
     "data": {
      "text/html": [
       "<div><iframe src=\"http://127.0.0.1:7860/\" width=\"100%\" height=\"500\" allow=\"autoplay; camera; microphone; clipboard-read; clipboard-write;\" frameborder=\"0\" allowfullscreen></iframe></div>"
      ],
      "text/plain": [
       "<IPython.core.display.HTML object>"
      ]
     },
     "metadata": {},
     "output_type": "display_data"
    }
   ],
   "source": [
    "import gradio as gr\n",
    "from gradio_rangeslider import RangeSlider\n",
    "from pathlib import Path\n",
    "\n",
    "text = \"## The range is: {min} to {max}\" \n",
    "\n",
    "with gr.Blocks() as demo:\n",
    "    with gr.Tabs():\n",
    "        with gr.Tab(\"Demo\"):\n",
    "            gr.Markdown(\"\"\"## 🛝 RangeSlider\n",
    "\n",
    "            ## Drag either end and see the selected endpoints update in real-time.\n",
    "            \"\"\") \n",
    "            range_slider = RangeSlider(minimum=0, maximum=100, value=(0, 100))\n",
    "            range_ = gr.Markdown(value=text.format(min=0, max=100))\n",
    "            range_slider.change(lambda s: text.format(min=s[0], max=s[1]), range_slider, range_,\n",
    "                                show_progress=\"hide\", trigger_mode=\"always_last\")\n",
    "            gr.Examples([(20, 30), (40, 80)], inputs=[range_slider])\n",
    "        # with gr.Tab(\"Docs\"):\n",
    "        #     gr.Markdown(docs.read_text())\n",
    "\n",
    "\n",
    "if __name__ == \"__main__\":\n",
    "    demo.launch()"
   ]
  },
  {
   "cell_type": "code",
   "execution_count": null,
   "id": "8016aecf-648c-4084-b075-e52400f072c7",
   "metadata": {},
   "outputs": [],
   "source": []
  }
 ],
 "metadata": {
  "kernelspec": {
   "display_name": "Python 3 (ipykernel)",
   "language": "python",
   "name": "python3"
  },
  "language_info": {
   "codemirror_mode": {
    "name": "ipython",
    "version": 3
   },
   "file_extension": ".py",
   "mimetype": "text/x-python",
   "name": "python",
   "nbconvert_exporter": "python",
   "pygments_lexer": "ipython3",
   "version": "3.12.4"
  }
 },
 "nbformat": 4,
 "nbformat_minor": 5
}
