{
 "cells": [
  {
   "cell_type": "markdown",
   "metadata": {},
   "source": [
    "# 简介\n",
    "\n",
    "[peewee](https://docs.peewee-orm.com/en/latest/index.html)是一个轻量级的`Python ORM`框架，支持`SQLite`、`MySQL`和`PostgreSQL`等数据库。它的设计目标是简单、小巧、易于使用。\n",
    "\n",
    "# 安装\n",
    "\n",
    "```bash\n",
    "pip install peewee\n",
    "```\n",
    "\n",
    "## 安装数据库驱动\n",
    "\n",
    "### MySQL\n",
    "\n",
    "```bash\n",
    "pip install pymysql\n",
    "```"
   ]
  },
  {
   "cell_type": "markdown",
   "metadata": {},
   "source": [
    "# 使用"
   ]
  },
  {
   "cell_type": "markdown",
   "metadata": {},
   "source": [
    "## 定义模型\n",
    "\n",
    "和其它`ORM`框架一样，使用`peewee`的第一步是定义模型类。"
   ]
  },
  {
   "cell_type": "markdown",
   "metadata": {},
   "source": [
    "### 从现有数据库表创建模型类\n",
    "\n",
    "`peewee`自带了一个命令行工具[pwiz](https://docs.peewee-orm.com/en/latest/peewee/playhouse.html#pwiz-a-model-generator)，可以从现有的数据库表创建模型类。\n",
    "\n",
    "\n",
    "**示例**\n",
    "\n",
    "```bash\n",
    "python -m pwiz -H 192.168.1.4 -e mysql -u root -P  -t hi_model hi_chat > models.py\n",
    "\n",
    "# -H: 数据库主机\n",
    "# -e: 数据库类型\n",
    "# -u: 数据库用户名\n",
    "# -P: 数据库密码\n",
    "# -t: 要导出的表,多个表用逗号分隔\n",
    "# hi_chat: 数据库名\n",
    "# > models.py: 导出的模型类保存到models.py文件\n",
    "```"
   ]
  },
  {
   "cell_type": "code",
   "execution_count": 3,
   "metadata": {},
   "outputs": [
    {
     "name": "stdout",
     "output_type": "stream",
     "text": [
      "<Model: HiUser>\n"
     ]
    }
   ],
   "source": [
    "from models  import  HiUser\n",
    "\n",
    "print(HiUser)"
   ]
  }
 ],
 "metadata": {
  "kernelspec": {
   "display_name": ".venv",
   "language": "python",
   "name": "python3"
  },
  "language_info": {
   "codemirror_mode": {
    "name": "ipython",
    "version": 3
   },
   "file_extension": ".py",
   "mimetype": "text/x-python",
   "name": "python",
   "nbconvert_exporter": "python",
   "pygments_lexer": "ipython3",
   "version": "3.12.0"
  }
 },
 "nbformat": 4,
 "nbformat_minor": 2
}
