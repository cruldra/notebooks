{
 "cells": [
  {
   "cell_type": "markdown",
   "metadata": {},
   "source": [
    "# 简介\n",
    "\n",
    "[pycryptodomex](https://pypi.org/project/pycryptodomex/)用于在`Python`中实现加密算法,它是一个`自包含`的`Python`包,提供了`低级别密码学原语`.\n",
    "\n",
    "* **自包含**: 意味着它不依赖于外部库或系统级加密库,所有功能都包含在包内部\n",
    "* **低级别**: 意味着这些是基础的、核心的加密功能\n",
    "* **密码学原语**: 是指基本的加密操作和算法,如加密、解密、哈希、数字签名等"
   ]
  }
 ],
 "metadata": {
  "language_info": {
   "name": "python"
  }
 },
 "nbformat": 4,
 "nbformat_minor": 2
}
