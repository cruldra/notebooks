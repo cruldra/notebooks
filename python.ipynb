{
 "cells": [
  {
   "metadata": {},
   "cell_type": "markdown",
   "source": [
    "# 模板引擎\n",
    "\n",
    "## `string.Template`模块\n",
    "\n",
    "`string.Template`不支持嵌套的替换.它只能处理简单的占位符替换,而不能处理像字典这样的复杂结构"
   ],
   "id": "102236bf9d4ab07a"
  },
  {
   "metadata": {
    "ExecuteTime": {
     "end_time": "2024-07-23T03:52:15.652520Z",
     "start_time": "2024-07-23T03:52:15.648867Z"
    }
   },
   "cell_type": "code",
   "source": [
    "from string import Template\n",
    "\n",
    "template = Template(\"Hello, my name is $name and I am $age years old.\")\n",
    "message = template.substitute(name=\"Alice\", age=30)\n",
    "print(message)"
   ],
   "id": "883fd4ab414343d9",
   "outputs": [
    {
     "name": "stdout",
     "output_type": "stream",
     "text": [
      "Hello, my name is Alice and I am 30 years old.\n"
     ]
    }
   ],
   "execution_count": 1
  },
  {
   "metadata": {},
   "cell_type": "markdown",
   "source": "## `jinja2`模块",
   "id": "4d73e462a066a1b4"
  },
  {
   "metadata": {
    "ExecuteTime": {
     "end_time": "2024-07-23T04:03:22.906415Z",
     "start_time": "2024-07-23T04:03:22.880812Z"
    }
   },
   "cell_type": "code",
   "source": [
    "from jinja2 import Template\n",
    "\n",
    "template_str = \"\"\"\n",
    "Hello, my name is {{ name }} and I am {{ age }} years old.\n",
    "I have a friend named {{ friend.name }} who is {{ friend.age }} years old.\n",
    "\"\"\"\n",
    "\n",
    "template = Template(template_str)\n",
    "data = {\n",
    "    \"name\": \"Alice\",\n",
    "    \"age\": 30,\n",
    "    \"friend\": {\n",
    "        \"name\": \"Bob\",\n",
    "        \"age\": 25\n",
    "    }\n",
    "}\n",
    "message = template.render(data)\n",
    "print(message)"
   ],
   "id": "4a2aa7255db7e1ac",
   "outputs": [
    {
     "name": "stdout",
     "output_type": "stream",
     "text": [
      "\n",
      "Hello, my name is Alice and I am 30 years old.\n",
      "I have a friend named Bob who is 25 years old.\n"
     ]
    }
   ],
   "execution_count": 3
  },
  {
   "metadata": {},
   "cell_type": "markdown",
   "source": [
    "## 参考\n",
    "* [poe-python有哪些模板引擎](https://poe.com/s/q3nIQnq944Pbn6746eV3)"
   ],
   "id": "fdc597a0569f8fca"
  }
 ],
 "metadata": {
  "kernelspec": {
   "display_name": "Python 3",
   "language": "python",
   "name": "python3"
  },
  "language_info": {
   "codemirror_mode": {
    "name": "ipython",
    "version": 2
   },
   "file_extension": ".py",
   "mimetype": "text/x-python",
   "name": "python",
   "nbconvert_exporter": "python",
   "pygments_lexer": "ipython2",
   "version": "2.7.6"
  }
 },
 "nbformat": 4,
 "nbformat_minor": 5
}
