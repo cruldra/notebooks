{
 "cells": [
  {
   "cell_type": "markdown",
   "metadata": {},
   "source": [
    "# Claude3-Sonnet\n",
    "\n",
    "计算公式为:\n",
    "$$\n",
    "\\text{ans} = \\sum_{i=1}^{n} \\left( \\left\\lfloor \\frac{a_i}{b} \\right\\rfloor \\times \\left\\lfloor \\frac{a_i}{c} \\right\\rfloor \\right)\n",
    "$$"
   ]
  },
  {
   "cell_type": "code",
   "execution_count": 18,
   "metadata": {},
   "outputs": [
    {
     "name": "stdout",
     "output_type": "stream",
     "text": [
      "每 10000 个汉字\n",
      "提问价格(人民币): 0.267000 元\n",
      "回答价格(人民币): 1.335 元\n"
     ]
    }
   ],
   "source": [
    "from decimal import Decimal, getcontext\n",
    "getcontext().prec = 6\n",
    "#每千token提问价格(美元)\n",
    "input_pricing =0.003\n",
    "\n",
    "#美元到人民币汇率\n",
    "usd_to_rmb = 7.12\n",
    "\n",
    "#每千token提问价格(人民币)\n",
    "input_pricing_rmb = Decimal(input_pricing * usd_to_rmb)\n",
    "\n",
    "# 提问时每个汉字的价格(人民币)\n",
    "input_pricing_per_chinese = input_pricing_rmb / 800\n",
    "\n",
    "#从控制台接收汉字数量\n",
    "chinese_count = input(\"请输入汉字数量:\")\n",
    "chinese_count = int(chinese_count)\n",
    "print(\"每\",chinese_count,\"个汉字\")\n",
    "#计算提问价格\n",
    "input_price = chinese_count * input_pricing_per_chinese\n",
    "print(\"提问价格(人民币):\",input_price,\"元\")\n",
    "\n",
    "\n",
    "#每千字回答价格(美元)\n",
    "output_pricing =0.015\n",
    "#每千token回答价格(人民币)\n",
    "output_pricing_rmb = output_pricing * usd_to_rmb\n",
    "#回答时每个汉字的价格(人民币)\n",
    "output_pricing_per_chinese = output_pricing_rmb / 800\n",
    "output_price = chinese_count * output_pricing_per_chinese\n",
    "print(\"回答价格(人民币):\",output_price,\"元\")\n",
    "\n"
   ]
  },
  {
   "cell_type": "markdown",
   "metadata": {},
   "source": [
    "# 参考\n",
    "\n",
    "* [模型和价格说明 - 智增增API](https://doc.zhizengzeng.com/doc-3979947)"
   ]
  }
 ],
 "metadata": {
  "kernelspec": {
   "display_name": "jupyter-notebook",
   "language": "python",
   "name": "python3"
  },
  "language_info": {
   "codemirror_mode": {
    "name": "ipython",
    "version": 3
   },
   "file_extension": ".py",
   "mimetype": "text/x-python",
   "name": "python",
   "nbconvert_exporter": "python",
   "pygments_lexer": "ipython3",
   "version": "3.12.4"
  }
 },
 "nbformat": 4,
 "nbformat_minor": 2
}
