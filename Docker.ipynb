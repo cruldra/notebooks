{
 "cells": [
  {
   "metadata": {},
   "cell_type": "markdown",
   "source": [
    "\n",
    "# 容器管理\n",
    "\n"
   ],
   "id": "61f30ef827c79907"
  },
  {
   "metadata": {},
   "cell_type": "markdown",
   "source": [
    "# 镜像管理\n",
    "\n",
    "## 镜像备份\n",
    "\n",
    "```bash\n",
    "docker save -o clash.tar centralx/clash:latest\n",
    "```"
   ],
   "id": "aba8051f3baadc71"
  },
  {
   "metadata": {
    "ExecuteTime": {
     "end_time": "2024-07-29T06:28:52.929445Z",
     "start_time": "2024-07-29T06:28:51.421998Z"
    }
   },
   "cell_type": "code",
   "source": [
    "import pyperclip\n",
    "from ipywidgets import widgets\n",
    "import json\n",
    "import subprocess\n",
    "\n",
    "def get_images():\n",
    "    # 使用适当的转义字符来构建 PowerShell 命令\n",
    "    command_line = r\"\"\"powershell.exe -ExecutionPolicy ByPass -Command \"& {$images = docker images --format '{{json .}}'; $jsonObjects = $images | ForEach-Object { $_ | ConvertFrom-Json }; $jsonArray = $jsonObjects | ConvertTo-Json; $jsonArray}\" \"\"\"\n",
    "    \n",
    "    # 运行命令并捕获输出和错误，同时设置编码为 UTF-8\n",
    "    result = subprocess.run(command_line, shell=True, capture_output=True, text=True, encoding='utf-8', errors='ignore')\n",
    "    \n",
    "    output = result.stdout\n",
    "    error = result.stderr\n",
    "    \n",
    "    # 打印输出和错误\n",
    "    #print(f\"Output: {output}\")\n",
    "    #print(f\"Error: {error}\")\n",
    "    return  json.loads(output)\n",
    "\n",
    "images_json = get_images()\n",
    "\n",
    "\n",
    "image =widgets.Dropdown(\n",
    "    options=map(lambda x: x['Repository'], images_json),\n",
    "    description='选择镜像:',\n",
    "    disabled=False,\n",
    ")\n",
    "button = widgets.Button(\n",
    "    description='备份'\n",
    ")\n",
    "button1 = widgets.Button(\n",
    "    description='复制命令行'\n",
    ")\n",
    "button.on_click(lambda x: subprocess.run(f'docker save -o {image.value}.tar {image.value}', shell=True))\n",
    "#button.on_click(lambda x: print(image.value))\n",
    "button1.on_click(lambda x: pyperclip.copy( f'docker save -o {image.value}.tar {image.value}'))\n",
    "display(image, button,button1)"
   ],
   "id": "716e9a7da67f54f7",
   "outputs": [
    {
     "data": {
      "text/plain": [
       "Dropdown(description='选择镜像:', options=('dongjak/aeneas', 'dongjak-aeneas', 'grafana/loki', 'mysql', 'grafana/g…"
      ],
      "application/vnd.jupyter.widget-view+json": {
       "version_major": 2,
       "version_minor": 0,
       "model_id": "cff225c84c184ef6905a0633cbe2b9bc"
      }
     },
     "metadata": {},
     "output_type": "display_data"
    },
    {
     "data": {
      "text/plain": [
       "Button(description='备份', style=ButtonStyle())"
      ],
      "application/vnd.jupyter.widget-view+json": {
       "version_major": 2,
       "version_minor": 0,
       "model_id": "0743d8c1adda4229a03d0ceae2f1e4ce"
      }
     },
     "metadata": {},
     "output_type": "display_data"
    },
    {
     "data": {
      "text/plain": [
       "Button(description='复制命令行', style=ButtonStyle())"
      ],
      "application/vnd.jupyter.widget-view+json": {
       "version_major": 2,
       "version_minor": 0,
       "model_id": "562f16e3dea84359a2e13e0464235465"
      }
     },
     "metadata": {},
     "output_type": "display_data"
    }
   ],
   "execution_count": 19
  },
  {
   "metadata": {},
   "cell_type": "markdown",
   "source": [
    "## 推送到`Docker Hub`\n",
    "\n",
    "```bash\n",
    "docker login\n",
    "docker tag local-image:tagname dongjak/new-repo:tagname\n",
    "docker push dongjak/new-repo:tagname\n",
    "```\n",
    "\n",
    "## 从容器的某个状态创建镜像\n",
    "\n",
    "```bash\n",
    "docker commit -m \"What did you do to the image\" -a \"Author Name\" container-id repository/new_image_name\n",
    "```\n",
    "\n",
    "## 交互环境\n",
    "\n",
    "下载并运行某个镜像(创建一个该镜像的容器)然后进入`bash`交互模式\n",
    "\n",
    "```bash\n",
    "docker run -it ubuntu bash\n",
    "```"
   ],
   "id": "e7cb806527e07dd6"
  },
  {
   "metadata": {
    "ExecuteTime": {
     "end_time": "2024-07-29T06:16:43.403935Z",
     "start_time": "2024-07-29T06:16:41.928747Z"
    }
   },
   "cell_type": "code",
   "source": "get_images()",
   "id": "d37607fc5608d40a",
   "outputs": [
    {
     "data": {
      "text/plain": [
       "[{'Containers': 'N/A',\n",
       "  'CreatedAt': '2024-07-22 18:31:24 +0800 CST',\n",
       "  'CreatedSince': '6 days ago',\n",
       "  'Digest': '<none>',\n",
       "  'ID': 'e51d9481ee8a',\n",
       "  'Repository': 'dongjak/aeneas',\n",
       "  'SharedSize': 'N/A',\n",
       "  'Size': '1.73GB',\n",
       "  'Tag': 'latest',\n",
       "  'UniqueSize': 'N/A',\n",
       "  'VirtualSize': '1.726GB'},\n",
       " {'Containers': 'N/A',\n",
       "  'CreatedAt': '2024-07-22 18:31:24 +0800 CST',\n",
       "  'CreatedSince': '6 days ago',\n",
       "  'Digest': '<none>',\n",
       "  'ID': 'e51d9481ee8a',\n",
       "  'Repository': 'dongjak-aeneas',\n",
       "  'SharedSize': 'N/A',\n",
       "  'Size': '1.73GB',\n",
       "  'Tag': 'latest',\n",
       "  'UniqueSize': 'N/A',\n",
       "  'VirtualSize': '1.726GB'},\n",
       " {'Containers': 'N/A',\n",
       "  'CreatedAt': '2024-07-04 23:23:09 +0800 CST',\n",
       "  'CreatedSince': '3 weeks ago',\n",
       "  'Digest': '<none>',\n",
       "  'ID': '358ea7e8d256',\n",
       "  'Repository': 'grafana/loki',\n",
       "  'SharedSize': 'N/A',\n",
       "  'Size': '74.7MB',\n",
       "  'Tag': 'latest',\n",
       "  'UniqueSize': 'N/A',\n",
       "  'VirtualSize': '74.75MB'},\n",
       " {'Containers': 'N/A',\n",
       "  'CreatedAt': '2024-07-02 12:16:15 +0800 CST',\n",
       "  'CreatedSince': '3 weeks ago',\n",
       "  'Digest': '<none>',\n",
       "  'ID': '0b60ddd8609d',\n",
       "  'Repository': 'mysql',\n",
       "  'SharedSize': 'N/A',\n",
       "  'Size': '572MB',\n",
       "  'Tag': '8.0',\n",
       "  'UniqueSize': 'N/A',\n",
       "  'VirtualSize': '572MB'},\n",
       " {'Containers': 'N/A',\n",
       "  'CreatedAt': '2024-06-24 21:55:03 +0800 CST',\n",
       "  'CreatedSince': '4 weeks ago',\n",
       "  'Digest': '<none>',\n",
       "  'ID': 'c42c21cd0ebc',\n",
       "  'Repository': 'grafana/grafana',\n",
       "  'SharedSize': 'N/A',\n",
       "  'Size': '453MB',\n",
       "  'Tag': 'latest',\n",
       "  'UniqueSize': 'N/A',\n",
       "  'VirtualSize': '452.6MB'},\n",
       " {'Containers': 'N/A',\n",
       "  'CreatedAt': '2024-06-07 20:00:09 +0800 CST',\n",
       "  'CreatedSince': '7 weeks ago',\n",
       "  'Digest': '<none>',\n",
       "  'ID': '35a88802559d',\n",
       "  'Repository': 'ubuntu',\n",
       "  'SharedSize': 'N/A',\n",
       "  'Size': '78.1MB',\n",
       "  'Tag': 'latest',\n",
       "  'UniqueSize': 'N/A',\n",
       "  'VirtualSize': '78.05MB'},\n",
       " {'Containers': 'N/A',\n",
       "  'CreatedAt': '2024-05-18 17:30:34 +0800 CST',\n",
       "  'CreatedSince': '2 months ago',\n",
       "  'Digest': '<none>',\n",
       "  'ID': '62c6670e50ee',\n",
       "  'Repository': 'nobodyiam/apollo-quick-start',\n",
       "  'SharedSize': 'N/A',\n",
       "  'Size': '195MB',\n",
       "  'Tag': 'latest',\n",
       "  'UniqueSize': 'N/A',\n",
       "  'VirtualSize': '194.8MB'},\n",
       " {'Containers': 'N/A',\n",
       "  'CreatedAt': '2023-10-25 21:13:09 +0800 CST',\n",
       "  'CreatedSince': '9 months ago',\n",
       "  'Digest': '<none>',\n",
       "  'ID': '21fd806fed79',\n",
       "  'Repository': 'grafana/loki',\n",
       "  'SharedSize': 'N/A',\n",
       "  'Size': '74.6MB',\n",
       "  'Tag': '2.9.2',\n",
       "  'UniqueSize': 'N/A',\n",
       "  'VirtualSize': '74.61MB'},\n",
       " {'Containers': 'N/A',\n",
       "  'CreatedAt': '2023-10-25 21:12:57 +0800 CST',\n",
       "  'CreatedSince': '9 months ago',\n",
       "  'Digest': '<none>',\n",
       "  'ID': '301be95ad853',\n",
       "  'Repository': 'grafana/promtail',\n",
       "  'SharedSize': 'N/A',\n",
       "  'Size': '198MB',\n",
       "  'Tag': '2.9.2',\n",
       "  'UniqueSize': 'N/A',\n",
       "  'VirtualSize': '197.6MB'},\n",
       " {'Containers': 'N/A',\n",
       "  'CreatedAt': '2023-09-08 02:05:21 +0800 CST',\n",
       "  'CreatedSince': '10 months ago',\n",
       "  'Digest': '<none>',\n",
       "  'ID': '21abbe8487a0',\n",
       "  'Repository': 'grafana/loki',\n",
       "  'SharedSize': 'N/A',\n",
       "  'Size': '74.8MB',\n",
       "  'Tag': '2.9.0',\n",
       "  'UniqueSize': 'N/A',\n",
       "  'VirtualSize': '74.85MB'},\n",
       " {'Containers': 'N/A',\n",
       "  'CreatedAt': '2023-05-30 17:32:09 +0800 CST',\n",
       "  'CreatedSince': '14 months ago',\n",
       "  'Digest': '<none>',\n",
       "  'ID': 'f9a80a55f492',\n",
       "  'Repository': 'ubuntu',\n",
       "  'SharedSize': 'N/A',\n",
       "  'Size': '63.2MB',\n",
       "  'Tag': '18.04',\n",
       "  'UniqueSize': 'N/A',\n",
       "  'VirtualSize': '63.16MB'}]"
      ]
     },
     "execution_count": 17,
     "metadata": {},
     "output_type": "execute_result"
    }
   ],
   "execution_count": 17
  },
  {
   "metadata": {},
   "cell_type": "code",
   "outputs": [],
   "execution_count": null,
   "source": "",
   "id": "42b50ab8074734de"
  },
  {
   "metadata": {},
   "cell_type": "markdown",
   "source": [
    "# Dockerfile\n",
    "\n",
    "## `CMD`\n",
    "\n",
    "1. 确保容器不会退出以便调试\n",
    "\n",
    "```dockerfile\n",
    "CMD [\"tail\", \"-f\", \"/dev/null\"]\n",
    "```"
   ],
   "id": "3b76257fe1c1ac57"
  }
 ],
 "metadata": {
  "kernelspec": {
   "display_name": "Python 3",
   "language": "python",
   "name": "python3"
  },
  "language_info": {
   "codemirror_mode": {
    "name": "ipython",
    "version": 2
   },
   "file_extension": ".py",
   "mimetype": "text/x-python",
   "name": "python",
   "nbconvert_exporter": "python",
   "pygments_lexer": "ipython2",
   "version": "2.7.6"
  }
 },
 "nbformat": 4,
 "nbformat_minor": 5
}
