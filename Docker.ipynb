{
 "cells": [
  {
   "metadata": {},
   "cell_type": "markdown",
   "source": [
    "\n",
    "# 容器管理\n",
    "\n"
   ],
   "id": "61f30ef827c79907"
  },
  {
   "metadata": {
    "ExecuteTime": {
     "end_time": "2024-07-29T05:56:17.076621Z",
     "start_time": "2024-07-29T05:56:17.031001Z"
    }
   },
   "cell_type": "code",
   "source": [
    "import ipywidgets as widgets\n",
    "widgets.IntSlider()"
   ],
   "id": "da6446af4b00af2c",
   "outputs": [
    {
     "data": {
      "text/plain": [
       "IntSlider(value=0)"
      ],
      "application/vnd.jupyter.widget-view+json": {
       "version_major": 2,
       "version_minor": 0,
       "model_id": "441b7366d27d45b3a15d909357c8559e"
      }
     },
     "execution_count": 1,
     "metadata": {},
     "output_type": "execute_result"
    }
   ],
   "execution_count": 1
  },
  {
   "metadata": {},
   "cell_type": "markdown",
   "source": [
    "# 镜像管理\n",
    "\n",
    "## 镜像备份\n",
    "\n",
    "```bash\n",
    "docker save -o clash.tar centralx/clash:latest\n",
    "```\n",
    "\n",
    "## 推送到`Docker Hub`\n",
    "\n",
    "```bash\n",
    "docker login\n",
    "docker tag local-image:tagname dongjak/new-repo:tagname\n",
    "docker push dongjak/new-repo:tagname\n",
    "```\n",
    "\n",
    "## 从容器的某个状态创建镜像\n",
    "\n",
    "```bash\n",
    "docker commit -m \"What did you do to the image\" -a \"Author Name\" container-id repository/new_image_name\n",
    "```\n",
    "\n",
    "## 交互环境\n",
    "\n",
    "下载并运行某个镜像(创建一个该镜像的容器)然后进入`bash`交互模式\n",
    "\n",
    "```bash\n",
    "docker run -it ubuntu bash\n",
    "```"
   ],
   "id": "e7cb806527e07dd6"
  }
 ],
 "metadata": {
  "kernelspec": {
   "display_name": "Python 3",
   "language": "python",
   "name": "python3"
  },
  "language_info": {
   "codemirror_mode": {
    "name": "ipython",
    "version": 2
   },
   "file_extension": ".py",
   "mimetype": "text/x-python",
   "name": "python",
   "nbconvert_exporter": "python",
   "pygments_lexer": "ipython2",
   "version": "2.7.6"
  }
 },
 "nbformat": 4,
 "nbformat_minor": 5
}
