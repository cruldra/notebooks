{
 "cells": [
  {
   "cell_type": "markdown",
   "id": "2f3572eca5e7977d",
   "metadata": {},
   "source": [
    "# 简介\n",
    "\n",
    "[Pydantic](https://docs.pydantic.dev/latest/)用于模式验证,类似`npm`的`zod`库.\n"
   ]
  },
  {
   "cell_type": "markdown",
   "id": "21951fda801e568e",
   "metadata": {},
   "source": [
    "# 示例"
   ]
  },
  {
   "cell_type": "markdown",
   "id": "34665fb5ad227aa2",
   "metadata": {},
   "source": [
    "## 基本使用"
   ]
  },
  {
   "cell_type": "code",
   "execution_count": null,
   "id": "e58e8e5ed9d75c04",
   "metadata": {},
   "outputs": [],
   "source": [
    "import json\n",
    "from datetime import datetime\n",
    "\n",
    "import yaml\n",
    "from pydantic import BaseModel, PositiveInt\n",
    "\n",
    "\n",
    "class User(BaseModel):\n",
    "    id: int\n",
    "    name: str = 'John Doe'\n",
    "    signup_ts: datetime | None\n",
    "    tastes: dict[str, PositiveInt]\n",
    "\n",
    "\n",
    "external_data = {\n",
    "    'id': 123,\n",
    "    'signup_ts': '2019-06-01 12:22',\n",
    "    'tastes': {\n",
    "        'wine': 9,\n",
    "        b'cheese': 7,\n",
    "        'cabbage': '1',\n",
    "    },\n",
    "}\n",
    "\n",
    "user = User(**external_data)\n",
    "\n",
    "print(user.id)\n",
    "#> 123\n",
    "print(user.model_dump())\n",
    "\"\"\"\n",
    "{\n",
    "    'id': 123,\n",
    "    'name': 'John Doe',\n",
    "    'signup_ts': datetime.datetime(2019, 6, 1, 12, 22),\n",
    "    'tastes': {'wine': 9, 'cheese': 7, 'cabbage': 1},\n",
    "}\n",
    "\"\"\""
   ]
  },
  {
   "cell_type": "markdown",
   "id": "b51470ce7e33df0a",
   "metadata": {},
   "source": [
    "## 验证失败\n",
    "\n",
    "验证失败时会抛出`ValidationError`异常,可以通过`e.errors()`获取错误信息."
   ]
  },
  {
   "cell_type": "code",
   "execution_count": null,
   "id": "3b52a19b4cb90c5",
   "metadata": {},
   "outputs": [],
   "source": [
    "# continuing the above example...\n",
    "\n",
    "from pydantic import ValidationError\n",
    "import json\n",
    "\n",
    "\n",
    "class User(BaseModel):\n",
    "    id: int\n",
    "    name: str = 'John Doe'\n",
    "    signup_ts: datetime | None\n",
    "    tastes: dict[str, PositiveInt]\n",
    "\n",
    "\n",
    "external_data = {'id': 'not an int', 'tastes': {}}\n",
    "\n",
    "try:\n",
    "    User(**external_data)\n",
    "except ValidationError as e:\n",
    "    print(json.dumps(e.errors(), indent=4))\n",
    "    \"\"\"\n",
    "    [\n",
    "        {\n",
    "            'type': 'int_parsing',\n",
    "            'loc': ('id',),\n",
    "            'msg': 'Input should be a valid integer, unable to parse string as an integer',\n",
    "            'input': 'not an int',\n",
    "            'url': 'https://errors.pydantic.dev/2/v/int_parsing',\n",
    "        },\n",
    "        {\n",
    "            'type': 'missing',\n",
    "            'loc': ('signup_ts',),\n",
    "            'msg': 'Field required',\n",
    "            'input': {'id': 'not an int', 'tastes': {}},\n",
    "            'url': 'https://errors.pydantic.dev/2/v/missing',\n",
    "        },\n",
    "    ]\n",
    "    \"\"\""
   ]
  },
  {
   "cell_type": "markdown",
   "id": "77d5b817e29079e",
   "metadata": {},
   "source": [
    "## 数据类模板"
   ]
  },
  {
   "cell_type": "code",
   "execution_count": null,
   "id": "628f8788d738fa1b",
   "metadata": {},
   "outputs": [],
   "source": [
    "from pydantic import BaseModel, constr\n",
    "\n",
    "\n",
    "class ClassName(BaseModel):\n",
    "    int_no_default: int\n",
    "    \"\"\"\n",
    "    整数,无默认值\n",
    "    \"\"\"\n",
    "    int_with_default: int = 42\n",
    "    \"\"\"\n",
    "    整数,有默认值\n",
    "    \"\"\"\n",
    "    str_no_default: str\n",
    "    \"\"\"\n",
    "    字符串,无默认值\n",
    "    \"\"\"\n",
    "    str_with_default: str = 'foobar'\n",
    "    \"\"\"\n",
    "    字符串,有默认值\n",
    "    \"\"\"\n",
    "    str_with_length_limit: constr(min_length=3, max_length=10)\n",
    "    \"\"\"\n",
    "    字符串,有长度限制\n",
    "    \"\"\""
   ]
  },
  {
   "cell_type": "markdown",
   "id": "6f1ded8c26b33fa4",
   "metadata": {},
   "source": [
    "## 将`json`转换为`pydantic`类"
   ]
  },
  {
   "cell_type": "code",
   "execution_count": null,
   "id": "de12a9588d55569c",
   "metadata": {},
   "outputs": [],
   "source": [
    "from pydantic import BaseModel\n",
    "import json\n",
    "\n",
    "json_string = '''\n",
    "{\n",
    "    \"int_no_default\": \"1\",\n",
    "    \"str_no_default\": \"hello\"\n",
    "}\n",
    "'''\n",
    "\n",
    "# 将 JSON 字符串解析为字典\n",
    "json_data = json.loads(json_string)\n",
    "\n",
    "# 将字典转换为 Pydantic 类实例\n",
    "class_instance = ClassName(**json_data)\n",
    "\n",
    "print(class_instance)"
   ]
  },
  {
   "cell_type": "markdown",
   "id": "cd686a53c25f0921",
   "metadata": {},
   "source": [
    "## 将`yaml`转换为`pydantic`类"
   ]
  },
  {
   "cell_type": "code",
   "execution_count": null,
   "id": "c685f46a9a9e4886",
   "metadata": {},
   "outputs": [],
   "source": [
    "from pydantic import BaseModel\n",
    "import yaml\n",
    "\n",
    "\n",
    "class OpenAIConfig(BaseModel):\n",
    "    base_url: str\n",
    "    \"\"\"OpenAI 服务的基础 URL\"\"\"\n",
    "\n",
    "    token: str\n",
    "    \"\"\"OpenAI 服务的访问令牌\"\"\"\n",
    "\n",
    "\n",
    "class KidEngStoryConfig(BaseModel):\n",
    "    openai: OpenAIConfig\n",
    "    \"\"\"OpenAI 配置\"\"\"\n",
    "\n",
    "\n",
    "def load_config(file_path):\n",
    "    with open(file_path, 'r') as file:\n",
    "        return yaml.safe_load(file)\n",
    "\n",
    "\n",
    "config = load_config(r'D:\\Workspace\\aiworld\\py_automation\\kid_eng_story\\app.yml')\n",
    "\n",
    "class_instance = KidEngStoryConfig(**config)\n",
    "\n",
    "print(class_instance)"
   ]
  },
  {
   "cell_type": "markdown",
   "id": "ea570bb69a09001c",
   "metadata": {},
   "source": [
    "### 将`yaml`转换为泛型`pydantic`类"
   ]
  },
  {
   "cell_type": "code",
   "execution_count": null,
   "id": "998739eae6318a4c",
   "metadata": {},
   "outputs": [],
   "source": [
    "from typing import TypeVar, Type\n",
    "from pydantic import BaseModel\n",
    "\n",
    "# 定义泛型类型变量\n",
    "T = TypeVar('T', bound=BaseModel)\n",
    "\n",
    "\n",
    "def load_yaml_as_pydantic(file_path: str, model: Type[T]) -> T:\n",
    "    \"\"\"\n",
    "    读取 YAML 文件并将其转换为 Pydantic 类实例.\n",
    "\n",
    "    :param file_path: YAML 文件路径\n",
    "    :param model: Pydantic 泛型类型\n",
    "    :return: Pydantic 类实例\n",
    "    \"\"\"\n",
    "    with open(file_path, 'r') as file:\n",
    "        yaml_data = yaml.safe_load(file)\n",
    "\n",
    "    # 将 YAML 数据转换为 Pydantic 类实例\n",
    "    return model(**yaml_data)\n",
    "\n",
    "\n",
    "config = load_yaml_as_pydantic(r'D:\\Workspace\\aiworld\\py_automation\\kid_eng_story\\app.yml', KidEngStoryConfig)\n",
    "print(config)"
   ]
  },
  {
   "cell_type": "markdown",
   "id": "b1d4d88bafd783dd",
   "metadata": {},
   "source": [
    "## 生成`json schema`\n",
    "\n",
    "最常用的场景是让`openai`返回符合`pydantic`类的`json schema`的数据."
   ]
  },
  {
   "cell_type": "code",
   "execution_count": null,
   "id": "42de2fce267691f7",
   "metadata": {},
   "outputs": [],
   "source": [
    "print(KidEngStoryConfig.model_json_schema())"
   ]
  },
  {
   "cell_type": "markdown",
   "id": "f635a8eb1cffeb9e",
   "metadata": {},
   "source": [
    "# 使用`pydantic`管理配置文件\n",
    "\n",
    "`python`里面一般用`.env`文件来存储配置信息,然后通过`os.getenv`或者`python-dotenv`来读取配置信息.但是这种方式有几个问题:\n",
    "\n",
    "1. 需要手动转换类型,比如`os.getenv('A_BOOL')`返回的是`str`,需要手动转换为`bool`.\n",
    "2. 不能忽略大小写,比如`os.getenv('A_BOOL')`和`os.getenv('a_bool')`是不同的.\n",
    "\n",
    "`pydantic`可以解决这两个问题,通过继承`BaseSettings`类来创建自己的配置类,由`pydantic`来处理类型转换和大小写问题."
   ]
  },
  {
   "cell_type": "markdown",
   "id": "599c8298",
   "metadata": {},
   "source": [
    "## 定义配置类\n",
    "\n",
    "要使用`pydantic`管理配置文件,首先要定义一个配置类,继承`BaseSettings`类,然后定义配置项."
   ]
  },
  {
   "cell_type": "code",
   "execution_count": 2,
   "id": "6535da7b",
   "metadata": {},
   "outputs": [],
   "source": [
    "from pydantic_settings  import BaseSettings\n",
    "\n",
    "class AppConfig(BaseSettings):\n",
    "    react_version: str\n",
    "    host: str\n",
    "    port: int"
   ]
  },
  {
   "cell_type": "markdown",
   "id": "6dd051e2",
   "metadata": {},
   "source": [
    "## 从环境变量中读取配置"
   ]
  },
  {
   "cell_type": "code",
   "execution_count": 3,
   "id": "750ff3ee",
   "metadata": {},
   "outputs": [
    {
     "name": "stdout",
     "output_type": "stream",
     "text": [
      "17.0.2\n",
      "localhost\n",
      "3000\n"
     ]
    }
   ],
   "source": [
    "import os\n",
    "\n",
    "\n",
    "os.environ['REACT_VERSION'] = '17.0.2'\n",
    "os.environ['HOST'] = 'localhost'\n",
    "os.environ['PORT'] = '3000'\n",
    "\n",
    "config = AppConfig()\n",
    "print(config.react_version)\n",
    "#> 17.0.2\n",
    "print(config.host)\n",
    "#> localhost\n",
    "print(config.port)\n",
    "#> 3000"
   ]
  },
  {
   "cell_type": "markdown",
   "id": "d2d2a5fb",
   "metadata": {},
   "source": [
    "## 带默认值的配置项\n",
    "\n",
    "下面的例子中,`host`的默认值是`localhost`,如果环境变量中没有定义`host`,则使用默认值."
   ]
  },
  {
   "cell_type": "code",
   "execution_count": 6,
   "id": "bd394de8",
   "metadata": {},
   "outputs": [
    {
     "name": "stdout",
     "output_type": "stream",
     "text": [
      "17.0.2\n",
      "192.168.1.1\n",
      "3000\n",
      "192.168.1.1\n"
     ]
    }
   ],
   "source": [
    "from pydantic_settings import BaseSettings\n",
    "\n",
    "class AppConfig(BaseSettings):\n",
    "    react_version: str\n",
    "    host: str = 'localhost'\n",
    "    port: int = 3000\n",
    "\n",
    "config = AppConfig()\n",
    "print(config.react_version)\n",
    "#> 17.0.2\n",
    "print(config.host)\n",
    "#> localhost\n",
    "print(config.port)\n",
    "\n",
    "# 环境变量中的值将覆盖默认值\n",
    "os.environ['HOST'] = '192.168.1.1'\n",
    "config = AppConfig()\n",
    "print(config.host)\n",
    "#>  192.168.1.1\n",
    "#> 3000"
   ]
  }
 ],
 "metadata": {
  "kernelspec": {
   "display_name": "Python 3",
   "language": "python",
   "name": "python3"
  },
  "language_info": {
   "codemirror_mode": {
    "name": "ipython",
    "version": 3
   },
   "file_extension": ".py",
   "mimetype": "text/x-python",
   "name": "python",
   "nbconvert_exporter": "python",
   "pygments_lexer": "ipython3",
   "version": "3.12.0"
  }
 },
 "nbformat": 4,
 "nbformat_minor": 5
}
