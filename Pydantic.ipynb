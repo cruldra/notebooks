{
 "cells": [
  {
   "metadata": {},
   "cell_type": "markdown",
   "source": [
    "# 简介\n",
    "\n",
    "[Pydantic](https://docs.pydantic.dev/latest/)用于模式验证,类似`npm`的`zod`库.\n"
   ],
   "id": "2f3572eca5e7977d"
  },
  {
   "metadata": {},
   "cell_type": "markdown",
   "source": "# 示例",
   "id": "21951fda801e568e"
  },
  {
   "metadata": {},
   "cell_type": "markdown",
   "source": "## 基本使用",
   "id": "34665fb5ad227aa2"
  },
  {
   "metadata": {},
   "cell_type": "code",
   "source": [
    "import json\n",
    "from datetime import datetime\n",
    "\n",
    "import yaml\n",
    "from pydantic import BaseModel, PositiveInt\n",
    "\n",
    "\n",
    "class User(BaseModel):\n",
    "    id: int\n",
    "    name: str = 'John Doe'\n",
    "    signup_ts: datetime | None\n",
    "    tastes: dict[str, PositiveInt]\n",
    "\n",
    "\n",
    "external_data = {\n",
    "    'id': 123,\n",
    "    'signup_ts': '2019-06-01 12:22',\n",
    "    'tastes': {\n",
    "        'wine': 9,\n",
    "        b'cheese': 7,\n",
    "        'cabbage': '1',\n",
    "    },\n",
    "}\n",
    "\n",
    "user = User(**external_data)\n",
    "\n",
    "print(user.id)\n",
    "#> 123\n",
    "print(user.model_dump())\n",
    "\"\"\"\n",
    "{\n",
    "    'id': 123,\n",
    "    'name': 'John Doe',\n",
    "    'signup_ts': datetime.datetime(2019, 6, 1, 12, 22),\n",
    "    'tastes': {'wine': 9, 'cheese': 7, 'cabbage': 1},\n",
    "}\n",
    "\"\"\""
   ],
   "id": "e58e8e5ed9d75c04",
   "outputs": [],
   "execution_count": null
  },
  {
   "metadata": {},
   "cell_type": "markdown",
   "source": [
    "## 验证失败\n",
    "\n",
    "验证失败时会抛出`ValidationError`异常,可以通过`e.errors()`获取错误信息."
   ],
   "id": "b51470ce7e33df0a"
  },
  {
   "metadata": {},
   "cell_type": "code",
   "source": [
    "# continuing the above example...\n",
    "\n",
    "from pydantic import ValidationError\n",
    "import json\n",
    "\n",
    "\n",
    "class User(BaseModel):\n",
    "    id: int\n",
    "    name: str = 'John Doe'\n",
    "    signup_ts: datetime | None\n",
    "    tastes: dict[str, PositiveInt]\n",
    "\n",
    "\n",
    "external_data = {'id': 'not an int', 'tastes': {}}\n",
    "\n",
    "try:\n",
    "    User(**external_data)\n",
    "except ValidationError as e:\n",
    "    print(json.dumps(e.errors(), indent=4))\n",
    "    \"\"\"\n",
    "    [\n",
    "        {\n",
    "            'type': 'int_parsing',\n",
    "            'loc': ('id',),\n",
    "            'msg': 'Input should be a valid integer, unable to parse string as an integer',\n",
    "            'input': 'not an int',\n",
    "            'url': 'https://errors.pydantic.dev/2/v/int_parsing',\n",
    "        },\n",
    "        {\n",
    "            'type': 'missing',\n",
    "            'loc': ('signup_ts',),\n",
    "            'msg': 'Field required',\n",
    "            'input': {'id': 'not an int', 'tastes': {}},\n",
    "            'url': 'https://errors.pydantic.dev/2/v/missing',\n",
    "        },\n",
    "    ]\n",
    "    \"\"\""
   ],
   "id": "3b52a19b4cb90c5",
   "outputs": [],
   "execution_count": null
  },
  {
   "metadata": {},
   "cell_type": "markdown",
   "source": "## 数据类模板",
   "id": "77d5b817e29079e"
  },
  {
   "metadata": {},
   "cell_type": "code",
   "source": [
    "from pydantic import BaseModel\n",
    "\n",
    "\n",
    "class ClassName(BaseModel):\n",
    "    int_no_default: int\n",
    "    \"\"\"\n",
    "    整数,无默认值\n",
    "    \"\"\"\n",
    "    int_with_default: int = 42\n",
    "    \"\"\"\n",
    "    整数,有默认值\n",
    "    \"\"\"\n",
    "    str_no_default: str\n",
    "    \"\"\"\n",
    "    字符串,无默认值\n",
    "    \"\"\"\n",
    "    str_with_default: str = 'foobar'\n",
    "    \"\"\"\n",
    "    字符串,有默认值\n",
    "    \"\"\""
   ],
   "id": "628f8788d738fa1b",
   "outputs": [],
   "execution_count": null
  },
  {
   "metadata": {},
   "cell_type": "markdown",
   "source": "## 将`json`转换为`pydantic`类",
   "id": "6f1ded8c26b33fa4"
  },
  {
   "metadata": {
    "ExecuteTime": {
     "end_time": "2024-08-04T13:47:44.412503Z",
     "start_time": "2024-08-04T13:47:44.409250Z"
    }
   },
   "cell_type": "code",
   "source": [
    "from pydantic import BaseModel\n",
    "import json\n",
    "\n",
    "json_string = '''\n",
    "{\n",
    "    \"int_no_default\": \"1\",\n",
    "    \"str_no_default\": \"hello\"\n",
    "}\n",
    "'''\n",
    "\n",
    "# 将 JSON 字符串解析为字典\n",
    "json_data = json.loads(json_string)\n",
    "\n",
    "# 将字典转换为 Pydantic 类实例\n",
    "class_instance = ClassName(**json_data)\n",
    "\n",
    "print( class_instance)"
   ],
   "id": "de12a9588d55569c",
   "outputs": [
    {
     "name": "stdout",
     "output_type": "stream",
     "text": [
      "int_no_default=1 int_with_default=42 str_no_default='hello' str_with_default='foobar'\n"
     ]
    }
   ],
   "execution_count": 6
  },
  {
   "metadata": {},
   "cell_type": "markdown",
   "source": "## 将`yaml`转换为`pydantic`类",
   "id": "cd686a53c25f0921"
  },
  {
   "metadata": {
    "ExecuteTime": {
     "end_time": "2024-08-04T13:57:17.348318Z",
     "start_time": "2024-08-04T13:57:17.339940Z"
    }
   },
   "cell_type": "code",
   "source": [
    "from pydantic import BaseModel\n",
    "import yaml\n",
    "\n",
    "class OpenAIConfig(BaseModel):\n",
    "    base_url: str\n",
    "    \"\"\"OpenAI 服务的基础 URL\"\"\"\n",
    "\n",
    "    token: str\n",
    "    \"\"\"OpenAI 服务的访问令牌\"\"\"\n",
    "\n",
    "class KidEngStoryConfig(BaseModel):\n",
    "    openai: OpenAIConfig\n",
    "    \"\"\"OpenAI 配置\"\"\"\n",
    "def load_config(file_path):\n",
    "    with open(file_path, 'r') as file:\n",
    "        return yaml.safe_load(file)\n",
    "\n",
    "config = load_config(r'D:\\Workspace\\aiworld\\py_automation\\kid_eng_story\\app.yml')\n",
    "\n",
    "class_instance = KidEngStoryConfig(**config)\n",
    "\n",
    "print( class_instance)"
   ],
   "id": "c685f46a9a9e4886",
   "outputs": [
    {
     "name": "stdout",
     "output_type": "stream",
     "text": [
      "openai=OpenAIConfig(base_url='https://openaiproxy3.nexcode.top/openai/chat/completions', token='sk-proj-k4mYRSUVs0N5oWgRA2WlT3BlbkFJdFjLhBybUmxwucB4N68W')\n"
     ]
    }
   ],
   "execution_count": 12
  },
  {
   "metadata": {},
   "cell_type": "markdown",
   "source": "### 将`yaml`转换为泛型`pydantic`类",
   "id": "ea570bb69a09001c"
  },
  {
   "metadata": {
    "ExecuteTime": {
     "end_time": "2024-08-04T14:19:40.552680Z",
     "start_time": "2024-08-04T14:19:40.546938Z"
    }
   },
   "cell_type": "code",
   "source": [
    "from typing import TypeVar, Type\n",
    "\n",
    "# 定义泛型类型变量\n",
    "T = TypeVar('T', bound=BaseModel)\n",
    "\n",
    "def load_yaml_as_pydantic(file_path: str, model: Type[T]) -> T:\n",
    "    \"\"\"\n",
    "    读取 YAML 文件并将其转换为 Pydantic 类实例.\n",
    "\n",
    "    :param file_path: YAML 文件路径\n",
    "    :param model: Pydantic 泛型类型\n",
    "    :return: Pydantic 类实例\n",
    "    \"\"\"\n",
    "    with open(file_path, 'r') as file:\n",
    "        yaml_data = yaml.safe_load(file)\n",
    "    \n",
    "    # 将 YAML 数据转换为 Pydantic 类实例\n",
    "    return model(**yaml_data)\n",
    "\n",
    "config = load_yaml_as_pydantic(r'D:\\Workspace\\aiworld\\py_automation\\kid_eng_story\\app.yml', KidEngStoryConfig)\n",
    "print(config)"
   ],
   "id": "998739eae6318a4c",
   "outputs": [
    {
     "name": "stdout",
     "output_type": "stream",
     "text": [
      "openai=OpenAIConfig(base_url='https://openaiproxy3.nexcode.top/openai/chat/completions', token='sk-proj-k4mYRSUVs0N5oWgRA2WlT3BlbkFJdFjLhBybUmxwucB4N68W')\n"
     ]
    }
   ],
   "execution_count": 13
  },
  {
   "metadata": {},
   "cell_type": "code",
   "outputs": [],
   "execution_count": null,
   "source": "",
   "id": "ed2f67c2104bdbb3"
  }
 ],
 "metadata": {
  "kernelspec": {
   "display_name": "Python 3",
   "language": "python",
   "name": "python3"
  },
  "language_info": {
   "codemirror_mode": {
    "name": "ipython",
    "version": 2
   },
   "file_extension": ".py",
   "mimetype": "text/x-python",
   "name": "python",
   "nbconvert_exporter": "python",
   "pygments_lexer": "ipython2",
   "version": "2.7.6"
  }
 },
 "nbformat": 4,
 "nbformat_minor": 5
}
