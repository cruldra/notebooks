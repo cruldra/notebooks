{
 "cells": [
  {
   "cell_type": "markdown",
   "id": "0d33eb15-db4e-4d98-8810-0e0d1984d278",
   "metadata": {},
   "source": [
    "# 连招\n",
    "\n",
    "## `AEA`\n",
    "\n",
    "最基础的连招\n",
    "\n",
    "![](https://img.tgl.qq.com/cover/20240430/89948ac68308cb30f7207686d92e2970_1714454356.gif)\n",
    "\n",
    "## 贴墙`AEA`\n",
    "\n",
    "贴着`E`技能无法穿过的墙体时使用`AEA`可以光速打出两发子弹:\n",
    "\n",
    "![](https://img.tgl.qq.com/cover/20240430/02fb6f058b31fcd6039d15bbab9cd735_1714454356.gif)\n",
    "\n",
    "## 空弹无缝`EQ`\n",
    "\n",
    "打完两发子弹后`EQ`"
   ]
  }
 ],
 "metadata": {
  "kernelspec": {
   "display_name": "Python 3 (ipykernel)",
   "language": "python",
   "name": "python3"
  },
  "language_info": {
   "codemirror_mode": {
    "name": "ipython",
    "version": 3
   },
   "file_extension": ".py",
   "mimetype": "text/x-python",
   "name": "python",
   "nbconvert_exporter": "python",
   "pygments_lexer": "ipython3",
   "version": "3.12.4"
  }
 },
 "nbformat": 4,
 "nbformat_minor": 5
}
