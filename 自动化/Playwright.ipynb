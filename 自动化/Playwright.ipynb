{
 "cells": [
  {
   "cell_type": "markdown",
   "id": "6e377338",
   "metadata": {},
   "source": [
    "**Table of contents**<a id='toc0_'></a>    \n",
    "- [简介](#toc1_)    \n",
    "- [功能特点](#toc2_)    \n",
    "- [安装](#toc3_)    \n",
    "- [示例](#toc4_)    \n",
    "  - [异步API](#toc4_1_)    \n",
    "  - [指定用户目录](#toc4_2_)    \n",
    "  - [反自动化检测](#toc4_3_)    \n",
    "  - [连接到现有浏览器](#toc4_4_)    \n",
    "  - [抓取抖音视频](#toc4_5_)    \n",
    "- [遇到的问题](#toc5_)    \n",
    "  - [在`Jupyter`中使用](#toc5_1_)    \n",
    "    - [不能使用同步`API`](#toc5_1_1_)    \n",
    "    - [异步API出现`NotImplementedError`](#toc5_1_2_)    \n",
    "- [参考](#toc6_)    \n",
    "\n",
    "<!-- vscode-jupyter-toc-config\n",
    "\tnumbering=false\n",
    "\tanchor=true\n",
    "\tflat=false\n",
    "\tminLevel=1\n",
    "\tmaxLevel=6\n",
    "\t/vscode-jupyter-toc-config -->\n",
    "<!-- THIS CELL WILL BE REPLACED ON TOC UPDATE. DO NOT WRITE YOUR TEXT IN THIS CELL -->"
   ]
  },
  {
   "cell_type": "markdown",
   "id": "cddf338c",
   "metadata": {},
   "source": [
    "# <a id='toc1_'></a>[简介](#toc0_)\n",
    "\n",
    "[Playwright](https://playwright.dev/python/)是一个用于自动化网页浏览器操作的开源工具库,支持多种主流浏览器(Chrome、Firefox、Safari),用于Web应用的自动化测试、网页爬取等场景."
   ]
  },
  {
   "cell_type": "markdown",
   "id": "4975b85f",
   "metadata": {},
   "source": [
    "# <a id='toc2_'></a>[功能特点](#toc0_)\n",
    "\n",
    "- 支持多种主流浏览器(Chrome、Firefox、Safari)\n",
    "- 支持多种编程语言(JavaScript、Python、C#、Java)\n",
    "- 无头(headless)模式"
   ]
  },
  {
   "cell_type": "markdown",
   "id": "ef451df2",
   "metadata": {},
   "source": [
    "# <a id='toc3_'></a>[安装](#toc0_)"
   ]
  },
  {
   "cell_type": "code",
   "execution_count": null,
   "id": "72a9ae89",
   "metadata": {},
   "outputs": [],
   "source": [
    "! pip install playwright\n",
    "! playwright install --with-deps"
   ]
  },
  {
   "cell_type": "markdown",
   "id": "1a68e79f",
   "metadata": {},
   "source": [
    "# <a id='toc4_'></a>[示例](#toc0_)"
   ]
  },
  {
   "cell_type": "markdown",
   "id": "cf66353a",
   "metadata": {},
   "source": [
    "## <a id='toc4_1_'></a>[异步API](#toc0_)"
   ]
  },
  {
   "cell_type": "code",
   "execution_count": null,
   "id": "6688a346",
   "metadata": {},
   "outputs": [],
   "source": [
    "import asyncio\n",
    "from playwright.async_api import async_playwright\n",
    "\n",
    "    \n",
    "\n",
    "async def main():\n",
    "    async with async_playwright() as playwright:\n",
    "        browser = await playwright.chromium.launch(headless=False)\n",
    "        page = await browser.new_page()\n",
    "        \n",
    "        # 访问 GitHub 主页\n",
    "        await page.goto(\"https://www.douyin.com/discover\")\n",
    "        \n",
    "        # 在搜索框中输入 \"playwright\"\n",
    "        await page.fill('input[name=\"q\"]', \"playwright\")\n",
    "        \n",
    "        # 提交搜索\n",
    "        await page.press('input[name=\"q\"]', \"Enter\")\n",
    "        \n",
    "        # 等待搜索结果加载\n",
    "        await page.wait_for_selector('ul.repo-list')\n",
    "        \n",
    "        # 获取第一个搜索结果的标题\n",
    "        first_result = await page.locator('ul.repo-list li:first-child a:has-text(\"playwright\")').inner_text()\n",
    "        \n",
    "        print(f\"First search result: {first_result}\")\n",
    "        \n",
    "        # 验证搜索结果中包含 \"playwright\"\n",
    "        assert \"playwright\" in first_result.lower(), \"Expected 'playwright' in search results\"\n",
    "        \n",
    "        await browser.close()\n",
    "\n",
    "await main()"
   ]
  },
  {
   "cell_type": "markdown",
   "id": "886427d8",
   "metadata": {},
   "source": [
    "## <a id='toc4_2_'></a>[指定用户目录](#toc0_)\n",
    "\n",
    "有些网站需要使用验证码登录过后才能访问,这时候可以事先登录好,然后使用`playwright`基于这个已经登录的用户目录进行操作.\n",
    "\n",
    "**1. 找到用户目录**\n",
    "\n",
    "要找到`Chrome`的用户目录,可以在`Chrome`的地址栏输入`chrome://version/`查看`Profile Path`字段,这个字段就是用户目录的路径.\n",
    "\n",
    "如图:\n",
    "\n",
    "![](https://github.com/cruldra/picx-images-hosting/raw/master/image.361hoxlyqa.png)\n",
    "\n",
    "**2. 使用用户目录运行`playwright`**\n"
   ]
  },
  {
   "cell_type": "code",
   "execution_count": null,
   "id": "b80651e3",
   "metadata": {},
   "outputs": [],
   "source": [
    "import asyncio\n",
    "from playwright.async_api import async_playwright\n",
    "\n",
    "    \n",
    "\n",
    "async def main():\n",
    "    async with async_playwright() as playwright:\n",
    "        # 指定 Chrome 用户配置文件的路径\n",
    "        user_data_dir = r\"E:\\AppData\\ChromeUserData\\Test1\" #这里后面不要加\\Default,Chrome会自动加上\n",
    "\n",
    "        browser =await playwright.chromium.launch_persistent_context(\n",
    "            user_data_dir=user_data_dir,\n",
    "            viewport={\"width\": 1920, \"height\": 1080},  # 设置浏览器窗口大小\n",
    "           # channel=\"chrome\",  # 使用安装的 Chrome 而不是 Playwright 内置的 Chromium\n",
    "            headless=False,  # 以有头模式运行，这样你可以看到浏览器窗口\n",
    "             args=['--disable-blink-features=AutomationControlled'],\n",
    "           user_agent=  'Mozilla/5.0 (Windows NT 10.0; Win64; x64) AppleWebKit/537.36 (KHTML, like Gecko) Chrome/91.0.4472.124 Safari/537.36'\n",
    "        )\n",
    "        page = await browser.new_page()\n",
    "        # 访问 抖音 主页\n",
    "        await page.goto(\"https://www.douyin.com/discover\")\n",
    "        \n",
    "        # 等待直到用户关闭浏览器\n",
    "        await page.wait_for_event(\"close\",timeout=0)\n",
    "\n",
    "await main()"
   ]
  },
  {
   "cell_type": "markdown",
   "id": "b422904b",
   "metadata": {},
   "source": [
    "## <a id='toc4_3_'></a>[反自动化检测](#toc0_)\n",
    "\n",
    "有些网站会检测用户是否是通过自动化工具访问的,这时候可以通过一些方法来规避这种检测.\n",
    "\n",
    "[Antibot](https://bot.sannysoft.com/)这个网站可以检测用户是否是通过自动化工具访问的,可以用来测试规避反自动化检测的方法."
   ]
  },
  {
   "cell_type": "code",
   "execution_count": null,
   "id": "83cd0486",
   "metadata": {},
   "outputs": [],
   "source": [
    "import asyncio\n",
    "from playwright.async_api import async_playwright\n",
    "\n",
    "    \n",
    "\n",
    "async def main():\n",
    "    async with async_playwright() as playwright:\n",
    "        # 指定 Chrome 用户配置文件的路径\n",
    "        user_data_dir = r\"E:\\AppData\\ChromeUserData\\Test11\" #这里后面不要加\\Default,Chrome会自动加上\n",
    "\n",
    "        browser =await playwright.chromium.launch_persistent_context(\n",
    "            user_data_dir=user_data_dir,\n",
    "            viewport={\"width\": 1920, \"height\": 1080},  # 设置浏览器窗口大小\n",
    "           # channel=\"chrome\",  # 使用安装的 Chrome 而不是 Playwright 内置的 Chromium\n",
    "            headless=False,  # 以有头模式运行，这样你可以看到浏览器窗口\n",
    "             args=['--disable-blink-features=AutomationControlled'],\n",
    "           user_agent=  'Mozilla/5.0 (Windows NT 10.0; Win64; x64) AppleWebKit/537.36 (KHTML, like Gecko) Chrome/91.0.4472.124 Safari/537.36'\n",
    "        )\n",
    "        page = await browser.new_page()\n",
    "\n",
    "        with open('stealth.min.js','r') as f:\n",
    "            js=f.read()\n",
    "        print(js)\n",
    "        # 注入 stealth.min.js,删除掉navigator的webdriver属性\n",
    "        await page.add_init_script(js)\n",
    "        # 访问 抖音 主页\n",
    "        await page.goto(\"https://bot.sannysoft.com/\")\n",
    "        \n",
    "        # 等待直到用户关闭浏览器\n",
    "        await page.wait_for_event(\"close\",timeout=0)\n",
    "\n",
    "await main()"
   ]
  },
  {
   "cell_type": "markdown",
   "id": "7b6a0304",
   "metadata": {},
   "source": [
    "如图:\n",
    "\n",
    "![](https://github.com/cruldra/picx-images-hosting/raw/master/image.4xugk8vf79.png)\n",
    "\n",
    "**参考**:\n",
    "\n",
    "- [使用playwright防止被网站检测的方法_playwright防检测-CSDN博客](https://blog.csdn.net/qq_37781464/article/details/137639747)"
   ]
  },
  {
   "cell_type": "markdown",
   "id": "c6a4b53d",
   "metadata": {},
   "source": [
    "## <a id='toc4_4_'></a>[连接到现有浏览器](#toc0_)\n",
    "\n",
    "\n",
    "通过`CDP`协议可以[连接到现有的浏览器](https://github.com/microsoft/playwright/issues/23217#issuecomment-1561521867),这样可以手动控制浏览器的生命周期.\n",
    "\n",
    "**1. 打开浏览器监听`CDP`协议**\n",
    "\n",
    "`WIN+R`运行以下命令:\n",
    "\n",
    "```cmd\n",
    "chrome --remote-debugging-port=9222 --user-data-dir=\"C:\\Users\\markw\\AppData\\Local\\Google\\Chrome\\User Data\\Default\\TestUser\"\n",
    "```\n",
    "\n",
    "\n",
    "**2. 连接到浏览器**\n",
    "\n",
    "然后就可以通过[connect_over_cdp](https://playwright.dev/python/docs/api/class-browsertype#browser-type-connect-over-cdp)方法连接到这个浏览器."
   ]
  },
  {
   "cell_type": "code",
   "execution_count": null,
   "id": "35062b29",
   "metadata": {},
   "outputs": [],
   "source": [
    "import asyncio\n",
    "from playwright.async_api import async_playwright\n",
    "\n",
    "    \n",
    "\n",
    "async def main():\n",
    "    async with async_playwright() as playwright:\n",
    "        # 使用这种方式打开浏览器不会出现“Chrome 正在受到自动测试软件的控制”通知\n",
    "        browser =await playwright.chromium.connect_over_cdp(\"http://localhost:9222\")\n",
    "        default_context = browser.contexts[0]\n",
    "        page = default_context.pages[0]\n",
    "\n",
    "        #region 结合反自动化检测\n",
    "        with open('stealth.min.js','r') as f:\n",
    "            js=f.read()\n",
    "        print(js)\n",
    "        # 注入 stealth.min.js,删除掉navigator的webdriver属性\n",
    "        await page.add_init_script(js)\n",
    "        #endregion\n",
    "        await page.goto(\"https://bot.sannysoft.com/\")\n",
    "\n",
    "        result =await page.evaluate(\"navigator.webdriver===undefined\")\n",
    "        print(f\"navigator.webdriver属性是否被删除了:{result}\")\n",
    "        await page.wait_for_event(\"close\",timeout=0)\n",
    "\n",
    "await main()"
   ]
  },
  {
   "cell_type": "markdown",
   "id": "eb2df81c",
   "metadata": {},
   "source": [
    "## <a id='toc4_5_'></a>[抓取抖音视频](#toc0_)"
   ]
  },
  {
   "cell_type": "code",
   "execution_count": 10,
   "id": "ead92952",
   "metadata": {},
   "outputs": [
    {
     "name": "stdout",
     "output_type": "stream",
     "text": [
      "navigator.webdriver属性是否被删除了:True\n",
      "<button class=\"JMEzcqbO\" data-e2e=\"searchbar-button\" type=\"button\"><svg width=\"18\" height=\"18\" fill=\"none\" xmlns=\"http://www.w3.org/2000/svg\" class=\"tO5FPupE\"><path fill-rule=\"evenodd\" clip-rule=\"evenodd\" d=\"M7.875 1.5a6.375 6.375 0 103.642 11.608l3.063 3.063a1.125 1.125 0 001.59-1.591l-3.062-3.063A6.375 6.375 0 007.875 1.5zM3.75 7.875a4.125 4.125 0 118.25 0 4.125 4.125 0 01-8.25 0z\" fill=\"#4F5168\"></path></svg><span class=\"btn-title\">搜索</span></button>\n"
     ]
    },
    {
     "name": "stderr",
     "output_type": "stream",
     "text": [
      "C:\\Users\\cruld\\AppData\\Local\\Temp\\ipykernel_22352\\2199703661.py:39: RuntimeWarning: coroutine 'Page.bring_to_front' was never awaited\n",
      "  page2.bring_to_front()\n",
      "RuntimeWarning: Enable tracemalloc to get the object allocation traceback\n"
     ]
    }
   ],
   "source": [
    "import asyncio\n",
    "from playwright.async_api import async_playwright\n",
    "\n",
    "    \n",
    "\n",
    "async def main():\n",
    "    async with async_playwright() as playwright:\n",
    "        # 使用这种方式打开浏览器不会出现“Chrome 正在受到自动测试软件的控制”通知\n",
    "        browser =await playwright.chromium.connect_over_cdp(\"http://localhost:9222\")\n",
    "        default_context = browser.contexts[0]\n",
    "        page = default_context.pages[0]\n",
    "\n",
    "        #region 结合反自动化检测\n",
    "        with open('stealth.min.js','r') as f:\n",
    "            js=f.read()\n",
    "        # 注入 stealth.min.js,删除掉navigator的webdriver属性\n",
    "        await page.add_init_script(js)\n",
    "        #endregion\n",
    "        await page.goto(\"https://www.douyin.com/discover\")\n",
    "\n",
    "        result =await page.evaluate(\"navigator.webdriver===undefined\")\n",
    "        print(f\"navigator.webdriver属性是否被删除了:{result}\")\n",
    "\n",
    "\n",
    "        # 找到搜索框的输入框\n",
    "        search_input =await page.wait_for_selector(\"\"\"#douyin-header input[data-e2e=\"searchbar-input\"][placeholder=\"搜索你感兴趣的内容\"]\"\"\")\n",
    "        await search_input.type(\"留学\")\n",
    "        search_button =await page.wait_for_selector(\"\"\"#douyin-header button[data-e2e=\"searchbar-button\"]\"\"\")\n",
    "        # 获取元素的外部 HTML\n",
    "        outer_html =await search_button.evaluate(\"el => el.outerHTML\")\n",
    "        print(outer_html)\n",
    "        #await search_button.click()\n",
    "         \n",
    "        # 切换到第二个页面\n",
    "        async with default_context.expect_page() as new_page_info:\n",
    "            await search_button.click()  # 或其他打开新页面的操作\n",
    "        page2 = await new_page_info.value\n",
    "        #page2 = default_context.pages[1]\n",
    "        page2.bring_to_front()\n",
    "        \n",
    "        # 切到视频模式\n",
    "        from yarl import URL\n",
    "        url=URL(page2.url)\n",
    "        new_query=url.query.copy()\n",
    "        new_query['type']='video'\n",
    "        url=url.with_query(new_query)\n",
    "        await page2.goto(url.human_repr())\n",
    "\n",
    "        #page.fill(\"\"\"//*[@id=\"douyin-header\"]/div[1]/header/div[1]/div/div[1]/div/div[2]/div/div[1]/input\"\"\", \"留学\")\n",
    "        await page.wait_for_event(\"close\",timeout=0)\n",
    "\n",
    "await main()"
   ]
  },
  {
   "cell_type": "markdown",
   "id": "d3f59c13",
   "metadata": {},
   "source": [
    "# <a id='toc5_'></a>[遇到的问题](#toc0_)\n"
   ]
  },
  {
   "cell_type": "markdown",
   "id": "2b3604a7",
   "metadata": {},
   "source": [
    "## <a id='toc5_1_'></a>[在`Jupyter`中使用](#toc0_)"
   ]
  },
  {
   "cell_type": "markdown",
   "id": "df7b0c3d",
   "metadata": {},
   "source": [
    "\n",
    "### <a id='toc5_1_1_'></a>[不能使用同步`API`](#toc0_)\n",
    "\n",
    "**问题描述**\n",
    "\n",
    "[Error: It looks like you are using Playwright Sync API inside the asyncio loop. Please use the Async API instead. · Issue #462 · microsoft/playwright-python](https://github.com/microsoft/playwright-python/issues/462)\n",
    "\n",
    "**解决方案**\n",
    "\n",
    "使用异步API."
   ]
  },
  {
   "cell_type": "markdown",
   "id": "28182870",
   "metadata": {},
   "source": [
    "\n",
    "### <a id='toc5_1_2_'></a>[异步API出现`NotImplementedError`](#toc0_)\n",
    "\n",
    "\n",
    "**问题描述**\n",
    "\n",
    "**解决方案**\n",
    "\n",
    "找到`venv\\Lib\\site-packages\\ipykernel\\kernelapp.py`文件的第`662`行,将其注释掉\n",
    "\n",
    "如图:\n",
    "\n",
    "![](https://github.com/cruldra/picx-images-hosting/raw/master/image.1e8iu0f9o7.png)\n",
    "\n",
    "**不确定会不会有其他问题,参考[这里](https://github.com/microsoft/playwright-python/issues/178#issuecomment-1302869947)**\n"
   ]
  },
  {
   "cell_type": "markdown",
   "id": "a21135fd",
   "metadata": {},
   "source": [
    "# <a id='toc6_'></a>[参考](#toc0_)\n",
    "\n",
    "* [Installation | Playwright Python](https://playwright.dev/python/docs/intro)\n",
    "* [反爬虫检测](https://bot.sannysoft.com/)\n",
    "* [查看远程浏览器](chrome://inspect/#devices)"
   ]
  }
 ],
 "metadata": {
  "kernelspec": {
   "display_name": "Python 3",
   "language": "python",
   "name": "python3"
  },
  "language_info": {
   "codemirror_mode": {
    "name": "ipython",
    "version": 3
   },
   "file_extension": ".py",
   "mimetype": "text/x-python",
   "name": "python",
   "nbconvert_exporter": "python",
   "pygments_lexer": "ipython3",
   "version": "3.12.4"
  }
 },
 "nbformat": 4,
 "nbformat_minor": 5
}
