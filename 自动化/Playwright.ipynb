{
 "cells": [
  {
   "cell_type": "markdown",
   "id": "f82988d6",
   "metadata": {},
   "source": [
    "**Table of contents**<a id='toc0_'></a>    \n",
    "- [简介](#toc1_)    \n",
    "- [功能特点](#toc2_)    \n",
    "- [安装](#toc3_)    \n",
    "- [示例](#toc4_)    \n",
    "  - [异步API](#toc4_1_)    \n",
    "  - [指定用户目录](#toc4_2_)    \n",
    "- [遇到的问题](#toc5_)    \n",
    "  - [`jupyter`中不能使用同步`API`](#toc5_1_)    \n",
    "    - [问题描述](#toc5_1_1_)    \n",
    "    - [解决方案](#toc5_1_2_)    \n",
    "  - [在`jupyter`中运行出现`NotImplementedError`错误](#toc5_2_)    \n",
    "    - [问题描述](#toc5_2_1_)    \n",
    "    - [解决方案](#toc5_2_2_)    \n",
    "- [参考](#toc6_)    \n",
    "\n",
    "<!-- vscode-jupyter-toc-config\n",
    "\tnumbering=false\n",
    "\tanchor=true\n",
    "\tflat=false\n",
    "\tminLevel=1\n",
    "\tmaxLevel=6\n",
    "\t/vscode-jupyter-toc-config -->\n",
    "<!-- THIS CELL WILL BE REPLACED ON TOC UPDATE. DO NOT WRITE YOUR TEXT IN THIS CELL -->"
   ]
  },
  {
   "cell_type": "markdown",
   "id": "ff262d92",
   "metadata": {},
   "source": [
    "# <a id='toc1_'></a>[简介](#toc0_)\n",
    "\n",
    "[Playwright](https://playwright.dev/python/)是一个用于自动化网页浏览器操作的开源工具库,支持多种主流浏览器(Chrome、Firefox、Safari),用于Web应用的自动化测试、网页爬取等场景."
   ]
  },
  {
   "cell_type": "markdown",
   "id": "5bf6584e",
   "metadata": {},
   "source": [
    "# <a id='toc2_'></a>[功能特点](#toc0_)\n",
    "\n",
    "- 支持多种主流浏览器(Chrome、Firefox、Safari)\n",
    "- 支持多种编程语言(JavaScript、Python、C#、Java)\n",
    "- 无头(headless)模式"
   ]
  },
  {
   "cell_type": "markdown",
   "id": "075cb64a",
   "metadata": {},
   "source": [
    "# <a id='toc3_'></a>[安装](#toc0_)"
   ]
  },
  {
   "cell_type": "code",
   "execution_count": null,
   "id": "f78411fb",
   "metadata": {},
   "outputs": [],
   "source": [
    "! pip install playwright\n",
    "! playwright install --with-deps"
   ]
  },
  {
   "cell_type": "markdown",
   "id": "c1758da5",
   "metadata": {},
   "source": [
    "# <a id='toc4_'></a>[示例](#toc0_)"
   ]
  },
  {
   "cell_type": "markdown",
   "id": "d1be6aad",
   "metadata": {},
   "source": [
    "## <a id='toc4_1_'></a>[异步API](#toc0_)"
   ]
  },
  {
   "cell_type": "code",
   "execution_count": null,
   "id": "25b399b7",
   "metadata": {},
   "outputs": [],
   "source": [
    "import asyncio\n",
    "from playwright.async_api import async_playwright\n",
    "\n",
    "    \n",
    "\n",
    "async def main():\n",
    "    async with async_playwright() as playwright:\n",
    "        browser = await playwright.chromium.launch(headless=False)\n",
    "        page = await browser.new_page()\n",
    "        \n",
    "        # 访问 GitHub 主页\n",
    "        await page.goto(\"https://www.douyin.com/discover\")\n",
    "        \n",
    "        # 在搜索框中输入 \"playwright\"\n",
    "        await page.fill('input[name=\"q\"]', \"playwright\")\n",
    "        \n",
    "        # 提交搜索\n",
    "        await page.press('input[name=\"q\"]', \"Enter\")\n",
    "        \n",
    "        # 等待搜索结果加载\n",
    "        await page.wait_for_selector('ul.repo-list')\n",
    "        \n",
    "        # 获取第一个搜索结果的标题\n",
    "        first_result = await page.locator('ul.repo-list li:first-child a:has-text(\"playwright\")').inner_text()\n",
    "        \n",
    "        print(f\"First search result: {first_result}\")\n",
    "        \n",
    "        # 验证搜索结果中包含 \"playwright\"\n",
    "        assert \"playwright\" in first_result.lower(), \"Expected 'playwright' in search results\"\n",
    "        \n",
    "        await browser.close()\n",
    "\n",
    "await main()"
   ]
  },
  {
   "cell_type": "markdown",
   "id": "f832b5b0",
   "metadata": {},
   "source": [
    "## <a id='toc4_2_'></a>[指定用户目录](#toc0_)\n",
    "\n",
    "有些网站需要使用验证码登录过后才能访问,这时候可以事先登录好,然后使用`playwright`基于这个已经登录的用户目录进行操作.\n",
    "\n",
    "**1. 找到用户目录**\n",
    "\n",
    "要找到`Chrome`的用户目录,可以在`Chrome`的地址栏输入`chrome://version/`查看`Profile Path`字段,这个字段就是用户目录的路径.\n",
    "\n",
    "如图:\n",
    "\n",
    "![](https://github.com/cruldra/picx-images-hosting/raw/master/image.361hoxlyqa.png)\n",
    "\n",
    "**2. 使用用户目录运行`playwright`**\n"
   ]
  },
  {
   "cell_type": "code",
   "execution_count": 15,
   "id": "bf998796",
   "metadata": {},
   "outputs": [],
   "source": [
    "import asyncio\n",
    "from playwright.async_api import async_playwright\n",
    "\n",
    "    \n",
    "\n",
    "async def main():\n",
    "    async with async_playwright() as playwright:\n",
    "        # 指定 Chrome 用户配置文件的路径\n",
    "        user_data_dir = r\"C:\\Users\\cruld\\AppData\\Local\\Google\\Chrome\\User Data\" #这里后面不要加\\Default,Chrome会自动加上\n",
    "\n",
    "        browser =await playwright.chromium.launch_persistent_context(\n",
    "            user_data_dir=user_data_dir,\n",
    "            channel=\"chrome\",  # 使用安装的 Chrome 而不是 Playwright 内置的 Chromium\n",
    "            headless=False  # 以有头模式运行，这样你可以看到浏览器窗口\n",
    "        )\n",
    "        page = await browser.new_page()\n",
    "        \n",
    "        # 访问 抖音 主页\n",
    "        await page.goto(\"https://www.douyin.com/discover\")\n",
    "        \n",
    "        # 等待直到用户关闭浏览器\n",
    "        await page.wait_for_event(\"close\",timeout=0)\n",
    "\n",
    "await main()"
   ]
  },
  {
   "cell_type": "markdown",
   "id": "5d741cc4",
   "metadata": {},
   "source": [
    "# <a id='toc5_'></a>[遇到的问题](#toc0_)\n"
   ]
  },
  {
   "cell_type": "markdown",
   "id": "a82697e3",
   "metadata": {},
   "source": [
    "## <a id='toc5_1_'></a>[`jupyter`中不能使用同步`API`](#toc0_)\n"
   ]
  },
  {
   "cell_type": "markdown",
   "id": "0619e715",
   "metadata": {},
   "source": [
    "\n",
    "### <a id='toc5_1_1_'></a>[问题描述](#toc0_)\n",
    "\n",
    "[Error: It looks like you are using Playwright Sync API inside the asyncio loop. Please use the Async API instead. · Issue #462 · microsoft/playwright-python](https://github.com/microsoft/playwright-python/issues/462)"
   ]
  },
  {
   "cell_type": "markdown",
   "id": "b900084a",
   "metadata": {},
   "source": [
    "### <a id='toc5_1_2_'></a>[解决方案](#toc0_)\n",
    "\n",
    "改用异步`API`\n"
   ]
  },
  {
   "cell_type": "markdown",
   "id": "820a8942",
   "metadata": {},
   "source": [
    "\n",
    "## <a id='toc5_2_'></a>[在`jupyter`中运行出现`NotImplementedError`错误](#toc0_)\n"
   ]
  },
  {
   "cell_type": "markdown",
   "id": "cd66b0c5",
   "metadata": {},
   "source": []
  },
  {
   "cell_type": "markdown",
   "id": "d74468bc",
   "metadata": {},
   "source": [
    "\n",
    "### <a id='toc5_2_1_'></a>[问题描述](#toc0_)\n"
   ]
  },
  {
   "cell_type": "markdown",
   "id": "e75d1d3e",
   "metadata": {},
   "source": [
    "\n",
    "### <a id='toc5_2_2_'></a>[解决方案](#toc0_)\n",
    "\n",
    "找到`venv\\Lib\\site-packages\\ipykernel\\kernelapp.py`文件的第`662`行,将其注释掉\n",
    "\n",
    "如图:\n",
    "\n",
    "![](https://github.com/cruldra/picx-images-hosting/raw/master/image.1e8iu0f9o7.png)\n",
    "\n",
    "**不确定会不会有其他问题,参考[这里](https://github.com/microsoft/playwright-python/issues/178#issuecomment-1302869947)**"
   ]
  },
  {
   "cell_type": "markdown",
   "id": "c759ac72",
   "metadata": {},
   "source": [
    "# <a id='toc6_'></a>[参考](#toc0_)\n",
    "\n",
    "* [Installation | Playwright Python](https://playwright.dev/python/docs/intro)"
   ]
  }
 ],
 "metadata": {
  "kernelspec": {
   "display_name": "Python 3",
   "language": "python",
   "name": "python3"
  },
  "language_info": {
   "codemirror_mode": {
    "name": "ipython",
    "version": 3
   },
   "file_extension": ".py",
   "mimetype": "text/x-python",
   "name": "python",
   "nbconvert_exporter": "python",
   "pygments_lexer": "ipython3",
   "version": "3.12.4"
  }
 },
 "nbformat": 4,
 "nbformat_minor": 5
}
