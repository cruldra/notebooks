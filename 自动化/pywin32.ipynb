{
 "cells": [
  {
   "cell_type": "markdown",
   "metadata": {},
   "source": [
    "# 简介\n",
    "\n",
    "[pywin32](https://github.com/mhammond/pywin32)提供了`Python`与`Windows API`的接口,可以用于实现`Windows`系统的自动化操作."
   ]
  },
  {
   "cell_type": "markdown",
   "metadata": {},
   "source": [
    "# 安装"
   ]
  },
  {
   "cell_type": "code",
   "execution_count": 1,
   "metadata": {},
   "outputs": [
    {
     "name": "stdout",
     "output_type": "stream",
     "text": [
      "Requirement already satisfied: pywin32 in e:\\appdata\\conda\\envs\\jupyter-notebook\\lib\\site-packages (306)\n"
     ]
    }
   ],
   "source": [
    "! pip install pywin32"
   ]
  },
  {
   "cell_type": "markdown",
   "metadata": {},
   "source": [
    "# 窗口管理"
   ]
  },
  {
   "cell_type": "markdown",
   "metadata": {},
   "source": [
    "## 获取当前激活窗口的标题\n"
   ]
  },
  {
   "cell_type": "code",
   "execution_count": 3,
   "metadata": {},
   "outputs": [
    {
     "name": "stdout",
     "output_type": "stream",
     "text": [
      "pywin32.ipynb - notebooks - Visual Studio Code\n",
      "pywin32.ipynb - notebooks - Visual Studio Code\n",
      "pywin32.ipynb - notebooks - Visual Studio Code\n",
      "新建聊天 - Poe - Google Chrome\n",
      "新建聊天 - Poe - Google Chrome\n",
      "digital_human_video – commons.py\n",
      "digital_human_video – commons.py\n",
      "digital_human_video – commons.py\n",
      "微信\n",
      "微信\n",
      "\n",
      "\n",
      "\n",
      "\n",
      "\n",
      "\n",
      "\n",
      "\n",
      "剪映专业版\n",
      "JianyingPro\n",
      "剪映专业版\n",
      "剪映专业版\n",
      "pywin32.ipynb - notebooks - Visual Studio Code\n",
      "pywin32.ipynb - notebooks - Visual Studio Code\n",
      "pywin32.ipynb - notebooks - Visual Studio Code\n",
      "pywin32.ipynb - notebooks - Visual Studio Code\n",
      "pywin32.ipynb - notebooks - Visual Studio Code\n",
      "pywin32.ipynb - notebooks - Visual Studio Code\n"
     ]
    },
    {
     "ename": "KeyboardInterrupt",
     "evalue": "",
     "output_type": "error",
     "traceback": [
      "\u001b[1;31m---------------------------------------------------------------------------\u001b[0m",
      "\u001b[1;31mKeyboardInterrupt\u001b[0m                         Traceback (most recent call last)",
      "Cell \u001b[1;32mIn[3], line 6\u001b[0m\n\u001b[0;32m      4\u001b[0m \u001b[38;5;28;01mwhile\u001b[39;00m \u001b[38;5;28;01mTrue\u001b[39;00m:\n\u001b[0;32m      5\u001b[0m     \u001b[38;5;28mprint\u001b[39m(win32gui\u001b[38;5;241m.\u001b[39mGetWindowText(win32gui\u001b[38;5;241m.\u001b[39mGetForegroundWindow()))\n\u001b[1;32m----> 6\u001b[0m     \u001b[43mtime\u001b[49m\u001b[38;5;241;43m.\u001b[39;49m\u001b[43msleep\u001b[49m\u001b[43m(\u001b[49m\u001b[38;5;241;43m1\u001b[39;49m\u001b[43m)\u001b[49m\n",
      "\u001b[1;31mKeyboardInterrupt\u001b[0m: "
     ]
    }
   ],
   "source": [
    "import time\n",
    "import win32gui\n",
    "\n",
    "while True:\n",
    "    print(win32gui.GetWindowText(win32gui.GetForegroundWindow()))\n",
    "    time.sleep(1)"
   ]
  },
  {
   "cell_type": "markdown",
   "metadata": {},
   "source": [
    "## 检查窗口是否处于激活状态\n",
    "\n",
    "下面的代码用于[检查窗口是否处于激活状态](https://poe.com/s/HyAzL4Fr89jn0C1Ruzoj)"
   ]
  },
  {
   "cell_type": "code",
   "execution_count": null,
   "metadata": {},
   "outputs": [],
   "source": [
    "import win32gui\n",
    "\n",
    "def is_window_active(window_title):\n",
    "    # 获取当前激活窗口的句柄\n",
    "    active_window = win32gui.GetForegroundWindow()\n",
    "    \n",
    "    # 获取窗口标题\n",
    "    active_title = win32gui.GetWindowText(active_window)\n",
    "    \n",
    "    # 比较窗口标题\n",
    "    return active_title == window_title\n",
    "\n",
    "# 使用示例\n",
    "window_title = \"Notepad\"  # 替换为你想检查的窗口标题\n",
    "if is_window_active(window_title):\n",
    "    print(f\"窗口 '{window_title}' 当前处于激活状态\")\n",
    "else:\n",
    "    print(f\"窗口 '{window_title}' 当前不是激活状态\")\n",
    "\n",
    "# 如果你想持续监控窗口状态\n",
    "import time\n",
    "\n",
    "while True:\n",
    "    if is_window_active(window_title):\n",
    "        print(f\"窗口 '{window_title}' 被激活\")\n",
    "    time.sleep(1)  # 每秒检查一次"
   ]
  },
  {
   "cell_type": "markdown",
   "metadata": {},
   "source": [
    "# 参考\n",
    "\n",
    "* [pywin32、win32api、win32gui、win32com、win32con 都是啥？-CSDN博客](https://blog.csdn.net/hihell/article/details/123380839)"
   ]
  }
 ],
 "metadata": {
  "kernelspec": {
   "display_name": "jupyter-notebook",
   "language": "python",
   "name": "python3"
  },
  "language_info": {
   "codemirror_mode": {
    "name": "ipython",
    "version": 3
   },
   "file_extension": ".py",
   "mimetype": "text/x-python",
   "name": "python",
   "nbconvert_exporter": "python",
   "pygments_lexer": "ipython3",
   "version": "3.12.4"
  }
 },
 "nbformat": 4,
 "nbformat_minor": 2
}
