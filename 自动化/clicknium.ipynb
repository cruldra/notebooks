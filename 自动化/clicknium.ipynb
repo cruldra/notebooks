{
 "cells": [
  {
   "cell_type": "markdown",
   "metadata": {},
   "source": [
    "# 简介\n",
    "\n",
    "[clicknium](https://pypi.org/project/clicknium/)用于实现`Windows`下的桌面自动化操作,它有一个`VS Code`插件,可以像影刀那样快速定位元素,非常方便."
   ]
  },
  {
   "cell_type": "markdown",
   "metadata": {},
   "source": [
    "# 注意事项\n",
    "\n",
    "在`jupyter`中测试`clicknium`时,需要把`.local`目录放到`venv`目录下"
   ]
  },
  {
   "cell_type": "markdown",
   "metadata": {},
   "source": [
    "# 安装\n"
   ]
  },
  {
   "cell_type": "code",
   "execution_count": 1,
   "metadata": {},
   "outputs": [
    {
     "name": "stdout",
     "output_type": "stream",
     "text": [
      "Collecting clicknium\n",
      "  Using cached clicknium-0.2.4-py3-none-win_amd64.whl.metadata (3.0 kB)\n",
      "Collecting pythonnet>=3.0.0rc1 (from clicknium)\n",
      "  Using cached pythonnet-3.0.3-py3-none-any.whl.metadata (6.6 kB)\n",
      "Requirement already satisfied: typing-extensions in e:\\appdata\\conda\\envs\\jupyter-notebook\\lib\\site-packages (from clicknium) (4.12.2)\n",
      "Requirement already satisfied: requests in e:\\appdata\\conda\\envs\\jupyter-notebook\\lib\\site-packages (from clicknium) (2.32.3)\n",
      "Requirement already satisfied: psutil in e:\\appdata\\conda\\envs\\jupyter-notebook\\lib\\site-packages (from clicknium) (6.0.0)\n",
      "Collecting clr-loader<0.3.0,>=0.2.6 (from pythonnet>=3.0.0rc1->clicknium)\n",
      "  Using cached clr_loader-0.2.6-py3-none-any.whl.metadata (1.4 kB)\n",
      "Requirement already satisfied: charset-normalizer<4,>=2 in e:\\appdata\\conda\\envs\\jupyter-notebook\\lib\\site-packages (from requests->clicknium) (3.3.2)\n",
      "Requirement already satisfied: idna<4,>=2.5 in e:\\appdata\\conda\\envs\\jupyter-notebook\\lib\\site-packages (from requests->clicknium) (3.7)\n",
      "Requirement already satisfied: urllib3<3,>=1.21.1 in e:\\appdata\\conda\\envs\\jupyter-notebook\\lib\\site-packages (from requests->clicknium) (2.2.2)\n",
      "Requirement already satisfied: certifi>=2017.4.17 in e:\\appdata\\conda\\envs\\jupyter-notebook\\lib\\site-packages (from requests->clicknium) (2024.7.4)\n",
      "Requirement already satisfied: cffi>=1.13 in e:\\appdata\\conda\\envs\\jupyter-notebook\\lib\\site-packages (from clr-loader<0.3.0,>=0.2.6->pythonnet>=3.0.0rc1->clicknium) (1.17.0)\n",
      "Requirement already satisfied: pycparser in e:\\appdata\\conda\\envs\\jupyter-notebook\\lib\\site-packages (from cffi>=1.13->clr-loader<0.3.0,>=0.2.6->pythonnet>=3.0.0rc1->clicknium) (2.22)\n",
      "Using cached clicknium-0.2.4-py3-none-win_amd64.whl (39.0 MB)\n",
      "Using cached pythonnet-3.0.3-py3-none-any.whl (290 kB)\n",
      "Using cached clr_loader-0.2.6-py3-none-any.whl (51 kB)\n",
      "Installing collected packages: clr-loader, pythonnet, clicknium\n",
      "Successfully installed clicknium-0.2.4 clr-loader-0.2.6 pythonnet-3.0.3\n"
     ]
    }
   ],
   "source": [
    "! pip install clicknium"
   ]
  },
  {
   "cell_type": "markdown",
   "metadata": {},
   "source": [
    "# 通过定位符(locator)定位元素"
   ]
  },
  {
   "cell_type": "code",
   "execution_count": 11,
   "metadata": {},
   "outputs": [
    {
     "name": "stdout",
     "output_type": "stream",
     "text": [
      "<class 'clicknium.locator._Locator'>\n",
      "True\n",
      "CPU times: total: 0 ns\n",
      "Wall time: 124 ms\n"
     ]
    }
   ],
   "source": [
    "%%time\n",
    "\n",
    "from clicknium import clicknium as cc, ui, locator\n",
    "cc.config.set_license(\n",
    "        'idC+m5GXnIGXlqad0MjQw8XHxtDe0KGRmpefk6SXgNDI0MDQ3tChmYfQyNCil4CBnZyTntKigJ2Ul4GBm52ck57Q3tCkk56blpOGl7SAnZ/QyNDAwsDG38LK38PBpsPEyMHAyMPA3MbCw8bDxKjQ3tCkk56blpOGl6ad0MjQwMLAxt/Cy9/DwabDxMjBwMjDwNzGwsPGw8TDqNDe0LSXk4aHgJeB0MipidC8k5+X0MjQv5OKvp2Rk4adgL6bn5uGl9De0KSTnoeX0MjQw8rGxsTFxsbCxcHFwsvHx8PEw8fQj6+P.TxyBpuEIEO/+vERtrBkSweyal1A+kUrxKb+Tlb4SnNUGqnNCz9MpYYo+pSpc21rUEYjQn01QsxNtnL1nmHnHf0E0LYgeRYsULogA+czK9uWpsYbAflJyOEVTCP4WOSGLHiSkBQinhLOijvXNONZw9s2P904u9LS9iouf6aNzFSw=')\n",
    "print(type(locator.jianyingpro.剪映主窗口))\n",
    "print(cc.is_existing(locator.jianyingpro.剪映主窗口))# timeout参数不起作用"
   ]
  },
  {
   "cell_type": "markdown",
   "metadata": {},
   "source": [
    "# 获取元素属性\n",
    "\n",
    "通过`get_property`方法获取元素的属性,[UIA元素支持以下属性列表](https://clicknium.com/documents/automation-concepts/uia-automation/#uia-element-properties)"
   ]
  },
  {
   "cell_type": "code",
   "execution_count": 14,
   "metadata": {},
   "outputs": [
    {
     "name": "stdout",
     "output_type": "stream",
     "text": [
      "元素名称: 剪映专业版\n",
      "该元素是否在用户界面中启用:True\n",
      "包含元素的访问键字符的字符串:剪映专业版\n",
      "包含元素的 UI 自动化标识符 (ID) 的字符串:HomeWindow\n",
      "完全包围元素的矩形的坐标:{X=794,Y=373,Width=972,Height=648}\n",
      "元素的进程标识符 (ID):2868\n",
      "项目类型的描述:\n",
      "UI Automation元素是否包含受保护的内容:False\n",
      "UI 自动化元素在屏幕上是否可见:False\n",
      "包含元素的加速键组合的字符串:\n",
      "元素的帮助文本:剪映专业版\n",
      "UI Automation元素是否可以接受键盘焦点:True\n",
      "该元素是否是内容元素:True\n",
      "元素是否被视为控件:True\n",
      "元素是否具有键盘焦点:False\n",
      "UI 框架的名称:Qt\n",
      "元素的控件类型:System.Windows.Automation.ControlType\n"
     ]
    }
   ],
   "source": [
    "jy_main_window = ui(locator.jianyingpro.剪映主窗口)\n",
    "jy_main_window = ui(locator.jianyingpro.剪映主窗口)\n",
    "print(f\"元素名称: {jy_main_window.get_property('Name')}\")\n",
    "print(f\"该元素是否在用户界面中启用:{jy_main_window.get_property('IsEnabled')}\")\n",
    "print(f\"包含元素的访问键字符的字符串:{jy_main_window.get_property('AccessKey')}\")\n",
    "print(f\"包含元素的 UI 自动化标识符 (ID) 的字符串:{jy_main_window.get_property('AutomationId')}\")\n",
    "print(f\"完全包围元素的矩形的坐标:{jy_main_window.get_property('BoundingRectangle')}\")\n",
    "print(f\"元素的进程标识符 (ID):{jy_main_window.get_property('ProcessId')}\")\n",
    "print(f\"项目类型的描述:{jy_main_window.get_property('ItemType')}\")\n",
    "print(f\"UI Automation元素是否包含受保护的内容:{jy_main_window.get_property('IsPassword')}\")\n",
    "print(f\"UI 自动化元素在屏幕上是否可见:{jy_main_window.get_property('IsOffscreen')}\")\n",
    "print(f\"包含元素的加速键组合的字符串:{jy_main_window.get_property('AcceleratorKey')}\")\n",
    "print(f\"元素的帮助文本:{jy_main_window.get_property('HelpText')}\")\n",
    "print(f\"UI Automation元素是否可以接受键盘焦点:{jy_main_window.get_property('IsKeyboardFocusable')}\")\n",
    "print(f\"该元素是否是内容元素:{jy_main_window.get_property('IsContentElement')}\")\n",
    "print(f\"元素是否被视为控件:{jy_main_window.get_property('IsControlElement')}\")\n",
    "print(f\"元素是否具有键盘焦点:{jy_main_window.get_property('HasKeyboardFocus')}\")\n",
    "print(f\"UI 框架的名称:{jy_main_window.get_property('FrameworkId')}\")\n",
    "print(f\"元素的控件类型:{jy_main_window.get_property('ControlType')}\")\n"
   ]
  }
 ],
 "metadata": {
  "kernelspec": {
   "display_name": "jupyter-notebook",
   "language": "python",
   "name": "python3"
  },
  "language_info": {
   "codemirror_mode": {
    "name": "ipython",
    "version": 3
   },
   "file_extension": ".py",
   "mimetype": "text/x-python",
   "name": "python",
   "nbconvert_exporter": "python",
   "pygments_lexer": "ipython3",
   "version": "3.12.4"
  }
 },
 "nbformat": 4,
 "nbformat_minor": 2
}
